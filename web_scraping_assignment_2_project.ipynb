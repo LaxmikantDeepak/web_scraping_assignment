{
 "cells": [
  {
   "cell_type": "markdown",
   "metadata": {},
   "source": [
    "# Q1: Write a python program to scrape data for\n",
    "“Data Analyst” Job position in\n",
    "“Bangalore” location. You have to scrape the job-title, job-location, company_name,\n",
    "experience_required. You have to scrape first 10 jobs data.\n",
    "This task will be done in following steps:\n",
    "1. first get the webpage https://www.naukri.com/\n",
    "2. Enter “Data Analyst” in “Skill,Designations,Companies” field and enter “Bangalore”\n",
    "in “enter the location” field.\n",
    "3. Then click the search button.\n",
    "4. Then scrape the data for the first 10 jobs results you get.\n",
    "5. Finally create a dataframe of the scraped data.\n"
   ]
  },
  {
   "cell_type": "code",
   "execution_count": 1,
   "metadata": {},
   "outputs": [],
   "source": [
    "import selenium\n",
    "import pandas as pd\n",
    "pd.set_option(\"display.max_colwidth\", None)\n",
    "from selenium import webdriver"
   ]
  },
  {
   "cell_type": "code",
   "execution_count": 2,
   "metadata": {},
   "outputs": [],
   "source": [
    "driver = webdriver.Edge(r\"C:\\Users\\laxmi\\FlipRobo\\edgedriver_win64\\msedgedriver.exe\")"
   ]
  },
  {
   "cell_type": "code",
   "execution_count": 3,
   "metadata": {},
   "outputs": [],
   "source": [
    "url = 'https://www.naukri.com/'\n",
    "driver.get(url)"
   ]
  },
  {
   "cell_type": "code",
   "execution_count": 4,
   "metadata": {},
   "outputs": [],
   "source": [
    "search_job = driver.find_element_by_id('qsb-keyword-sugg')"
   ]
  },
  {
   "cell_type": "code",
   "execution_count": 5,
   "metadata": {},
   "outputs": [],
   "source": [
    "search_job.send_keys(\"Data Analyst\")"
   ]
  },
  {
   "cell_type": "code",
   "execution_count": 6,
   "metadata": {},
   "outputs": [],
   "source": [
    "search_loc = driver.find_element_by_id(\"qsb-location-sugg\")\n",
    "search_loc.send_keys(\"Bangalore\")"
   ]
  },
  {
   "cell_type": "code",
   "execution_count": 7,
   "metadata": {},
   "outputs": [],
   "source": [
    "search_btn = driver.find_element_by_xpath(\"//button[@class='btn']\")\n",
    "search_btn.click()"
   ]
  },
  {
   "cell_type": "code",
   "execution_count": 8,
   "metadata": {
    "scrolled": true
   },
   "outputs": [
    {
     "data": {
      "text/plain": [
       "[]"
      ]
     },
     "execution_count": 8,
     "metadata": {},
     "output_type": "execute_result"
    }
   ],
   "source": [
    "title_tags = driver.find_elements_by_xpath(\"//a[@class='title fw500 ellipsis']\")\n",
    "title_tags"
   ]
  },
  {
   "cell_type": "code",
   "execution_count": 9,
   "metadata": {},
   "outputs": [
    {
     "data": {
      "text/plain": [
       "[]"
      ]
     },
     "execution_count": 9,
     "metadata": {},
     "output_type": "execute_result"
    }
   ],
   "source": [
    "job_titles=[]\n",
    "for i in title_tags:\n",
    "    job_titles.append(i.text)\n",
    "\n",
    "job_titles"
   ]
  },
  {
   "cell_type": "code",
   "execution_count": 10,
   "metadata": {
    "scrolled": true
   },
   "outputs": [
    {
     "data": {
      "text/plain": [
       "[]"
      ]
     },
     "execution_count": 10,
     "metadata": {},
     "output_type": "execute_result"
    }
   ],
   "source": [
    "company_tags = driver.find_elements_by_xpath(\"//a[@class='subTitle ellipsis fleft']\")\n",
    "company_tags"
   ]
  },
  {
   "cell_type": "code",
   "execution_count": 11,
   "metadata": {
    "scrolled": true
   },
   "outputs": [
    {
     "data": {
      "text/plain": [
       "[]"
      ]
     },
     "execution_count": 11,
     "metadata": {},
     "output_type": "execute_result"
    }
   ],
   "source": [
    "company_names=[]\n",
    "for i in company_tags:\n",
    "    company_names.append(i.text)\n",
    "    \n",
    "company_names"
   ]
  },
  {
   "cell_type": "code",
   "execution_count": 12,
   "metadata": {
    "scrolled": true
   },
   "outputs": [
    {
     "data": {
      "text/plain": [
       "[<selenium.webdriver.remote.webelement.WebElement (session=\"d1d943af331cb52c1683b29c00b752e4\", element=\"d42dbd0f-78bc-48be-b6be-acb031e3bf33\")>,\n",
       " <selenium.webdriver.remote.webelement.WebElement (session=\"d1d943af331cb52c1683b29c00b752e4\", element=\"56ab251a-b865-486d-9ddb-28f0255f01d9\")>,\n",
       " <selenium.webdriver.remote.webelement.WebElement (session=\"d1d943af331cb52c1683b29c00b752e4\", element=\"ca29382a-5f6a-4481-ad1c-60ff9f5d4412\")>,\n",
       " <selenium.webdriver.remote.webelement.WebElement (session=\"d1d943af331cb52c1683b29c00b752e4\", element=\"4cef730c-2ff6-4c76-9297-3ee6a1af801d\")>,\n",
       " <selenium.webdriver.remote.webelement.WebElement (session=\"d1d943af331cb52c1683b29c00b752e4\", element=\"d0407918-cc81-46c7-9aaf-69261af8adc3\")>,\n",
       " <selenium.webdriver.remote.webelement.WebElement (session=\"d1d943af331cb52c1683b29c00b752e4\", element=\"ffae3310-7718-49be-9899-54a78ca955c4\")>,\n",
       " <selenium.webdriver.remote.webelement.WebElement (session=\"d1d943af331cb52c1683b29c00b752e4\", element=\"7a5dcf09-fc7f-4b9b-8a62-1186460d7289\")>,\n",
       " <selenium.webdriver.remote.webelement.WebElement (session=\"d1d943af331cb52c1683b29c00b752e4\", element=\"9c735579-cadc-464a-b95d-2842b5ab1414\")>,\n",
       " <selenium.webdriver.remote.webelement.WebElement (session=\"d1d943af331cb52c1683b29c00b752e4\", element=\"d3e1729d-ec4e-4ad2-97f2-5c384109eb61\")>,\n",
       " <selenium.webdriver.remote.webelement.WebElement (session=\"d1d943af331cb52c1683b29c00b752e4\", element=\"9b955543-58f4-4d7e-adf1-ce8cabf949e5\")>,\n",
       " <selenium.webdriver.remote.webelement.WebElement (session=\"d1d943af331cb52c1683b29c00b752e4\", element=\"0969e74c-9593-42cb-be8b-c33b1e7d0f11\")>,\n",
       " <selenium.webdriver.remote.webelement.WebElement (session=\"d1d943af331cb52c1683b29c00b752e4\", element=\"a54514e8-2843-48c8-b14e-33870781c173\")>,\n",
       " <selenium.webdriver.remote.webelement.WebElement (session=\"d1d943af331cb52c1683b29c00b752e4\", element=\"748e5dde-17bc-4f56-9bca-bc445cae642d\")>,\n",
       " <selenium.webdriver.remote.webelement.WebElement (session=\"d1d943af331cb52c1683b29c00b752e4\", element=\"6fb6f0be-9222-4a42-aeb7-b253fcdb81b8\")>,\n",
       " <selenium.webdriver.remote.webelement.WebElement (session=\"d1d943af331cb52c1683b29c00b752e4\", element=\"7d48fd8e-1b7d-4c4f-a388-df18d70feafc\")>,\n",
       " <selenium.webdriver.remote.webelement.WebElement (session=\"d1d943af331cb52c1683b29c00b752e4\", element=\"36cf9228-23b1-4647-a5fd-a7e4805ba214\")>,\n",
       " <selenium.webdriver.remote.webelement.WebElement (session=\"d1d943af331cb52c1683b29c00b752e4\", element=\"398df478-750f-4b6e-88d9-baa6e0ecd7a7\")>,\n",
       " <selenium.webdriver.remote.webelement.WebElement (session=\"d1d943af331cb52c1683b29c00b752e4\", element=\"500a086e-e02e-44e8-ba44-fc193d9710fd\")>,\n",
       " <selenium.webdriver.remote.webelement.WebElement (session=\"d1d943af331cb52c1683b29c00b752e4\", element=\"9ef31c0e-0d44-4e66-82a2-3f6ce87bb99a\")>,\n",
       " <selenium.webdriver.remote.webelement.WebElement (session=\"d1d943af331cb52c1683b29c00b752e4\", element=\"69f068d4-9840-4457-b833-d1f206e57120\")>]"
      ]
     },
     "execution_count": 12,
     "metadata": {},
     "output_type": "execute_result"
    }
   ],
   "source": [
    "experience_tags = driver.find_elements_by_xpath(\"//li[@class='fleft grey-text br2 placeHolderLi experience']\")\n",
    "experience_tags"
   ]
  },
  {
   "cell_type": "code",
   "execution_count": 13,
   "metadata": {},
   "outputs": [
    {
     "data": {
      "text/plain": [
       "['0-3 Yrs',\n",
       " '6-9 Yrs',\n",
       " '12-18 Yrs',\n",
       " '1-3 Yrs',\n",
       " '2-4 Yrs',\n",
       " '2-7 Yrs',\n",
       " '4-7 Yrs',\n",
       " '3-6 Yrs',\n",
       " '5-10 Yrs',\n",
       " '1-3 Yrs',\n",
       " '2-6 Yrs',\n",
       " '6-9 Yrs',\n",
       " '2-5 Yrs',\n",
       " '5-8 Yrs',\n",
       " '1-5 Yrs',\n",
       " '5-10 Yrs',\n",
       " '1-6 Yrs',\n",
       " '2-6 Yrs',\n",
       " '2-6 Yrs',\n",
       " '0-3 Yrs']"
      ]
     },
     "execution_count": 13,
     "metadata": {},
     "output_type": "execute_result"
    }
   ],
   "source": [
    "experience_list=[]\n",
    "\n",
    "for i in experience_tags:\n",
    "    experience_list.append(i.text)\n",
    "    \n",
    "experience_list"
   ]
  },
  {
   "cell_type": "code",
   "execution_count": 14,
   "metadata": {
    "scrolled": true
   },
   "outputs": [
    {
     "data": {
      "text/plain": [
       "[<selenium.webdriver.remote.webelement.WebElement (session=\"d1d943af331cb52c1683b29c00b752e4\", element=\"6e805def-cf99-440d-9db1-7349480d900d\")>,\n",
       " <selenium.webdriver.remote.webelement.WebElement (session=\"d1d943af331cb52c1683b29c00b752e4\", element=\"0cbf9959-e955-4f28-93b1-d3b25ac07083\")>,\n",
       " <selenium.webdriver.remote.webelement.WebElement (session=\"d1d943af331cb52c1683b29c00b752e4\", element=\"ae7934d2-a999-4012-8e2f-1f2477a1fd9f\")>,\n",
       " <selenium.webdriver.remote.webelement.WebElement (session=\"d1d943af331cb52c1683b29c00b752e4\", element=\"b9c8c7fd-4082-419d-ad33-7d4374d0d53d\")>,\n",
       " <selenium.webdriver.remote.webelement.WebElement (session=\"d1d943af331cb52c1683b29c00b752e4\", element=\"2d87d498-1900-4578-9d9d-fd2c2a990ac2\")>,\n",
       " <selenium.webdriver.remote.webelement.WebElement (session=\"d1d943af331cb52c1683b29c00b752e4\", element=\"120b7394-0c9a-4362-b98d-1fca5f746e36\")>,\n",
       " <selenium.webdriver.remote.webelement.WebElement (session=\"d1d943af331cb52c1683b29c00b752e4\", element=\"937e40d7-6544-4331-93b8-93399ffca30e\")>,\n",
       " <selenium.webdriver.remote.webelement.WebElement (session=\"d1d943af331cb52c1683b29c00b752e4\", element=\"1dd2314b-cd3f-4097-90e3-cfc511fad582\")>,\n",
       " <selenium.webdriver.remote.webelement.WebElement (session=\"d1d943af331cb52c1683b29c00b752e4\", element=\"ad53db0c-96a6-4b29-a6e7-e6e98cf0a034\")>,\n",
       " <selenium.webdriver.remote.webelement.WebElement (session=\"d1d943af331cb52c1683b29c00b752e4\", element=\"5a20db31-45d2-4ecb-852f-5c8f1d76ffe8\")>,\n",
       " <selenium.webdriver.remote.webelement.WebElement (session=\"d1d943af331cb52c1683b29c00b752e4\", element=\"fcb904c0-0ef7-4608-923e-d94210777c7c\")>,\n",
       " <selenium.webdriver.remote.webelement.WebElement (session=\"d1d943af331cb52c1683b29c00b752e4\", element=\"51b63ee1-3558-48cc-b62e-b01169feeda1\")>,\n",
       " <selenium.webdriver.remote.webelement.WebElement (session=\"d1d943af331cb52c1683b29c00b752e4\", element=\"91ce9fac-27bd-4199-9f13-3c86344ebf92\")>,\n",
       " <selenium.webdriver.remote.webelement.WebElement (session=\"d1d943af331cb52c1683b29c00b752e4\", element=\"191e5efe-05d5-4292-af7c-4e20f8d4334d\")>,\n",
       " <selenium.webdriver.remote.webelement.WebElement (session=\"d1d943af331cb52c1683b29c00b752e4\", element=\"71afaaa9-cf4d-4184-8729-220563c1d70b\")>,\n",
       " <selenium.webdriver.remote.webelement.WebElement (session=\"d1d943af331cb52c1683b29c00b752e4\", element=\"4ababc82-1263-4826-b44b-1011eef62c7f\")>,\n",
       " <selenium.webdriver.remote.webelement.WebElement (session=\"d1d943af331cb52c1683b29c00b752e4\", element=\"bafabbcd-97e3-4c31-b892-8134798340db\")>,\n",
       " <selenium.webdriver.remote.webelement.WebElement (session=\"d1d943af331cb52c1683b29c00b752e4\", element=\"8aa086b0-3782-4051-8ef1-b223127198e3\")>,\n",
       " <selenium.webdriver.remote.webelement.WebElement (session=\"d1d943af331cb52c1683b29c00b752e4\", element=\"ba0c3cb3-03d2-4253-9ce8-620bf3b075d6\")>,\n",
       " <selenium.webdriver.remote.webelement.WebElement (session=\"d1d943af331cb52c1683b29c00b752e4\", element=\"643f9be5-534a-419c-af52-4ee5a09b2f74\")>]"
      ]
     },
     "execution_count": 14,
     "metadata": {},
     "output_type": "execute_result"
    }
   ],
   "source": [
    "location_tags=driver.find_elements_by_xpath(\"//li[@class='fleft grey-text br2 placeHolderLi location']\")\n",
    "location_tags"
   ]
  },
  {
   "cell_type": "code",
   "execution_count": 15,
   "metadata": {},
   "outputs": [
    {
     "data": {
      "text/plain": [
       "['Mumbai, Hyderabad/Secunderabad, Pune, Gurgaon/Gurugram, Chennai, Bangalore/Bengaluru',\n",
       " 'Bangalore/Bengaluru',\n",
       " 'Mumbai, Bangalore/Bengaluru',\n",
       " 'Kolkata, Pune, Chennai, Bangalore/Bengaluru, Delhi / NCR, Mumbai (All Areas)',\n",
       " 'Bangalore/Bengaluru',\n",
       " 'Bangalore/Bengaluru',\n",
       " 'Bangalore/Bengaluru',\n",
       " 'Bangalore/Bengaluru',\n",
       " 'Bangalore/Bengaluru',\n",
       " 'Bangalore/Bengaluru',\n",
       " 'Bangalore/Bengaluru',\n",
       " 'Bangalore/Bengaluru',\n",
       " 'Bangalore/Bengaluru',\n",
       " 'Bangalore/Bengaluru',\n",
       " 'Chennai, Bangalore/Bengaluru',\n",
       " 'Bangalore/Bengaluru',\n",
       " 'Bangalore/Bengaluru',\n",
       " 'Bangalore/Bengaluru',\n",
       " 'Bangalore/Bengaluru',\n",
       " 'Bangalore/Bengaluru']"
      ]
     },
     "execution_count": 15,
     "metadata": {},
     "output_type": "execute_result"
    }
   ],
   "source": [
    "location_list=[]\n",
    "\n",
    "for i in location_tags:\n",
    "    location_list.append(i.text)\n",
    "    \n",
    "location_list"
   ]
  },
  {
   "cell_type": "code",
   "execution_count": 16,
   "metadata": {},
   "outputs": [
    {
     "name": "stdout",
     "output_type": "stream",
     "text": [
      "0 0 20 20\n"
     ]
    }
   ],
   "source": [
    "print(len(job_titles),len(company_names),len(experience_list),len(location_list))"
   ]
  },
  {
   "cell_type": "code",
   "execution_count": 17,
   "metadata": {},
   "outputs": [],
   "source": [
    "jobs = pd.DataFrame({})\n",
    "\n",
    "jobs['job-title']=job_titles[:10]\n",
    "jobs['company_name']=company_names[:10]\n",
    "jobs['experience_required']=experience_list[:10]\n",
    "jobs['job-location']=location_list[:10]\n"
   ]
  },
  {
   "cell_type": "code",
   "execution_count": 18,
   "metadata": {},
   "outputs": [
    {
     "data": {
      "text/html": [
       "<div>\n",
       "<style scoped>\n",
       "    .dataframe tbody tr th:only-of-type {\n",
       "        vertical-align: middle;\n",
       "    }\n",
       "\n",
       "    .dataframe tbody tr th {\n",
       "        vertical-align: top;\n",
       "    }\n",
       "\n",
       "    .dataframe thead th {\n",
       "        text-align: right;\n",
       "    }\n",
       "</style>\n",
       "<table border=\"1\" class=\"dataframe\">\n",
       "  <thead>\n",
       "    <tr style=\"text-align: right;\">\n",
       "      <th></th>\n",
       "      <th>job-title</th>\n",
       "      <th>company_name</th>\n",
       "      <th>experience_required</th>\n",
       "      <th>job-location</th>\n",
       "    </tr>\n",
       "  </thead>\n",
       "  <tbody>\n",
       "    <tr>\n",
       "      <th>0</th>\n",
       "      <td>NaN</td>\n",
       "      <td>NaN</td>\n",
       "      <td>0-3 Yrs</td>\n",
       "      <td>Mumbai, Hyderabad/Secunderabad, Pune, Gurgaon/Gurugram, Chennai, Bangalore/Bengaluru</td>\n",
       "    </tr>\n",
       "    <tr>\n",
       "      <th>1</th>\n",
       "      <td>NaN</td>\n",
       "      <td>NaN</td>\n",
       "      <td>6-9 Yrs</td>\n",
       "      <td>Bangalore/Bengaluru</td>\n",
       "    </tr>\n",
       "    <tr>\n",
       "      <th>2</th>\n",
       "      <td>NaN</td>\n",
       "      <td>NaN</td>\n",
       "      <td>12-18 Yrs</td>\n",
       "      <td>Mumbai, Bangalore/Bengaluru</td>\n",
       "    </tr>\n",
       "    <tr>\n",
       "      <th>3</th>\n",
       "      <td>NaN</td>\n",
       "      <td>NaN</td>\n",
       "      <td>1-3 Yrs</td>\n",
       "      <td>Kolkata, Pune, Chennai, Bangalore/Bengaluru, Delhi / NCR, Mumbai (All Areas)</td>\n",
       "    </tr>\n",
       "    <tr>\n",
       "      <th>4</th>\n",
       "      <td>NaN</td>\n",
       "      <td>NaN</td>\n",
       "      <td>2-4 Yrs</td>\n",
       "      <td>Bangalore/Bengaluru</td>\n",
       "    </tr>\n",
       "    <tr>\n",
       "      <th>5</th>\n",
       "      <td>NaN</td>\n",
       "      <td>NaN</td>\n",
       "      <td>2-7 Yrs</td>\n",
       "      <td>Bangalore/Bengaluru</td>\n",
       "    </tr>\n",
       "    <tr>\n",
       "      <th>6</th>\n",
       "      <td>NaN</td>\n",
       "      <td>NaN</td>\n",
       "      <td>4-7 Yrs</td>\n",
       "      <td>Bangalore/Bengaluru</td>\n",
       "    </tr>\n",
       "    <tr>\n",
       "      <th>7</th>\n",
       "      <td>NaN</td>\n",
       "      <td>NaN</td>\n",
       "      <td>3-6 Yrs</td>\n",
       "      <td>Bangalore/Bengaluru</td>\n",
       "    </tr>\n",
       "    <tr>\n",
       "      <th>8</th>\n",
       "      <td>NaN</td>\n",
       "      <td>NaN</td>\n",
       "      <td>5-10 Yrs</td>\n",
       "      <td>Bangalore/Bengaluru</td>\n",
       "    </tr>\n",
       "    <tr>\n",
       "      <th>9</th>\n",
       "      <td>NaN</td>\n",
       "      <td>NaN</td>\n",
       "      <td>1-3 Yrs</td>\n",
       "      <td>Bangalore/Bengaluru</td>\n",
       "    </tr>\n",
       "  </tbody>\n",
       "</table>\n",
       "</div>"
      ],
      "text/plain": [
       "   job-title  company_name experience_required  \\\n",
       "0        NaN           NaN             0-3 Yrs   \n",
       "1        NaN           NaN             6-9 Yrs   \n",
       "2        NaN           NaN           12-18 Yrs   \n",
       "3        NaN           NaN             1-3 Yrs   \n",
       "4        NaN           NaN             2-4 Yrs   \n",
       "5        NaN           NaN             2-7 Yrs   \n",
       "6        NaN           NaN             4-7 Yrs   \n",
       "7        NaN           NaN             3-6 Yrs   \n",
       "8        NaN           NaN            5-10 Yrs   \n",
       "9        NaN           NaN             1-3 Yrs   \n",
       "\n",
       "                                                                           job-location  \n",
       "0  Mumbai, Hyderabad/Secunderabad, Pune, Gurgaon/Gurugram, Chennai, Bangalore/Bengaluru  \n",
       "1                                                                   Bangalore/Bengaluru  \n",
       "2                                                           Mumbai, Bangalore/Bengaluru  \n",
       "3          Kolkata, Pune, Chennai, Bangalore/Bengaluru, Delhi / NCR, Mumbai (All Areas)  \n",
       "4                                                                   Bangalore/Bengaluru  \n",
       "5                                                                   Bangalore/Bengaluru  \n",
       "6                                                                   Bangalore/Bengaluru  \n",
       "7                                                                   Bangalore/Bengaluru  \n",
       "8                                                                   Bangalore/Bengaluru  \n",
       "9                                                                   Bangalore/Bengaluru  "
      ]
     },
     "execution_count": 18,
     "metadata": {},
     "output_type": "execute_result"
    }
   ],
   "source": [
    "jobs"
   ]
  },
  {
   "cell_type": "code",
   "execution_count": 83,
   "metadata": {},
   "outputs": [],
   "source": [
    "driver.close()"
   ]
  },
  {
   "cell_type": "code",
   "execution_count": null,
   "metadata": {},
   "outputs": [],
   "source": []
  },
  {
   "cell_type": "markdown",
   "metadata": {},
   "source": [
    "# Q2: Write a python program to scrape data for\n",
    "“Data Scientist” Job position in\n",
    "“Bangalore” location. You have to scrape the job-title, job-location,\n",
    "company_name, full job-description. You have to scrape first 10 jobs data.\n",
    "\n",
    "This task will be done in following steps:\n",
    "\n",
    "1. first get the webpage https://www.naukri.com/\n",
    "\n",
    "2. Enter “Data Scientist” in “Skill,Designations,Companies” field and enter\n",
    "“Bangalore” in “enter the location” field.\n",
    "\n",
    "3. Then click the search button.\n",
    "\n",
    "4. Then scrape the data for the first 10 jobs results you get.\n",
    "\n",
    "5. Finally create a dataframe of the scraped data."
   ]
  },
  {
   "cell_type": "code",
   "execution_count": 15,
   "metadata": {},
   "outputs": [],
   "source": [
    "import selenium\n",
    "import pandas as pd\n",
    "pd.set_option(\"display.max_colwidth\", None)\n",
    "from selenium import webdriver"
   ]
  },
  {
   "cell_type": "code",
   "execution_count": 16,
   "metadata": {},
   "outputs": [],
   "source": [
    "driver = webdriver.Edge(r\"C:\\Users\\laxmi\\FlipRobo\\edgedriver_win64\\msedgedriver.exe\")\n",
    "\n",
    "url = 'https://www.naukri.com/'\n",
    "driver.get(url)"
   ]
  },
  {
   "cell_type": "code",
   "execution_count": 17,
   "metadata": {},
   "outputs": [],
   "source": [
    "search_job = driver.find_element_by_id('qsb-keyword-sugg')"
   ]
  },
  {
   "cell_type": "code",
   "execution_count": 18,
   "metadata": {},
   "outputs": [],
   "source": [
    "search_job.send_keys(\"Data Scientist\")"
   ]
  },
  {
   "cell_type": "code",
   "execution_count": 19,
   "metadata": {},
   "outputs": [],
   "source": [
    "search_loc = driver.find_element_by_id(\"qsb-location-sugg\")\n",
    "search_loc.send_keys(\"Bangalore\")"
   ]
  },
  {
   "cell_type": "code",
   "execution_count": 20,
   "metadata": {},
   "outputs": [],
   "source": [
    "search_btn = driver.find_element_by_xpath(\"//button[@class='btn']\")\n",
    "search_btn.click()"
   ]
  },
  {
   "cell_type": "code",
   "execution_count": 21,
   "metadata": {},
   "outputs": [
    {
     "data": {
      "text/plain": [
       "[<selenium.webdriver.remote.webelement.WebElement (session=\"3c5239a0e6b3d1395cceeffbca1af5ab\", element=\"8f90ef1c-7288-41e0-9c98-b23a0ead1124\")>,\n",
       " <selenium.webdriver.remote.webelement.WebElement (session=\"3c5239a0e6b3d1395cceeffbca1af5ab\", element=\"93f75fd7-3e7b-40cf-8d00-269b5a15d799\")>,\n",
       " <selenium.webdriver.remote.webelement.WebElement (session=\"3c5239a0e6b3d1395cceeffbca1af5ab\", element=\"c29f2bbe-b588-47ae-bd13-c69c9c215592\")>,\n",
       " <selenium.webdriver.remote.webelement.WebElement (session=\"3c5239a0e6b3d1395cceeffbca1af5ab\", element=\"c6a957e5-ae76-4f46-b6b9-acff648c2c2f\")>,\n",
       " <selenium.webdriver.remote.webelement.WebElement (session=\"3c5239a0e6b3d1395cceeffbca1af5ab\", element=\"e628ae0e-08cf-400c-9c21-5af0aa067405\")>,\n",
       " <selenium.webdriver.remote.webelement.WebElement (session=\"3c5239a0e6b3d1395cceeffbca1af5ab\", element=\"bb30ea77-764f-4213-9a83-6caf54724ca8\")>,\n",
       " <selenium.webdriver.remote.webelement.WebElement (session=\"3c5239a0e6b3d1395cceeffbca1af5ab\", element=\"2295c640-3d4b-409d-b41b-3bb1b5eecb3c\")>,\n",
       " <selenium.webdriver.remote.webelement.WebElement (session=\"3c5239a0e6b3d1395cceeffbca1af5ab\", element=\"d928ba8f-e483-4057-994f-6f70d6bdf9a7\")>,\n",
       " <selenium.webdriver.remote.webelement.WebElement (session=\"3c5239a0e6b3d1395cceeffbca1af5ab\", element=\"82b88767-b469-4fc5-979e-c8e4061e0de7\")>,\n",
       " <selenium.webdriver.remote.webelement.WebElement (session=\"3c5239a0e6b3d1395cceeffbca1af5ab\", element=\"1d66ae45-0b0c-4ecf-9687-2bc3c9d9c51e\")>,\n",
       " <selenium.webdriver.remote.webelement.WebElement (session=\"3c5239a0e6b3d1395cceeffbca1af5ab\", element=\"942e3565-17d2-43bb-8670-5eb5f346e506\")>,\n",
       " <selenium.webdriver.remote.webelement.WebElement (session=\"3c5239a0e6b3d1395cceeffbca1af5ab\", element=\"cdc55eb8-d66b-451e-9bd7-8678f2ce7ce5\")>,\n",
       " <selenium.webdriver.remote.webelement.WebElement (session=\"3c5239a0e6b3d1395cceeffbca1af5ab\", element=\"f143940a-c5b8-4669-a299-c59dd1ccf5bd\")>,\n",
       " <selenium.webdriver.remote.webelement.WebElement (session=\"3c5239a0e6b3d1395cceeffbca1af5ab\", element=\"a0afe8eb-48aa-4f9b-92c9-3c61bd90a47b\")>,\n",
       " <selenium.webdriver.remote.webelement.WebElement (session=\"3c5239a0e6b3d1395cceeffbca1af5ab\", element=\"f629a19b-e732-469f-b07c-15e88af375e7\")>,\n",
       " <selenium.webdriver.remote.webelement.WebElement (session=\"3c5239a0e6b3d1395cceeffbca1af5ab\", element=\"a6933030-4af8-46a3-8eb3-955894b67048\")>,\n",
       " <selenium.webdriver.remote.webelement.WebElement (session=\"3c5239a0e6b3d1395cceeffbca1af5ab\", element=\"b8625d49-ce95-4695-b5e1-620c66830dc5\")>,\n",
       " <selenium.webdriver.remote.webelement.WebElement (session=\"3c5239a0e6b3d1395cceeffbca1af5ab\", element=\"31898d43-509d-4fd3-a877-b35fef689e95\")>,\n",
       " <selenium.webdriver.remote.webelement.WebElement (session=\"3c5239a0e6b3d1395cceeffbca1af5ab\", element=\"f6352e96-1e62-4ae4-98b8-90a81529ffc7\")>,\n",
       " <selenium.webdriver.remote.webelement.WebElement (session=\"3c5239a0e6b3d1395cceeffbca1af5ab\", element=\"45d54656-9eef-4a61-8d0b-74ae85bc930c\")>]"
      ]
     },
     "execution_count": 21,
     "metadata": {},
     "output_type": "execute_result"
    }
   ],
   "source": [
    "title_tags = driver.find_elements_by_xpath(\"//a[@class='title fw500 ellipsis']\")\n",
    "title_tags"
   ]
  },
  {
   "cell_type": "code",
   "execution_count": 22,
   "metadata": {},
   "outputs": [
    {
     "data": {
      "text/plain": [
       "['Data Scientist / Data Analyst -Business Analyst',\n",
       " 'Data Scientist',\n",
       " 'Big Data - Data Scientist',\n",
       " 'Specialist I - Data Scientist',\n",
       " 'Lead Data Scientist',\n",
       " 'Data Scientist',\n",
       " 'Data Scientist',\n",
       " 'SDE Lead Data Scientist-L3',\n",
       " 'Computational Design Lead Data Scientist-L3',\n",
       " 'Hiring For DATA Scientist - ON Contract Basis (3-6 Months)']"
      ]
     },
     "execution_count": 22,
     "metadata": {},
     "output_type": "execute_result"
    }
   ],
   "source": [
    "job_titles=[]\n",
    "for i in title_tags[:10]:\n",
    "    job_titles.append(i.text)\n",
    "\n",
    "job_titles"
   ]
  },
  {
   "cell_type": "code",
   "execution_count": 23,
   "metadata": {},
   "outputs": [
    {
     "data": {
      "text/plain": [
       "[<selenium.webdriver.remote.webelement.WebElement (session=\"3c5239a0e6b3d1395cceeffbca1af5ab\", element=\"eef730cc-9350-4ea3-bd6f-eb7883b71626\")>,\n",
       " <selenium.webdriver.remote.webelement.WebElement (session=\"3c5239a0e6b3d1395cceeffbca1af5ab\", element=\"a3401204-93c5-425d-acc5-3c7696023af0\")>,\n",
       " <selenium.webdriver.remote.webelement.WebElement (session=\"3c5239a0e6b3d1395cceeffbca1af5ab\", element=\"5698d968-b339-4e0b-a59c-20489d78e7af\")>,\n",
       " <selenium.webdriver.remote.webelement.WebElement (session=\"3c5239a0e6b3d1395cceeffbca1af5ab\", element=\"dc3466a5-0f0f-4c99-a15f-1ccf3c7a121a\")>,\n",
       " <selenium.webdriver.remote.webelement.WebElement (session=\"3c5239a0e6b3d1395cceeffbca1af5ab\", element=\"0fd43806-73d6-4dc5-8969-f717a97c8ab3\")>,\n",
       " <selenium.webdriver.remote.webelement.WebElement (session=\"3c5239a0e6b3d1395cceeffbca1af5ab\", element=\"06c3a3c4-3df2-4cb6-89e2-b4101bedfeab\")>,\n",
       " <selenium.webdriver.remote.webelement.WebElement (session=\"3c5239a0e6b3d1395cceeffbca1af5ab\", element=\"b0eee431-fa10-4142-9fc1-055123b69f4f\")>,\n",
       " <selenium.webdriver.remote.webelement.WebElement (session=\"3c5239a0e6b3d1395cceeffbca1af5ab\", element=\"b891eeb3-23dc-4c64-9c28-d8bb1fad3c88\")>,\n",
       " <selenium.webdriver.remote.webelement.WebElement (session=\"3c5239a0e6b3d1395cceeffbca1af5ab\", element=\"c08fb2df-0cb7-4982-9ed0-4e2443d1fe30\")>,\n",
       " <selenium.webdriver.remote.webelement.WebElement (session=\"3c5239a0e6b3d1395cceeffbca1af5ab\", element=\"9a181f9c-4859-4fd0-9bd7-af8d9b9717f9\")>,\n",
       " <selenium.webdriver.remote.webelement.WebElement (session=\"3c5239a0e6b3d1395cceeffbca1af5ab\", element=\"00724f54-1ea2-48e2-86e5-31eb1e18504f\")>,\n",
       " <selenium.webdriver.remote.webelement.WebElement (session=\"3c5239a0e6b3d1395cceeffbca1af5ab\", element=\"902eb68f-852b-4c8d-8b67-0ab7385a5e0f\")>,\n",
       " <selenium.webdriver.remote.webelement.WebElement (session=\"3c5239a0e6b3d1395cceeffbca1af5ab\", element=\"d2430a1e-787b-4c57-9af2-7ef8212fd6d5\")>,\n",
       " <selenium.webdriver.remote.webelement.WebElement (session=\"3c5239a0e6b3d1395cceeffbca1af5ab\", element=\"54d8b356-f9da-4bf2-bea3-64dcb542203c\")>,\n",
       " <selenium.webdriver.remote.webelement.WebElement (session=\"3c5239a0e6b3d1395cceeffbca1af5ab\", element=\"cf41623b-cbf3-46a3-b98b-c62ac0df2746\")>,\n",
       " <selenium.webdriver.remote.webelement.WebElement (session=\"3c5239a0e6b3d1395cceeffbca1af5ab\", element=\"916d44b2-94a6-42c4-9c68-e14bf07e2b57\")>,\n",
       " <selenium.webdriver.remote.webelement.WebElement (session=\"3c5239a0e6b3d1395cceeffbca1af5ab\", element=\"0bf77599-1883-49e1-90c2-e27991fac964\")>,\n",
       " <selenium.webdriver.remote.webelement.WebElement (session=\"3c5239a0e6b3d1395cceeffbca1af5ab\", element=\"25573246-0aac-44de-a183-0881a20892cd\")>,\n",
       " <selenium.webdriver.remote.webelement.WebElement (session=\"3c5239a0e6b3d1395cceeffbca1af5ab\", element=\"90a1ed76-3cd0-4329-8578-6515c09ba7fa\")>,\n",
       " <selenium.webdriver.remote.webelement.WebElement (session=\"3c5239a0e6b3d1395cceeffbca1af5ab\", element=\"607e9ae3-6907-47eb-bfcc-c651672332f3\")>]"
      ]
     },
     "execution_count": 23,
     "metadata": {},
     "output_type": "execute_result"
    }
   ],
   "source": [
    "company_tags = driver.find_elements_by_xpath(\"//a[@class='subTitle ellipsis fleft']\")\n",
    "company_tags"
   ]
  },
  {
   "cell_type": "code",
   "execution_count": 24,
   "metadata": {},
   "outputs": [
    {
     "data": {
      "text/plain": [
       "['Inflexion Analytix Private Limited',\n",
       " 'Wipro Limited',\n",
       " 'Xoriant Solutions Pvt Ltd',\n",
       " 'Philips India Limited',\n",
       " 'Intel Technology India Pvt Ltd',\n",
       " 'Oracle India Pvt. Ltd.',\n",
       " 'IBM India Pvt. Limited',\n",
       " 'Huawei Technologies India Pvt Ltd',\n",
       " 'Huawei Technologies India Pvt Ltd',\n",
       " 'GlobalEdx Learning and Technology Solution Pvt Ltd']"
      ]
     },
     "execution_count": 24,
     "metadata": {},
     "output_type": "execute_result"
    }
   ],
   "source": [
    "company_names=[]\n",
    "for i in company_tags[:10]:\n",
    "    company_names.append(i.text)\n",
    "    \n",
    "company_names"
   ]
  },
  {
   "cell_type": "code",
   "execution_count": 25,
   "metadata": {
    "scrolled": true
   },
   "outputs": [
    {
     "data": {
      "text/plain": [
       "[<selenium.webdriver.remote.webelement.WebElement (session=\"3c5239a0e6b3d1395cceeffbca1af5ab\", element=\"eb03baf1-b4e9-419d-9865-4deed88fe910\")>,\n",
       " <selenium.webdriver.remote.webelement.WebElement (session=\"3c5239a0e6b3d1395cceeffbca1af5ab\", element=\"6e1c0deb-bb3d-4852-a60d-6c742482f582\")>,\n",
       " <selenium.webdriver.remote.webelement.WebElement (session=\"3c5239a0e6b3d1395cceeffbca1af5ab\", element=\"74b84931-444b-4648-82dc-31cc35cdf8e0\")>,\n",
       " <selenium.webdriver.remote.webelement.WebElement (session=\"3c5239a0e6b3d1395cceeffbca1af5ab\", element=\"dc9e8414-5071-41d1-a762-9f0cf9b9d8e9\")>,\n",
       " <selenium.webdriver.remote.webelement.WebElement (session=\"3c5239a0e6b3d1395cceeffbca1af5ab\", element=\"16139553-40d0-4f90-a791-9eb0df9df607\")>,\n",
       " <selenium.webdriver.remote.webelement.WebElement (session=\"3c5239a0e6b3d1395cceeffbca1af5ab\", element=\"6150d8a9-f046-4df4-95db-d36b7220e747\")>,\n",
       " <selenium.webdriver.remote.webelement.WebElement (session=\"3c5239a0e6b3d1395cceeffbca1af5ab\", element=\"5f43101e-ec56-41ff-beb8-01731b5f7b95\")>,\n",
       " <selenium.webdriver.remote.webelement.WebElement (session=\"3c5239a0e6b3d1395cceeffbca1af5ab\", element=\"a0b2607e-dfba-4146-8eaf-7b7dcbc42566\")>,\n",
       " <selenium.webdriver.remote.webelement.WebElement (session=\"3c5239a0e6b3d1395cceeffbca1af5ab\", element=\"54a0cfc0-54ae-4ab0-9e9b-c0d6e9837e91\")>,\n",
       " <selenium.webdriver.remote.webelement.WebElement (session=\"3c5239a0e6b3d1395cceeffbca1af5ab\", element=\"46e1c4d3-a0d5-4fbe-8522-feed66eec696\")>,\n",
       " <selenium.webdriver.remote.webelement.WebElement (session=\"3c5239a0e6b3d1395cceeffbca1af5ab\", element=\"510c2046-2104-4171-b419-3d4094b315c5\")>,\n",
       " <selenium.webdriver.remote.webelement.WebElement (session=\"3c5239a0e6b3d1395cceeffbca1af5ab\", element=\"4fb6cfdc-9691-4177-8d64-e7d5c1919e83\")>,\n",
       " <selenium.webdriver.remote.webelement.WebElement (session=\"3c5239a0e6b3d1395cceeffbca1af5ab\", element=\"12cfaaac-961a-4279-8bc8-9e9c78df31d6\")>,\n",
       " <selenium.webdriver.remote.webelement.WebElement (session=\"3c5239a0e6b3d1395cceeffbca1af5ab\", element=\"12a2e3c5-55f9-42f1-9770-9c11a85ded57\")>,\n",
       " <selenium.webdriver.remote.webelement.WebElement (session=\"3c5239a0e6b3d1395cceeffbca1af5ab\", element=\"d9e162fc-8cff-4349-a1f8-e42d96620ac7\")>,\n",
       " <selenium.webdriver.remote.webelement.WebElement (session=\"3c5239a0e6b3d1395cceeffbca1af5ab\", element=\"af47feae-4334-40be-b2bc-08a33300a89c\")>,\n",
       " <selenium.webdriver.remote.webelement.WebElement (session=\"3c5239a0e6b3d1395cceeffbca1af5ab\", element=\"2a0dab17-198c-4181-86ec-ffea369d6569\")>,\n",
       " <selenium.webdriver.remote.webelement.WebElement (session=\"3c5239a0e6b3d1395cceeffbca1af5ab\", element=\"d8e9a222-6d04-42de-a537-0438dcdc5fff\")>,\n",
       " <selenium.webdriver.remote.webelement.WebElement (session=\"3c5239a0e6b3d1395cceeffbca1af5ab\", element=\"b97fc322-e7a7-4e7f-8c37-b0a41a800915\")>,\n",
       " <selenium.webdriver.remote.webelement.WebElement (session=\"3c5239a0e6b3d1395cceeffbca1af5ab\", element=\"cdabd1b2-d369-4170-a26a-7f1742704266\")>]"
      ]
     },
     "execution_count": 25,
     "metadata": {},
     "output_type": "execute_result"
    }
   ],
   "source": [
    "location_tags=driver.find_elements_by_xpath(\"//li[@class='fleft grey-text br2 placeHolderLi location']\")\n",
    "location_tags"
   ]
  },
  {
   "cell_type": "code",
   "execution_count": 26,
   "metadata": {},
   "outputs": [
    {
     "data": {
      "text/plain": [
       "['Mumbai, Hyderabad/Secunderabad, Pune, Gurgaon/Gurugram, Chennai, Bangalore/Bengaluru',\n",
       " 'Kolkata, Hyderabad/Secunderabad, Chennai, Bangalore/Bengaluru',\n",
       " 'Kochi/Cochin, Indore, Hyderabad/Secunderabad, Pune, Ahmedabad, Bangalore/Bengaluru, Mumbai (All Areas)',\n",
       " 'Bangalore/Bengaluru',\n",
       " 'Bangalore/Bengaluru',\n",
       " 'Bangalore/Bengaluru',\n",
       " 'Bangalore/Bengaluru',\n",
       " 'Bangalore/Bengaluru',\n",
       " 'Bangalore/Bengaluru',\n",
       " 'Hyderabad/Secunderabad, Bangalore/Bengaluru, Mumbai (All Areas)']"
      ]
     },
     "execution_count": 26,
     "metadata": {},
     "output_type": "execute_result"
    }
   ],
   "source": [
    "location_list=[]\n",
    "\n",
    "for i in location_tags[:10]:\n",
    "    location_list.append(i.text)\n",
    "    \n",
    "location_list"
   ]
  },
  {
   "cell_type": "code",
   "execution_count": null,
   "metadata": {},
   "outputs": [],
   "source": []
  },
  {
   "cell_type": "code",
   "execution_count": 29,
   "metadata": {},
   "outputs": [],
   "source": [
    "urls=[]\n",
    "for i in driver.find_elements_by_xpath(\"//a[@class='title fw500 ellipsis']\")[:10]:\n",
    "    urls.append(i.get_attribute(\"href\"))"
   ]
  },
  {
   "cell_type": "code",
   "execution_count": 30,
   "metadata": {},
   "outputs": [
    {
     "data": {
      "text/plain": [
       "['https://www.naukri.com/job-listings-data-scientist-data-analyst-business-analyst-inflexion-analytix-private-limited-mumbai-hyderabad-secunderabad-pune-gurgaon-gurugram-chennai-bangalore-bengaluru-0-to-3-years-100521000368?src=jobsearchDesk&sid=16216816178529010&xp=1&px=1',\n",
       " 'https://www.naukri.com/job-listings-data-scientist-wipro-limited-kolkata-hyderabad-secunderabad-chennai-bangalore-bengaluru-4-to-9-years-210521000038?src=jobsearchDesk&sid=16216816178529010&xp=2&px=1',\n",
       " 'https://www.naukri.com/job-listings-big-data-data-scientist-xoriant-solutions-pvt-ltd-kochi-cochin-indore-hyderabad-secunderabad-pune-ahmedabad-bangalore-bengaluru-mumbai-all-areas-1-to-3-years-130521005018?src=jobsearchDesk&sid=16216816178529010&xp=3&px=1',\n",
       " 'https://www.naukri.com/job-listings-specialist-i-data-scientist-philips-india-limited-bangalore-bengaluru-4-to-7-years-170521500993?src=jobsearchDesk&sid=16216816178529010&xp=4&px=1',\n",
       " 'https://www.naukri.com/job-listings-lead-data-scientist-intel-technology-india-pvt-ltd-bangalore-bengaluru-6-to-10-years-070521500578?src=jobsearchDesk&sid=16216816178529010&xp=5&px=1',\n",
       " 'https://www.naukri.com/job-listings-data-scientist-oracle-india-pvt-ltd-bangalore-bengaluru-6-to-10-years-190521008276?src=jobsearchDesk&sid=16216816178529010&xp=6&px=1',\n",
       " 'https://www.naukri.com/job-listings-data-scientist-ibm-india-pvt-limited-bangalore-bengaluru-6-to-8-years-110521907352?src=jobsearchDesk&sid=16216816178529010&xp=7&px=1',\n",
       " 'https://www.naukri.com/job-listings-sde-lead-data-scientist-l3-huawei-technologies-india-pvt-ltd-bangalore-bengaluru-5-to-8-years-120521901434?src=jobsearchDesk&sid=16216816178529010&xp=8&px=1',\n",
       " 'https://www.naukri.com/job-listings-computational-design-lead-data-scientist-l3-huawei-technologies-india-pvt-ltd-bangalore-bengaluru-5-to-8-years-120521901329?src=jobsearchDesk&sid=16216816178529010&xp=9&px=1',\n",
       " 'https://www.naukri.com/job-listings-hiring-for-data-scientist-on-contract-basis-3-6-months-globaledx-learning-and-technology-solution-pvt-ltd-hyderabad-secunderabad-bangalore-bengaluru-mumbai-all-areas-3-to-8-years-170521003581?src=jobsearchDesk&sid=16216816178529010&xp=10&px=1']"
      ]
     },
     "execution_count": 30,
     "metadata": {},
     "output_type": "execute_result"
    }
   ],
   "source": [
    "urls"
   ]
  },
  {
   "cell_type": "code",
   "execution_count": 31,
   "metadata": {},
   "outputs": [],
   "source": [
    "job_description=[]"
   ]
  },
  {
   "cell_type": "code",
   "execution_count": 32,
   "metadata": {},
   "outputs": [],
   "source": [
    "for i in urls:\n",
    "    driver.get(i)\n",
    "    try:\n",
    "        job_desc=driver.find_element_by_xpath(\"//section[@class='job-desc']\")\n",
    "        job_description.append(job_desc.text)\n",
    "    except :\n",
    "        job_description.append('-')"
   ]
  },
  {
   "cell_type": "code",
   "execution_count": 34,
   "metadata": {},
   "outputs": [
    {
     "name": "stdout",
     "output_type": "stream",
     "text": [
      "10 10 10 10\n"
     ]
    }
   ],
   "source": [
    "print(len(job_description),len(job_titles),len(location_list),len(company_names))"
   ]
  },
  {
   "cell_type": "code",
   "execution_count": 35,
   "metadata": {
    "scrolled": true
   },
   "outputs": [
    {
     "data": {
      "text/plain": [
       "[\"Job description\\nJob Role : Data Scientist/Data Analyst /Business Analyst\\n\\nLocation : Chennai/Bangalore/Hyderabad/Pune/Mumbai/Delhi\\n\\nGreetings from CAIA - Center for Artificial Intelligence & Advanced Analytics\\n43% of companies experienced a high deficit of skilled resources with Advanced Analytical skills and AI implementing capabilities in year 2020. CAIA gives you a great opportunity to enter the world of future technologies and Innovations- Data Science, Analytics, AI, Data Visualization and Cloud Computing.\\n\\nWhile 2020 was a year like no other, we are living in an interesting times where data is reshaping the world, and businesses are rapidly adopting technology to gain an edge over others. Hence, there's a substantial increase in demand for technology professionals who can implement systems in data science, machine learning and AI in Tier 1 and Tier 2 organization's working closely with us.\\n\\nTo help you build a sustainable career we would like you to utilize data, software and Analytical approaches in Data Science and AI to up skill and get recruited into an organization appreciating your skilling journey.\\nApplications invited from all Freshers and experienced candidates (0-3 yrs) aspiring to make a career in Artificial Intelligence and Advanced Analytics and Data Science.\\nIf you wish to make a shift in your career or undergo a career transition, upskilling is essential since it allows you to learn more about the domain and acquire the required skills.\\n\\nCall to schedule interview Monday -Saturday from 10:00 am to 7Pm\\n\\nManigandan -+91 7299917200\\n\\nEmail : manigandan@centerforaia.com\\n\\nWhat is needed from you?\\n\\nFreshers who wish to start their career in Analytics and AI and professionals who wish to\\nupskill or change their domain to analytics and emerging technologies are free to apply.\\nAn Educational background in any one of the following- BE/B.Tech, ME/M Tech, MSc, BSc/MSc Maths and Statistics, B Com, BCA, BSc CS, BSC IT, MSC IT, MCA\\nSkills relating to Mathematics/Statistics.\\nNatural passion towards numbers, business, coding, Analytics and Artificial Intelligence, Machine Learning, visualization\\nGood verbal and written communication skills\\nAbility to understand domains in businesses across various sectors\\n\\n\\nSelection procedure includes\\n\\nAptitude Test & Communication Exam - Online / Offline\\nSQL/Python test - Online / Offline\\n\\nCandidates who clears the above will have one-one discussion with our Career Guidance Manager for further evaluation and processing of your Resume.\\n\\n\\nAll the Shortlisted candidates will be eligible to continue the corporate training with CAIA\\nWhat you can expect from us?\\n\\nYou will get trained on the following modules for a period of 12-14 weeks:\\n\\nSQL & PLSQL\\nData Wrangling using Python\\nData Visualization Using Power-BI\\nStatistics for Machine Learning\\nArtificial Intelligence, Data Interpretation\\nSupervised & Unsupervised Learning,\\nNLP & Deep Learning\\nCloud Data Lake\\nBusiness intelligence & Data Visualization\\nSimulation Projects\\nExpected Outcome?\\n\\nAt the end of the Training you are expected to be well versed with the following:\\n\\nAnalysis of large and complex data sets from multiple sources\\nDevelopment and evaluation of data analytics models, algorithms and solutions\\nUnderstanding/implementation of ML algorithms, performance tuning and reporting\\nImplementation of algorithms to mine targeted data and the ability to convert data in to a business story\\nTranslation of business requirements into technical requirements; Data extraction, preparation and transformation\\nIdentification, development and implementation of statistical techniques and algorithms that address business challenges and adds value to the organization\\nRequirement Analysis and communication of findings in the form of a meaningful story with the stakeholders\\nFinding analytical solutions to abstract business issues.\\nApply objective analysis of facts before coming to a conclusion\\n\\nAbout CAIA - Inflexion Analytix Private Limited\\n\\nCenter for Artificial Intelligence and Advanced Analytics (Center for AIA) is the brainchild of experienced and visionary alumni of IIT Madras and Bombay.\\nDigital leaders - 5F World and Systech Solutions have joined hands to create a venture for architecting the future of society, workforce, governments and businesses. 5F World specializes in designing solutions around digital platforms and Systech Solutions has an expertise in architecting Artificial Intelligence and Advance Analytics solutions for Fortune 500 companies.\\nOur Website : http://www.centerforaia.com/\\n\\nhttps://inflexion-analytix-private-limited.business.site/?m=true\\n\\nCenter for Artificial Intelligence & Advanced Analytics (CAIA) focuses on the following:\\n\\n1. Global Research on emerging trends, technologies and applications in AI and Advanced Analytics\\n2. Advanced Training programs for readying the future ready workforce\\n3. Solutions to herald the futuristic lifestyle and workspaces in the field of AI and Data Science.\\nRoleData Analyst\\nIndustry TypeBPO / Call Centre\\nFunctional AreaAnalytics & Business Intelligence\\nEmployment TypeFull Time, Permanent\\nRole CategoryAnalytics & BI\\nEducation\\nUG :Any Graduate in Any Specialization\\nKey Skills\\nBusiness IntelligenceArtificial IntelligenceBig DataITMachine LearningStatisticsDeep LearningAnalyticsBusiness AnalysisSQLData ScienceNLPCloud ComputingData VisualizationSoftwareData WarehousingPython\",\n",
       " 'Job description\\nRole: Data Scientist\\n\\nRoles and Responsibilities\\nSuitable candidates will be part of Wipro Digital-Intelligent Enterprise practice. The role entails leveraging Data Science and Machine Learning to solve typical problems within an organization and create IP that could be deployed in a productized mode. This will entail significant hands-on work on multiple Big Data Technologies, Data Analysis, Identifying data patterns, ML models, Insights generation. The role entails deployment in a customer context and managing customer expectations.\\n\\nTechnical Skills Required:\\nHands on with Python or R\\nAnalytics using industry leading BI tools and technologies\\nImplementation knowledge of supervised\\\\un-supervised machine learning algorithms\\nGood statistical analysis skills for data pre-processing and data wrangling\\nExperienced in using big data frameworks like Hadoop\\nKnowledge of business intelligence tools or reporting tools\\n\\nData Preparation for Modeling\\nMissing Data Imputation,Outlier Treatment\\nScaling, Normalization, Standardization\\nEncoding for Categorical Variables\\nOversampling\\\\Undersampling for reducing class imbalance\\n\\nExperience in building solutions using Model Library\\nFeature Selection\\nTree-based Ensemble Models\\nGradient\\\\Adaptive Boosted Trees\\nHyper-parameter tuning\\nBuilding Prediction mechanisms using methods like Logistic regression, voting classifier stacking etc\\n\\n\\n\\nRoleSoftware Developer\\nIndustry TypeIT Services & Consulting\\nFunctional AreaIT Software - Application Programming, Maintenance\\nEmployment TypeFull Time, Permanent\\nRole CategoryProgramming & Design\\nEducation\\nUG :B.Tech/B.E. in Any Specialization\\nKey Skills\\nData ScienceMachine LearningPython\\nLogistic RegressionData WranglingHadoopData AnalysisBig DataStatistical Analysis\\nSkills highlighted with ‘‘ are preferred keyskills',\n",
       " '-',\n",
       " 'Job description\\nResponsibilities and Key Result Areas\\nDesign and develop project prototypes and solutions.\\nParticipate in project estimation, planning and risk management activities\\nIs responsible for delivering input in the planning process to the project leader\\nEnsures that there is proper documentation for the developed solutions.\\nEnsure compliance to the Quality Management System and regulatory requirements\\nKey Technical Skills:\\n4 - 7 yrs years of experience in data science\\nDeveloped Proficient in algorithms on regression modelling (linear/logistic), supervised and unsupervised classification,\\ntree-based techniques (Decision trees /Random forest), neural nets, bagging, Pattern Mining and boosting techniques, etc.\\nProficient and hands on experience in developing models using concepts of Artificial Intelligence,\\nMachine Learning and Deep Learning related technologies (such as Keras, TensorFlow, pyTorch, Azure ML, AWS ML, Scikit, Jupyter, MatLab etc.)\\nExperience with containers like Docker is added advantage\\nExperience in Sql\\nWorking experience in agile/SAFe development methodologies\\nSoft Skill set:\\nFast learner. Ability to grasp key concepts quickly with minimal or no supervision\\nGo-Getter Attitude. Ability to take ownership of team goals and deliver it with quality and within required timeline\\nTeam Player attitude. Key characteristic of the individual who puts the team first before self.\\nAbility to think out of box: Ability to come up with bright ideas and always looking at the next big thing in technology\\nFlexible and willingness to stretch oneself when needed.\\nRoleSoftware Developer\\nIndustry TypeMedical Services / Hospital\\nFunctional AreaIT Software - Application Programming, Maintenance\\nEmployment TypeFull Time, Permanent\\nRole CategoryProgramming & Design\\nEducation\\nUG :Any Graduate in Any Specialization\\nPG :Post Graduation Not Required\\nKey Skills\\nMiningdeep learningdata scienceArtificial IntelligenceMachine learningAgileHTMLRisk managementMATLABSQL',\n",
       " 'Job description\\n\\n\\nWe are seeking an outstanding Lead Data Scientist in AI/ML who will help our team continue to grow and bring high value to Intel. In this role you should demonstrate excellent problem formulation/definition skills in addition to technical skills. The ideal candidate should be:\\n\\nA professional role model with deep and wide expertise in state-of-the-art AI/ML techniques, a passion for solving challenging data science problems and extensive hands-on experience.\\nBe detail-oriented and have an aptitude for solving unstructured problems. You should be excellent in coming up with different approaches to solve business problem using AI and evaluate the trade-off between them.\\nBe self-directed, take charge of opportunities with business impact and drive them to completion.\\nHave prior experience in guiding a team of data scientists, coaching and mentoring them.\\nHave deep technical expertise in feature-engineering of massive datasets, effective exploratory data analysis, and model building using AI/ML techniques.\\nBe a role model innovator by adapting new AI/ML modeling techniques and procedures.\\nHave deep expertise in creation and management of datasets.\\nHave excellent business and communication skills to be able to work with stakeholders like the business teams, engineering teams and partner teams and align them with respect to your focus area.\\nHave the ability to manage and execute an entire AI project from start to finish, including problem solving, data gathering and manipulation, predictive modeling, and project management skills.\\nBe a role-model in storytelling with data and articulating the AI problems in an understandable manner to senior leadership of the Business Units.\\n\\nYou will be a part of the large global AI/ML Research Scientist community and will have access to state-of-the-art training, tools, and methods of the domain.\\n\\n\\nCandidates need to hold at least a masters degree (or higher) in Computer Science/Machine Learning/AI/Data Science\\n8 years of relevant experience in building AI/ML models and in using Python (Scikit-learn, TensorFlow/Pytorch) and SQL (or equivalent).\\nExperience in using data analysis techniques and ML methods like classification, regression pattern finding, clustering, dimensionality reduction, anomaly detection etc.\\nExperience with Hadoop, Spark is an advantage\\nDeep Knowledge of classical AI algorithms and Deep Learning techniques is a must.\\nGreat analytical skills and demonstrated ability of independent and creative thinking.\\nHighly motivated strong team player with the ability to work both independently and collaboratively within a team.\\nHas strong analytical skills, including the abilities to scope out business problems to be solved, start from ambiguous problem statements, identify and access relevant data, make appropriate assumptions, perform insightful analysis and draw conclusions relevant to the business problem.\\nAbility to present information professionally and concisely with supporting data.\\nPrevious experience as a data scientist in semi-conductor industry or data intensive organizations is a plus.\\nExperience in creating powerful data driven visualizations to describe ML modeling results to stakeholders.\\nRoleTeam Lead/Technical Lead\\nIndustry TypeIT Services & Consulting\\nFunctional AreaIT Software - Application Programming, Maintenance\\nEmployment TypeFull Time, Permanent\\nRole CategoryProgramming & Design\\nEducation\\nUG :Any Graduate in Any Specialization\\nPG :Any Postgraduate in Any Specialization\\nKey Skills\\nComputer scienceData analysisFormulationArtificial IntelligenceMachine learningSignal processingPredictive modelingForecastingSQLPython',\n",
       " '-',\n",
       " '-',\n",
       " 'Job description\\nBusiness & Team overview:\\nFounded in 1987, Huawei is a leading global provider of ICT (information and communications technology) infrastructure and smart devices. We are committed to bringing digital to every person, home and organization for a fully connected, intelligent world. We have nearly 194,000 employees, and we operate in more than 170 countries and regions, serving more than 3 billion people around the world.\\n\\nHuawei Technologies has three business directions: Carrier Business Group, which provides innovative and secure network equipment to telecom carriers, including the leading 5G mobile network.\\nEnterprise Business Group, which provides facilities and solutions to big and small companies, including IT facilities.\\nConsumer Business Groups, which provides devices to the customer, including mobile phones, PC, tablet, TV, audio, glasses, watches, locomotives, and headphones. And also provide solutions on mobile offices, smart homes, sports and health, audio-visual entertainment, and smart travel products.\\n\\nThis opportunity is belong to Huawei Consumer Business Group.\\n\\nDriven by the coordinated development of \"Chip-Device-Cloud\", consumer products such as smartphones are becoming increasingly intelligent and pervasive. The era of smart services is the future.\\n\\nHuawei Ads Services is dedicated to provide Huawei end-users with high-quality digital experiences, to build a business closed-loop system for Developers and Improve the ROI for the Advertisers\\n.\\nIn 2020 Q1, along with more than 650 million users and 1,400,000 registered developers worldwide, we have the following unique advantages:\\n1. With All-scenario intelligent solution, the Huawei devices become super entrance of traffic, including mobile phones, PC, tablet, TV, audio, glasses, watches, locomotives, and head phones\\n2. This team will be responsible for building a new Ad Serving Platform and have the opportunity to define the product for our Huawei end-users.\\n3. AI-Driven is the direction of Ads, Huawei is going to build a strong team in India to Innovate and deliver AI-driven Smart Ad Serving Platforms\\n\\nJob Title: Lead Data Scientist\\nWe are looking for a Lead data scientist who will help us discover the information hidden in vast amounts of Ad Campaign data, and help us to optimize the campaign to improve the advertiser ROI and improve the overall consumer experience. Your primary focus will be in applying data mining techniques, doing statistical analysis, and building high quality prediction systems using Deep learning algorithms integrated with our products. Some the key area you will be working on spend recommendation, floor price prediction, CTR/CVR prediction, market funnel analysis and perdition of lead to conversion, etc.\\n\\nResponsibility:\\nAnalyze the data, develop insights and identify the opportunity to utilize the data to predict various Advertisement key indicators like CTR, CVR, Inventory and Develop prediction and optimization algorithms for campaign, look alike modeling, etc for Huawei Ads.\\nTakeup key challenges in AI-driven Smart Ad Serving Platform and focus on research and developing leading AI algorithms and productionize for Huawei Ads.\\nTakeup initiative in identifying the SOTA and finding key gaps in AI algorithms and develop a world leading AI algorithms for optimizing real-time Ad Serving engine. Identify and optimize the core modules such as Traffic Prediction, Optimization, Ad Targeting/Re-targeting, Ad Performance Optimization, Audience insights, Attribution, Bidding, re-ranking, and Diagnostics. Support hundreds of billions of ad requests per day, with efficiently cache technology.\\nTo build and enhance Ad platform features and Prediction capabilities in Huawei Ads Platform\\nOptimized Cost Per Mille; Optimized Cost Per Action; Optimized Cost Per Click and Cost per Click. OCPM, OCPA, OCPC.\\n\\nRequirements:\\n- Strong hands-on experience in implementing and validating big data algorithms and models including Deep Learning models like Seq2Seq/ GRU/RNN/LSTM , Knowledge Graph, Massive Graph algorithms, etc.\\n- Programming experience with Python\\n- Able to validate existing models including Deep Learning models with large scale dataset and able to make changes to the models to achieve better performance\\n- AdServing domain Experience is an added advantage\\nRoleAnalytics Manager\\nIndustry TypeTelecom / ISP\\nFunctional AreaAnalytics & Business Intelligence\\nEmployment TypeFull Time, Permanent\\nRole CategoryAnalytics & BI\\nEducation\\nUG :Any Graduate in Any Specialization\\nPG :Any Postgraduate in Any Specialization\\nKey Skills\\nRnnAlgorithmsLstmArtificial IntelligenceData ScientistBig DataData MiningStatistical AnalysisDeep LearningPython',\n",
       " 'Job description\\nBusiness & Team overview:\\nFounded in 1987, Huawei is a leading global provider of ICT (information and communications technology) infrastructure and smart devices. We are committed to bringing digital to every person, home and organization for a fully connected, intelligent world. We have nearly 194,000 employees, and we operate in more than 170 countries and regions, serving more than 3 billion people around the world.\\n\\nHuawei Technologies has three business directions: Carrier Business Group, which provides innovative and secure network equipment to telecom carriers, including the leading 5G mobile network.\\nEnterprise Business Group, which provides facilities and solutions to big and small companies, including IT facilities.\\nConsumer Business Groups, which provides devices to the customer, including mobile phones, PC, tablet, TV, audio, glasses, watches, locomotives, and headphones. And also provide solutions on mobile offices, smart homes, sports and health, audio-visual entertainment, and smart travel products.\\n\\nThis opportunity is belong to Huawei Consumer Business Group.\\n\\nDriven by the coordinated development of \"Chip-Device-Cloud\", consumer products such as smartphones are becoming increasingly intelligent and pervasive. The era of smart services is the future.\\nHuawei Ads Services is dedicated to provide Huawei end-users with high-quality digital experiences, to build a business closed-loop system for Developers and Improve the ROI for the Advertisers\\n.\\nIn 2020 Q1, along with more than 650 million users and 1,400,000 registered developers worldwide, we have the following unique advantages:\\n1. With All-scenario intelligent solution, the Huawei devices become super entrance of traffic, including mobile phones, PC, tablet, TV, audio, glasses, watches, locomotives, and head phones\\n2. This team will be responsible for building a new Ad Serving Platform and have the opportunity to define the product for our Huawei end-users.\\n3. AI-Driven is the direction of Ads, Huawei is going to build a strong team in India to Innovate and deliver AI-driven Smart Ad Serving Platforms\\n\\n1. Job Title: Computational Design Lead Data Scientist\\n\\nResponsibility:\\nTake-up Key creative tools of the creative platform for Advertisers, research and develop breakthrough CNN based deep learning algorithms to solve the problem unique in the industry and productionize the algorithms, measure the ad creative performance and enhance the algorithm to ease the Ad Designer job.\\nDevelop the common AI platforms and frameworks to ease the experimentation of the Algorithms for creative Design.\\nTo build ability to understand the advertisers intent and provide creative assistance every step of creating all types of adverts\\nResponsible for intelligent identification of advertising creatives (pictures, videos) and related algorithms of content understanding.\\nResponsible for Image Synthesis, Intelligent Layout, Style Transfer, and other image processing, computing and visual processing, to improve the aesthetic level of advertising creativity.\\nResponsible for designing algorithms for suggesting how to intelligently crop and position an image for maximum effect, identify the optimal placement of text and copywriting.\\nResponsible for the algorithm and model of dynamic matching of advertising program creativity and dynamic creation of advertising content\\n\\nRequirements:\\nDeep knowledge of Computational Design\\nExperience on Intelligent composition, including image cropping, smart layout, the Gold Ratio composition, visual extension.\\nExperience computer vision models, including image/video recognition and content understanding.\\nExperience in algorithms such as image and video segmentation, separation, synthesis, and intelligent layout with engineering platform implementation capability.\\nStrong Knowledge Algorithms such as Image segmentation, object detection, Image processing (filtering, noise removal, histogram thresholding, etc.), object tracking, image transformation (affine transform, dewarping), keypoint detection/description, etc (and experience in using Computer vision Libraries)\\nStrong Knowledge in CNN, R-CNN, GAN, LSTM, GRU, Multimodal feature Learning, ASR, NLU, NLG, Copywriting and KG will be an added advantage\\nStrong logic/probability thinking ability and be good at analyzing, summarizing, describing, communicating, and solving problems\\nWorking experience in related online advertising products/creative platform is preferred\\nWorking experience in Computer Vision (CV) to enhance user artistic creativity while creating creatives/adverts is preferred\\nAbility to identify trends of advertising creative platform.\\n\\n\\nRoleData Analyst\\nIndustry TypeTelecom / ISP\\nFunctional AreaAnalytics & Business Intelligence\\nEmployment TypeFull Time, Permanent\\nRole CategoryAnalytics & BI\\nEducation\\nUG :Any Graduate in Any Specialization\\nPG :Any Postgraduate in Any Specialization\\nKey Skills\\nObject DetectionR-CNNCnnAlgorithmsLstmGANArtificial IntelligenceImage ProcessingData ScientistComputer VisionComputational DesignDeep Learning',\n",
       " 'Job description\\nDear Aspirant,\\n\\nGreetings from Globaledx\\n\\nRoles and Responsibilities\\n\\nExperience : 3+ Years\\nCTC : Best in Market\\nLocation : Pan India\\nContract Period : 3-6 Months\\nSkill : Python, NLP, Machine Learning Models, Data Scientist\\n\\nInterested, please share your updated resume to hr@globaledx.com\\nOr Call /Whatsapp at Sowjanya : 9505072408\\n\\nPlease share with your friends for more reach!\\nRoleIT/Technical Content Developer\\nIndustry TypeIT Services & Consulting\\nFunctional AreaIT Software - Application Programming, Maintenance\\nEmployment TypeFull Time, Permanent\\nRole CategoryOther\\nEducation\\nUG :Any Graduate in Any Specialization\\nKey Skills\\nPostgresqlDATA SCIENTISTMachine LearningScikit-LearnsqlpandasNLPoptimal codingRundeckmachine learning modelslogging frameworkshtmlNUMPYPython']"
      ]
     },
     "execution_count": 35,
     "metadata": {},
     "output_type": "execute_result"
    }
   ],
   "source": [
    "job_description"
   ]
  },
  {
   "cell_type": "code",
   "execution_count": 36,
   "metadata": {},
   "outputs": [
    {
     "data": {
      "text/html": [
       "<div>\n",
       "<style scoped>\n",
       "    .dataframe tbody tr th:only-of-type {\n",
       "        vertical-align: middle;\n",
       "    }\n",
       "\n",
       "    .dataframe tbody tr th {\n",
       "        vertical-align: top;\n",
       "    }\n",
       "\n",
       "    .dataframe thead th {\n",
       "        text-align: right;\n",
       "    }\n",
       "</style>\n",
       "<table border=\"1\" class=\"dataframe\">\n",
       "  <thead>\n",
       "    <tr style=\"text-align: right;\">\n",
       "      <th></th>\n",
       "      <th>Job-Title</th>\n",
       "      <th>Job_Location</th>\n",
       "      <th>Company_Name</th>\n",
       "      <th>full job-description</th>\n",
       "    </tr>\n",
       "  </thead>\n",
       "  <tbody>\n",
       "    <tr>\n",
       "      <th>0</th>\n",
       "      <td>Data Scientist / Data Analyst -Business Analyst</td>\n",
       "      <td>Mumbai, Hyderabad/Secunderabad, Pune, Gurgaon/Gurugram, Chennai, Bangalore/Bengaluru</td>\n",
       "      <td>Inflexion Analytix Private Limited</td>\n",
       "      <td>Job description\\nJob Role : Data Scientist/Data Analyst /Business Analyst\\n\\nLocation : Chennai/Bangalore/Hyderabad/Pune/Mumbai/Delhi\\n\\nGreetings from CAIA - Center for Artificial Intelligence &amp; Advanced Analytics\\n43% of companies experienced a high deficit of skilled resources with Advanced Analytical skills and AI implementing capabilities in year 2020. CAIA gives you a great opportunity to enter the world of future technologies and Innovations- Data Science, Analytics, AI, Data Visualization and Cloud Computing.\\n\\nWhile 2020 was a year like no other, we are living in an interesting times where data is reshaping the world, and businesses are rapidly adopting technology to gain an edge over others. Hence, there's a substantial increase in demand for technology professionals who can implement systems in data science, machine learning and AI in Tier 1 and Tier 2 organization's working closely with us.\\n\\nTo help you build a sustainable career we would like you to utilize data, software and Analytical approaches in Data Science and AI to up skill and get recruited into an organization appreciating your skilling journey.\\nApplications invited from all Freshers and experienced candidates (0-3 yrs) aspiring to make a career in Artificial Intelligence and Advanced Analytics and Data Science.\\nIf you wish to make a shift in your career or undergo a career transition, upskilling is essential since it allows you to learn more about the domain and acquire the required skills.\\n\\nCall to schedule interview Monday -Saturday from 10:00 am to 7Pm\\n\\nManigandan -+91 7299917200\\n\\nEmail : manigandan@centerforaia.com\\n\\nWhat is needed from you?\\n\\nFreshers who wish to start their career in Analytics and AI and professionals who wish to\\nupskill or change their domain to analytics and emerging technologies are free to apply.\\nAn Educational background in any one of the following- BE/B.Tech, ME/M Tech, MSc, BSc/MSc Maths and Statistics, B Com, BCA, BSc CS, BSC IT, MSC IT, MCA\\nSkills relating to Mathematics/Statistics.\\nNatural passion towards numbers, business, coding, Analytics and Artificial Intelligence, Machine Learning, visualization\\nGood verbal and written communication skills\\nAbility to understand domains in businesses across various sectors\\n\\n\\nSelection procedure includes\\n\\nAptitude Test &amp; Communication Exam - Online / Offline\\nSQL/Python test - Online / Offline\\n\\nCandidates who clears the above will have one-one discussion with our Career Guidance Manager for further evaluation and processing of your Resume.\\n\\n\\nAll the Shortlisted candidates will be eligible to continue the corporate training with CAIA\\nWhat you can expect from us?\\n\\nYou will get trained on the following modules for a period of 12-14 weeks:\\n\\nSQL &amp; PLSQL\\nData Wrangling using Python\\nData Visualization Using Power-BI\\nStatistics for Machine Learning\\nArtificial Intelligence, Data Interpretation\\nSupervised &amp; Unsupervised Learning,\\nNLP &amp; Deep Learning\\nCloud Data Lake\\nBusiness intelligence &amp; Data Visualization\\nSimulation Projects\\nExpected Outcome?\\n\\nAt the end of the Training you are expected to be well versed with the following:\\n\\nAnalysis of large and complex data sets from multiple sources\\nDevelopment and evaluation of data analytics models, algorithms and solutions\\nUnderstanding/implementation of ML algorithms, performance tuning and reporting\\nImplementation of algorithms to mine targeted data and the ability to convert data in to a business story\\nTranslation of business requirements into technical requirements; Data extraction, preparation and transformation\\nIdentification, development and implementation of statistical techniques and algorithms that address business challenges and adds value to the organization\\nRequirement Analysis and communication of findings in the form of a meaningful story with the stakeholders\\nFinding analytical solutions to abstract business issues.\\nApply objective analysis of facts before coming to a conclusion\\n\\nAbout CAIA - Inflexion Analytix Private Limited\\n\\nCenter for Artificial Intelligence and Advanced Analytics (Center for AIA) is the brainchild of experienced and visionary alumni of IIT Madras and Bombay.\\nDigital leaders - 5F World and Systech Solutions have joined hands to create a venture for architecting the future of society, workforce, governments and businesses. 5F World specializes in designing solutions around digital platforms and Systech Solutions has an expertise in architecting Artificial Intelligence and Advance Analytics solutions for Fortune 500 companies.\\nOur Website : http://www.centerforaia.com/\\n\\nhttps://inflexion-analytix-private-limited.business.site/?m=true\\n\\nCenter for Artificial Intelligence &amp; Advanced Analytics (CAIA) focuses on the following:\\n\\n1. Global Research on emerging trends, technologies and applications in AI and Advanced Analytics\\n2. Advanced Training programs for readying the future ready workforce\\n3. Solutions to herald the futuristic lifestyle and workspaces in the field of AI and Data Science.\\nRoleData Analyst\\nIndustry TypeBPO / Call Centre\\nFunctional AreaAnalytics &amp; Business Intelligence\\nEmployment TypeFull Time, Permanent\\nRole CategoryAnalytics &amp; BI\\nEducation\\nUG :Any Graduate in Any Specialization\\nKey Skills\\nBusiness IntelligenceArtificial IntelligenceBig DataITMachine LearningStatisticsDeep LearningAnalyticsBusiness AnalysisSQLData ScienceNLPCloud ComputingData VisualizationSoftwareData WarehousingPython</td>\n",
       "    </tr>\n",
       "    <tr>\n",
       "      <th>1</th>\n",
       "      <td>Data Scientist</td>\n",
       "      <td>Kolkata, Hyderabad/Secunderabad, Chennai, Bangalore/Bengaluru</td>\n",
       "      <td>Wipro Limited</td>\n",
       "      <td>Job description\\nRole: Data Scientist\\n\\nRoles and Responsibilities\\nSuitable candidates will be part of Wipro Digital-Intelligent Enterprise practice. The role entails leveraging Data Science and Machine Learning to solve typical problems within an organization and create IP that could be deployed in a productized mode. This will entail significant hands-on work on multiple Big Data Technologies, Data Analysis, Identifying data patterns, ML models, Insights generation. The role entails deployment in a customer context and managing customer expectations.\\n\\nTechnical Skills Required:\\nHands on with Python or R\\nAnalytics using industry leading BI tools and technologies\\nImplementation knowledge of supervised\\un-supervised machine learning algorithms\\nGood statistical analysis skills for data pre-processing and data wrangling\\nExperienced in using big data frameworks like Hadoop\\nKnowledge of business intelligence tools or reporting tools\\n\\nData Preparation for Modeling\\nMissing Data Imputation,Outlier Treatment\\nScaling, Normalization, Standardization\\nEncoding for Categorical Variables\\nOversampling\\Undersampling for reducing class imbalance\\n\\nExperience in building solutions using Model Library\\nFeature Selection\\nTree-based Ensemble Models\\nGradient\\Adaptive Boosted Trees\\nHyper-parameter tuning\\nBuilding Prediction mechanisms using methods like Logistic regression, voting classifier stacking etc\\n\\n\\n\\nRoleSoftware Developer\\nIndustry TypeIT Services &amp; Consulting\\nFunctional AreaIT Software - Application Programming, Maintenance\\nEmployment TypeFull Time, Permanent\\nRole CategoryProgramming &amp; Design\\nEducation\\nUG :B.Tech/B.E. in Any Specialization\\nKey Skills\\nData ScienceMachine LearningPython\\nLogistic RegressionData WranglingHadoopData AnalysisBig DataStatistical Analysis\\nSkills highlighted with ‘‘ are preferred keyskills</td>\n",
       "    </tr>\n",
       "    <tr>\n",
       "      <th>2</th>\n",
       "      <td>Big Data - Data Scientist</td>\n",
       "      <td>Kochi/Cochin, Indore, Hyderabad/Secunderabad, Pune, Ahmedabad, Bangalore/Bengaluru, Mumbai (All Areas)</td>\n",
       "      <td>Xoriant Solutions Pvt Ltd</td>\n",
       "      <td>-</td>\n",
       "    </tr>\n",
       "    <tr>\n",
       "      <th>3</th>\n",
       "      <td>Specialist I - Data Scientist</td>\n",
       "      <td>Bangalore/Bengaluru</td>\n",
       "      <td>Philips India Limited</td>\n",
       "      <td>Job description\\nResponsibilities and Key Result Areas\\nDesign and develop project prototypes and solutions.\\nParticipate in project estimation, planning and risk management activities\\nIs responsible for delivering input in the planning process to the project leader\\nEnsures that there is proper documentation for the developed solutions.\\nEnsure compliance to the Quality Management System and regulatory requirements\\nKey Technical Skills:\\n4 - 7 yrs years of experience in data science\\nDeveloped Proficient in algorithms on regression modelling (linear/logistic), supervised and unsupervised classification,\\ntree-based techniques (Decision trees /Random forest), neural nets, bagging, Pattern Mining and boosting techniques, etc.\\nProficient and hands on experience in developing models using concepts of Artificial Intelligence,\\nMachine Learning and Deep Learning related technologies (such as Keras, TensorFlow, pyTorch, Azure ML, AWS ML, Scikit, Jupyter, MatLab etc.)\\nExperience with containers like Docker is added advantage\\nExperience in Sql\\nWorking experience in agile/SAFe development methodologies\\nSoft Skill set:\\nFast learner. Ability to grasp key concepts quickly with minimal or no supervision\\nGo-Getter Attitude. Ability to take ownership of team goals and deliver it with quality and within required timeline\\nTeam Player attitude. Key characteristic of the individual who puts the team first before self.\\nAbility to think out of box: Ability to come up with bright ideas and always looking at the next big thing in technology\\nFlexible and willingness to stretch oneself when needed.\\nRoleSoftware Developer\\nIndustry TypeMedical Services / Hospital\\nFunctional AreaIT Software - Application Programming, Maintenance\\nEmployment TypeFull Time, Permanent\\nRole CategoryProgramming &amp; Design\\nEducation\\nUG :Any Graduate in Any Specialization\\nPG :Post Graduation Not Required\\nKey Skills\\nMiningdeep learningdata scienceArtificial IntelligenceMachine learningAgileHTMLRisk managementMATLABSQL</td>\n",
       "    </tr>\n",
       "    <tr>\n",
       "      <th>4</th>\n",
       "      <td>Lead Data Scientist</td>\n",
       "      <td>Bangalore/Bengaluru</td>\n",
       "      <td>Intel Technology India Pvt Ltd</td>\n",
       "      <td>Job description\\n\\n\\nWe are seeking an outstanding Lead Data Scientist in AI/ML who will help our team continue to grow and bring high value to Intel. In this role you should demonstrate excellent problem formulation/definition skills in addition to technical skills. The ideal candidate should be:\\n\\nA professional role model with deep and wide expertise in state-of-the-art AI/ML techniques, a passion for solving challenging data science problems and extensive hands-on experience.\\nBe detail-oriented and have an aptitude for solving unstructured problems. You should be excellent in coming up with different approaches to solve business problem using AI and evaluate the trade-off between them.\\nBe self-directed, take charge of opportunities with business impact and drive them to completion.\\nHave prior experience in guiding a team of data scientists, coaching and mentoring them.\\nHave deep technical expertise in feature-engineering of massive datasets, effective exploratory data analysis, and model building using AI/ML techniques.\\nBe a role model innovator by adapting new AI/ML modeling techniques and procedures.\\nHave deep expertise in creation and management of datasets.\\nHave excellent business and communication skills to be able to work with stakeholders like the business teams, engineering teams and partner teams and align them with respect to your focus area.\\nHave the ability to manage and execute an entire AI project from start to finish, including problem solving, data gathering and manipulation, predictive modeling, and project management skills.\\nBe a role-model in storytelling with data and articulating the AI problems in an understandable manner to senior leadership of the Business Units.\\n\\nYou will be a part of the large global AI/ML Research Scientist community and will have access to state-of-the-art training, tools, and methods of the domain.\\n\\n\\nCandidates need to hold at least a masters degree (or higher) in Computer Science/Machine Learning/AI/Data Science\\n8 years of relevant experience in building AI/ML models and in using Python (Scikit-learn, TensorFlow/Pytorch) and SQL (or equivalent).\\nExperience in using data analysis techniques and ML methods like classification, regression pattern finding, clustering, dimensionality reduction, anomaly detection etc.\\nExperience with Hadoop, Spark is an advantage\\nDeep Knowledge of classical AI algorithms and Deep Learning techniques is a must.\\nGreat analytical skills and demonstrated ability of independent and creative thinking.\\nHighly motivated strong team player with the ability to work both independently and collaboratively within a team.\\nHas strong analytical skills, including the abilities to scope out business problems to be solved, start from ambiguous problem statements, identify and access relevant data, make appropriate assumptions, perform insightful analysis and draw conclusions relevant to the business problem.\\nAbility to present information professionally and concisely with supporting data.\\nPrevious experience as a data scientist in semi-conductor industry or data intensive organizations is a plus.\\nExperience in creating powerful data driven visualizations to describe ML modeling results to stakeholders.\\nRoleTeam Lead/Technical Lead\\nIndustry TypeIT Services &amp; Consulting\\nFunctional AreaIT Software - Application Programming, Maintenance\\nEmployment TypeFull Time, Permanent\\nRole CategoryProgramming &amp; Design\\nEducation\\nUG :Any Graduate in Any Specialization\\nPG :Any Postgraduate in Any Specialization\\nKey Skills\\nComputer scienceData analysisFormulationArtificial IntelligenceMachine learningSignal processingPredictive modelingForecastingSQLPython</td>\n",
       "    </tr>\n",
       "    <tr>\n",
       "      <th>5</th>\n",
       "      <td>Data Scientist</td>\n",
       "      <td>Bangalore/Bengaluru</td>\n",
       "      <td>Oracle India Pvt. Ltd.</td>\n",
       "      <td>-</td>\n",
       "    </tr>\n",
       "    <tr>\n",
       "      <th>6</th>\n",
       "      <td>Data Scientist</td>\n",
       "      <td>Bangalore/Bengaluru</td>\n",
       "      <td>IBM India Pvt. Limited</td>\n",
       "      <td>-</td>\n",
       "    </tr>\n",
       "    <tr>\n",
       "      <th>7</th>\n",
       "      <td>SDE Lead Data Scientist-L3</td>\n",
       "      <td>Bangalore/Bengaluru</td>\n",
       "      <td>Huawei Technologies India Pvt Ltd</td>\n",
       "      <td>Job description\\nBusiness &amp; Team overview:\\nFounded in 1987, Huawei is a leading global provider of ICT (information and communications technology) infrastructure and smart devices. We are committed to bringing digital to every person, home and organization for a fully connected, intelligent world. We have nearly 194,000 employees, and we operate in more than 170 countries and regions, serving more than 3 billion people around the world.\\n\\nHuawei Technologies has three business directions: Carrier Business Group, which provides innovative and secure network equipment to telecom carriers, including the leading 5G mobile network.\\nEnterprise Business Group, which provides facilities and solutions to big and small companies, including IT facilities.\\nConsumer Business Groups, which provides devices to the customer, including mobile phones, PC, tablet, TV, audio, glasses, watches, locomotives, and headphones. And also provide solutions on mobile offices, smart homes, sports and health, audio-visual entertainment, and smart travel products.\\n\\nThis opportunity is belong to Huawei Consumer Business Group.\\n\\nDriven by the coordinated development of \"Chip-Device-Cloud\", consumer products such as smartphones are becoming increasingly intelligent and pervasive. The era of smart services is the future.\\n\\nHuawei Ads Services is dedicated to provide Huawei end-users with high-quality digital experiences, to build a business closed-loop system for Developers and Improve the ROI for the Advertisers\\n.\\nIn 2020 Q1, along with more than 650 million users and 1,400,000 registered developers worldwide, we have the following unique advantages:\\n1. With All-scenario intelligent solution, the Huawei devices become super entrance of traffic, including mobile phones, PC, tablet, TV, audio, glasses, watches, locomotives, and head phones\\n2. This team will be responsible for building a new Ad Serving Platform and have the opportunity to define the product for our Huawei end-users.\\n3. AI-Driven is the direction of Ads, Huawei is going to build a strong team in India to Innovate and deliver AI-driven Smart Ad Serving Platforms\\n\\nJob Title: Lead Data Scientist\\nWe are looking for a Lead data scientist who will help us discover the information hidden in vast amounts of Ad Campaign data, and help us to optimize the campaign to improve the advertiser ROI and improve the overall consumer experience. Your primary focus will be in applying data mining techniques, doing statistical analysis, and building high quality prediction systems using Deep learning algorithms integrated with our products. Some the key area you will be working on spend recommendation, floor price prediction, CTR/CVR prediction, market funnel analysis and perdition of lead to conversion, etc.\\n\\nResponsibility:\\nAnalyze the data, develop insights and identify the opportunity to utilize the data to predict various Advertisement key indicators like CTR, CVR, Inventory and Develop prediction and optimization algorithms for campaign, look alike modeling, etc for Huawei Ads.\\nTakeup key challenges in AI-driven Smart Ad Serving Platform and focus on research and developing leading AI algorithms and productionize for Huawei Ads.\\nTakeup initiative in identifying the SOTA and finding key gaps in AI algorithms and develop a world leading AI algorithms for optimizing real-time Ad Serving engine. Identify and optimize the core modules such as Traffic Prediction, Optimization, Ad Targeting/Re-targeting, Ad Performance Optimization, Audience insights, Attribution, Bidding, re-ranking, and Diagnostics. Support hundreds of billions of ad requests per day, with efficiently cache technology.\\nTo build and enhance Ad platform features and Prediction capabilities in Huawei Ads Platform\\nOptimized Cost Per Mille; Optimized Cost Per Action; Optimized Cost Per Click and Cost per Click. OCPM, OCPA, OCPC.\\n\\nRequirements:\\n- Strong hands-on experience in implementing and validating big data algorithms and models including Deep Learning models like Seq2Seq/ GRU/RNN/LSTM , Knowledge Graph, Massive Graph algorithms, etc.\\n- Programming experience with Python\\n- Able to validate existing models including Deep Learning models with large scale dataset and able to make changes to the models to achieve better performance\\n- AdServing domain Experience is an added advantage\\nRoleAnalytics Manager\\nIndustry TypeTelecom / ISP\\nFunctional AreaAnalytics &amp; Business Intelligence\\nEmployment TypeFull Time, Permanent\\nRole CategoryAnalytics &amp; BI\\nEducation\\nUG :Any Graduate in Any Specialization\\nPG :Any Postgraduate in Any Specialization\\nKey Skills\\nRnnAlgorithmsLstmArtificial IntelligenceData ScientistBig DataData MiningStatistical AnalysisDeep LearningPython</td>\n",
       "    </tr>\n",
       "    <tr>\n",
       "      <th>8</th>\n",
       "      <td>Computational Design Lead Data Scientist-L3</td>\n",
       "      <td>Bangalore/Bengaluru</td>\n",
       "      <td>Huawei Technologies India Pvt Ltd</td>\n",
       "      <td>Job description\\nBusiness &amp; Team overview:\\nFounded in 1987, Huawei is a leading global provider of ICT (information and communications technology) infrastructure and smart devices. We are committed to bringing digital to every person, home and organization for a fully connected, intelligent world. We have nearly 194,000 employees, and we operate in more than 170 countries and regions, serving more than 3 billion people around the world.\\n\\nHuawei Technologies has three business directions: Carrier Business Group, which provides innovative and secure network equipment to telecom carriers, including the leading 5G mobile network.\\nEnterprise Business Group, which provides facilities and solutions to big and small companies, including IT facilities.\\nConsumer Business Groups, which provides devices to the customer, including mobile phones, PC, tablet, TV, audio, glasses, watches, locomotives, and headphones. And also provide solutions on mobile offices, smart homes, sports and health, audio-visual entertainment, and smart travel products.\\n\\nThis opportunity is belong to Huawei Consumer Business Group.\\n\\nDriven by the coordinated development of \"Chip-Device-Cloud\", consumer products such as smartphones are becoming increasingly intelligent and pervasive. The era of smart services is the future.\\nHuawei Ads Services is dedicated to provide Huawei end-users with high-quality digital experiences, to build a business closed-loop system for Developers and Improve the ROI for the Advertisers\\n.\\nIn 2020 Q1, along with more than 650 million users and 1,400,000 registered developers worldwide, we have the following unique advantages:\\n1. With All-scenario intelligent solution, the Huawei devices become super entrance of traffic, including mobile phones, PC, tablet, TV, audio, glasses, watches, locomotives, and head phones\\n2. This team will be responsible for building a new Ad Serving Platform and have the opportunity to define the product for our Huawei end-users.\\n3. AI-Driven is the direction of Ads, Huawei is going to build a strong team in India to Innovate and deliver AI-driven Smart Ad Serving Platforms\\n\\n1. Job Title: Computational Design Lead Data Scientist\\n\\nResponsibility:\\nTake-up Key creative tools of the creative platform for Advertisers, research and develop breakthrough CNN based deep learning algorithms to solve the problem unique in the industry and productionize the algorithms, measure the ad creative performance and enhance the algorithm to ease the Ad Designer job.\\nDevelop the common AI platforms and frameworks to ease the experimentation of the Algorithms for creative Design.\\nTo build ability to understand the advertisers intent and provide creative assistance every step of creating all types of adverts\\nResponsible for intelligent identification of advertising creatives (pictures, videos) and related algorithms of content understanding.\\nResponsible for Image Synthesis, Intelligent Layout, Style Transfer, and other image processing, computing and visual processing, to improve the aesthetic level of advertising creativity.\\nResponsible for designing algorithms for suggesting how to intelligently crop and position an image for maximum effect, identify the optimal placement of text and copywriting.\\nResponsible for the algorithm and model of dynamic matching of advertising program creativity and dynamic creation of advertising content\\n\\nRequirements:\\nDeep knowledge of Computational Design\\nExperience on Intelligent composition, including image cropping, smart layout, the Gold Ratio composition, visual extension.\\nExperience computer vision models, including image/video recognition and content understanding.\\nExperience in algorithms such as image and video segmentation, separation, synthesis, and intelligent layout with engineering platform implementation capability.\\nStrong Knowledge Algorithms such as Image segmentation, object detection, Image processing (filtering, noise removal, histogram thresholding, etc.), object tracking, image transformation (affine transform, dewarping), keypoint detection/description, etc (and experience in using Computer vision Libraries)\\nStrong Knowledge in CNN, R-CNN, GAN, LSTM, GRU, Multimodal feature Learning, ASR, NLU, NLG, Copywriting and KG will be an added advantage\\nStrong logic/probability thinking ability and be good at analyzing, summarizing, describing, communicating, and solving problems\\nWorking experience in related online advertising products/creative platform is preferred\\nWorking experience in Computer Vision (CV) to enhance user artistic creativity while creating creatives/adverts is preferred\\nAbility to identify trends of advertising creative platform.\\n\\n\\nRoleData Analyst\\nIndustry TypeTelecom / ISP\\nFunctional AreaAnalytics &amp; Business Intelligence\\nEmployment TypeFull Time, Permanent\\nRole CategoryAnalytics &amp; BI\\nEducation\\nUG :Any Graduate in Any Specialization\\nPG :Any Postgraduate in Any Specialization\\nKey Skills\\nObject DetectionR-CNNCnnAlgorithmsLstmGANArtificial IntelligenceImage ProcessingData ScientistComputer VisionComputational DesignDeep Learning</td>\n",
       "    </tr>\n",
       "    <tr>\n",
       "      <th>9</th>\n",
       "      <td>Hiring For DATA Scientist - ON Contract Basis (3-6 Months)</td>\n",
       "      <td>Hyderabad/Secunderabad, Bangalore/Bengaluru, Mumbai (All Areas)</td>\n",
       "      <td>GlobalEdx Learning and Technology Solution Pvt Ltd</td>\n",
       "      <td>Job description\\nDear Aspirant,\\n\\nGreetings from Globaledx\\n\\nRoles and Responsibilities\\n\\nExperience : 3+ Years\\nCTC : Best in Market\\nLocation : Pan India\\nContract Period : 3-6 Months\\nSkill : Python, NLP, Machine Learning Models, Data Scientist\\n\\nInterested, please share your updated resume to hr@globaledx.com\\nOr Call /Whatsapp at Sowjanya : 9505072408\\n\\nPlease share with your friends for more reach!\\nRoleIT/Technical Content Developer\\nIndustry TypeIT Services &amp; Consulting\\nFunctional AreaIT Software - Application Programming, Maintenance\\nEmployment TypeFull Time, Permanent\\nRole CategoryOther\\nEducation\\nUG :Any Graduate in Any Specialization\\nKey Skills\\nPostgresqlDATA SCIENTISTMachine LearningScikit-LearnsqlpandasNLPoptimal codingRundeckmachine learning modelslogging frameworkshtmlNUMPYPython</td>\n",
       "    </tr>\n",
       "  </tbody>\n",
       "</table>\n",
       "</div>"
      ],
      "text/plain": [
       "                                                    Job-Title  \\\n",
       "0             Data Scientist / Data Analyst -Business Analyst   \n",
       "1                                              Data Scientist   \n",
       "2                                   Big Data - Data Scientist   \n",
       "3                               Specialist I - Data Scientist   \n",
       "4                                         Lead Data Scientist   \n",
       "5                                              Data Scientist   \n",
       "6                                              Data Scientist   \n",
       "7                                  SDE Lead Data Scientist-L3   \n",
       "8                 Computational Design Lead Data Scientist-L3   \n",
       "9  Hiring For DATA Scientist - ON Contract Basis (3-6 Months)   \n",
       "\n",
       "                                                                                             Job_Location  \\\n",
       "0                    Mumbai, Hyderabad/Secunderabad, Pune, Gurgaon/Gurugram, Chennai, Bangalore/Bengaluru   \n",
       "1                                           Kolkata, Hyderabad/Secunderabad, Chennai, Bangalore/Bengaluru   \n",
       "2  Kochi/Cochin, Indore, Hyderabad/Secunderabad, Pune, Ahmedabad, Bangalore/Bengaluru, Mumbai (All Areas)   \n",
       "3                                                                                     Bangalore/Bengaluru   \n",
       "4                                                                                     Bangalore/Bengaluru   \n",
       "5                                                                                     Bangalore/Bengaluru   \n",
       "6                                                                                     Bangalore/Bengaluru   \n",
       "7                                                                                     Bangalore/Bengaluru   \n",
       "8                                                                                     Bangalore/Bengaluru   \n",
       "9                                         Hyderabad/Secunderabad, Bangalore/Bengaluru, Mumbai (All Areas)   \n",
       "\n",
       "                                         Company_Name  \\\n",
       "0                  Inflexion Analytix Private Limited   \n",
       "1                                       Wipro Limited   \n",
       "2                           Xoriant Solutions Pvt Ltd   \n",
       "3                               Philips India Limited   \n",
       "4                      Intel Technology India Pvt Ltd   \n",
       "5                              Oracle India Pvt. Ltd.   \n",
       "6                              IBM India Pvt. Limited   \n",
       "7                   Huawei Technologies India Pvt Ltd   \n",
       "8                   Huawei Technologies India Pvt Ltd   \n",
       "9  GlobalEdx Learning and Technology Solution Pvt Ltd   \n",
       "\n",
       "                                                                                                                                                                                                                                                                                                                                                                                                                                                                                                                                                                                                                                                                                                                                                                                                                                                                                                                                                                                                                                                                                                                                                                                                                                                                                                                                                                                                                                                                                                                                                                                                                                                                                                                                                                                                                                                                                                                                                                                                                                                                                                                                                                                                                                                                                                                                                                                                                                                                                                                                                                                                                                                                                                                                                                                                                                                                                                                                                                                                                                                                                                                                                                                                                                                                                                                                                                                                                                                                                                                                                                                                                                                                                                                                                                                                                                                                                                                                                                                                                                                                                                                                                                                                                                                                                                                                                                                                                                                                                                                                                                                                                                                                                                                                                                                                                                                                                                                                                                                                                                                                                                                                                                                                                                                                                                                                                                                                                                                                                                                                                                                                                                                                                               full job-description  \n",
       "0  Job description\\nJob Role : Data Scientist/Data Analyst /Business Analyst\\n\\nLocation : Chennai/Bangalore/Hyderabad/Pune/Mumbai/Delhi\\n\\nGreetings from CAIA - Center for Artificial Intelligence & Advanced Analytics\\n43% of companies experienced a high deficit of skilled resources with Advanced Analytical skills and AI implementing capabilities in year 2020. CAIA gives you a great opportunity to enter the world of future technologies and Innovations- Data Science, Analytics, AI, Data Visualization and Cloud Computing.\\n\\nWhile 2020 was a year like no other, we are living in an interesting times where data is reshaping the world, and businesses are rapidly adopting technology to gain an edge over others. Hence, there's a substantial increase in demand for technology professionals who can implement systems in data science, machine learning and AI in Tier 1 and Tier 2 organization's working closely with us.\\n\\nTo help you build a sustainable career we would like you to utilize data, software and Analytical approaches in Data Science and AI to up skill and get recruited into an organization appreciating your skilling journey.\\nApplications invited from all Freshers and experienced candidates (0-3 yrs) aspiring to make a career in Artificial Intelligence and Advanced Analytics and Data Science.\\nIf you wish to make a shift in your career or undergo a career transition, upskilling is essential since it allows you to learn more about the domain and acquire the required skills.\\n\\nCall to schedule interview Monday -Saturday from 10:00 am to 7Pm\\n\\nManigandan -+91 7299917200\\n\\nEmail : manigandan@centerforaia.com\\n\\nWhat is needed from you?\\n\\nFreshers who wish to start their career in Analytics and AI and professionals who wish to\\nupskill or change their domain to analytics and emerging technologies are free to apply.\\nAn Educational background in any one of the following- BE/B.Tech, ME/M Tech, MSc, BSc/MSc Maths and Statistics, B Com, BCA, BSc CS, BSC IT, MSC IT, MCA\\nSkills relating to Mathematics/Statistics.\\nNatural passion towards numbers, business, coding, Analytics and Artificial Intelligence, Machine Learning, visualization\\nGood verbal and written communication skills\\nAbility to understand domains in businesses across various sectors\\n\\n\\nSelection procedure includes\\n\\nAptitude Test & Communication Exam - Online / Offline\\nSQL/Python test - Online / Offline\\n\\nCandidates who clears the above will have one-one discussion with our Career Guidance Manager for further evaluation and processing of your Resume.\\n\\n\\nAll the Shortlisted candidates will be eligible to continue the corporate training with CAIA\\nWhat you can expect from us?\\n\\nYou will get trained on the following modules for a period of 12-14 weeks:\\n\\nSQL & PLSQL\\nData Wrangling using Python\\nData Visualization Using Power-BI\\nStatistics for Machine Learning\\nArtificial Intelligence, Data Interpretation\\nSupervised & Unsupervised Learning,\\nNLP & Deep Learning\\nCloud Data Lake\\nBusiness intelligence & Data Visualization\\nSimulation Projects\\nExpected Outcome?\\n\\nAt the end of the Training you are expected to be well versed with the following:\\n\\nAnalysis of large and complex data sets from multiple sources\\nDevelopment and evaluation of data analytics models, algorithms and solutions\\nUnderstanding/implementation of ML algorithms, performance tuning and reporting\\nImplementation of algorithms to mine targeted data and the ability to convert data in to a business story\\nTranslation of business requirements into technical requirements; Data extraction, preparation and transformation\\nIdentification, development and implementation of statistical techniques and algorithms that address business challenges and adds value to the organization\\nRequirement Analysis and communication of findings in the form of a meaningful story with the stakeholders\\nFinding analytical solutions to abstract business issues.\\nApply objective analysis of facts before coming to a conclusion\\n\\nAbout CAIA - Inflexion Analytix Private Limited\\n\\nCenter for Artificial Intelligence and Advanced Analytics (Center for AIA) is the brainchild of experienced and visionary alumni of IIT Madras and Bombay.\\nDigital leaders - 5F World and Systech Solutions have joined hands to create a venture for architecting the future of society, workforce, governments and businesses. 5F World specializes in designing solutions around digital platforms and Systech Solutions has an expertise in architecting Artificial Intelligence and Advance Analytics solutions for Fortune 500 companies.\\nOur Website : http://www.centerforaia.com/\\n\\nhttps://inflexion-analytix-private-limited.business.site/?m=true\\n\\nCenter for Artificial Intelligence & Advanced Analytics (CAIA) focuses on the following:\\n\\n1. Global Research on emerging trends, technologies and applications in AI and Advanced Analytics\\n2. Advanced Training programs for readying the future ready workforce\\n3. Solutions to herald the futuristic lifestyle and workspaces in the field of AI and Data Science.\\nRoleData Analyst\\nIndustry TypeBPO / Call Centre\\nFunctional AreaAnalytics & Business Intelligence\\nEmployment TypeFull Time, Permanent\\nRole CategoryAnalytics & BI\\nEducation\\nUG :Any Graduate in Any Specialization\\nKey Skills\\nBusiness IntelligenceArtificial IntelligenceBig DataITMachine LearningStatisticsDeep LearningAnalyticsBusiness AnalysisSQLData ScienceNLPCloud ComputingData VisualizationSoftwareData WarehousingPython  \n",
       "1                                                                                                                                                                                                                                                                                                                                                                                                                                                                                                                                                                                                                                                                                                                                                                                                                                                                                                                                                                                                                                                                                                                                                                                                                                                                                                                                                                                                                                                                                                                                                                                                                                                                                                                                                                                                                                                                                                                                                                                                                                                                                                                                                                                                                                                                                                                                                                                                                                                                                                                                                                                                                                                                                                                                                                                                                                                                                                                                                                                                                                                                                                                                                                                                                                                                                                                                                                                                                                                                                                                                                                                                                                                                                                                                                                          Job description\\nRole: Data Scientist\\n\\nRoles and Responsibilities\\nSuitable candidates will be part of Wipro Digital-Intelligent Enterprise practice. The role entails leveraging Data Science and Machine Learning to solve typical problems within an organization and create IP that could be deployed in a productized mode. This will entail significant hands-on work on multiple Big Data Technologies, Data Analysis, Identifying data patterns, ML models, Insights generation. The role entails deployment in a customer context and managing customer expectations.\\n\\nTechnical Skills Required:\\nHands on with Python or R\\nAnalytics using industry leading BI tools and technologies\\nImplementation knowledge of supervised\\un-supervised machine learning algorithms\\nGood statistical analysis skills for data pre-processing and data wrangling\\nExperienced in using big data frameworks like Hadoop\\nKnowledge of business intelligence tools or reporting tools\\n\\nData Preparation for Modeling\\nMissing Data Imputation,Outlier Treatment\\nScaling, Normalization, Standardization\\nEncoding for Categorical Variables\\nOversampling\\Undersampling for reducing class imbalance\\n\\nExperience in building solutions using Model Library\\nFeature Selection\\nTree-based Ensemble Models\\nGradient\\Adaptive Boosted Trees\\nHyper-parameter tuning\\nBuilding Prediction mechanisms using methods like Logistic regression, voting classifier stacking etc\\n\\n\\n\\nRoleSoftware Developer\\nIndustry TypeIT Services & Consulting\\nFunctional AreaIT Software - Application Programming, Maintenance\\nEmployment TypeFull Time, Permanent\\nRole CategoryProgramming & Design\\nEducation\\nUG :B.Tech/B.E. in Any Specialization\\nKey Skills\\nData ScienceMachine LearningPython\\nLogistic RegressionData WranglingHadoopData AnalysisBig DataStatistical Analysis\\nSkills highlighted with ‘‘ are preferred keyskills  \n",
       "2                                                                                                                                                                                                                                                                                                                                                                                                                                                                                                                                                                                                                                                                                                                                                                                                                                                                                                                                                                                                                                                                                                                                                                                                                                                                                                                                                                                                                                                                                                                                                                                                                                                                                                                                                                                                                                                                                                                                                                                                                                                                                                                                                                                                                                                                                                                                                                                                                                                                                                                                                                                                                                                                                                                                                                                                                                                                                                                                                                                                                                                                                                                                                                                                                                                                                                                                                                                                                                                                                                                                                                                                                                                                                                                                                                                                                                                                                                                                                                                                                                                                                                                                                                                                                                                                                                                                                                                                                                                                                                                                                                                                                                                                                                                                                                                                                                                                                                                                                                                                                                                                                                                                                                                                                                                                                                                                                                                                                                                                                                                                                                                                                                                                                                                 -  \n",
       "3                                                                                                                                                                                                                                                                                                                                                                                                                                                                                                                                                                                                                                                                                                                                                                                                                                                                                                                                                                                                                                                                                                                                                                                                                                                                                                                                                                                                                                                                                                                                                                                                                                                                                                                                                                                                                                                                                                                                                                                                                                                                                                                                                                                                                                                                                                                                                                                                                                                                                                                                                                                                                                                                                                                                                                                                                                                                                                                                                                                                                                                                                                                                                                                                                                                                                                                                                                                                                                                                                                                                                                                                               Job description\\nResponsibilities and Key Result Areas\\nDesign and develop project prototypes and solutions.\\nParticipate in project estimation, planning and risk management activities\\nIs responsible for delivering input in the planning process to the project leader\\nEnsures that there is proper documentation for the developed solutions.\\nEnsure compliance to the Quality Management System and regulatory requirements\\nKey Technical Skills:\\n4 - 7 yrs years of experience in data science\\nDeveloped Proficient in algorithms on regression modelling (linear/logistic), supervised and unsupervised classification,\\ntree-based techniques (Decision trees /Random forest), neural nets, bagging, Pattern Mining and boosting techniques, etc.\\nProficient and hands on experience in developing models using concepts of Artificial Intelligence,\\nMachine Learning and Deep Learning related technologies (such as Keras, TensorFlow, pyTorch, Azure ML, AWS ML, Scikit, Jupyter, MatLab etc.)\\nExperience with containers like Docker is added advantage\\nExperience in Sql\\nWorking experience in agile/SAFe development methodologies\\nSoft Skill set:\\nFast learner. Ability to grasp key concepts quickly with minimal or no supervision\\nGo-Getter Attitude. Ability to take ownership of team goals and deliver it with quality and within required timeline\\nTeam Player attitude. Key characteristic of the individual who puts the team first before self.\\nAbility to think out of box: Ability to come up with bright ideas and always looking at the next big thing in technology\\nFlexible and willingness to stretch oneself when needed.\\nRoleSoftware Developer\\nIndustry TypeMedical Services / Hospital\\nFunctional AreaIT Software - Application Programming, Maintenance\\nEmployment TypeFull Time, Permanent\\nRole CategoryProgramming & Design\\nEducation\\nUG :Any Graduate in Any Specialization\\nPG :Post Graduation Not Required\\nKey Skills\\nMiningdeep learningdata scienceArtificial IntelligenceMachine learningAgileHTMLRisk managementMATLABSQL  \n",
       "4                                                                                                                                                                                                                                                                                                                                                                                                                                                                                                                                                                                                                                                                                                                                                                                                                                                                                                                                                                                                                                                                                                                                                                                                                                                                                                                                                                                                                                                                                                                                                                                                                                                                                                                                                                                                                                                                 Job description\\n\\n\\nWe are seeking an outstanding Lead Data Scientist in AI/ML who will help our team continue to grow and bring high value to Intel. In this role you should demonstrate excellent problem formulation/definition skills in addition to technical skills. The ideal candidate should be:\\n\\nA professional role model with deep and wide expertise in state-of-the-art AI/ML techniques, a passion for solving challenging data science problems and extensive hands-on experience.\\nBe detail-oriented and have an aptitude for solving unstructured problems. You should be excellent in coming up with different approaches to solve business problem using AI and evaluate the trade-off between them.\\nBe self-directed, take charge of opportunities with business impact and drive them to completion.\\nHave prior experience in guiding a team of data scientists, coaching and mentoring them.\\nHave deep technical expertise in feature-engineering of massive datasets, effective exploratory data analysis, and model building using AI/ML techniques.\\nBe a role model innovator by adapting new AI/ML modeling techniques and procedures.\\nHave deep expertise in creation and management of datasets.\\nHave excellent business and communication skills to be able to work with stakeholders like the business teams, engineering teams and partner teams and align them with respect to your focus area.\\nHave the ability to manage and execute an entire AI project from start to finish, including problem solving, data gathering and manipulation, predictive modeling, and project management skills.\\nBe a role-model in storytelling with data and articulating the AI problems in an understandable manner to senior leadership of the Business Units.\\n\\nYou will be a part of the large global AI/ML Research Scientist community and will have access to state-of-the-art training, tools, and methods of the domain.\\n\\n\\nCandidates need to hold at least a masters degree (or higher) in Computer Science/Machine Learning/AI/Data Science\\n8 years of relevant experience in building AI/ML models and in using Python (Scikit-learn, TensorFlow/Pytorch) and SQL (or equivalent).\\nExperience in using data analysis techniques and ML methods like classification, regression pattern finding, clustering, dimensionality reduction, anomaly detection etc.\\nExperience with Hadoop, Spark is an advantage\\nDeep Knowledge of classical AI algorithms and Deep Learning techniques is a must.\\nGreat analytical skills and demonstrated ability of independent and creative thinking.\\nHighly motivated strong team player with the ability to work both independently and collaboratively within a team.\\nHas strong analytical skills, including the abilities to scope out business problems to be solved, start from ambiguous problem statements, identify and access relevant data, make appropriate assumptions, perform insightful analysis and draw conclusions relevant to the business problem.\\nAbility to present information professionally and concisely with supporting data.\\nPrevious experience as a data scientist in semi-conductor industry or data intensive organizations is a plus.\\nExperience in creating powerful data driven visualizations to describe ML modeling results to stakeholders.\\nRoleTeam Lead/Technical Lead\\nIndustry TypeIT Services & Consulting\\nFunctional AreaIT Software - Application Programming, Maintenance\\nEmployment TypeFull Time, Permanent\\nRole CategoryProgramming & Design\\nEducation\\nUG :Any Graduate in Any Specialization\\nPG :Any Postgraduate in Any Specialization\\nKey Skills\\nComputer scienceData analysisFormulationArtificial IntelligenceMachine learningSignal processingPredictive modelingForecastingSQLPython  \n",
       "5                                                                                                                                                                                                                                                                                                                                                                                                                                                                                                                                                                                                                                                                                                                                                                                                                                                                                                                                                                                                                                                                                                                                                                                                                                                                                                                                                                                                                                                                                                                                                                                                                                                                                                                                                                                                                                                                                                                                                                                                                                                                                                                                                                                                                                                                                                                                                                                                                                                                                                                                                                                                                                                                                                                                                                                                                                                                                                                                                                                                                                                                                                                                                                                                                                                                                                                                                                                                                                                                                                                                                                                                                                                                                                                                                                                                                                                                                                                                                                                                                                                                                                                                                                                                                                                                                                                                                                                                                                                                                                                                                                                                                                                                                                                                                                                                                                                                                                                                                                                                                                                                                                                                                                                                                                                                                                                                                                                                                                                                                                                                                                                                                                                                                                                 -  \n",
       "6                                                                                                                                                                                                                                                                                                                                                                                                                                                                                                                                                                                                                                                                                                                                                                                                                                                                                                                                                                                                                                                                                                                                                                                                                                                                                                                                                                                                                                                                                                                                                                                                                                                                                                                                                                                                                                                                                                                                                                                                                                                                                                                                                                                                                                                                                                                                                                                                                                                                                                                                                                                                                                                                                                                                                                                                                                                                                                                                                                                                                                                                                                                                                                                                                                                                                                                                                                                                                                                                                                                                                                                                                                                                                                                                                                                                                                                                                                                                                                                                                                                                                                                                                                                                                                                                                                                                                                                                                                                                                                                                                                                                                                                                                                                                                                                                                                                                                                                                                                                                                                                                                                                                                                                                                                                                                                                                                                                                                                                                                                                                                                                                                                                                                                                 -  \n",
       "7                                                                                                                                                                                                                                                                                                                                                                                                                                                                                                                                                                                                                                                                                                                                                                   Job description\\nBusiness & Team overview:\\nFounded in 1987, Huawei is a leading global provider of ICT (information and communications technology) infrastructure and smart devices. We are committed to bringing digital to every person, home and organization for a fully connected, intelligent world. We have nearly 194,000 employees, and we operate in more than 170 countries and regions, serving more than 3 billion people around the world.\\n\\nHuawei Technologies has three business directions: Carrier Business Group, which provides innovative and secure network equipment to telecom carriers, including the leading 5G mobile network.\\nEnterprise Business Group, which provides facilities and solutions to big and small companies, including IT facilities.\\nConsumer Business Groups, which provides devices to the customer, including mobile phones, PC, tablet, TV, audio, glasses, watches, locomotives, and headphones. And also provide solutions on mobile offices, smart homes, sports and health, audio-visual entertainment, and smart travel products.\\n\\nThis opportunity is belong to Huawei Consumer Business Group.\\n\\nDriven by the coordinated development of \"Chip-Device-Cloud\", consumer products such as smartphones are becoming increasingly intelligent and pervasive. The era of smart services is the future.\\n\\nHuawei Ads Services is dedicated to provide Huawei end-users with high-quality digital experiences, to build a business closed-loop system for Developers and Improve the ROI for the Advertisers\\n.\\nIn 2020 Q1, along with more than 650 million users and 1,400,000 registered developers worldwide, we have the following unique advantages:\\n1. With All-scenario intelligent solution, the Huawei devices become super entrance of traffic, including mobile phones, PC, tablet, TV, audio, glasses, watches, locomotives, and head phones\\n2. This team will be responsible for building a new Ad Serving Platform and have the opportunity to define the product for our Huawei end-users.\\n3. AI-Driven is the direction of Ads, Huawei is going to build a strong team in India to Innovate and deliver AI-driven Smart Ad Serving Platforms\\n\\nJob Title: Lead Data Scientist\\nWe are looking for a Lead data scientist who will help us discover the information hidden in vast amounts of Ad Campaign data, and help us to optimize the campaign to improve the advertiser ROI and improve the overall consumer experience. Your primary focus will be in applying data mining techniques, doing statistical analysis, and building high quality prediction systems using Deep learning algorithms integrated with our products. Some the key area you will be working on spend recommendation, floor price prediction, CTR/CVR prediction, market funnel analysis and perdition of lead to conversion, etc.\\n\\nResponsibility:\\nAnalyze the data, develop insights and identify the opportunity to utilize the data to predict various Advertisement key indicators like CTR, CVR, Inventory and Develop prediction and optimization algorithms for campaign, look alike modeling, etc for Huawei Ads.\\nTakeup key challenges in AI-driven Smart Ad Serving Platform and focus on research and developing leading AI algorithms and productionize for Huawei Ads.\\nTakeup initiative in identifying the SOTA and finding key gaps in AI algorithms and develop a world leading AI algorithms for optimizing real-time Ad Serving engine. Identify and optimize the core modules such as Traffic Prediction, Optimization, Ad Targeting/Re-targeting, Ad Performance Optimization, Audience insights, Attribution, Bidding, re-ranking, and Diagnostics. Support hundreds of billions of ad requests per day, with efficiently cache technology.\\nTo build and enhance Ad platform features and Prediction capabilities in Huawei Ads Platform\\nOptimized Cost Per Mille; Optimized Cost Per Action; Optimized Cost Per Click and Cost per Click. OCPM, OCPA, OCPC.\\n\\nRequirements:\\n- Strong hands-on experience in implementing and validating big data algorithms and models including Deep Learning models like Seq2Seq/ GRU/RNN/LSTM , Knowledge Graph, Massive Graph algorithms, etc.\\n- Programming experience with Python\\n- Able to validate existing models including Deep Learning models with large scale dataset and able to make changes to the models to achieve better performance\\n- AdServing domain Experience is an added advantage\\nRoleAnalytics Manager\\nIndustry TypeTelecom / ISP\\nFunctional AreaAnalytics & Business Intelligence\\nEmployment TypeFull Time, Permanent\\nRole CategoryAnalytics & BI\\nEducation\\nUG :Any Graduate in Any Specialization\\nPG :Any Postgraduate in Any Specialization\\nKey Skills\\nRnnAlgorithmsLstmArtificial IntelligenceData ScientistBig DataData MiningStatistical AnalysisDeep LearningPython  \n",
       "8                                                                                                                                                                                                                                                                                                                                                                             Job description\\nBusiness & Team overview:\\nFounded in 1987, Huawei is a leading global provider of ICT (information and communications technology) infrastructure and smart devices. We are committed to bringing digital to every person, home and organization for a fully connected, intelligent world. We have nearly 194,000 employees, and we operate in more than 170 countries and regions, serving more than 3 billion people around the world.\\n\\nHuawei Technologies has three business directions: Carrier Business Group, which provides innovative and secure network equipment to telecom carriers, including the leading 5G mobile network.\\nEnterprise Business Group, which provides facilities and solutions to big and small companies, including IT facilities.\\nConsumer Business Groups, which provides devices to the customer, including mobile phones, PC, tablet, TV, audio, glasses, watches, locomotives, and headphones. And also provide solutions on mobile offices, smart homes, sports and health, audio-visual entertainment, and smart travel products.\\n\\nThis opportunity is belong to Huawei Consumer Business Group.\\n\\nDriven by the coordinated development of \"Chip-Device-Cloud\", consumer products such as smartphones are becoming increasingly intelligent and pervasive. The era of smart services is the future.\\nHuawei Ads Services is dedicated to provide Huawei end-users with high-quality digital experiences, to build a business closed-loop system for Developers and Improve the ROI for the Advertisers\\n.\\nIn 2020 Q1, along with more than 650 million users and 1,400,000 registered developers worldwide, we have the following unique advantages:\\n1. With All-scenario intelligent solution, the Huawei devices become super entrance of traffic, including mobile phones, PC, tablet, TV, audio, glasses, watches, locomotives, and head phones\\n2. This team will be responsible for building a new Ad Serving Platform and have the opportunity to define the product for our Huawei end-users.\\n3. AI-Driven is the direction of Ads, Huawei is going to build a strong team in India to Innovate and deliver AI-driven Smart Ad Serving Platforms\\n\\n1. Job Title: Computational Design Lead Data Scientist\\n\\nResponsibility:\\nTake-up Key creative tools of the creative platform for Advertisers, research and develop breakthrough CNN based deep learning algorithms to solve the problem unique in the industry and productionize the algorithms, measure the ad creative performance and enhance the algorithm to ease the Ad Designer job.\\nDevelop the common AI platforms and frameworks to ease the experimentation of the Algorithms for creative Design.\\nTo build ability to understand the advertisers intent and provide creative assistance every step of creating all types of adverts\\nResponsible for intelligent identification of advertising creatives (pictures, videos) and related algorithms of content understanding.\\nResponsible for Image Synthesis, Intelligent Layout, Style Transfer, and other image processing, computing and visual processing, to improve the aesthetic level of advertising creativity.\\nResponsible for designing algorithms for suggesting how to intelligently crop and position an image for maximum effect, identify the optimal placement of text and copywriting.\\nResponsible for the algorithm and model of dynamic matching of advertising program creativity and dynamic creation of advertising content\\n\\nRequirements:\\nDeep knowledge of Computational Design\\nExperience on Intelligent composition, including image cropping, smart layout, the Gold Ratio composition, visual extension.\\nExperience computer vision models, including image/video recognition and content understanding.\\nExperience in algorithms such as image and video segmentation, separation, synthesis, and intelligent layout with engineering platform implementation capability.\\nStrong Knowledge Algorithms such as Image segmentation, object detection, Image processing (filtering, noise removal, histogram thresholding, etc.), object tracking, image transformation (affine transform, dewarping), keypoint detection/description, etc (and experience in using Computer vision Libraries)\\nStrong Knowledge in CNN, R-CNN, GAN, LSTM, GRU, Multimodal feature Learning, ASR, NLU, NLG, Copywriting and KG will be an added advantage\\nStrong logic/probability thinking ability and be good at analyzing, summarizing, describing, communicating, and solving problems\\nWorking experience in related online advertising products/creative platform is preferred\\nWorking experience in Computer Vision (CV) to enhance user artistic creativity while creating creatives/adverts is preferred\\nAbility to identify trends of advertising creative platform.\\n\\n\\nRoleData Analyst\\nIndustry TypeTelecom / ISP\\nFunctional AreaAnalytics & Business Intelligence\\nEmployment TypeFull Time, Permanent\\nRole CategoryAnalytics & BI\\nEducation\\nUG :Any Graduate in Any Specialization\\nPG :Any Postgraduate in Any Specialization\\nKey Skills\\nObject DetectionR-CNNCnnAlgorithmsLstmGANArtificial IntelligenceImage ProcessingData ScientistComputer VisionComputational DesignDeep Learning  \n",
       "9                                                                                                                                                                                                                                                                                                                                                                                                                                                                                                                                                                                                                                                                                                                                                                                                                                                                                                                                                                                                                                                                                                                                                                                                                                                                                                                                                                                                                                                                                                                                                                                                                                                                                                                                                                                                                                                                                                                                                                                                                                                                                                                                                                                                                                                                                                                                                                                                                                                                                                                                                                                                                                                                                                                                                                                                                                                                                                                                                                                                                                                                                                                                                                                                                                                                                                                                                                                                                                                                                                                                                                                                                                                                                                                                                                                                                                                                                                                                                                                                                                                                                                                                                                                                                                                                                                                                                                                                                                                                                                                                                                                                                                                                                                                                                                                                                                                                 Job description\\nDear Aspirant,\\n\\nGreetings from Globaledx\\n\\nRoles and Responsibilities\\n\\nExperience : 3+ Years\\nCTC : Best in Market\\nLocation : Pan India\\nContract Period : 3-6 Months\\nSkill : Python, NLP, Machine Learning Models, Data Scientist\\n\\nInterested, please share your updated resume to hr@globaledx.com\\nOr Call /Whatsapp at Sowjanya : 9505072408\\n\\nPlease share with your friends for more reach!\\nRoleIT/Technical Content Developer\\nIndustry TypeIT Services & Consulting\\nFunctional AreaIT Software - Application Programming, Maintenance\\nEmployment TypeFull Time, Permanent\\nRole CategoryOther\\nEducation\\nUG :Any Graduate in Any Specialization\\nKey Skills\\nPostgresqlDATA SCIENTISTMachine LearningScikit-LearnsqlpandasNLPoptimal codingRundeckmachine learning modelslogging frameworkshtmlNUMPYPython  "
      ]
     },
     "execution_count": 36,
     "metadata": {},
     "output_type": "execute_result"
    }
   ],
   "source": [
    "pd.DataFrame({\"Job-Title\":job_titles,\"Job_Location\":location_list,\"Company_Name\":company_names,\"full job-description\":job_description})"
   ]
  },
  {
   "cell_type": "code",
   "execution_count": 13,
   "metadata": {},
   "outputs": [],
   "source": [
    "driver.close()"
   ]
  },
  {
   "cell_type": "code",
   "execution_count": null,
   "metadata": {},
   "outputs": [],
   "source": []
  },
  {
   "cell_type": "markdown",
   "metadata": {},
   "source": [
    "# Q3: In this question you have to scrape data using the filters available on the\n",
    "webpage as shown below:\n",
    "\n",
    "You have to use the location and salary filter.\n",
    "\n",
    "You have to scrape data for “Data Scientist” designation for first 10 job results.\n",
    "\n",
    "You have to scrape the job-title, job-location, company_name,\n",
    "experience_required.\n",
    "\n",
    "The location filter to be used is “Delhi/NCR”\n",
    "\n",
    "The salary filter to be used is “3-6” lakhs\n",
    "\n",
    "The task will be done as shown in the below steps:\n",
    "\n",
    "1. first get the webpage https://www.naukri.com/\n",
    "\n",
    "2. Enter “Data Scientist” in “Skill,Designations,Companies” field .\n",
    "\n",
    "3. Then click the search button.\n",
    "\n",
    "4. Then apply the location filter and salary filter by checking the respective boxes\n",
    "\n",
    "4. Then scrape the data for the first 10 jobs results you get.\n",
    "\n",
    "5. Finally create a dataframe of the scraped data.\n"
   ]
  },
  {
   "cell_type": "code",
   "execution_count": 4,
   "metadata": {},
   "outputs": [],
   "source": [
    "import selenium\n",
    "import pandas as pd\n",
    "pd.set_option(\"display.max_colwidth\", None)\n",
    "from selenium import webdriver"
   ]
  },
  {
   "cell_type": "code",
   "execution_count": 14,
   "metadata": {},
   "outputs": [],
   "source": [
    "driver = webdriver.Edge(r\"C:\\Users\\laxmi\\FlipRobo\\edgedriver_win64\\msedgedriver.exe\")\n",
    "\n",
    "url = 'https://www.naukri.com/'\n",
    "driver.get(url)"
   ]
  },
  {
   "cell_type": "code",
   "execution_count": 15,
   "metadata": {},
   "outputs": [],
   "source": [
    "search_job = driver.find_element_by_id('qsb-keyword-sugg')"
   ]
  },
  {
   "cell_type": "code",
   "execution_count": 16,
   "metadata": {},
   "outputs": [],
   "source": [
    "search_job.send_keys(\"Data Scientist\")"
   ]
  },
  {
   "cell_type": "code",
   "execution_count": 17,
   "metadata": {},
   "outputs": [],
   "source": [
    "#search_loc = driver.find_element_by_id(\"chk-Delhi / NCR-cityTypeGid-\")"
   ]
  },
  {
   "cell_type": "code",
   "execution_count": 18,
   "metadata": {},
   "outputs": [],
   "source": [
    "search_btn = driver.find_element_by_xpath(\"//button[@class='btn']\")\n",
    "search_btn.click()"
   ]
  },
  {
   "cell_type": "code",
   "execution_count": 51,
   "metadata": {},
   "outputs": [],
   "source": [
    "location = driver.find_elements_by_xpath(\"//div[@class='mt-8 chckBoxCont']\")[1]\n",
    "location.click()"
   ]
  },
  {
   "cell_type": "code",
   "execution_count": 53,
   "metadata": {},
   "outputs": [],
   "source": [
    "salary = driver.find_element_by_xpath(\"//span[@class='ellipsis fleft' and contains(text(),'3-6 Lakhs')]\")\n",
    "salary.click()"
   ]
  },
  {
   "cell_type": "code",
   "execution_count": null,
   "metadata": {},
   "outputs": [],
   "source": []
  },
  {
   "cell_type": "code",
   "execution_count": 54,
   "metadata": {},
   "outputs": [
    {
     "data": {
      "text/plain": [
       "[<selenium.webdriver.remote.webelement.WebElement (session=\"400ac0937220a874bc1c289c7d75fc82\", element=\"e441d003-23f1-42e3-88c3-deff71b8a17a\")>,\n",
       " <selenium.webdriver.remote.webelement.WebElement (session=\"400ac0937220a874bc1c289c7d75fc82\", element=\"dc9fc5ba-39d1-4dbb-9d74-499a6ea3fca0\")>,\n",
       " <selenium.webdriver.remote.webelement.WebElement (session=\"400ac0937220a874bc1c289c7d75fc82\", element=\"4c6ffed3-3541-4df8-b7d9-31eb934ae50d\")>,\n",
       " <selenium.webdriver.remote.webelement.WebElement (session=\"400ac0937220a874bc1c289c7d75fc82\", element=\"d9104851-dc49-4edb-bf3c-188d2d719868\")>,\n",
       " <selenium.webdriver.remote.webelement.WebElement (session=\"400ac0937220a874bc1c289c7d75fc82\", element=\"7efeaa51-9203-49b7-8d00-f7e27b4374bf\")>,\n",
       " <selenium.webdriver.remote.webelement.WebElement (session=\"400ac0937220a874bc1c289c7d75fc82\", element=\"46f6c6c2-328a-4dd4-9dce-c60d1f906c12\")>,\n",
       " <selenium.webdriver.remote.webelement.WebElement (session=\"400ac0937220a874bc1c289c7d75fc82\", element=\"5c22ae0a-426b-40b4-9818-8c0dfc304d1b\")>,\n",
       " <selenium.webdriver.remote.webelement.WebElement (session=\"400ac0937220a874bc1c289c7d75fc82\", element=\"b7ced600-df11-4b31-9a79-e36e663dd2c4\")>,\n",
       " <selenium.webdriver.remote.webelement.WebElement (session=\"400ac0937220a874bc1c289c7d75fc82\", element=\"6ec06672-7151-4194-9f60-40f3f40c16ec\")>,\n",
       " <selenium.webdriver.remote.webelement.WebElement (session=\"400ac0937220a874bc1c289c7d75fc82\", element=\"373ff3ac-782c-4f3f-9863-4304a8204d14\")>,\n",
       " <selenium.webdriver.remote.webelement.WebElement (session=\"400ac0937220a874bc1c289c7d75fc82\", element=\"17cdd414-752b-4a52-afc5-22182e576fb0\")>,\n",
       " <selenium.webdriver.remote.webelement.WebElement (session=\"400ac0937220a874bc1c289c7d75fc82\", element=\"34fda3b3-14b1-4029-897e-c8db2f044e05\")>,\n",
       " <selenium.webdriver.remote.webelement.WebElement (session=\"400ac0937220a874bc1c289c7d75fc82\", element=\"0a6c18c6-0cae-4b0a-b2e5-85864a9bb23b\")>,\n",
       " <selenium.webdriver.remote.webelement.WebElement (session=\"400ac0937220a874bc1c289c7d75fc82\", element=\"5cbb48ce-97cf-42a8-886e-19963b830e00\")>,\n",
       " <selenium.webdriver.remote.webelement.WebElement (session=\"400ac0937220a874bc1c289c7d75fc82\", element=\"900d95bd-5140-4281-8b30-ed5ea94bfa6b\")>,\n",
       " <selenium.webdriver.remote.webelement.WebElement (session=\"400ac0937220a874bc1c289c7d75fc82\", element=\"f537f6c3-4579-4e98-8b87-e69ef73a13ab\")>,\n",
       " <selenium.webdriver.remote.webelement.WebElement (session=\"400ac0937220a874bc1c289c7d75fc82\", element=\"18f4248d-25e2-43bc-8c45-ec9d710676d7\")>,\n",
       " <selenium.webdriver.remote.webelement.WebElement (session=\"400ac0937220a874bc1c289c7d75fc82\", element=\"0a43e214-9bfb-4ee1-a69b-6c6cb0f1cdbd\")>,\n",
       " <selenium.webdriver.remote.webelement.WebElement (session=\"400ac0937220a874bc1c289c7d75fc82\", element=\"f0d8776c-ab9c-4c35-a37c-fc162b832728\")>,\n",
       " <selenium.webdriver.remote.webelement.WebElement (session=\"400ac0937220a874bc1c289c7d75fc82\", element=\"b0e905f3-5370-4bb9-8c9a-f4e834f588ef\")>]"
      ]
     },
     "execution_count": 54,
     "metadata": {},
     "output_type": "execute_result"
    }
   ],
   "source": [
    "title_tags = driver.find_elements_by_xpath(\"//a[@class='title fw500 ellipsis']\")\n",
    "title_tags"
   ]
  },
  {
   "cell_type": "code",
   "execution_count": 55,
   "metadata": {},
   "outputs": [
    {
     "data": {
      "text/plain": [
       "['Data Scientist / Data Analyst -Business Analyst',\n",
       " 'Business Analyst- Data Scientist',\n",
       " 'Data Scientist - High growth VC backed Influencer Marketplace',\n",
       " 'DATA Scientist – Gurgaon (Exp 3-6 years)',\n",
       " 'DATA Scientist – Gurgaon (Exp 3-6 years)',\n",
       " 'Data Scientist - Noida',\n",
       " 'Data Scientist',\n",
       " 'Data Scientist',\n",
       " 'Data Scientist',\n",
       " 'Senior Data Scientist II 5+ yrs II Gurgaon']"
      ]
     },
     "execution_count": 55,
     "metadata": {},
     "output_type": "execute_result"
    }
   ],
   "source": [
    "job_titles=[]\n",
    "for i in title_tags[:10]:\n",
    "    job_titles.append(i.text)\n",
    "\n",
    "job_titles"
   ]
  },
  {
   "cell_type": "code",
   "execution_count": 56,
   "metadata": {},
   "outputs": [
    {
     "data": {
      "text/plain": [
       "[<selenium.webdriver.remote.webelement.WebElement (session=\"400ac0937220a874bc1c289c7d75fc82\", element=\"f56acd39-4afd-4d3c-a6c0-4e95b78ecbfd\")>,\n",
       " <selenium.webdriver.remote.webelement.WebElement (session=\"400ac0937220a874bc1c289c7d75fc82\", element=\"6e108071-bbad-4a32-b280-35b7e909124b\")>,\n",
       " <selenium.webdriver.remote.webelement.WebElement (session=\"400ac0937220a874bc1c289c7d75fc82\", element=\"19ed7ad9-bda6-4336-a39a-2510223ed922\")>,\n",
       " <selenium.webdriver.remote.webelement.WebElement (session=\"400ac0937220a874bc1c289c7d75fc82\", element=\"05d4bb10-54de-440b-8690-c28e5fb8c5e0\")>,\n",
       " <selenium.webdriver.remote.webelement.WebElement (session=\"400ac0937220a874bc1c289c7d75fc82\", element=\"1c4fb1ed-4502-468f-8e2e-bd1f92f2a60b\")>,\n",
       " <selenium.webdriver.remote.webelement.WebElement (session=\"400ac0937220a874bc1c289c7d75fc82\", element=\"a93aba86-9612-4f09-8ed1-e145984d82ec\")>,\n",
       " <selenium.webdriver.remote.webelement.WebElement (session=\"400ac0937220a874bc1c289c7d75fc82\", element=\"41e9e8aa-fd30-4def-ae93-79ffe48decb5\")>,\n",
       " <selenium.webdriver.remote.webelement.WebElement (session=\"400ac0937220a874bc1c289c7d75fc82\", element=\"3ad62865-ce7d-4b49-a961-dd507be15c73\")>,\n",
       " <selenium.webdriver.remote.webelement.WebElement (session=\"400ac0937220a874bc1c289c7d75fc82\", element=\"691993a8-b157-4966-a91b-53b1aa3fea0d\")>,\n",
       " <selenium.webdriver.remote.webelement.WebElement (session=\"400ac0937220a874bc1c289c7d75fc82\", element=\"1c28cff7-e008-4b6e-9004-d29e82e9577e\")>,\n",
       " <selenium.webdriver.remote.webelement.WebElement (session=\"400ac0937220a874bc1c289c7d75fc82\", element=\"381a47db-1f7f-49eb-86f3-b12892383538\")>,\n",
       " <selenium.webdriver.remote.webelement.WebElement (session=\"400ac0937220a874bc1c289c7d75fc82\", element=\"7109c271-6210-4679-8a7a-3c69ed324901\")>,\n",
       " <selenium.webdriver.remote.webelement.WebElement (session=\"400ac0937220a874bc1c289c7d75fc82\", element=\"960e0207-2673-47ba-adf3-ad52372411c0\")>,\n",
       " <selenium.webdriver.remote.webelement.WebElement (session=\"400ac0937220a874bc1c289c7d75fc82\", element=\"1eefd515-be9e-41bb-b8ec-833f0f2966b3\")>,\n",
       " <selenium.webdriver.remote.webelement.WebElement (session=\"400ac0937220a874bc1c289c7d75fc82\", element=\"bf38ff5b-1dfb-4802-b012-d3e3dad36e4f\")>,\n",
       " <selenium.webdriver.remote.webelement.WebElement (session=\"400ac0937220a874bc1c289c7d75fc82\", element=\"630d750a-7e86-4b8d-84d7-90f7d899e88f\")>,\n",
       " <selenium.webdriver.remote.webelement.WebElement (session=\"400ac0937220a874bc1c289c7d75fc82\", element=\"93be8776-80d7-40cf-a765-feade36338c3\")>,\n",
       " <selenium.webdriver.remote.webelement.WebElement (session=\"400ac0937220a874bc1c289c7d75fc82\", element=\"283d75d1-eb99-4186-924f-f24ffafae786\")>,\n",
       " <selenium.webdriver.remote.webelement.WebElement (session=\"400ac0937220a874bc1c289c7d75fc82\", element=\"786aea4b-39d3-4de5-948d-37701d9a834c\")>,\n",
       " <selenium.webdriver.remote.webelement.WebElement (session=\"400ac0937220a874bc1c289c7d75fc82\", element=\"478390af-7fd9-4e19-b26e-815c15d731ef\")>]"
      ]
     },
     "execution_count": 56,
     "metadata": {},
     "output_type": "execute_result"
    }
   ],
   "source": [
    "company_tags = driver.find_elements_by_xpath(\"//a[@class='subTitle ellipsis fleft']\")\n",
    "company_tags"
   ]
  },
  {
   "cell_type": "code",
   "execution_count": 57,
   "metadata": {},
   "outputs": [
    {
     "data": {
      "text/plain": [
       "['Inflexion Analytix Private Limited',\n",
       " 'Wipro',\n",
       " 'Ravgins International Pvt. Ltd.',\n",
       " 'CRESCENDO GLOBAL LEADERSHIP HIRING INDIA PRIVATE L IMITED',\n",
       " 'CRESCENDO GLOBAL LEADERSHIP HIRING INDIA PRIVATE L IMITED',\n",
       " 'Optum Global Solutions (India) Private Limited',\n",
       " 'Country Veggie',\n",
       " 'IBM India Pvt. Limited',\n",
       " 'Blitz Jobs',\n",
       " 'Zenatix Solutions Private Limited']"
      ]
     },
     "execution_count": 57,
     "metadata": {},
     "output_type": "execute_result"
    }
   ],
   "source": [
    "company_names=[]\n",
    "for i in company_tags[:10]:\n",
    "    company_names.append(i.text)\n",
    "    \n",
    "company_names"
   ]
  },
  {
   "cell_type": "code",
   "execution_count": 58,
   "metadata": {},
   "outputs": [
    {
     "data": {
      "text/plain": [
       "[<selenium.webdriver.remote.webelement.WebElement (session=\"400ac0937220a874bc1c289c7d75fc82\", element=\"66f56e3b-5acf-44c1-9ca3-73b5ddf07a17\")>,\n",
       " <selenium.webdriver.remote.webelement.WebElement (session=\"400ac0937220a874bc1c289c7d75fc82\", element=\"87f623fe-437d-4932-b059-f69e95fd83a3\")>,\n",
       " <selenium.webdriver.remote.webelement.WebElement (session=\"400ac0937220a874bc1c289c7d75fc82\", element=\"47b63d78-ede7-4b84-b8a3-963554011c81\")>,\n",
       " <selenium.webdriver.remote.webelement.WebElement (session=\"400ac0937220a874bc1c289c7d75fc82\", element=\"fea33fbb-9089-4d25-9c07-49ceb6ab93ba\")>,\n",
       " <selenium.webdriver.remote.webelement.WebElement (session=\"400ac0937220a874bc1c289c7d75fc82\", element=\"58aa9e59-97bd-4101-9c26-0e67b78b0653\")>,\n",
       " <selenium.webdriver.remote.webelement.WebElement (session=\"400ac0937220a874bc1c289c7d75fc82\", element=\"92ee1e15-4c50-4ff2-9514-952d9ae61a4e\")>,\n",
       " <selenium.webdriver.remote.webelement.WebElement (session=\"400ac0937220a874bc1c289c7d75fc82\", element=\"485ce6f8-dc6a-4adf-ae4c-f63849f4ecf2\")>,\n",
       " <selenium.webdriver.remote.webelement.WebElement (session=\"400ac0937220a874bc1c289c7d75fc82\", element=\"504dc892-b965-478e-9e29-b00c3a547c69\")>,\n",
       " <selenium.webdriver.remote.webelement.WebElement (session=\"400ac0937220a874bc1c289c7d75fc82\", element=\"bc04490b-8772-4e34-b8f0-559f32829145\")>,\n",
       " <selenium.webdriver.remote.webelement.WebElement (session=\"400ac0937220a874bc1c289c7d75fc82\", element=\"a8c77baa-d20d-4b60-a1f6-ab4cadd254f9\")>,\n",
       " <selenium.webdriver.remote.webelement.WebElement (session=\"400ac0937220a874bc1c289c7d75fc82\", element=\"69bfe802-8d9a-4c59-8d09-a6b565995f22\")>,\n",
       " <selenium.webdriver.remote.webelement.WebElement (session=\"400ac0937220a874bc1c289c7d75fc82\", element=\"b629c81b-13d2-4699-a75d-fbac06f8f149\")>,\n",
       " <selenium.webdriver.remote.webelement.WebElement (session=\"400ac0937220a874bc1c289c7d75fc82\", element=\"749c6526-306d-42c3-a4ca-986ad99ef5f2\")>,\n",
       " <selenium.webdriver.remote.webelement.WebElement (session=\"400ac0937220a874bc1c289c7d75fc82\", element=\"9887201a-ec56-4a68-8359-35d9718faab2\")>,\n",
       " <selenium.webdriver.remote.webelement.WebElement (session=\"400ac0937220a874bc1c289c7d75fc82\", element=\"d05d12c1-8fb4-44cd-9e4f-3552fb230c0f\")>,\n",
       " <selenium.webdriver.remote.webelement.WebElement (session=\"400ac0937220a874bc1c289c7d75fc82\", element=\"5b3fe300-c29e-4859-a99f-3af40e358156\")>,\n",
       " <selenium.webdriver.remote.webelement.WebElement (session=\"400ac0937220a874bc1c289c7d75fc82\", element=\"ee3ab2db-5dfb-4b1e-8eaa-548655b777e3\")>,\n",
       " <selenium.webdriver.remote.webelement.WebElement (session=\"400ac0937220a874bc1c289c7d75fc82\", element=\"0bdb97d3-fd5d-4a0c-aed9-b8e632aa579b\")>,\n",
       " <selenium.webdriver.remote.webelement.WebElement (session=\"400ac0937220a874bc1c289c7d75fc82\", element=\"be15de38-db42-460b-b500-2d8252c1e9ce\")>,\n",
       " <selenium.webdriver.remote.webelement.WebElement (session=\"400ac0937220a874bc1c289c7d75fc82\", element=\"e58c85bc-c82c-4272-a659-60df44053620\")>]"
      ]
     },
     "execution_count": 58,
     "metadata": {},
     "output_type": "execute_result"
    }
   ],
   "source": [
    "location_tags=driver.find_elements_by_xpath(\"//li[@class='fleft grey-text br2 placeHolderLi location']\")\n",
    "location_tags"
   ]
  },
  {
   "cell_type": "code",
   "execution_count": 59,
   "metadata": {},
   "outputs": [
    {
     "data": {
      "text/plain": [
       "['Mumbai, Hyderabad/Secunderabad, Pune, Gurgaon/Gurugram, Chennai, Bangalore/Bengaluru',\n",
       " 'Noida, Gurgaon/Gurugram',\n",
       " 'Bangalore/Bengaluru, Delhi / NCR, Mumbai (All Areas)',\n",
       " 'Gurgaon/Gurugram, Delhi / NCR',\n",
       " 'Gurgaon/Gurugram, Delhi / NCR',\n",
       " 'Noida',\n",
       " 'Bharuch, Jaipur, Bhopal, Mumbai, Jhansi, Nagpur, Ghaziabad, Jaunpur, Kanpur, New Delhi, Lucknow, Agra, Gurgaon/Gurugram, Rajkot, Bangalore/Bengaluru',\n",
       " 'Noida, Hyderabad/Secunderabad, Bangalore/Bengaluru',\n",
       " 'Noida',\n",
       " 'Gurgaon/Gurugram']"
      ]
     },
     "execution_count": 59,
     "metadata": {},
     "output_type": "execute_result"
    }
   ],
   "source": [
    "location_list=[]\n",
    "\n",
    "for i in location_tags[:10]:\n",
    "    location_list.append(i.text)\n",
    "    \n",
    "location_list"
   ]
  },
  {
   "cell_type": "code",
   "execution_count": 60,
   "metadata": {},
   "outputs": [
    {
     "data": {
      "text/plain": [
       "[<selenium.webdriver.remote.webelement.WebElement (session=\"400ac0937220a874bc1c289c7d75fc82\", element=\"d72444e3-e28b-4ee6-b926-a8fd84624695\")>,\n",
       " <selenium.webdriver.remote.webelement.WebElement (session=\"400ac0937220a874bc1c289c7d75fc82\", element=\"1ead26aa-37e2-4e84-b6ff-8a9cc5929cef\")>,\n",
       " <selenium.webdriver.remote.webelement.WebElement (session=\"400ac0937220a874bc1c289c7d75fc82\", element=\"bbe8302e-6b69-479e-a2e2-83843601fcab\")>,\n",
       " <selenium.webdriver.remote.webelement.WebElement (session=\"400ac0937220a874bc1c289c7d75fc82\", element=\"2db555f5-1e5b-4761-9afd-abf20c8f40b0\")>,\n",
       " <selenium.webdriver.remote.webelement.WebElement (session=\"400ac0937220a874bc1c289c7d75fc82\", element=\"bc087d1f-dcb9-4d6e-9c60-17e6fdcf2d25\")>,\n",
       " <selenium.webdriver.remote.webelement.WebElement (session=\"400ac0937220a874bc1c289c7d75fc82\", element=\"1030b9e3-8ea1-4767-85c5-42518fc97e95\")>,\n",
       " <selenium.webdriver.remote.webelement.WebElement (session=\"400ac0937220a874bc1c289c7d75fc82\", element=\"08867258-9647-4401-9b32-0968adfdecbd\")>,\n",
       " <selenium.webdriver.remote.webelement.WebElement (session=\"400ac0937220a874bc1c289c7d75fc82\", element=\"686e1e99-8694-4751-b144-cd05edfe56ba\")>,\n",
       " <selenium.webdriver.remote.webelement.WebElement (session=\"400ac0937220a874bc1c289c7d75fc82\", element=\"b3dcc77f-f88b-48cd-a025-16170a921d70\")>,\n",
       " <selenium.webdriver.remote.webelement.WebElement (session=\"400ac0937220a874bc1c289c7d75fc82\", element=\"c13367c2-aeb5-48bb-9a95-caa7d188cfbd\")>,\n",
       " <selenium.webdriver.remote.webelement.WebElement (session=\"400ac0937220a874bc1c289c7d75fc82\", element=\"5ce8ddde-cf3e-4c7a-b263-fc684cda1286\")>,\n",
       " <selenium.webdriver.remote.webelement.WebElement (session=\"400ac0937220a874bc1c289c7d75fc82\", element=\"58322892-c92d-44e4-86f3-aef653f42246\")>,\n",
       " <selenium.webdriver.remote.webelement.WebElement (session=\"400ac0937220a874bc1c289c7d75fc82\", element=\"70c42925-6489-411d-9b00-63025957aeac\")>,\n",
       " <selenium.webdriver.remote.webelement.WebElement (session=\"400ac0937220a874bc1c289c7d75fc82\", element=\"452dab76-3ba6-48de-a51b-9cc350093d26\")>,\n",
       " <selenium.webdriver.remote.webelement.WebElement (session=\"400ac0937220a874bc1c289c7d75fc82\", element=\"df118fc0-ea44-453c-90e7-16cef8ca46da\")>,\n",
       " <selenium.webdriver.remote.webelement.WebElement (session=\"400ac0937220a874bc1c289c7d75fc82\", element=\"a172ac7f-731a-4289-b371-d237d7152bb1\")>,\n",
       " <selenium.webdriver.remote.webelement.WebElement (session=\"400ac0937220a874bc1c289c7d75fc82\", element=\"eab471e3-4ff3-41fd-bf57-4047af01725a\")>,\n",
       " <selenium.webdriver.remote.webelement.WebElement (session=\"400ac0937220a874bc1c289c7d75fc82\", element=\"ecc09085-9b40-444d-b89c-b1f853e42d72\")>,\n",
       " <selenium.webdriver.remote.webelement.WebElement (session=\"400ac0937220a874bc1c289c7d75fc82\", element=\"461c9e0c-7135-40f0-8970-15c23eba13ab\")>,\n",
       " <selenium.webdriver.remote.webelement.WebElement (session=\"400ac0937220a874bc1c289c7d75fc82\", element=\"03ce32de-4576-4f1c-af13-ae167bd656a2\")>]"
      ]
     },
     "execution_count": 60,
     "metadata": {},
     "output_type": "execute_result"
    }
   ],
   "source": [
    "exp_tags=driver.find_elements_by_xpath(\"//li[@class='fleft grey-text br2 placeHolderLi experience']/span\")\n",
    "exp_tags"
   ]
  },
  {
   "cell_type": "code",
   "execution_count": 62,
   "metadata": {},
   "outputs": [
    {
     "data": {
      "text/plain": [
       "['0-3 Yrs',\n",
       " '2-5 Yrs',\n",
       " '3-5 Yrs',\n",
       " '3-6 Yrs',\n",
       " '3-6 Yrs',\n",
       " '3-5 Yrs',\n",
       " '1-3 Yrs',\n",
       " '4-9 Yrs',\n",
       " '3-5 Yrs',\n",
       " '5-10 Yrs']"
      ]
     },
     "execution_count": 62,
     "metadata": {},
     "output_type": "execute_result"
    }
   ],
   "source": [
    "Experience_required=[]\n",
    "for i in exp_tags[:10]:\n",
    "    Experience_required.append(i.text)\n",
    "    \n",
    "Experience_required"
   ]
  },
  {
   "cell_type": "code",
   "execution_count": 63,
   "metadata": {},
   "outputs": [
    {
     "name": "stdout",
     "output_type": "stream",
     "text": [
      "10 10 10 10\n"
     ]
    }
   ],
   "source": [
    "#checking the length of the extracted lists.\n",
    "print(len(Experience_required),len(company_names),len(location_list),len(job_titles))"
   ]
  },
  {
   "cell_type": "code",
   "execution_count": 64,
   "metadata": {},
   "outputs": [
    {
     "data": {
      "text/html": [
       "<div>\n",
       "<style scoped>\n",
       "    .dataframe tbody tr th:only-of-type {\n",
       "        vertical-align: middle;\n",
       "    }\n",
       "\n",
       "    .dataframe tbody tr th {\n",
       "        vertical-align: top;\n",
       "    }\n",
       "\n",
       "    .dataframe thead th {\n",
       "        text-align: right;\n",
       "    }\n",
       "</style>\n",
       "<table border=\"1\" class=\"dataframe\">\n",
       "  <thead>\n",
       "    <tr style=\"text-align: right;\">\n",
       "      <th></th>\n",
       "      <th>Job_Title</th>\n",
       "      <th>Location</th>\n",
       "      <th>Company_Name</th>\n",
       "      <th>Experience_required</th>\n",
       "    </tr>\n",
       "  </thead>\n",
       "  <tbody>\n",
       "    <tr>\n",
       "      <th>0</th>\n",
       "      <td>Data Scientist / Data Analyst -Business Analyst</td>\n",
       "      <td>Mumbai, Hyderabad/Secunderabad, Pune, Gurgaon/Gurugram, Chennai, Bangalore/Bengaluru</td>\n",
       "      <td>Inflexion Analytix Private Limited</td>\n",
       "      <td>0-3 Yrs</td>\n",
       "    </tr>\n",
       "    <tr>\n",
       "      <th>1</th>\n",
       "      <td>Business Analyst- Data Scientist</td>\n",
       "      <td>Noida, Gurgaon/Gurugram</td>\n",
       "      <td>Wipro</td>\n",
       "      <td>2-5 Yrs</td>\n",
       "    </tr>\n",
       "    <tr>\n",
       "      <th>2</th>\n",
       "      <td>Data Scientist - High growth VC backed Influencer Marketplace</td>\n",
       "      <td>Bangalore/Bengaluru, Delhi / NCR, Mumbai (All Areas)</td>\n",
       "      <td>Ravgins International Pvt. Ltd.</td>\n",
       "      <td>3-5 Yrs</td>\n",
       "    </tr>\n",
       "    <tr>\n",
       "      <th>3</th>\n",
       "      <td>DATA Scientist – Gurgaon (Exp 3-6 years)</td>\n",
       "      <td>Gurgaon/Gurugram, Delhi / NCR</td>\n",
       "      <td>CRESCENDO GLOBAL LEADERSHIP HIRING INDIA PRIVATE L IMITED</td>\n",
       "      <td>3-6 Yrs</td>\n",
       "    </tr>\n",
       "    <tr>\n",
       "      <th>4</th>\n",
       "      <td>DATA Scientist – Gurgaon (Exp 3-6 years)</td>\n",
       "      <td>Gurgaon/Gurugram, Delhi / NCR</td>\n",
       "      <td>CRESCENDO GLOBAL LEADERSHIP HIRING INDIA PRIVATE L IMITED</td>\n",
       "      <td>3-6 Yrs</td>\n",
       "    </tr>\n",
       "    <tr>\n",
       "      <th>5</th>\n",
       "      <td>Data Scientist - Noida</td>\n",
       "      <td>Noida</td>\n",
       "      <td>Optum Global Solutions (India) Private Limited</td>\n",
       "      <td>3-5 Yrs</td>\n",
       "    </tr>\n",
       "    <tr>\n",
       "      <th>6</th>\n",
       "      <td>Data Scientist</td>\n",
       "      <td>Bharuch, Jaipur, Bhopal, Mumbai, Jhansi, Nagpur, Ghaziabad, Jaunpur, Kanpur, New Delhi, Lucknow, Agra, Gurgaon/Gurugram, Rajkot, Bangalore/Bengaluru</td>\n",
       "      <td>Country Veggie</td>\n",
       "      <td>1-3 Yrs</td>\n",
       "    </tr>\n",
       "    <tr>\n",
       "      <th>7</th>\n",
       "      <td>Data Scientist</td>\n",
       "      <td>Noida, Hyderabad/Secunderabad, Bangalore/Bengaluru</td>\n",
       "      <td>IBM India Pvt. Limited</td>\n",
       "      <td>4-9 Yrs</td>\n",
       "    </tr>\n",
       "    <tr>\n",
       "      <th>8</th>\n",
       "      <td>Data Scientist</td>\n",
       "      <td>Noida</td>\n",
       "      <td>Blitz Jobs</td>\n",
       "      <td>3-5 Yrs</td>\n",
       "    </tr>\n",
       "    <tr>\n",
       "      <th>9</th>\n",
       "      <td>Senior Data Scientist II 5+ yrs II Gurgaon</td>\n",
       "      <td>Gurgaon/Gurugram</td>\n",
       "      <td>Zenatix Solutions Private Limited</td>\n",
       "      <td>5-10 Yrs</td>\n",
       "    </tr>\n",
       "  </tbody>\n",
       "</table>\n",
       "</div>"
      ],
      "text/plain": [
       "                                                       Job_Title  \\\n",
       "0                Data Scientist / Data Analyst -Business Analyst   \n",
       "1                               Business Analyst- Data Scientist   \n",
       "2  Data Scientist - High growth VC backed Influencer Marketplace   \n",
       "3                       DATA Scientist – Gurgaon (Exp 3-6 years)   \n",
       "4                       DATA Scientist – Gurgaon (Exp 3-6 years)   \n",
       "5                                         Data Scientist - Noida   \n",
       "6                                                 Data Scientist   \n",
       "7                                                 Data Scientist   \n",
       "8                                                 Data Scientist   \n",
       "9                     Senior Data Scientist II 5+ yrs II Gurgaon   \n",
       "\n",
       "                                                                                                                                               Location  \\\n",
       "0                                                                  Mumbai, Hyderabad/Secunderabad, Pune, Gurgaon/Gurugram, Chennai, Bangalore/Bengaluru   \n",
       "1                                                                                                                               Noida, Gurgaon/Gurugram   \n",
       "2                                                                                                  Bangalore/Bengaluru, Delhi / NCR, Mumbai (All Areas)   \n",
       "3                                                                                                                         Gurgaon/Gurugram, Delhi / NCR   \n",
       "4                                                                                                                         Gurgaon/Gurugram, Delhi / NCR   \n",
       "5                                                                                                                                                 Noida   \n",
       "6  Bharuch, Jaipur, Bhopal, Mumbai, Jhansi, Nagpur, Ghaziabad, Jaunpur, Kanpur, New Delhi, Lucknow, Agra, Gurgaon/Gurugram, Rajkot, Bangalore/Bengaluru   \n",
       "7                                                                                                    Noida, Hyderabad/Secunderabad, Bangalore/Bengaluru   \n",
       "8                                                                                                                                                 Noida   \n",
       "9                                                                                                                                      Gurgaon/Gurugram   \n",
       "\n",
       "                                                Company_Name  \\\n",
       "0                         Inflexion Analytix Private Limited   \n",
       "1                                                      Wipro   \n",
       "2                            Ravgins International Pvt. Ltd.   \n",
       "3  CRESCENDO GLOBAL LEADERSHIP HIRING INDIA PRIVATE L IMITED   \n",
       "4  CRESCENDO GLOBAL LEADERSHIP HIRING INDIA PRIVATE L IMITED   \n",
       "5             Optum Global Solutions (India) Private Limited   \n",
       "6                                             Country Veggie   \n",
       "7                                     IBM India Pvt. Limited   \n",
       "8                                                 Blitz Jobs   \n",
       "9                          Zenatix Solutions Private Limited   \n",
       "\n",
       "  Experience_required  \n",
       "0             0-3 Yrs  \n",
       "1             2-5 Yrs  \n",
       "2             3-5 Yrs  \n",
       "3             3-6 Yrs  \n",
       "4             3-6 Yrs  \n",
       "5             3-5 Yrs  \n",
       "6             1-3 Yrs  \n",
       "7             4-9 Yrs  \n",
       "8             3-5 Yrs  \n",
       "9            5-10 Yrs  "
      ]
     },
     "execution_count": 64,
     "metadata": {},
     "output_type": "execute_result"
    }
   ],
   "source": [
    "Data_Scientist = pd.DataFrame({\"Job_Title\":job_titles,\"Location\":location_list,\"Company_Name\":company_names,\"Experience_required\":Experience_required})\n",
    "Data_Scientist"
   ]
  },
  {
   "cell_type": "code",
   "execution_count": 74,
   "metadata": {},
   "outputs": [],
   "source": [
    "driver.close()"
   ]
  },
  {
   "cell_type": "markdown",
   "metadata": {},
   "source": [
    "# Q4: Write a python program to scrape data\n",
    "    for first 10 job results for Data scientist\n",
    "Designation in Noida location. You have to scrape company_name, No. of days\n",
    "ago when job was posted, Rating of the company.\n",
    "\n",
    "This task will be done in following steps:\n",
    "\n",
    "1. first get the webpage https://www.glassdoor.co.in/index.htm\n",
    "\n",
    "2. Enter “Data Scientist” in “Job Title,Keyword,Company” field and enter “Noida”\n",
    "in “location” field.\n",
    "\n",
    "3. Then click the search button. You will land up in the below page:\n",
    "    \n",
    "4. Then scrape the data for the first 10 jobs results you get in the above shown\n",
    "page.\n",
    "5. Finally create a dataframe of the scraped data.\n"
   ]
  },
  {
   "cell_type": "code",
   "execution_count": 1,
   "metadata": {},
   "outputs": [],
   "source": [
    "#importing required libraries.\n",
    "import pandas as pd\n",
    "import selenium\n",
    "from selenium import webdriver"
   ]
  },
  {
   "cell_type": "code",
   "execution_count": 2,
   "metadata": {},
   "outputs": [],
   "source": [
    "driver = webdriver.Edge(r\"C:\\Users\\laxmi\\FlipRobo\\edgedriver_win64\\msedgedriver.exe\")"
   ]
  },
  {
   "cell_type": "code",
   "execution_count": 3,
   "metadata": {},
   "outputs": [],
   "source": [
    "driver.get('https://www.glassdoor.co.in/sitedirectory/title-jobs.htm')"
   ]
  },
  {
   "cell_type": "code",
   "execution_count": 4,
   "metadata": {},
   "outputs": [],
   "source": [
    "#finding and filling the title and location of the required job using automation.\n",
    "search_job = driver.find_element_by_id('sc.keyword')\n",
    "search_job.send_keys('Data Scientist')\n",
    "search_loc = driver.find_element_by_id('sc.location')\n",
    "search_loc.send_keys('Noida')\n",
    "#finding and clicking the search button using automation.\n",
    "search_btn = driver.find_element_by_id('HeroSearchButton')\n",
    "search_btn.click()"
   ]
  },
  {
   "cell_type": "code",
   "execution_count": 5,
   "metadata": {},
   "outputs": [],
   "source": [
    "#creating the list.\n",
    "Comapany_name=[]\n",
    "No_of_days_ago=[]\n",
    "Rating=[]"
   ]
  },
  {
   "cell_type": "code",
   "execution_count": 12,
   "metadata": {},
   "outputs": [
    {
     "data": {
      "text/plain": [
       "[<selenium.webdriver.firefox.webelement.FirefoxWebElement (session=\"1e75a7b3-4c63-4e0c-b56b-7c3562f39a8b\", element=\"43a7898e-741e-4d26-a220-cdd32b1570c5\")>,\n",
       " <selenium.webdriver.firefox.webelement.FirefoxWebElement (session=\"1e75a7b3-4c63-4e0c-b56b-7c3562f39a8b\", element=\"1be16c98-f1be-43fc-8fa8-75ad7b616b58\")>,\n",
       " <selenium.webdriver.firefox.webelement.FirefoxWebElement (session=\"1e75a7b3-4c63-4e0c-b56b-7c3562f39a8b\", element=\"5bb556d2-3715-4cda-9a13-4f2908748f81\")>,\n",
       " <selenium.webdriver.firefox.webelement.FirefoxWebElement (session=\"1e75a7b3-4c63-4e0c-b56b-7c3562f39a8b\", element=\"90f2196c-e905-477e-8853-dc78ede01781\")>,\n",
       " <selenium.webdriver.firefox.webelement.FirefoxWebElement (session=\"1e75a7b3-4c63-4e0c-b56b-7c3562f39a8b\", element=\"9b2288fe-f0d1-486b-a20c-65b749613cc9\")>,\n",
       " <selenium.webdriver.firefox.webelement.FirefoxWebElement (session=\"1e75a7b3-4c63-4e0c-b56b-7c3562f39a8b\", element=\"6a7d1839-2f00-4214-aed5-db47d549904f\")>,\n",
       " <selenium.webdriver.firefox.webelement.FirefoxWebElement (session=\"1e75a7b3-4c63-4e0c-b56b-7c3562f39a8b\", element=\"80ca3fb6-2334-44c5-bf77-203403eade58\")>,\n",
       " <selenium.webdriver.firefox.webelement.FirefoxWebElement (session=\"1e75a7b3-4c63-4e0c-b56b-7c3562f39a8b\", element=\"f1f7896b-397c-474c-bc56-2e5f88df0661\")>,\n",
       " <selenium.webdriver.firefox.webelement.FirefoxWebElement (session=\"1e75a7b3-4c63-4e0c-b56b-7c3562f39a8b\", element=\"85438329-df90-4d55-ac3c-52c3857a6651\")>,\n",
       " <selenium.webdriver.firefox.webelement.FirefoxWebElement (session=\"1e75a7b3-4c63-4e0c-b56b-7c3562f39a8b\", element=\"098f3fc4-f1b9-490c-b530-7c3ba4c023bf\")>,\n",
       " <selenium.webdriver.firefox.webelement.FirefoxWebElement (session=\"1e75a7b3-4c63-4e0c-b56b-7c3562f39a8b\", element=\"1d058be4-50f2-4e88-a162-f9b5d84ddd9f\")>,\n",
       " <selenium.webdriver.firefox.webelement.FirefoxWebElement (session=\"1e75a7b3-4c63-4e0c-b56b-7c3562f39a8b\", element=\"471b86db-7928-4772-887f-50f5deaaed30\")>,\n",
       " <selenium.webdriver.firefox.webelement.FirefoxWebElement (session=\"1e75a7b3-4c63-4e0c-b56b-7c3562f39a8b\", element=\"538cf5c6-ae27-4398-956b-2a775d6b4da7\")>,\n",
       " <selenium.webdriver.firefox.webelement.FirefoxWebElement (session=\"1e75a7b3-4c63-4e0c-b56b-7c3562f39a8b\", element=\"d16c75aa-d3e0-4d72-9368-62fb6bc7a6ab\")>,\n",
       " <selenium.webdriver.firefox.webelement.FirefoxWebElement (session=\"1e75a7b3-4c63-4e0c-b56b-7c3562f39a8b\", element=\"fb32957f-e363-4013-aaa5-2c99199bce27\")>,\n",
       " <selenium.webdriver.firefox.webelement.FirefoxWebElement (session=\"1e75a7b3-4c63-4e0c-b56b-7c3562f39a8b\", element=\"35306869-4ea0-47fe-8f13-5863ff3ddf0f\")>,\n",
       " <selenium.webdriver.firefox.webelement.FirefoxWebElement (session=\"1e75a7b3-4c63-4e0c-b56b-7c3562f39a8b\", element=\"f6d7a0d4-aa1f-44b3-bc3f-12ed6b8be187\")>,\n",
       " <selenium.webdriver.firefox.webelement.FirefoxWebElement (session=\"1e75a7b3-4c63-4e0c-b56b-7c3562f39a8b\", element=\"310edd71-ccd3-4b17-ac7e-5b82c649362b\")>,\n",
       " <selenium.webdriver.firefox.webelement.FirefoxWebElement (session=\"1e75a7b3-4c63-4e0c-b56b-7c3562f39a8b\", element=\"f173341d-8ff5-47c0-bcff-9095b59b0f27\")>,\n",
       " <selenium.webdriver.firefox.webelement.FirefoxWebElement (session=\"1e75a7b3-4c63-4e0c-b56b-7c3562f39a8b\", element=\"1c21d2db-4e7a-4158-88c5-015eaa6fb12d\")>,\n",
       " <selenium.webdriver.firefox.webelement.FirefoxWebElement (session=\"1e75a7b3-4c63-4e0c-b56b-7c3562f39a8b\", element=\"834974a6-e263-4a25-9f41-1792c1ab2166\")>,\n",
       " <selenium.webdriver.firefox.webelement.FirefoxWebElement (session=\"1e75a7b3-4c63-4e0c-b56b-7c3562f39a8b\", element=\"b3b1cb62-a8ad-4d34-b0ec-a4ffc8bbd31c\")>,\n",
       " <selenium.webdriver.firefox.webelement.FirefoxWebElement (session=\"1e75a7b3-4c63-4e0c-b56b-7c3562f39a8b\", element=\"b15ef606-d86e-4e73-9092-043227bfe329\")>,\n",
       " <selenium.webdriver.firefox.webelement.FirefoxWebElement (session=\"1e75a7b3-4c63-4e0c-b56b-7c3562f39a8b\", element=\"7daeaab6-9b0d-43c4-8043-e7d957261712\")>,\n",
       " <selenium.webdriver.firefox.webelement.FirefoxWebElement (session=\"1e75a7b3-4c63-4e0c-b56b-7c3562f39a8b\", element=\"73e63ac7-1791-4e68-b3e2-e29804c4feec\")>,\n",
       " <selenium.webdriver.firefox.webelement.FirefoxWebElement (session=\"1e75a7b3-4c63-4e0c-b56b-7c3562f39a8b\", element=\"cd17bb39-628d-4f8e-94fb-1636752abfe7\")>,\n",
       " <selenium.webdriver.firefox.webelement.FirefoxWebElement (session=\"1e75a7b3-4c63-4e0c-b56b-7c3562f39a8b\", element=\"3f00e674-b80a-40a7-9b69-621abea3b975\")>,\n",
       " <selenium.webdriver.firefox.webelement.FirefoxWebElement (session=\"1e75a7b3-4c63-4e0c-b56b-7c3562f39a8b\", element=\"d98b33c6-0641-44be-b543-ecc69bbcf5db\")>,\n",
       " <selenium.webdriver.firefox.webelement.FirefoxWebElement (session=\"1e75a7b3-4c63-4e0c-b56b-7c3562f39a8b\", element=\"1bd1a72f-ac6a-4e95-8831-85cdb848ac79\")>,\n",
       " <selenium.webdriver.firefox.webelement.FirefoxWebElement (session=\"1e75a7b3-4c63-4e0c-b56b-7c3562f39a8b\", element=\"022de57a-eecc-4b5c-87f5-8e262a979242\")>,\n",
       " <selenium.webdriver.firefox.webelement.FirefoxWebElement (session=\"1e75a7b3-4c63-4e0c-b56b-7c3562f39a8b\", element=\"f589b88b-772a-411e-8504-d3dd992e5ff0\")>,\n",
       " <selenium.webdriver.firefox.webelement.FirefoxWebElement (session=\"1e75a7b3-4c63-4e0c-b56b-7c3562f39a8b\", element=\"eb9756ee-2c5a-4490-b334-29002f81f374\")>]"
      ]
     },
     "execution_count": 12,
     "metadata": {},
     "output_type": "execute_result"
    }
   ],
   "source": [
    "#extracting the comapany names.\n",
    "company_tags= driver.find_elements_by_xpath(\"//a[@class=' css-l2wjgv e1n63ojh0 jobLink']\")\n",
    "company_tags"
   ]
  },
  {
   "cell_type": "code",
   "execution_count": 13,
   "metadata": {},
   "outputs": [
    {
     "data": {
      "text/plain": [
       "['BlackRock',\n",
       " 'BlackRock',\n",
       " 'Adobe',\n",
       " 'Techlive',\n",
       " 'abc consultants',\n",
       " 'Priority Vendor',\n",
       " 'Biz2Credit Inc',\n",
       " 'Healtheoz India',\n",
       " 'Srijan Technologies Pvt Ltd',\n",
       " 'Gauge Data Solutions',\n",
       " 'WishFin',\n",
       " 'Salasar New Age Technologies',\n",
       " 'Team Computers',\n",
       " 'Ciena',\n",
       " 'SearchUrCollege',\n",
       " 'xtLytics',\n",
       " 'MasterCard',\n",
       " 'Axslogic',\n",
       " 'Vivek Manthan Foundation',\n",
       " 'NatWest Group',\n",
       " 'JLL',\n",
       " 'Salasar New Age Technologies',\n",
       " 'RTEX HR Services Pvt. Ltd',\n",
       " 'Boston Consulting Group',\n",
       " 'ESRI, Inc.',\n",
       " 'Great Learning',\n",
       " 'Mahajan Imaging',\n",
       " 'Profisor Services',\n",
       " 'Ank Aha',\n",
       " 'Diverse Lynx India',\n",
       " 'Analytics Vidhya',\n",
       " 'American Express Global Business Travel']"
      ]
     },
     "execution_count": 13,
     "metadata": {},
     "output_type": "execute_result"
    }
   ],
   "source": [
    "for i in company_tags:\n",
    "    company=i.text\n",
    "    Comapany_name.append(company)\n",
    "Comapany_name"
   ]
  },
  {
   "cell_type": "code",
   "execution_count": 14,
   "metadata": {},
   "outputs": [
    {
     "data": {
      "text/plain": [
       "[<selenium.webdriver.firefox.webelement.FirefoxWebElement (session=\"1e75a7b3-4c63-4e0c-b56b-7c3562f39a8b\", element=\"67e2b6c5-c777-43a2-9ead-53a16a6adca5\")>,\n",
       " <selenium.webdriver.firefox.webelement.FirefoxWebElement (session=\"1e75a7b3-4c63-4e0c-b56b-7c3562f39a8b\", element=\"c6bc45a0-7c5b-48ba-b64d-996c6e876dd9\")>,\n",
       " <selenium.webdriver.firefox.webelement.FirefoxWebElement (session=\"1e75a7b3-4c63-4e0c-b56b-7c3562f39a8b\", element=\"86f8352d-1506-4123-909a-b022a07f6e6d\")>,\n",
       " <selenium.webdriver.firefox.webelement.FirefoxWebElement (session=\"1e75a7b3-4c63-4e0c-b56b-7c3562f39a8b\", element=\"d012f7f3-54a5-4454-b63e-32471bf969b4\")>,\n",
       " <selenium.webdriver.firefox.webelement.FirefoxWebElement (session=\"1e75a7b3-4c63-4e0c-b56b-7c3562f39a8b\", element=\"5fb3ee10-8ff0-498e-9dc0-026a5c33e8f7\")>,\n",
       " <selenium.webdriver.firefox.webelement.FirefoxWebElement (session=\"1e75a7b3-4c63-4e0c-b56b-7c3562f39a8b\", element=\"d0dfbd57-b3c9-4cdf-a182-9ceb6bd6de4b\")>,\n",
       " <selenium.webdriver.firefox.webelement.FirefoxWebElement (session=\"1e75a7b3-4c63-4e0c-b56b-7c3562f39a8b\", element=\"982074e6-535c-470b-8d7a-0541d60a4194\")>,\n",
       " <selenium.webdriver.firefox.webelement.FirefoxWebElement (session=\"1e75a7b3-4c63-4e0c-b56b-7c3562f39a8b\", element=\"5d100df1-829c-40c4-9427-1ddd5cf8d6a0\")>,\n",
       " <selenium.webdriver.firefox.webelement.FirefoxWebElement (session=\"1e75a7b3-4c63-4e0c-b56b-7c3562f39a8b\", element=\"7201b117-7c72-4d16-bdb4-467e41cda06d\")>,\n",
       " <selenium.webdriver.firefox.webelement.FirefoxWebElement (session=\"1e75a7b3-4c63-4e0c-b56b-7c3562f39a8b\", element=\"5400aa44-5fdd-4d8d-bfc3-3e8ebf432bd9\")>,\n",
       " <selenium.webdriver.firefox.webelement.FirefoxWebElement (session=\"1e75a7b3-4c63-4e0c-b56b-7c3562f39a8b\", element=\"2b4be415-9983-427c-af37-8dd3013c2aa5\")>,\n",
       " <selenium.webdriver.firefox.webelement.FirefoxWebElement (session=\"1e75a7b3-4c63-4e0c-b56b-7c3562f39a8b\", element=\"3b6ba6ff-3616-4f5e-9af2-ed7b56ea2169\")>,\n",
       " <selenium.webdriver.firefox.webelement.FirefoxWebElement (session=\"1e75a7b3-4c63-4e0c-b56b-7c3562f39a8b\", element=\"e9b69878-af2b-4a5f-8d65-24c666ed538a\")>,\n",
       " <selenium.webdriver.firefox.webelement.FirefoxWebElement (session=\"1e75a7b3-4c63-4e0c-b56b-7c3562f39a8b\", element=\"d46b9e2d-b5b8-4dee-83d5-bbd3f62765c3\")>,\n",
       " <selenium.webdriver.firefox.webelement.FirefoxWebElement (session=\"1e75a7b3-4c63-4e0c-b56b-7c3562f39a8b\", element=\"8bf6ae69-4007-400b-b998-c72875221a66\")>,\n",
       " <selenium.webdriver.firefox.webelement.FirefoxWebElement (session=\"1e75a7b3-4c63-4e0c-b56b-7c3562f39a8b\", element=\"d0adf3fb-4966-416c-962d-c4e8053c5c3a\")>,\n",
       " <selenium.webdriver.firefox.webelement.FirefoxWebElement (session=\"1e75a7b3-4c63-4e0c-b56b-7c3562f39a8b\", element=\"55bbb4fe-dfbf-4b14-8493-fbc0958591c7\")>,\n",
       " <selenium.webdriver.firefox.webelement.FirefoxWebElement (session=\"1e75a7b3-4c63-4e0c-b56b-7c3562f39a8b\", element=\"b49e7fbb-1f82-4659-9b28-0796c57c4d16\")>,\n",
       " <selenium.webdriver.firefox.webelement.FirefoxWebElement (session=\"1e75a7b3-4c63-4e0c-b56b-7c3562f39a8b\", element=\"4441eb1a-6649-400c-819b-8bd09076d19c\")>,\n",
       " <selenium.webdriver.firefox.webelement.FirefoxWebElement (session=\"1e75a7b3-4c63-4e0c-b56b-7c3562f39a8b\", element=\"f960736f-87dc-40fe-aa35-228d7753db11\")>,\n",
       " <selenium.webdriver.firefox.webelement.FirefoxWebElement (session=\"1e75a7b3-4c63-4e0c-b56b-7c3562f39a8b\", element=\"76fca92b-5777-494c-9863-80211d9d1df2\")>,\n",
       " <selenium.webdriver.firefox.webelement.FirefoxWebElement (session=\"1e75a7b3-4c63-4e0c-b56b-7c3562f39a8b\", element=\"ea499e56-1760-4161-ac8e-4efd9f135568\")>,\n",
       " <selenium.webdriver.firefox.webelement.FirefoxWebElement (session=\"1e75a7b3-4c63-4e0c-b56b-7c3562f39a8b\", element=\"9ad880d1-5d36-4376-918d-3f2e098e65cb\")>,\n",
       " <selenium.webdriver.firefox.webelement.FirefoxWebElement (session=\"1e75a7b3-4c63-4e0c-b56b-7c3562f39a8b\", element=\"7442e7ed-bdf7-4f4f-b652-3fe3854d0a80\")>,\n",
       " <selenium.webdriver.firefox.webelement.FirefoxWebElement (session=\"1e75a7b3-4c63-4e0c-b56b-7c3562f39a8b\", element=\"4d6cfebf-9b3a-4e74-9013-eec93cff18c3\")>,\n",
       " <selenium.webdriver.firefox.webelement.FirefoxWebElement (session=\"1e75a7b3-4c63-4e0c-b56b-7c3562f39a8b\", element=\"c92d846b-6997-4792-84b1-fd286b723aaa\")>,\n",
       " <selenium.webdriver.firefox.webelement.FirefoxWebElement (session=\"1e75a7b3-4c63-4e0c-b56b-7c3562f39a8b\", element=\"253252ee-7eff-44f2-86d0-1341724e736b\")>,\n",
       " <selenium.webdriver.firefox.webelement.FirefoxWebElement (session=\"1e75a7b3-4c63-4e0c-b56b-7c3562f39a8b\", element=\"7552b1c5-e71e-4eb3-bf05-88e94c033b83\")>,\n",
       " <selenium.webdriver.firefox.webelement.FirefoxWebElement (session=\"1e75a7b3-4c63-4e0c-b56b-7c3562f39a8b\", element=\"8ea4b083-0d80-4acf-b6d9-598741578211\")>,\n",
       " <selenium.webdriver.firefox.webelement.FirefoxWebElement (session=\"1e75a7b3-4c63-4e0c-b56b-7c3562f39a8b\", element=\"51f79652-410f-400a-a511-0e8e4ac9a21f\")>,\n",
       " <selenium.webdriver.firefox.webelement.FirefoxWebElement (session=\"1e75a7b3-4c63-4e0c-b56b-7c3562f39a8b\", element=\"efdeebfe-8ff3-4b13-8d76-1f856ecef205\")>,\n",
       " <selenium.webdriver.firefox.webelement.FirefoxWebElement (session=\"1e75a7b3-4c63-4e0c-b56b-7c3562f39a8b\", element=\"69ba0c0b-fed4-4ef3-b31b-a9dc719886dc\")>]"
      ]
     },
     "execution_count": 14,
     "metadata": {},
     "output_type": "execute_result"
    }
   ],
   "source": [
    "#extracting the No_of_days_ago.\n",
    "days= driver.find_elements_by_xpath(\"//div[@class='d-flex align-items-end pl-std css-mi55ob']\")\n",
    "days"
   ]
  },
  {
   "cell_type": "code",
   "execution_count": 15,
   "metadata": {},
   "outputs": [
    {
     "data": {
      "text/plain": [
       "['18d',\n",
       " '18d',\n",
       " '6d',\n",
       " '6d',\n",
       " '24h',\n",
       " '27d',\n",
       " '8d',\n",
       " '27d',\n",
       " '4d',\n",
       " '27d',\n",
       " '10d',\n",
       " '12d',\n",
       " '15d',\n",
       " '6d',\n",
       " '27d',\n",
       " '14d',\n",
       " '2d',\n",
       " '25d',\n",
       " '22d',\n",
       " '16d',\n",
       " '1d',\n",
       " '12d',\n",
       " '2d',\n",
       " '14d',\n",
       " '5d',\n",
       " '27d',\n",
       " '27d',\n",
       " '27d',\n",
       " '27d',\n",
       " '14d',\n",
       " '27d',\n",
       " '6d']"
      ]
     },
     "execution_count": 15,
     "metadata": {},
     "output_type": "execute_result"
    }
   ],
   "source": [
    "for i in days:\n",
    "    day=i.text\n",
    "    No_of_days_ago.append(day)\n",
    "No_of_days_ago"
   ]
  },
  {
   "cell_type": "code",
   "execution_count": 17,
   "metadata": {},
   "outputs": [
    {
     "data": {
      "text/plain": [
       "[<selenium.webdriver.firefox.webelement.FirefoxWebElement (session=\"1e75a7b3-4c63-4e0c-b56b-7c3562f39a8b\", element=\"c1697226-4662-4c0d-ad1d-d19ea008900d\")>,\n",
       " <selenium.webdriver.firefox.webelement.FirefoxWebElement (session=\"1e75a7b3-4c63-4e0c-b56b-7c3562f39a8b\", element=\"ecc6ac1b-a8c6-4fe1-b242-0fb3f7e45b83\")>,\n",
       " <selenium.webdriver.firefox.webelement.FirefoxWebElement (session=\"1e75a7b3-4c63-4e0c-b56b-7c3562f39a8b\", element=\"14c9d1d8-26a8-4455-9a3b-fca7e126b7ed\")>,\n",
       " <selenium.webdriver.firefox.webelement.FirefoxWebElement (session=\"1e75a7b3-4c63-4e0c-b56b-7c3562f39a8b\", element=\"81189fb1-6592-4abe-91b9-a59f8568b218\")>,\n",
       " <selenium.webdriver.firefox.webelement.FirefoxWebElement (session=\"1e75a7b3-4c63-4e0c-b56b-7c3562f39a8b\", element=\"37a837ca-24ad-4a39-9181-915980bd01ef\")>,\n",
       " <selenium.webdriver.firefox.webelement.FirefoxWebElement (session=\"1e75a7b3-4c63-4e0c-b56b-7c3562f39a8b\", element=\"dc8840c6-e44c-4ce9-9616-3280aa17ace7\")>,\n",
       " <selenium.webdriver.firefox.webelement.FirefoxWebElement (session=\"1e75a7b3-4c63-4e0c-b56b-7c3562f39a8b\", element=\"6646589b-01af-4bc7-a03d-f232f3a0e238\")>,\n",
       " <selenium.webdriver.firefox.webelement.FirefoxWebElement (session=\"1e75a7b3-4c63-4e0c-b56b-7c3562f39a8b\", element=\"cbf29552-e909-41bd-b71d-ade19bca9f0e\")>,\n",
       " <selenium.webdriver.firefox.webelement.FirefoxWebElement (session=\"1e75a7b3-4c63-4e0c-b56b-7c3562f39a8b\", element=\"15272bcd-b859-4a9a-a282-3afd5f3b953c\")>,\n",
       " <selenium.webdriver.firefox.webelement.FirefoxWebElement (session=\"1e75a7b3-4c63-4e0c-b56b-7c3562f39a8b\", element=\"6b5a441b-ec4f-4332-8d0c-30a3842389f4\")>,\n",
       " <selenium.webdriver.firefox.webelement.FirefoxWebElement (session=\"1e75a7b3-4c63-4e0c-b56b-7c3562f39a8b\", element=\"80674396-3381-4118-99af-f39b98886f0e\")>,\n",
       " <selenium.webdriver.firefox.webelement.FirefoxWebElement (session=\"1e75a7b3-4c63-4e0c-b56b-7c3562f39a8b\", element=\"e4c8b3a8-4e2f-4e8a-9431-1e7c8667d49d\")>,\n",
       " <selenium.webdriver.firefox.webelement.FirefoxWebElement (session=\"1e75a7b3-4c63-4e0c-b56b-7c3562f39a8b\", element=\"4d6e1724-f375-414c-981a-f41715d641e8\")>,\n",
       " <selenium.webdriver.firefox.webelement.FirefoxWebElement (session=\"1e75a7b3-4c63-4e0c-b56b-7c3562f39a8b\", element=\"14a850a3-a59d-4bcb-82ca-e78cb7c5db37\")>,\n",
       " <selenium.webdriver.firefox.webelement.FirefoxWebElement (session=\"1e75a7b3-4c63-4e0c-b56b-7c3562f39a8b\", element=\"6c4987a6-ec4f-4a30-8254-db8b0c407933\")>,\n",
       " <selenium.webdriver.firefox.webelement.FirefoxWebElement (session=\"1e75a7b3-4c63-4e0c-b56b-7c3562f39a8b\", element=\"af5c4317-5477-4615-9958-adadca66fef0\")>,\n",
       " <selenium.webdriver.firefox.webelement.FirefoxWebElement (session=\"1e75a7b3-4c63-4e0c-b56b-7c3562f39a8b\", element=\"11bc0d4b-7d15-47be-a2ba-b1bc5b65f646\")>,\n",
       " <selenium.webdriver.firefox.webelement.FirefoxWebElement (session=\"1e75a7b3-4c63-4e0c-b56b-7c3562f39a8b\", element=\"9b180437-c285-404b-b415-dd8c423a4b8b\")>,\n",
       " <selenium.webdriver.firefox.webelement.FirefoxWebElement (session=\"1e75a7b3-4c63-4e0c-b56b-7c3562f39a8b\", element=\"12452634-7c98-416a-95b9-5f6d95839ccf\")>,\n",
       " <selenium.webdriver.firefox.webelement.FirefoxWebElement (session=\"1e75a7b3-4c63-4e0c-b56b-7c3562f39a8b\", element=\"a79e8ad6-79ac-4d06-a93f-449aca8e9240\")>,\n",
       " <selenium.webdriver.firefox.webelement.FirefoxWebElement (session=\"1e75a7b3-4c63-4e0c-b56b-7c3562f39a8b\", element=\"479e983e-024c-4a31-b842-7aaeab5405e0\")>,\n",
       " <selenium.webdriver.firefox.webelement.FirefoxWebElement (session=\"1e75a7b3-4c63-4e0c-b56b-7c3562f39a8b\", element=\"11bee430-2173-498d-a5e6-5084b7ced0fe\")>,\n",
       " <selenium.webdriver.firefox.webelement.FirefoxWebElement (session=\"1e75a7b3-4c63-4e0c-b56b-7c3562f39a8b\", element=\"a90de13e-e869-4a9f-a5cd-17eb96cc3744\")>,\n",
       " <selenium.webdriver.firefox.webelement.FirefoxWebElement (session=\"1e75a7b3-4c63-4e0c-b56b-7c3562f39a8b\", element=\"79def28e-cf58-452f-bb86-7d8137791dd9\")>,\n",
       " <selenium.webdriver.firefox.webelement.FirefoxWebElement (session=\"1e75a7b3-4c63-4e0c-b56b-7c3562f39a8b\", element=\"2e4e5f62-d5f4-4051-8e7a-59134dfebc1c\")>,\n",
       " <selenium.webdriver.firefox.webelement.FirefoxWebElement (session=\"1e75a7b3-4c63-4e0c-b56b-7c3562f39a8b\", element=\"9926fbe4-26f2-4a29-888c-43606e47fa21\")>,\n",
       " <selenium.webdriver.firefox.webelement.FirefoxWebElement (session=\"1e75a7b3-4c63-4e0c-b56b-7c3562f39a8b\", element=\"8a67f00d-f447-4662-9cb3-11b643b56098\")>]"
      ]
     },
     "execution_count": 17,
     "metadata": {},
     "output_type": "execute_result"
    }
   ],
   "source": [
    "#extracting the Rating.\n",
    "rating= driver.find_elements_by_xpath(\"//span[@class='css-19pjha7 e1cjmv6j1']\")\n",
    "rating"
   ]
  },
  {
   "cell_type": "code",
   "execution_count": 18,
   "metadata": {},
   "outputs": [
    {
     "data": {
      "text/plain": [
       "['4.0',\n",
       " '4.0',\n",
       " '4.4',\n",
       " '5.0',\n",
       " '4.2',\n",
       " '3.7',\n",
       " '3.8',\n",
       " '4.8',\n",
       " '3.9',\n",
       " '3.1',\n",
       " '3.8',\n",
       " '4.2',\n",
       " '4.3',\n",
       " '3.0',\n",
       " '4.3',\n",
       " '4.3',\n",
       " '3.9',\n",
       " '4.0',\n",
       " '4.0',\n",
       " '3.9',\n",
       " '4.3',\n",
       " '4.0',\n",
       " '4.5',\n",
       " '4.0',\n",
       " '3.7',\n",
       " '4.1',\n",
       " '3.9']"
      ]
     },
     "execution_count": 18,
     "metadata": {},
     "output_type": "execute_result"
    }
   ],
   "source": [
    "for i in rating:\n",
    "    rate=i.text\n",
    "    Rating.append(rate)\n",
    "Rating"
   ]
  },
  {
   "cell_type": "code",
   "execution_count": 22,
   "metadata": {},
   "outputs": [],
   "source": [
    "#creating a data frame.\n",
    "Data_Scientist=pd.DataFrame({})\n",
    "Data_Scientist['Comapany_name'] = Comapany_name[0:10]\n",
    "Data_Scientist['Rating'] = Rating[0:10]\n",
    "Data_Scientist['No_of_days_ago'] = No_of_days_ago[0:10]"
   ]
  },
  {
   "cell_type": "code",
   "execution_count": 23,
   "metadata": {},
   "outputs": [
    {
     "data": {
      "text/html": [
       "<div>\n",
       "<style scoped>\n",
       "    .dataframe tbody tr th:only-of-type {\n",
       "        vertical-align: middle;\n",
       "    }\n",
       "\n",
       "    .dataframe tbody tr th {\n",
       "        vertical-align: top;\n",
       "    }\n",
       "\n",
       "    .dataframe thead th {\n",
       "        text-align: right;\n",
       "    }\n",
       "</style>\n",
       "<table border=\"1\" class=\"dataframe\">\n",
       "  <thead>\n",
       "    <tr style=\"text-align: right;\">\n",
       "      <th></th>\n",
       "      <th>Comapany_name</th>\n",
       "      <th>Rating</th>\n",
       "      <th>No_of_days_ago</th>\n",
       "    </tr>\n",
       "  </thead>\n",
       "  <tbody>\n",
       "    <tr>\n",
       "      <th>0</th>\n",
       "      <td>BlackRock</td>\n",
       "      <td>4.0</td>\n",
       "      <td>18d</td>\n",
       "    </tr>\n",
       "    <tr>\n",
       "      <th>1</th>\n",
       "      <td>BlackRock</td>\n",
       "      <td>4.0</td>\n",
       "      <td>18d</td>\n",
       "    </tr>\n",
       "    <tr>\n",
       "      <th>2</th>\n",
       "      <td>Adobe</td>\n",
       "      <td>4.4</td>\n",
       "      <td>6d</td>\n",
       "    </tr>\n",
       "    <tr>\n",
       "      <th>3</th>\n",
       "      <td>Techlive</td>\n",
       "      <td>5.0</td>\n",
       "      <td>6d</td>\n",
       "    </tr>\n",
       "    <tr>\n",
       "      <th>4</th>\n",
       "      <td>abc consultants</td>\n",
       "      <td>4.2</td>\n",
       "      <td>24h</td>\n",
       "    </tr>\n",
       "    <tr>\n",
       "      <th>5</th>\n",
       "      <td>Priority Vendor</td>\n",
       "      <td>3.7</td>\n",
       "      <td>27d</td>\n",
       "    </tr>\n",
       "    <tr>\n",
       "      <th>6</th>\n",
       "      <td>Biz2Credit Inc</td>\n",
       "      <td>3.8</td>\n",
       "      <td>8d</td>\n",
       "    </tr>\n",
       "    <tr>\n",
       "      <th>7</th>\n",
       "      <td>Healtheoz India</td>\n",
       "      <td>4.8</td>\n",
       "      <td>27d</td>\n",
       "    </tr>\n",
       "    <tr>\n",
       "      <th>8</th>\n",
       "      <td>Srijan Technologies Pvt Ltd</td>\n",
       "      <td>3.9</td>\n",
       "      <td>4d</td>\n",
       "    </tr>\n",
       "    <tr>\n",
       "      <th>9</th>\n",
       "      <td>Gauge Data Solutions</td>\n",
       "      <td>3.1</td>\n",
       "      <td>27d</td>\n",
       "    </tr>\n",
       "  </tbody>\n",
       "</table>\n",
       "</div>"
      ],
      "text/plain": [
       "                 Comapany_name Rating No_of_days_ago\n",
       "0                    BlackRock    4.0            18d\n",
       "1                    BlackRock    4.0            18d\n",
       "2                        Adobe    4.4             6d\n",
       "3                     Techlive    5.0             6d\n",
       "4              abc consultants    4.2            24h\n",
       "5              Priority Vendor    3.7            27d\n",
       "6               Biz2Credit Inc    3.8             8d\n",
       "7              Healtheoz India    4.8            27d\n",
       "8  Srijan Technologies Pvt Ltd    3.9             4d\n",
       "9         Gauge Data Solutions    3.1            27d"
      ]
     },
     "execution_count": 23,
     "metadata": {},
     "output_type": "execute_result"
    }
   ],
   "source": [
    "Data_Scientist"
   ]
  },
  {
   "cell_type": "code",
   "execution_count": null,
   "metadata": {},
   "outputs": [],
   "source": []
  },
  {
   "cell_type": "code",
   "execution_count": null,
   "metadata": {},
   "outputs": [],
   "source": [
    "driver.close()"
   ]
  },
  {
   "cell_type": "code",
   "execution_count": null,
   "metadata": {},
   "outputs": [],
   "source": []
  },
  {
   "cell_type": "markdown",
   "metadata": {},
   "source": [
    "# Q5: Write a python program to scrape \n",
    "the salary data for Data Scientist designation\n",
    "in Noida location.\n",
    "\n",
    "You have to scrape Company name, Number of salaries, Average salary, Min\n",
    "salary, Max Salary.\n",
    "\n",
    "The above task will be, done as shown in the below steps:\n",
    "\n",
    "1. first get the webpage https://www.glassdoor.co.in/Salaries/index.htm\n",
    "\n",
    "2. Enter “Data Scientist” in Job title field and “Noida” in location field.\n",
    "\n",
    "3. Click the search button.\n",
    "\n",
    "4. After that you will land on the below page\n",
    "You have to scrape whole data from this webpage\n",
    "\n",
    "5. Scrape data for first 10 companies. Scrape the min salary, max salary, company\n",
    "name, Average salary and rating of the company.\n",
    "6.Store the data in a dataframe."
   ]
  },
  {
   "cell_type": "code",
   "execution_count": 1,
   "metadata": {},
   "outputs": [],
   "source": [
    "#importing required libraries.\n",
    "import pandas as pd\n",
    "import selenium\n",
    "from selenium import webdriver"
   ]
  },
  {
   "cell_type": "code",
   "execution_count": 2,
   "metadata": {},
   "outputs": [],
   "source": [
    "driver = webdriver.Edge(r\"C:\\Users\\laxmi\\FlipRobo\\edgedriver_win64\\msedgedriver.exe\")"
   ]
  },
  {
   "cell_type": "code",
   "execution_count": 3,
   "metadata": {},
   "outputs": [],
   "source": [
    "driver.get('https://www.glassdoor.co.in/Salaries/index.htm')"
   ]
  },
  {
   "cell_type": "code",
   "execution_count": 4,
   "metadata": {},
   "outputs": [],
   "source": [
    "#finding and filling the title and location of the required job using automation.\n",
    "search_job = driver.find_element_by_id('KeywordSearch')\n",
    "search_job.send_keys('Data Scientist')"
   ]
  },
  {
   "cell_type": "code",
   "execution_count": 5,
   "metadata": {},
   "outputs": [],
   "source": [
    "search_loc = driver.find_element_by_id('LocationSearch')\n",
    "search_loc.send_keys('Noida')"
   ]
  },
  {
   "cell_type": "code",
   "execution_count": 6,
   "metadata": {},
   "outputs": [],
   "source": [
    "#finding and clicking the search button using automation.\n",
    "search_btn = driver.find_element_by_id('HeroSearchButton')\n",
    "search_btn.click()"
   ]
  },
  {
   "cell_type": "code",
   "execution_count": 20,
   "metadata": {},
   "outputs": [],
   "source": [
    "#creating the list.\n",
    "Comapany_name=[]\n",
    "No_of_salary=[]\n",
    "Avg_salary=[]\n",
    "Min_salary=[]\n",
    "Max_salary=[]"
   ]
  },
  {
   "cell_type": "code",
   "execution_count": 21,
   "metadata": {},
   "outputs": [
    {
     "data": {
      "text/plain": [
       "[<selenium.webdriver.remote.webelement.WebElement (session=\"087d83754875b3f7f450d6942696a6c3\", element=\"2425625f-4ce6-44e1-8a52-a624ca180aa2\")>,\n",
       " <selenium.webdriver.remote.webelement.WebElement (session=\"087d83754875b3f7f450d6942696a6c3\", element=\"e9bb4c63-1d05-494a-8f94-2cdb017bfd39\")>,\n",
       " <selenium.webdriver.remote.webelement.WebElement (session=\"087d83754875b3f7f450d6942696a6c3\", element=\"d33eb57e-5131-4e30-8078-e084e191b795\")>,\n",
       " <selenium.webdriver.remote.webelement.WebElement (session=\"087d83754875b3f7f450d6942696a6c3\", element=\"8bc64eb5-943a-4440-b3a2-d0845e3b1610\")>,\n",
       " <selenium.webdriver.remote.webelement.WebElement (session=\"087d83754875b3f7f450d6942696a6c3\", element=\"969dce03-4deb-49b7-89c0-fd4fc2c1b466\")>,\n",
       " <selenium.webdriver.remote.webelement.WebElement (session=\"087d83754875b3f7f450d6942696a6c3\", element=\"3d514421-72d2-4149-9262-16d104ec37b4\")>,\n",
       " <selenium.webdriver.remote.webelement.WebElement (session=\"087d83754875b3f7f450d6942696a6c3\", element=\"93753190-595a-4132-817e-4168f39a3ad6\")>,\n",
       " <selenium.webdriver.remote.webelement.WebElement (session=\"087d83754875b3f7f450d6942696a6c3\", element=\"bce1d629-1549-46f0-96f4-d9cb97b308f9\")>,\n",
       " <selenium.webdriver.remote.webelement.WebElement (session=\"087d83754875b3f7f450d6942696a6c3\", element=\"704940e3-0fd0-4704-9963-10623de2ef5c\")>,\n",
       " <selenium.webdriver.remote.webelement.WebElement (session=\"087d83754875b3f7f450d6942696a6c3\", element=\"f5b09f72-4816-47ad-95cb-6d2ea16f5da6\")>,\n",
       " <selenium.webdriver.remote.webelement.WebElement (session=\"087d83754875b3f7f450d6942696a6c3\", element=\"f8a44ff7-09a9-4d40-88d1-5b23078152af\")>,\n",
       " <selenium.webdriver.remote.webelement.WebElement (session=\"087d83754875b3f7f450d6942696a6c3\", element=\"10aa58b1-06d8-45a3-aff5-759c8c6ff157\")>,\n",
       " <selenium.webdriver.remote.webelement.WebElement (session=\"087d83754875b3f7f450d6942696a6c3\", element=\"a7986a64-b9da-4cb2-b888-7c99c51e35ab\")>,\n",
       " <selenium.webdriver.remote.webelement.WebElement (session=\"087d83754875b3f7f450d6942696a6c3\", element=\"029bb5b8-ca85-4b46-b840-0d985aefbb04\")>,\n",
       " <selenium.webdriver.remote.webelement.WebElement (session=\"087d83754875b3f7f450d6942696a6c3\", element=\"8c20e985-468a-4b13-b68e-eafe27f2937a\")>,\n",
       " <selenium.webdriver.remote.webelement.WebElement (session=\"087d83754875b3f7f450d6942696a6c3\", element=\"fb5492e5-7932-4eab-b0b0-ae0fe9cd2c8c\")>,\n",
       " <selenium.webdriver.remote.webelement.WebElement (session=\"087d83754875b3f7f450d6942696a6c3\", element=\"ce2f9aec-6b18-425c-8045-ecc82a11305b\")>,\n",
       " <selenium.webdriver.remote.webelement.WebElement (session=\"087d83754875b3f7f450d6942696a6c3\", element=\"44fef7f0-461c-4098-9812-e17522934e26\")>,\n",
       " <selenium.webdriver.remote.webelement.WebElement (session=\"087d83754875b3f7f450d6942696a6c3\", element=\"b1f59b2a-5458-45e9-9d9e-de431f4bcada\")>,\n",
       " <selenium.webdriver.remote.webelement.WebElement (session=\"087d83754875b3f7f450d6942696a6c3\", element=\"9a2026f6-1ba3-4a68-bfae-ad360b052a6b\")>]"
      ]
     },
     "execution_count": 21,
     "metadata": {},
     "output_type": "execute_result"
    }
   ],
   "source": [
    "#extracting the comapany names.\n",
    "company_tags= driver.find_elements_by_xpath(\"//p[@class='m-0 ']\")\n",
    "company_tags"
   ]
  },
  {
   "cell_type": "code",
   "execution_count": 22,
   "metadata": {},
   "outputs": [
    {
     "data": {
      "text/plain": [
       "['Tata Consultancy Services',\n",
       " 'Accenture',\n",
       " 'Delhivery',\n",
       " 'IBM',\n",
       " 'Ericsson-Worldwide',\n",
       " 'UnitedHealth Group',\n",
       " 'Valiance Solutions',\n",
       " 'Innovaccer',\n",
       " 'ZS Associates',\n",
       " 'EXL Service',\n",
       " 'Cognizant Technology Solutions',\n",
       " 'Optum',\n",
       " 'Tech Mahindra',\n",
       " 'OYO',\n",
       " 'Optum Global Solutions',\n",
       " 'Vidooly Media Tech',\n",
       " 'Algo8.ai',\n",
       " 'Genpact',\n",
       " 'Bharti Airtel',\n",
       " 'Nagarro']"
      ]
     },
     "execution_count": 22,
     "metadata": {},
     "output_type": "execute_result"
    }
   ],
   "source": [
    "for i in company_tags:\n",
    "    company=i.text\n",
    "    Comapany_name.append(company)\n",
    "Comapany_name"
   ]
  },
  {
   "cell_type": "code",
   "execution_count": 23,
   "metadata": {},
   "outputs": [
    {
     "data": {
      "text/plain": [
       "[<selenium.webdriver.remote.webelement.WebElement (session=\"087d83754875b3f7f450d6942696a6c3\", element=\"53314bf7-098e-4879-9f34-dde777847d3e\")>,\n",
       " <selenium.webdriver.remote.webelement.WebElement (session=\"087d83754875b3f7f450d6942696a6c3\", element=\"82136370-b407-408b-8172-bda8f75c89d6\")>,\n",
       " <selenium.webdriver.remote.webelement.WebElement (session=\"087d83754875b3f7f450d6942696a6c3\", element=\"91c7cd54-289e-4c42-b3b5-899ba98a2e97\")>,\n",
       " <selenium.webdriver.remote.webelement.WebElement (session=\"087d83754875b3f7f450d6942696a6c3\", element=\"cf22bb86-5254-46e7-b200-7c737df58432\")>,\n",
       " <selenium.webdriver.remote.webelement.WebElement (session=\"087d83754875b3f7f450d6942696a6c3\", element=\"d31bff30-df2c-4856-bfaa-0b687f76a2bf\")>,\n",
       " <selenium.webdriver.remote.webelement.WebElement (session=\"087d83754875b3f7f450d6942696a6c3\", element=\"dca4d97e-b379-4855-b2f9-4f2dae539788\")>,\n",
       " <selenium.webdriver.remote.webelement.WebElement (session=\"087d83754875b3f7f450d6942696a6c3\", element=\"e0fa589a-e312-427d-8bff-cfa0b681f094\")>,\n",
       " <selenium.webdriver.remote.webelement.WebElement (session=\"087d83754875b3f7f450d6942696a6c3\", element=\"1e34d121-b0cc-484a-8e94-f26125e86e6a\")>,\n",
       " <selenium.webdriver.remote.webelement.WebElement (session=\"087d83754875b3f7f450d6942696a6c3\", element=\"f4c05792-f608-4e55-8fb6-05e9864de7e4\")>,\n",
       " <selenium.webdriver.remote.webelement.WebElement (session=\"087d83754875b3f7f450d6942696a6c3\", element=\"79fc53ff-1e8a-42ef-94d5-093b04153915\")>,\n",
       " <selenium.webdriver.remote.webelement.WebElement (session=\"087d83754875b3f7f450d6942696a6c3\", element=\"2a375ab9-8cdd-46a3-934b-99ebd3033ace\")>,\n",
       " <selenium.webdriver.remote.webelement.WebElement (session=\"087d83754875b3f7f450d6942696a6c3\", element=\"db1007ac-4fdc-4c3e-8a3a-9d48d2e3e964\")>,\n",
       " <selenium.webdriver.remote.webelement.WebElement (session=\"087d83754875b3f7f450d6942696a6c3\", element=\"88f44662-85cd-46ae-b3f9-89cc153dd2b4\")>,\n",
       " <selenium.webdriver.remote.webelement.WebElement (session=\"087d83754875b3f7f450d6942696a6c3\", element=\"eb96e478-641c-44d8-8ffc-55f087c48f72\")>,\n",
       " <selenium.webdriver.remote.webelement.WebElement (session=\"087d83754875b3f7f450d6942696a6c3\", element=\"4bdc8463-e238-4246-9425-fe05bfc42028\")>,\n",
       " <selenium.webdriver.remote.webelement.WebElement (session=\"087d83754875b3f7f450d6942696a6c3\", element=\"c5cff7db-add2-4daa-8856-b4d7585aef1b\")>,\n",
       " <selenium.webdriver.remote.webelement.WebElement (session=\"087d83754875b3f7f450d6942696a6c3\", element=\"d9424e21-4411-4271-8eb0-be86116dfa78\")>,\n",
       " <selenium.webdriver.remote.webelement.WebElement (session=\"087d83754875b3f7f450d6942696a6c3\", element=\"8e6c1afb-e6c0-4137-8764-3273b480d738\")>,\n",
       " <selenium.webdriver.remote.webelement.WebElement (session=\"087d83754875b3f7f450d6942696a6c3\", element=\"fb003918-4559-44d8-bad7-0a8a3bdc5cf0\")>,\n",
       " <selenium.webdriver.remote.webelement.WebElement (session=\"087d83754875b3f7f450d6942696a6c3\", element=\"23a64c7b-58c6-4a65-841f-cf5708321aa2\")>]"
      ]
     },
     "execution_count": 23,
     "metadata": {},
     "output_type": "execute_result"
    }
   ],
   "source": [
    "#extracting the No_of_salary.\n",
    "salary= driver.find_elements_by_xpath(\"//p[@class='css-1uyte9r css-1kuy7z7 m-0 ']\")\n",
    "salary"
   ]
  },
  {
   "cell_type": "code",
   "execution_count": 24,
   "metadata": {},
   "outputs": [
    {
     "data": {
      "text/plain": [
       "['14 salaries',\n",
       " '14 salaries',\n",
       " '14 salaries',\n",
       " '13 salaries',\n",
       " '12 salaries',\n",
       " '10 salaries',\n",
       " '9 salaries',\n",
       " '8 salaries',\n",
       " '7 salaries',\n",
       " '7 salaries',\n",
       " '6 salaries',\n",
       " '6 salaries',\n",
       " '5 salaries',\n",
       " '5 salaries',\n",
       " '5 salaries',\n",
       " '5 salaries',\n",
       " '5 salaries',\n",
       " '4 salaries',\n",
       " '4 salaries',\n",
       " '4 salaries']"
      ]
     },
     "execution_count": 24,
     "metadata": {},
     "output_type": "execute_result"
    }
   ],
   "source": [
    "for i in salary:\n",
    "    sal=i.text\n",
    "    No_of_salary.append(sal)\n",
    "No_of_salary"
   ]
  },
  {
   "cell_type": "code",
   "execution_count": 25,
   "metadata": {},
   "outputs": [
    {
     "data": {
      "text/plain": [
       "[<selenium.webdriver.remote.webelement.WebElement (session=\"087d83754875b3f7f450d6942696a6c3\", element=\"ff96dab6-ba9d-4c10-ad9c-b112dadcf7f1\")>,\n",
       " <selenium.webdriver.remote.webelement.WebElement (session=\"087d83754875b3f7f450d6942696a6c3\", element=\"cf96688d-232f-4fa5-8ad6-c76a8fc31101\")>,\n",
       " <selenium.webdriver.remote.webelement.WebElement (session=\"087d83754875b3f7f450d6942696a6c3\", element=\"45f5ca4e-4e06-4778-a931-0e262eced55b\")>,\n",
       " <selenium.webdriver.remote.webelement.WebElement (session=\"087d83754875b3f7f450d6942696a6c3\", element=\"e8c0ce63-0e77-4a39-bf52-b52bc86ddceb\")>,\n",
       " <selenium.webdriver.remote.webelement.WebElement (session=\"087d83754875b3f7f450d6942696a6c3\", element=\"3f91212b-be87-4d0d-8547-4016b85911c8\")>,\n",
       " <selenium.webdriver.remote.webelement.WebElement (session=\"087d83754875b3f7f450d6942696a6c3\", element=\"aae0c598-1e42-483c-8468-379cbb83d00e\")>,\n",
       " <selenium.webdriver.remote.webelement.WebElement (session=\"087d83754875b3f7f450d6942696a6c3\", element=\"458344db-0fab-4637-8472-b94bc6d6dc2f\")>,\n",
       " <selenium.webdriver.remote.webelement.WebElement (session=\"087d83754875b3f7f450d6942696a6c3\", element=\"66bb05e4-fc1a-49a5-9bd3-a3e3850e8f6c\")>,\n",
       " <selenium.webdriver.remote.webelement.WebElement (session=\"087d83754875b3f7f450d6942696a6c3\", element=\"e1b7930c-7aaa-4507-8733-7e80e094e7f8\")>,\n",
       " <selenium.webdriver.remote.webelement.WebElement (session=\"087d83754875b3f7f450d6942696a6c3\", element=\"67bcf4ed-0736-4b5c-9d03-843a54db2d70\")>,\n",
       " <selenium.webdriver.remote.webelement.WebElement (session=\"087d83754875b3f7f450d6942696a6c3\", element=\"a3e67235-1c71-4982-92f0-358c07b5811d\")>,\n",
       " <selenium.webdriver.remote.webelement.WebElement (session=\"087d83754875b3f7f450d6942696a6c3\", element=\"67fdc133-2c76-461e-9366-1fc544d05b51\")>,\n",
       " <selenium.webdriver.remote.webelement.WebElement (session=\"087d83754875b3f7f450d6942696a6c3\", element=\"561aa5b5-e3f4-41cf-9943-c397eebc8deb\")>,\n",
       " <selenium.webdriver.remote.webelement.WebElement (session=\"087d83754875b3f7f450d6942696a6c3\", element=\"6f57f273-4a14-4165-a36b-c0e150a59298\")>,\n",
       " <selenium.webdriver.remote.webelement.WebElement (session=\"087d83754875b3f7f450d6942696a6c3\", element=\"17132da0-1321-4673-81f2-4dafd2ce5abd\")>,\n",
       " <selenium.webdriver.remote.webelement.WebElement (session=\"087d83754875b3f7f450d6942696a6c3\", element=\"0c99b483-4097-4d0c-b6fd-f0eb94955caf\")>,\n",
       " <selenium.webdriver.remote.webelement.WebElement (session=\"087d83754875b3f7f450d6942696a6c3\", element=\"dc648b9b-62dc-41c5-bb48-2ab99a1539c1\")>,\n",
       " <selenium.webdriver.remote.webelement.WebElement (session=\"087d83754875b3f7f450d6942696a6c3\", element=\"85d6bdf3-75d5-41c7-bb21-2fd307d9b1df\")>,\n",
       " <selenium.webdriver.remote.webelement.WebElement (session=\"087d83754875b3f7f450d6942696a6c3\", element=\"21f1bb71-6b74-4ecc-9fc3-0ed1e426ef68\")>,\n",
       " <selenium.webdriver.remote.webelement.WebElement (session=\"087d83754875b3f7f450d6942696a6c3\", element=\"b91b4ea6-a369-48a9-a6fd-caf6b765b5bf\")>]"
      ]
     },
     "execution_count": 25,
     "metadata": {},
     "output_type": "execute_result"
    }
   ],
   "source": [
    "#extracting the Min_salary.\n",
    "Min_sal= driver.find_elements_by_xpath(\"//div[@class='common__RangeBarStyle__values d-flex justify-content-between ']/span[1]\")\n",
    "Min_sal"
   ]
  },
  {
   "cell_type": "code",
   "execution_count": 26,
   "metadata": {},
   "outputs": [
    {
     "data": {
      "text/plain": [
       "['₹333K',\n",
       " '₹560K',\n",
       " '₹436K',\n",
       " '₹569K',\n",
       " '₹350K',\n",
       " '₹1,037K',\n",
       " '₹487K',\n",
       " '₹602K',\n",
       " '₹196K',\n",
       " '₹558K',\n",
       " '₹769K',\n",
       " '₹783K',\n",
       " '₹400K',\n",
       " '₹942K',\n",
       " '₹1,000K',\n",
       " '₹12K',\n",
       " '₹83K',\n",
       " '₹160K',\n",
       " '₹705K',\n",
       " '₹613K']"
      ]
     },
     "execution_count": 26,
     "metadata": {},
     "output_type": "execute_result"
    }
   ],
   "source": [
    "for i in Min_sal:\n",
    "    Minsal=i.text\n",
    "    Min_salary.append(Minsal)\n",
    "Min_salary"
   ]
  },
  {
   "cell_type": "code",
   "execution_count": 27,
   "metadata": {},
   "outputs": [
    {
     "data": {
      "text/plain": [
       "[<selenium.webdriver.remote.webelement.WebElement (session=\"087d83754875b3f7f450d6942696a6c3\", element=\"a65d22a5-adfe-4ac5-bc65-4cb4b27969c6\")>,\n",
       " <selenium.webdriver.remote.webelement.WebElement (session=\"087d83754875b3f7f450d6942696a6c3\", element=\"7fe1b000-2af8-4159-829c-5e8c9a47411b\")>,\n",
       " <selenium.webdriver.remote.webelement.WebElement (session=\"087d83754875b3f7f450d6942696a6c3\", element=\"3608bf54-3d3f-48b0-871d-a7c372383eb4\")>,\n",
       " <selenium.webdriver.remote.webelement.WebElement (session=\"087d83754875b3f7f450d6942696a6c3\", element=\"71c42692-a1d3-49bd-b8db-a162989a3b74\")>,\n",
       " <selenium.webdriver.remote.webelement.WebElement (session=\"087d83754875b3f7f450d6942696a6c3\", element=\"eb97549e-8d01-4a43-a303-29a6dda13243\")>,\n",
       " <selenium.webdriver.remote.webelement.WebElement (session=\"087d83754875b3f7f450d6942696a6c3\", element=\"ad14d057-236a-4633-8b0f-95ba80462b7b\")>,\n",
       " <selenium.webdriver.remote.webelement.WebElement (session=\"087d83754875b3f7f450d6942696a6c3\", element=\"1a8e215f-b747-4ee1-894c-4f66dfc1a2a3\")>,\n",
       " <selenium.webdriver.remote.webelement.WebElement (session=\"087d83754875b3f7f450d6942696a6c3\", element=\"d4864c62-f6ec-457b-8737-ca5824bbd4ee\")>,\n",
       " <selenium.webdriver.remote.webelement.WebElement (session=\"087d83754875b3f7f450d6942696a6c3\", element=\"41d52bc7-4206-4a47-8721-ee59c29ab2e4\")>,\n",
       " <selenium.webdriver.remote.webelement.WebElement (session=\"087d83754875b3f7f450d6942696a6c3\", element=\"6226aa8b-6253-4fa9-96be-18ace95e3a96\")>,\n",
       " <selenium.webdriver.remote.webelement.WebElement (session=\"087d83754875b3f7f450d6942696a6c3\", element=\"df943e26-0b55-45f3-8d2d-b576c7501524\")>,\n",
       " <selenium.webdriver.remote.webelement.WebElement (session=\"087d83754875b3f7f450d6942696a6c3\", element=\"6a6cb502-2e5a-43c1-96d1-243c01293a48\")>,\n",
       " <selenium.webdriver.remote.webelement.WebElement (session=\"087d83754875b3f7f450d6942696a6c3\", element=\"873de5dd-c44e-45f5-80bd-7df1f5ddaae9\")>,\n",
       " <selenium.webdriver.remote.webelement.WebElement (session=\"087d83754875b3f7f450d6942696a6c3\", element=\"0dfd6191-6cff-4397-861c-f181a75f8a4f\")>,\n",
       " <selenium.webdriver.remote.webelement.WebElement (session=\"087d83754875b3f7f450d6942696a6c3\", element=\"388deaab-2b07-4d6a-8804-0bb1230d7eaf\")>,\n",
       " <selenium.webdriver.remote.webelement.WebElement (session=\"087d83754875b3f7f450d6942696a6c3\", element=\"2c3898b4-77c3-42ce-a0c0-ebeaf18ca3b7\")>,\n",
       " <selenium.webdriver.remote.webelement.WebElement (session=\"087d83754875b3f7f450d6942696a6c3\", element=\"28ad8e73-e97a-4c0a-93cd-5121dd8722f9\")>,\n",
       " <selenium.webdriver.remote.webelement.WebElement (session=\"087d83754875b3f7f450d6942696a6c3\", element=\"5208f256-336f-418c-ac36-dbeca2840038\")>,\n",
       " <selenium.webdriver.remote.webelement.WebElement (session=\"087d83754875b3f7f450d6942696a6c3\", element=\"3551c19e-c22b-4259-a66b-9f079f29625b\")>,\n",
       " <selenium.webdriver.remote.webelement.WebElement (session=\"087d83754875b3f7f450d6942696a6c3\", element=\"ebbb58c0-dee0-4177-aa6c-089a368585ea\")>]"
      ]
     },
     "execution_count": 27,
     "metadata": {},
     "output_type": "execute_result"
    }
   ],
   "source": [
    "#extracting the Max_salary.\n",
    "Max_sal= driver.find_elements_by_xpath(\"//div[@class='common__RangeBarStyle__values d-flex justify-content-between ']/span[2]\")\n",
    "Max_sal"
   ]
  },
  {
   "cell_type": "code",
   "execution_count": 28,
   "metadata": {},
   "outputs": [
    {
     "data": {
      "text/plain": [
       "['₹1,080K',\n",
       " '₹2,147K',\n",
       " '₹11,274K',\n",
       " '₹2,648K',\n",
       " '₹1,565K',\n",
       " '₹1,500K',\n",
       " '₹1,421K',\n",
       " '₹1,644K',\n",
       " '₹1,755K',\n",
       " '₹1,500K',\n",
       " '₹1,225K',\n",
       " '₹1,959K',\n",
       " '₹1,680K',\n",
       " '₹1,827K',\n",
       " '₹2,085K',\n",
       " '₹61K',\n",
       " '₹1,317K',\n",
       " '₹2,178K',\n",
       " '₹2,030K',\n",
       " '₹1,091K']"
      ]
     },
     "execution_count": 28,
     "metadata": {},
     "output_type": "execute_result"
    }
   ],
   "source": [
    "for i in Max_sal:\n",
    "    Maxsal=i.text\n",
    "    Max_salary.append(Maxsal)\n",
    "Max_salary"
   ]
  },
  {
   "cell_type": "code",
   "execution_count": 29,
   "metadata": {},
   "outputs": [
    {
     "data": {
      "text/plain": [
       "[<selenium.webdriver.remote.webelement.WebElement (session=\"087d83754875b3f7f450d6942696a6c3\", element=\"4e8a699c-2125-4ea4-99ed-e71f22d9a740\")>,\n",
       " <selenium.webdriver.remote.webelement.WebElement (session=\"087d83754875b3f7f450d6942696a6c3\", element=\"f373cf89-fa97-49c5-8b70-5c163c2dbd14\")>,\n",
       " <selenium.webdriver.remote.webelement.WebElement (session=\"087d83754875b3f7f450d6942696a6c3\", element=\"f7b137e3-e375-4c99-b43a-a547371bd508\")>,\n",
       " <selenium.webdriver.remote.webelement.WebElement (session=\"087d83754875b3f7f450d6942696a6c3\", element=\"17979bfd-5dfe-4bbb-8a79-298c31763417\")>,\n",
       " <selenium.webdriver.remote.webelement.WebElement (session=\"087d83754875b3f7f450d6942696a6c3\", element=\"1ded0c9e-c498-44e4-b92a-17cc47b398f1\")>,\n",
       " <selenium.webdriver.remote.webelement.WebElement (session=\"087d83754875b3f7f450d6942696a6c3\", element=\"595f3dec-2a2b-444e-bb2e-25d96573a2fd\")>,\n",
       " <selenium.webdriver.remote.webelement.WebElement (session=\"087d83754875b3f7f450d6942696a6c3\", element=\"3ad6d7fc-ff21-474b-bc9c-c7df08a5961c\")>,\n",
       " <selenium.webdriver.remote.webelement.WebElement (session=\"087d83754875b3f7f450d6942696a6c3\", element=\"7a3b7dba-31bf-483a-b69c-010cfc1fac00\")>,\n",
       " <selenium.webdriver.remote.webelement.WebElement (session=\"087d83754875b3f7f450d6942696a6c3\", element=\"ca5c6832-06df-4e91-9c70-21d498806837\")>,\n",
       " <selenium.webdriver.remote.webelement.WebElement (session=\"087d83754875b3f7f450d6942696a6c3\", element=\"83508fd1-b3c9-4fe2-bb1e-760bb1c3158a\")>,\n",
       " <selenium.webdriver.remote.webelement.WebElement (session=\"087d83754875b3f7f450d6942696a6c3\", element=\"aec4cdee-66d8-44d8-ad30-06b09bb5ebaf\")>,\n",
       " <selenium.webdriver.remote.webelement.WebElement (session=\"087d83754875b3f7f450d6942696a6c3\", element=\"6ecdd427-02f7-4b8f-b8bf-880f20131289\")>,\n",
       " <selenium.webdriver.remote.webelement.WebElement (session=\"087d83754875b3f7f450d6942696a6c3\", element=\"185eff1d-ec70-410a-a269-971e170cf0b0\")>,\n",
       " <selenium.webdriver.remote.webelement.WebElement (session=\"087d83754875b3f7f450d6942696a6c3\", element=\"dc27d3ed-62bc-4f5a-a466-697de478a8e8\")>,\n",
       " <selenium.webdriver.remote.webelement.WebElement (session=\"087d83754875b3f7f450d6942696a6c3\", element=\"913322df-2ff1-41b6-bd6c-884b4e7558ba\")>,\n",
       " <selenium.webdriver.remote.webelement.WebElement (session=\"087d83754875b3f7f450d6942696a6c3\", element=\"efb69ead-2948-465c-8c4e-4d363eed08d7\")>,\n",
       " <selenium.webdriver.remote.webelement.WebElement (session=\"087d83754875b3f7f450d6942696a6c3\", element=\"820c0401-32e7-4194-a4d5-6d6ddd0345b1\")>,\n",
       " <selenium.webdriver.remote.webelement.WebElement (session=\"087d83754875b3f7f450d6942696a6c3\", element=\"8abdc784-e86f-4556-b023-47fe997f50de\")>,\n",
       " <selenium.webdriver.remote.webelement.WebElement (session=\"087d83754875b3f7f450d6942696a6c3\", element=\"d0e2102f-c185-493c-b196-8ecf76514f48\")>,\n",
       " <selenium.webdriver.remote.webelement.WebElement (session=\"087d83754875b3f7f450d6942696a6c3\", element=\"fa953d0b-9243-468d-8843-1792d62646a7\")>]"
      ]
     },
     "execution_count": 29,
     "metadata": {},
     "output_type": "execute_result"
    }
   ],
   "source": [
    "#extracting the Avg_salary.\n",
    "Avg_sal= driver.find_elements_by_xpath(\"//div[@class='col-2 d-none d-md-flex flex-row justify-content-end']\")\n",
    "Avg_sal"
   ]
  },
  {
   "cell_type": "code",
   "execution_count": 30,
   "metadata": {},
   "outputs": [
    {
     "data": {
      "text/plain": [
       "['₹ 5,97,967/yr',\n",
       " '₹ 11,12,243/yr',\n",
       " '₹ 12,12,741/yr',\n",
       " '₹ 7,37,972/yr',\n",
       " '₹ 7,15,984/yr',\n",
       " '₹ 13,41,900/yr',\n",
       " '₹ 7,90,812/yr',\n",
       " '₹ 11,81,047/yr',\n",
       " '₹ 9,89,924/yr',\n",
       " '₹ 11,73,127/yr',\n",
       " '₹ 9,77,281/yr',\n",
       " '₹ 12,89,447/yr',\n",
       " '₹ 10,21,234/yr',\n",
       " '₹ 13,70,817/yr',\n",
       " '₹ 12,86,901/yr',\n",
       " '₹ 15,412/mo',\n",
       " '₹ 6,75,000/yr',\n",
       " '₹ 5,58,295/yr',\n",
       " '₹ 12,50,000/yr',\n",
       " '₹ 9,61,408/yr']"
      ]
     },
     "execution_count": 30,
     "metadata": {},
     "output_type": "execute_result"
    }
   ],
   "source": [
    "for i in Avg_sal:\n",
    "    Avgsal=i.text.replace(\"\\n\",\"\")\n",
    "    Avg_salary.append(Avgsal)\n",
    "Avg_salary"
   ]
  },
  {
   "cell_type": "code",
   "execution_count": 31,
   "metadata": {},
   "outputs": [],
   "source": [
    "#creating a data frame.\n",
    "Data_Scientist=pd.DataFrame({})\n",
    "Data_Scientist['Comapany_name'] = Comapany_name[0:10]\n",
    "Data_Scientist['No_of_salary'] = No_of_salary[0:10]\n",
    "Data_Scientist['Avg_salary'] = Avg_salary[0:10]\n",
    "Data_Scientist['Min_salary'] = Min_salary[0:10]\n",
    "Data_Scientist['Max_salary'] = Max_salary[0:10]"
   ]
  },
  {
   "cell_type": "code",
   "execution_count": 32,
   "metadata": {},
   "outputs": [
    {
     "data": {
      "text/html": [
       "<div>\n",
       "<style scoped>\n",
       "    .dataframe tbody tr th:only-of-type {\n",
       "        vertical-align: middle;\n",
       "    }\n",
       "\n",
       "    .dataframe tbody tr th {\n",
       "        vertical-align: top;\n",
       "    }\n",
       "\n",
       "    .dataframe thead th {\n",
       "        text-align: right;\n",
       "    }\n",
       "</style>\n",
       "<table border=\"1\" class=\"dataframe\">\n",
       "  <thead>\n",
       "    <tr style=\"text-align: right;\">\n",
       "      <th></th>\n",
       "      <th>Comapany_name</th>\n",
       "      <th>No_of_salary</th>\n",
       "      <th>Avg_salary</th>\n",
       "      <th>Min_salary</th>\n",
       "      <th>Max_salary</th>\n",
       "    </tr>\n",
       "  </thead>\n",
       "  <tbody>\n",
       "    <tr>\n",
       "      <th>0</th>\n",
       "      <td>Tata Consultancy Services</td>\n",
       "      <td>14 salaries</td>\n",
       "      <td>₹ 5,97,967/yr</td>\n",
       "      <td>₹333K</td>\n",
       "      <td>₹1,080K</td>\n",
       "    </tr>\n",
       "    <tr>\n",
       "      <th>1</th>\n",
       "      <td>Accenture</td>\n",
       "      <td>14 salaries</td>\n",
       "      <td>₹ 11,12,243/yr</td>\n",
       "      <td>₹560K</td>\n",
       "      <td>₹2,147K</td>\n",
       "    </tr>\n",
       "    <tr>\n",
       "      <th>2</th>\n",
       "      <td>Delhivery</td>\n",
       "      <td>14 salaries</td>\n",
       "      <td>₹ 12,12,741/yr</td>\n",
       "      <td>₹436K</td>\n",
       "      <td>₹11,274K</td>\n",
       "    </tr>\n",
       "    <tr>\n",
       "      <th>3</th>\n",
       "      <td>IBM</td>\n",
       "      <td>13 salaries</td>\n",
       "      <td>₹ 7,37,972/yr</td>\n",
       "      <td>₹569K</td>\n",
       "      <td>₹2,648K</td>\n",
       "    </tr>\n",
       "    <tr>\n",
       "      <th>4</th>\n",
       "      <td>Ericsson-Worldwide</td>\n",
       "      <td>12 salaries</td>\n",
       "      <td>₹ 7,15,984/yr</td>\n",
       "      <td>₹350K</td>\n",
       "      <td>₹1,565K</td>\n",
       "    </tr>\n",
       "    <tr>\n",
       "      <th>5</th>\n",
       "      <td>UnitedHealth Group</td>\n",
       "      <td>10 salaries</td>\n",
       "      <td>₹ 13,41,900/yr</td>\n",
       "      <td>₹1,037K</td>\n",
       "      <td>₹1,500K</td>\n",
       "    </tr>\n",
       "    <tr>\n",
       "      <th>6</th>\n",
       "      <td>Valiance Solutions</td>\n",
       "      <td>9 salaries</td>\n",
       "      <td>₹ 7,90,812/yr</td>\n",
       "      <td>₹487K</td>\n",
       "      <td>₹1,421K</td>\n",
       "    </tr>\n",
       "    <tr>\n",
       "      <th>7</th>\n",
       "      <td>Innovaccer</td>\n",
       "      <td>8 salaries</td>\n",
       "      <td>₹ 11,81,047/yr</td>\n",
       "      <td>₹602K</td>\n",
       "      <td>₹1,644K</td>\n",
       "    </tr>\n",
       "    <tr>\n",
       "      <th>8</th>\n",
       "      <td>ZS Associates</td>\n",
       "      <td>7 salaries</td>\n",
       "      <td>₹ 9,89,924/yr</td>\n",
       "      <td>₹196K</td>\n",
       "      <td>₹1,755K</td>\n",
       "    </tr>\n",
       "    <tr>\n",
       "      <th>9</th>\n",
       "      <td>EXL Service</td>\n",
       "      <td>7 salaries</td>\n",
       "      <td>₹ 11,73,127/yr</td>\n",
       "      <td>₹558K</td>\n",
       "      <td>₹1,500K</td>\n",
       "    </tr>\n",
       "  </tbody>\n",
       "</table>\n",
       "</div>"
      ],
      "text/plain": [
       "               Comapany_name No_of_salary      Avg_salary Min_salary  \\\n",
       "0  Tata Consultancy Services  14 salaries   ₹ 5,97,967/yr      ₹333K   \n",
       "1                  Accenture  14 salaries  ₹ 11,12,243/yr      ₹560K   \n",
       "2                  Delhivery  14 salaries  ₹ 12,12,741/yr      ₹436K   \n",
       "3                        IBM  13 salaries   ₹ 7,37,972/yr      ₹569K   \n",
       "4         Ericsson-Worldwide  12 salaries   ₹ 7,15,984/yr      ₹350K   \n",
       "5         UnitedHealth Group  10 salaries  ₹ 13,41,900/yr    ₹1,037K   \n",
       "6         Valiance Solutions   9 salaries   ₹ 7,90,812/yr      ₹487K   \n",
       "7                 Innovaccer   8 salaries  ₹ 11,81,047/yr      ₹602K   \n",
       "8              ZS Associates   7 salaries   ₹ 9,89,924/yr      ₹196K   \n",
       "9                EXL Service   7 salaries  ₹ 11,73,127/yr      ₹558K   \n",
       "\n",
       "  Max_salary  \n",
       "0    ₹1,080K  \n",
       "1    ₹2,147K  \n",
       "2   ₹11,274K  \n",
       "3    ₹2,648K  \n",
       "4    ₹1,565K  \n",
       "5    ₹1,500K  \n",
       "6    ₹1,421K  \n",
       "7    ₹1,644K  \n",
       "8    ₹1,755K  \n",
       "9    ₹1,500K  "
      ]
     },
     "execution_count": 32,
     "metadata": {},
     "output_type": "execute_result"
    }
   ],
   "source": [
    "Data_Scientist"
   ]
  },
  {
   "cell_type": "code",
   "execution_count": null,
   "metadata": {},
   "outputs": [],
   "source": []
  },
  {
   "cell_type": "code",
   "execution_count": null,
   "metadata": {},
   "outputs": [],
   "source": [
    "driver.close()"
   ]
  },
  {
   "cell_type": "code",
   "execution_count": null,
   "metadata": {},
   "outputs": [],
   "source": []
  },
  {
   "cell_type": "markdown",
   "metadata": {},
   "source": [
    "# Q6 : Scrape data of first 100 sunglasses listings on flipkart.com. You have to\n",
    "scrape four attributes:\n",
    "1. Brand\n",
    "2. Product Description\n",
    "3. Price\n",
    "4. Discount %\n",
    "\n",
    "The attributes which you have to scrape is ticked marked in the below image.\n",
    "To scrape the data you have to go through following steps:\n",
    "1. Go to flipkart webpage by url https://www.flipkart.com/\n",
    "2. Enter “sunglasses” in the search field where “search for products, brands and\n",
    "more” is written and click the search icon\n",
    "3. after that you will reach to a webpage having a lot of sunglasses. From this page\n",
    "you can scrap the required data as usual.\n",
    "4. after scraping data from the first page, go to the “Next” Button at the bottom of\n",
    "the page , then click on it\n",
    "5. Now scrape data from this page as usual\n",
    "6. repeat this until you get data for 100 sunglasses.\n"
   ]
  },
  {
   "cell_type": "code",
   "execution_count": 7,
   "metadata": {},
   "outputs": [],
   "source": [
    "import pandas as pd\n",
    "import selenium\n",
    "from selenium import webdriver"
   ]
  },
  {
   "cell_type": "code",
   "execution_count": 8,
   "metadata": {},
   "outputs": [],
   "source": [
    "driver = webdriver.Edge(r\"C:\\Users\\laxmi\\FlipRobo\\edgedriver_win64\\msedgedriver.exe\")"
   ]
  },
  {
   "cell_type": "code",
   "execution_count": 9,
   "metadata": {},
   "outputs": [],
   "source": [
    "driver.get(\"https://www.flipkart.com/\")"
   ]
  },
  {
   "cell_type": "code",
   "execution_count": 10,
   "metadata": {},
   "outputs": [],
   "source": [
    "#Closing the popup \n",
    "popup_close=driver.find_element_by_xpath(\"//button[@class='_2KpZ6l _2doB4z']\")\n",
    "popup_close.click()"
   ]
  },
  {
   "cell_type": "code",
   "execution_count": 11,
   "metadata": {},
   "outputs": [],
   "source": [
    "#finding and filling the product and searching using automation.\n",
    "search_product = driver.find_element_by_xpath(\"//input[@class='_3704LK']\")\n",
    "search_product.send_keys('sunglasses')"
   ]
  },
  {
   "cell_type": "code",
   "execution_count": 12,
   "metadata": {},
   "outputs": [],
   "source": [
    "search_button=driver.find_element_by_xpath(\"//button[@class='L0Z3Pu']\")\n",
    "search_button.click()"
   ]
  },
  {
   "cell_type": "code",
   "execution_count": 13,
   "metadata": {},
   "outputs": [
    {
     "data": {
      "text/plain": [
       "[<selenium.webdriver.remote.webelement.WebElement (session=\"24ce25bbbfc8cb79628f254c29af3c84\", element=\"afbcfcde-d2a3-45e7-9dd1-8cdaabb09058\")>,\n",
       " <selenium.webdriver.remote.webelement.WebElement (session=\"24ce25bbbfc8cb79628f254c29af3c84\", element=\"8be2950f-507e-4945-9ff7-52872ae3724a\")>,\n",
       " <selenium.webdriver.remote.webelement.WebElement (session=\"24ce25bbbfc8cb79628f254c29af3c84\", element=\"25e13865-1e3b-4708-96d4-1336c3d07994\")>,\n",
       " <selenium.webdriver.remote.webelement.WebElement (session=\"24ce25bbbfc8cb79628f254c29af3c84\", element=\"97799a1f-6b7b-42b7-9cf5-1be4d4b0c62e\")>,\n",
       " <selenium.webdriver.remote.webelement.WebElement (session=\"24ce25bbbfc8cb79628f254c29af3c84\", element=\"14bb11ac-8e51-48be-af85-5998863ba44f\")>,\n",
       " <selenium.webdriver.remote.webelement.WebElement (session=\"24ce25bbbfc8cb79628f254c29af3c84\", element=\"690c70c8-4b5a-41af-a04e-98afcca5ceb0\")>,\n",
       " <selenium.webdriver.remote.webelement.WebElement (session=\"24ce25bbbfc8cb79628f254c29af3c84\", element=\"3c53fbec-3f0a-44f6-b88c-7db295d2e158\")>,\n",
       " <selenium.webdriver.remote.webelement.WebElement (session=\"24ce25bbbfc8cb79628f254c29af3c84\", element=\"2571c2c7-8cc0-4872-b177-a7529a04238a\")>,\n",
       " <selenium.webdriver.remote.webelement.WebElement (session=\"24ce25bbbfc8cb79628f254c29af3c84\", element=\"7d5bfd0b-2c83-4769-b5e2-cefb29cb7089\")>,\n",
       " <selenium.webdriver.remote.webelement.WebElement (session=\"24ce25bbbfc8cb79628f254c29af3c84\", element=\"3d00a94c-cc07-4675-8a3a-d733a7507bfc\")>,\n",
       " <selenium.webdriver.remote.webelement.WebElement (session=\"24ce25bbbfc8cb79628f254c29af3c84\", element=\"5e9316c6-03e6-4b2f-91af-5b7024547704\")>,\n",
       " <selenium.webdriver.remote.webelement.WebElement (session=\"24ce25bbbfc8cb79628f254c29af3c84\", element=\"92ce7406-f355-49d6-a0cf-2b645526a928\")>,\n",
       " <selenium.webdriver.remote.webelement.WebElement (session=\"24ce25bbbfc8cb79628f254c29af3c84\", element=\"79d01c53-4786-46d4-a44d-943506d81746\")>,\n",
       " <selenium.webdriver.remote.webelement.WebElement (session=\"24ce25bbbfc8cb79628f254c29af3c84\", element=\"40644519-21ec-438b-a402-a82427a35925\")>,\n",
       " <selenium.webdriver.remote.webelement.WebElement (session=\"24ce25bbbfc8cb79628f254c29af3c84\", element=\"02a36346-e646-45ca-b17c-6008d7a14739\")>,\n",
       " <selenium.webdriver.remote.webelement.WebElement (session=\"24ce25bbbfc8cb79628f254c29af3c84\", element=\"03635c2d-af77-4efd-9a48-f9740f5fbd14\")>,\n",
       " <selenium.webdriver.remote.webelement.WebElement (session=\"24ce25bbbfc8cb79628f254c29af3c84\", element=\"b69032c9-0f5e-4859-a3ad-1a7e045b78d4\")>,\n",
       " <selenium.webdriver.remote.webelement.WebElement (session=\"24ce25bbbfc8cb79628f254c29af3c84\", element=\"9549a70c-cff3-4538-bf74-4797fe39895f\")>,\n",
       " <selenium.webdriver.remote.webelement.WebElement (session=\"24ce25bbbfc8cb79628f254c29af3c84\", element=\"267620bf-4b3c-40bf-9f25-214e69470bdb\")>,\n",
       " <selenium.webdriver.remote.webelement.WebElement (session=\"24ce25bbbfc8cb79628f254c29af3c84\", element=\"78f23164-5b6f-4c39-97bc-6be167b3dfe5\")>,\n",
       " <selenium.webdriver.remote.webelement.WebElement (session=\"24ce25bbbfc8cb79628f254c29af3c84\", element=\"e8bc4984-9406-4e46-bc70-9d6413606620\")>,\n",
       " <selenium.webdriver.remote.webelement.WebElement (session=\"24ce25bbbfc8cb79628f254c29af3c84\", element=\"e0f251a2-b194-444a-b130-705ec654a5c7\")>,\n",
       " <selenium.webdriver.remote.webelement.WebElement (session=\"24ce25bbbfc8cb79628f254c29af3c84\", element=\"734c526e-2aa2-43db-bee7-32b70ebdc258\")>,\n",
       " <selenium.webdriver.remote.webelement.WebElement (session=\"24ce25bbbfc8cb79628f254c29af3c84\", element=\"120e10ad-a491-4fd0-ac2b-0f088a233cc9\")>,\n",
       " <selenium.webdriver.remote.webelement.WebElement (session=\"24ce25bbbfc8cb79628f254c29af3c84\", element=\"f32fc9c6-c903-4abb-a2b3-802ccd2f21ee\")>,\n",
       " <selenium.webdriver.remote.webelement.WebElement (session=\"24ce25bbbfc8cb79628f254c29af3c84\", element=\"75b13928-972b-40fc-bea7-e89c59b199da\")>,\n",
       " <selenium.webdriver.remote.webelement.WebElement (session=\"24ce25bbbfc8cb79628f254c29af3c84\", element=\"ea7d168f-1a93-4823-9d19-242c0d315212\")>,\n",
       " <selenium.webdriver.remote.webelement.WebElement (session=\"24ce25bbbfc8cb79628f254c29af3c84\", element=\"400d8b41-8498-40e8-a28f-e5beb0291efa\")>,\n",
       " <selenium.webdriver.remote.webelement.WebElement (session=\"24ce25bbbfc8cb79628f254c29af3c84\", element=\"e21e056f-8e07-4e9a-bc39-af6b370c6478\")>,\n",
       " <selenium.webdriver.remote.webelement.WebElement (session=\"24ce25bbbfc8cb79628f254c29af3c84\", element=\"78ed70dd-a996-4799-b2d0-b663d1c3b80f\")>,\n",
       " <selenium.webdriver.remote.webelement.WebElement (session=\"24ce25bbbfc8cb79628f254c29af3c84\", element=\"9f89982c-8712-4462-8a4c-50bb1e46b4cc\")>,\n",
       " <selenium.webdriver.remote.webelement.WebElement (session=\"24ce25bbbfc8cb79628f254c29af3c84\", element=\"cb20a5fb-854d-400b-9def-02a009a8221f\")>,\n",
       " <selenium.webdriver.remote.webelement.WebElement (session=\"24ce25bbbfc8cb79628f254c29af3c84\", element=\"acc52f4d-5768-4c11-ae77-4e256906bceb\")>,\n",
       " <selenium.webdriver.remote.webelement.WebElement (session=\"24ce25bbbfc8cb79628f254c29af3c84\", element=\"c7a13ecf-76fa-4fdd-bd30-ae83231efe91\")>,\n",
       " <selenium.webdriver.remote.webelement.WebElement (session=\"24ce25bbbfc8cb79628f254c29af3c84\", element=\"c4585e00-06d5-4330-bb3c-16d3271d2771\")>,\n",
       " <selenium.webdriver.remote.webelement.WebElement (session=\"24ce25bbbfc8cb79628f254c29af3c84\", element=\"963306d7-bae6-4343-8427-2cdce86e8fde\")>,\n",
       " <selenium.webdriver.remote.webelement.WebElement (session=\"24ce25bbbfc8cb79628f254c29af3c84\", element=\"350797c6-7e01-4138-912d-5e95171b45d0\")>,\n",
       " <selenium.webdriver.remote.webelement.WebElement (session=\"24ce25bbbfc8cb79628f254c29af3c84\", element=\"00349ff4-ca2f-4b01-b246-a941130ccf77\")>,\n",
       " <selenium.webdriver.remote.webelement.WebElement (session=\"24ce25bbbfc8cb79628f254c29af3c84\", element=\"692beae9-abd5-43b5-af9e-9d517a8a8914\")>,\n",
       " <selenium.webdriver.remote.webelement.WebElement (session=\"24ce25bbbfc8cb79628f254c29af3c84\", element=\"b40771fb-8696-45c6-b726-7c75d70064b8\")>]"
      ]
     },
     "execution_count": 13,
     "metadata": {},
     "output_type": "execute_result"
    }
   ],
   "source": [
    "Brand_tag1=driver.find_elements_by_xpath(\"//div[@class='_2WkVRV']\")\n",
    "Brand_tag1"
   ]
  },
  {
   "cell_type": "code",
   "execution_count": 14,
   "metadata": {},
   "outputs": [
    {
     "data": {
      "text/plain": [
       "['Fastrack',\n",
       " 'ROZZETTA CRAFT',\n",
       " 'Fastrack',\n",
       " 'PIRASO',\n",
       " 'ROZZETTA CRAFT',\n",
       " 'PHENOMENAL',\n",
       " 'NuVew',\n",
       " 'Fastrack',\n",
       " 'DEIXELS',\n",
       " 'PIRASO',\n",
       " 'Fastrack',\n",
       " 'ROZZETTA CRAFT',\n",
       " 'Fastrack',\n",
       " 'PHENOMENAL',\n",
       " 'HIPPON',\n",
       " 'GANSTA',\n",
       " 'Singco India',\n",
       " 'Fastrack',\n",
       " 'Singco India',\n",
       " 'Fastrack',\n",
       " 'ROZZETTA CRAFT',\n",
       " 'Singco India',\n",
       " 'Fastrack',\n",
       " 'DEIXELS',\n",
       " 'GANSTA',\n",
       " 'ROYAL SON',\n",
       " 'ROZZETTA CRAFT',\n",
       " 'Fastrack',\n",
       " 'ROZZETTA CRAFT',\n",
       " 'Silver Kartz',\n",
       " 'Fastrack',\n",
       " 'hipe',\n",
       " 'Silver Kartz',\n",
       " 'ROZZETTA CRAFT',\n",
       " 'PHENOMENAL',\n",
       " 'GANSTA',\n",
       " 'ROYAL SON',\n",
       " 'Flizz',\n",
       " 'hipe',\n",
       " 'ROZZETTA CRAFT']"
      ]
     },
     "execution_count": 14,
     "metadata": {},
     "output_type": "execute_result"
    }
   ],
   "source": [
    "Brand_1=[]\n",
    "for i in Brand_tag1:\n",
    "    brandtag=i.text\n",
    "    Brand_1.append(brandtag)\n",
    "Brand_1"
   ]
  },
  {
   "cell_type": "code",
   "execution_count": 15,
   "metadata": {},
   "outputs": [
    {
     "data": {
      "text/plain": [
       "[<selenium.webdriver.remote.webelement.WebElement (session=\"24ce25bbbfc8cb79628f254c29af3c84\", element=\"229ae630-537c-4b30-a272-c4ffa8a48f5d\")>,\n",
       " <selenium.webdriver.remote.webelement.WebElement (session=\"24ce25bbbfc8cb79628f254c29af3c84\", element=\"b973cd3f-e06b-4eb2-9d01-2036acc37518\")>,\n",
       " <selenium.webdriver.remote.webelement.WebElement (session=\"24ce25bbbfc8cb79628f254c29af3c84\", element=\"d7e86efb-f0f3-4f0e-b116-2d6d6ac4d0bd\")>,\n",
       " <selenium.webdriver.remote.webelement.WebElement (session=\"24ce25bbbfc8cb79628f254c29af3c84\", element=\"65cdf8a9-a113-449c-862e-8e4a423c3f49\")>,\n",
       " <selenium.webdriver.remote.webelement.WebElement (session=\"24ce25bbbfc8cb79628f254c29af3c84\", element=\"fe19f548-9e66-451d-b9d4-5b8fbfccf624\")>,\n",
       " <selenium.webdriver.remote.webelement.WebElement (session=\"24ce25bbbfc8cb79628f254c29af3c84\", element=\"794dab27-7e93-4fe4-ad94-b823094184b1\")>,\n",
       " <selenium.webdriver.remote.webelement.WebElement (session=\"24ce25bbbfc8cb79628f254c29af3c84\", element=\"01cd8a04-1644-434c-b692-9158164c8280\")>,\n",
       " <selenium.webdriver.remote.webelement.WebElement (session=\"24ce25bbbfc8cb79628f254c29af3c84\", element=\"359361e0-1aa8-4681-8714-0e66a0d539e6\")>,\n",
       " <selenium.webdriver.remote.webelement.WebElement (session=\"24ce25bbbfc8cb79628f254c29af3c84\", element=\"120fec74-cdf5-454e-8749-fef02b89bd94\")>,\n",
       " <selenium.webdriver.remote.webelement.WebElement (session=\"24ce25bbbfc8cb79628f254c29af3c84\", element=\"5b9e4a18-7182-48e4-8090-85b30bf47725\")>,\n",
       " <selenium.webdriver.remote.webelement.WebElement (session=\"24ce25bbbfc8cb79628f254c29af3c84\", element=\"5e3b58f4-01f0-4c64-ae91-2b537cde576d\")>,\n",
       " <selenium.webdriver.remote.webelement.WebElement (session=\"24ce25bbbfc8cb79628f254c29af3c84\", element=\"a52e131d-b0da-4027-af01-d16673befdff\")>,\n",
       " <selenium.webdriver.remote.webelement.WebElement (session=\"24ce25bbbfc8cb79628f254c29af3c84\", element=\"bad25ef9-7b1f-44a5-b740-7075d0cca80f\")>,\n",
       " <selenium.webdriver.remote.webelement.WebElement (session=\"24ce25bbbfc8cb79628f254c29af3c84\", element=\"184b619f-210f-4455-bbb8-2b98cb47b593\")>,\n",
       " <selenium.webdriver.remote.webelement.WebElement (session=\"24ce25bbbfc8cb79628f254c29af3c84\", element=\"138e387b-85ef-4e74-8be0-5ee71a98c75a\")>,\n",
       " <selenium.webdriver.remote.webelement.WebElement (session=\"24ce25bbbfc8cb79628f254c29af3c84\", element=\"71e55d1c-e943-45c3-8594-5f8feb13fda4\")>,\n",
       " <selenium.webdriver.remote.webelement.WebElement (session=\"24ce25bbbfc8cb79628f254c29af3c84\", element=\"0e541f1c-cc05-4c2c-836e-7ec0f6524a64\")>,\n",
       " <selenium.webdriver.remote.webelement.WebElement (session=\"24ce25bbbfc8cb79628f254c29af3c84\", element=\"f76d0001-58ad-4d1a-aed8-89c111ffbb5b\")>,\n",
       " <selenium.webdriver.remote.webelement.WebElement (session=\"24ce25bbbfc8cb79628f254c29af3c84\", element=\"5895345b-966d-4fc7-8318-3273c77f75c1\")>,\n",
       " <selenium.webdriver.remote.webelement.WebElement (session=\"24ce25bbbfc8cb79628f254c29af3c84\", element=\"5e1d0894-7069-4099-bca6-0d600e05d08a\")>,\n",
       " <selenium.webdriver.remote.webelement.WebElement (session=\"24ce25bbbfc8cb79628f254c29af3c84\", element=\"c5051d93-f2b4-451e-aad7-e3b4de1e8b39\")>,\n",
       " <selenium.webdriver.remote.webelement.WebElement (session=\"24ce25bbbfc8cb79628f254c29af3c84\", element=\"3242bbea-61b1-4474-83eb-243a30035250\")>,\n",
       " <selenium.webdriver.remote.webelement.WebElement (session=\"24ce25bbbfc8cb79628f254c29af3c84\", element=\"c3dd14df-34de-4edc-8d07-245e48afebeb\")>,\n",
       " <selenium.webdriver.remote.webelement.WebElement (session=\"24ce25bbbfc8cb79628f254c29af3c84\", element=\"059404f8-8915-4c6f-b771-c5ac701092b8\")>,\n",
       " <selenium.webdriver.remote.webelement.WebElement (session=\"24ce25bbbfc8cb79628f254c29af3c84\", element=\"36b83c8c-a7a0-4104-ba4b-31a509e5cafb\")>,\n",
       " <selenium.webdriver.remote.webelement.WebElement (session=\"24ce25bbbfc8cb79628f254c29af3c84\", element=\"843a1eec-c162-4c10-b19b-2f50fb9fff9b\")>,\n",
       " <selenium.webdriver.remote.webelement.WebElement (session=\"24ce25bbbfc8cb79628f254c29af3c84\", element=\"d815e165-b847-4ba4-a38b-90c474e24c12\")>,\n",
       " <selenium.webdriver.remote.webelement.WebElement (session=\"24ce25bbbfc8cb79628f254c29af3c84\", element=\"79f5f6ef-d7e0-46b2-9494-a1ae5f98f284\")>,\n",
       " <selenium.webdriver.remote.webelement.WebElement (session=\"24ce25bbbfc8cb79628f254c29af3c84\", element=\"42fd5bee-a66d-41c0-a0f7-8f6ee8fa7b59\")>,\n",
       " <selenium.webdriver.remote.webelement.WebElement (session=\"24ce25bbbfc8cb79628f254c29af3c84\", element=\"c398bedf-dd03-4891-aaba-9a658a8e4aaa\")>,\n",
       " <selenium.webdriver.remote.webelement.WebElement (session=\"24ce25bbbfc8cb79628f254c29af3c84\", element=\"f6f52c41-ca0b-42ea-af43-a37569bd3d1b\")>,\n",
       " <selenium.webdriver.remote.webelement.WebElement (session=\"24ce25bbbfc8cb79628f254c29af3c84\", element=\"b0c7f1e4-955e-4b68-8e16-30af0ce50adf\")>,\n",
       " <selenium.webdriver.remote.webelement.WebElement (session=\"24ce25bbbfc8cb79628f254c29af3c84\", element=\"9b10ec19-697d-4a53-8c1a-6cb99a3d3f65\")>,\n",
       " <selenium.webdriver.remote.webelement.WebElement (session=\"24ce25bbbfc8cb79628f254c29af3c84\", element=\"36f104fa-024b-4d3a-90d3-3abfb6055015\")>,\n",
       " <selenium.webdriver.remote.webelement.WebElement (session=\"24ce25bbbfc8cb79628f254c29af3c84\", element=\"52dcd76c-e316-4577-af4b-acc4958364c8\")>,\n",
       " <selenium.webdriver.remote.webelement.WebElement (session=\"24ce25bbbfc8cb79628f254c29af3c84\", element=\"d560f7a4-7c37-4419-bfe5-aae34974a109\")>,\n",
       " <selenium.webdriver.remote.webelement.WebElement (session=\"24ce25bbbfc8cb79628f254c29af3c84\", element=\"4d17ca31-ce58-4b72-b585-5dee9a0ac182\")>,\n",
       " <selenium.webdriver.remote.webelement.WebElement (session=\"24ce25bbbfc8cb79628f254c29af3c84\", element=\"e32d4b6a-8605-47f9-8efa-d52ab7fcf06a\")>,\n",
       " <selenium.webdriver.remote.webelement.WebElement (session=\"24ce25bbbfc8cb79628f254c29af3c84\", element=\"bcd5d20c-77fb-4d1e-9b04-a97f0f3da900\")>,\n",
       " <selenium.webdriver.remote.webelement.WebElement (session=\"24ce25bbbfc8cb79628f254c29af3c84\", element=\"bc56d21b-de78-47a8-af61-f9f87b572bfd\")>]"
      ]
     },
     "execution_count": 15,
     "metadata": {},
     "output_type": "execute_result"
    }
   ],
   "source": [
    "Prod_dis1=driver.find_elements_by_xpath(\"//a[@class='IRpwTa']\")\n",
    "Prod_dis1"
   ]
  },
  {
   "cell_type": "code",
   "execution_count": 16,
   "metadata": {},
   "outputs": [
    {
     "data": {
      "text/plain": [
       "['UV Protection Rectangular Sunglasses (Free Size)',\n",
       " 'UV Protection Retro Square Sunglasses (Free Size)',\n",
       " 'UV Protection Wayfarer Sunglasses (Free Size)',\n",
       " 'UV Protection Aviator Sunglasses (Free Size)',\n",
       " 'UV Protection, Gradient Rectangular Sunglasses (Free Si...',\n",
       " 'UV Protection Retro Square Sunglasses (Free Size)',\n",
       " 'UV Protection Aviator Sunglasses (58)',\n",
       " 'UV Protection Wayfarer Sunglasses (Free Size)',\n",
       " 'UV Protection Aviator, Wayfarer Sunglasses (Free Size)',\n",
       " 'UV Protection Aviator Sunglasses (54)',\n",
       " 'UV Protection Aviator Sunglasses (Free Size)',\n",
       " 'UV Protection Retro Square Sunglasses (Free Size)',\n",
       " 'Gradient, UV Protection Wayfarer Sunglasses (Free Size)',\n",
       " 'UV Protection, Mirrored Retro Square Sunglasses (53)',\n",
       " 'UV Protection Wayfarer Sunglasses (55)',\n",
       " 'UV Protection Aviator Sunglasses (57)',\n",
       " 'Mirrored, Riding Glasses, Others Sports Sunglasses (50)',\n",
       " 'Gradient, UV Protection Wayfarer Sunglasses (Free Size)',\n",
       " 'UV Protection, Riding Glasses, Others Aviator, Wayfarer...',\n",
       " 'UV Protection Aviator Sunglasses (58)',\n",
       " 'UV Protection Shield Sunglasses (54)',\n",
       " 'UV Protection Aviator Sunglasses (Free Size)',\n",
       " 'UV Protection Wayfarer Sunglasses (Free Size)',\n",
       " 'UV Protection Round Sunglasses (Free Size)',\n",
       " 'UV Protection, Mirrored Wayfarer Sunglasses (53)',\n",
       " 'UV Protection Rectangular Sunglasses (58)',\n",
       " 'Gradient, UV Protection Round Sunglasses (Free Size)',\n",
       " 'UV Protection Wayfarer Sunglasses (56)',\n",
       " 'UV Protection, Riding Glasses Rectangular Sunglasses (F...',\n",
       " 'UV Protection Wayfarer Sunglasses (Free Size)',\n",
       " 'UV Protection Wayfarer Sunglasses (57)',\n",
       " 'Mirrored Wayfarer Sunglasses (55)',\n",
       " 'UV Protection Oval Sunglasses (56)',\n",
       " 'UV Protection, Gradient Round Sunglasses (Free Size)',\n",
       " 'UV Protection, Mirrored Retro Square Sunglasses (Free S...',\n",
       " 'UV Protection, Riding Glasses Wayfarer Sunglasses (53)',\n",
       " 'UV Protection Wayfarer Sunglasses (55)',\n",
       " 'UV Protection Retro Square Sunglasses (Free Size)',\n",
       " 'UV Protection, Mirrored Aviator Sunglasses (Free Size)',\n",
       " 'UV Protection, Gradient Rectangular Sunglasses (Free Si...']"
      ]
     },
     "execution_count": 16,
     "metadata": {},
     "output_type": "execute_result"
    }
   ],
   "source": [
    "Prod_dis_1=[]\n",
    "for i in Prod_dis1:\n",
    "    Proddis=i.text\n",
    "    Prod_dis_1.append(Proddis)\n",
    "Prod_dis_1"
   ]
  },
  {
   "cell_type": "code",
   "execution_count": 17,
   "metadata": {},
   "outputs": [
    {
     "data": {
      "text/plain": [
       "[<selenium.webdriver.remote.webelement.WebElement (session=\"24ce25bbbfc8cb79628f254c29af3c84\", element=\"08432166-5e62-475d-953a-b227050ded93\")>,\n",
       " <selenium.webdriver.remote.webelement.WebElement (session=\"24ce25bbbfc8cb79628f254c29af3c84\", element=\"f628308e-a091-48b1-8e85-a92f55454d8f\")>,\n",
       " <selenium.webdriver.remote.webelement.WebElement (session=\"24ce25bbbfc8cb79628f254c29af3c84\", element=\"042e688d-362d-4b2f-a27a-da1fd05ebcb9\")>,\n",
       " <selenium.webdriver.remote.webelement.WebElement (session=\"24ce25bbbfc8cb79628f254c29af3c84\", element=\"38264ab1-d267-48d6-a5f0-3691662fdebc\")>,\n",
       " <selenium.webdriver.remote.webelement.WebElement (session=\"24ce25bbbfc8cb79628f254c29af3c84\", element=\"08a7af22-2e7c-4219-8501-925c7980d3fe\")>,\n",
       " <selenium.webdriver.remote.webelement.WebElement (session=\"24ce25bbbfc8cb79628f254c29af3c84\", element=\"c5bca9b7-809f-46a9-b82f-32d2b740f278\")>,\n",
       " <selenium.webdriver.remote.webelement.WebElement (session=\"24ce25bbbfc8cb79628f254c29af3c84\", element=\"757f7269-e6e8-4d89-8d42-0d91e59f437e\")>,\n",
       " <selenium.webdriver.remote.webelement.WebElement (session=\"24ce25bbbfc8cb79628f254c29af3c84\", element=\"9c73b11e-f35e-4f3d-82d6-4ce1d8905923\")>,\n",
       " <selenium.webdriver.remote.webelement.WebElement (session=\"24ce25bbbfc8cb79628f254c29af3c84\", element=\"69f37c8c-12ff-4ee1-bb1e-aebf27b411f6\")>,\n",
       " <selenium.webdriver.remote.webelement.WebElement (session=\"24ce25bbbfc8cb79628f254c29af3c84\", element=\"28f3ccc2-4d7e-4b8e-aa4c-4cba386d6ab6\")>,\n",
       " <selenium.webdriver.remote.webelement.WebElement (session=\"24ce25bbbfc8cb79628f254c29af3c84\", element=\"4b70c21e-ad9e-4e8b-b088-a3f25a5246d4\")>,\n",
       " <selenium.webdriver.remote.webelement.WebElement (session=\"24ce25bbbfc8cb79628f254c29af3c84\", element=\"da4cb41b-7bdf-4d5e-aeb4-ca8b8f0e5028\")>,\n",
       " <selenium.webdriver.remote.webelement.WebElement (session=\"24ce25bbbfc8cb79628f254c29af3c84\", element=\"149dc216-04f5-47da-954e-bc7bafb425c5\")>,\n",
       " <selenium.webdriver.remote.webelement.WebElement (session=\"24ce25bbbfc8cb79628f254c29af3c84\", element=\"7c7a65fc-a373-4089-8d33-3b005cf30583\")>,\n",
       " <selenium.webdriver.remote.webelement.WebElement (session=\"24ce25bbbfc8cb79628f254c29af3c84\", element=\"d09c31f6-a135-446e-b830-7ad7f4aaa49a\")>,\n",
       " <selenium.webdriver.remote.webelement.WebElement (session=\"24ce25bbbfc8cb79628f254c29af3c84\", element=\"6a2fe084-9794-4e29-b7e9-a5a4add0534d\")>,\n",
       " <selenium.webdriver.remote.webelement.WebElement (session=\"24ce25bbbfc8cb79628f254c29af3c84\", element=\"f5c6a067-eded-4f37-997b-98368a0dda78\")>,\n",
       " <selenium.webdriver.remote.webelement.WebElement (session=\"24ce25bbbfc8cb79628f254c29af3c84\", element=\"d1f72735-6f72-4a9b-b547-428009dbbc23\")>,\n",
       " <selenium.webdriver.remote.webelement.WebElement (session=\"24ce25bbbfc8cb79628f254c29af3c84\", element=\"b07c55f1-0390-4c68-bf0a-672181460766\")>,\n",
       " <selenium.webdriver.remote.webelement.WebElement (session=\"24ce25bbbfc8cb79628f254c29af3c84\", element=\"290eae92-3d17-4507-87da-ed444c456c1a\")>,\n",
       " <selenium.webdriver.remote.webelement.WebElement (session=\"24ce25bbbfc8cb79628f254c29af3c84\", element=\"2cae0ee4-4272-4365-92ab-75b9b10dc142\")>,\n",
       " <selenium.webdriver.remote.webelement.WebElement (session=\"24ce25bbbfc8cb79628f254c29af3c84\", element=\"289ac874-66c1-48a9-ab57-e4620c7bd799\")>,\n",
       " <selenium.webdriver.remote.webelement.WebElement (session=\"24ce25bbbfc8cb79628f254c29af3c84\", element=\"82278ee4-b4aa-4aed-bd86-f196c2db42bf\")>,\n",
       " <selenium.webdriver.remote.webelement.WebElement (session=\"24ce25bbbfc8cb79628f254c29af3c84\", element=\"edbb9d65-d117-4f87-bd89-ee0c46832649\")>,\n",
       " <selenium.webdriver.remote.webelement.WebElement (session=\"24ce25bbbfc8cb79628f254c29af3c84\", element=\"a461f81c-c402-4770-baf0-ae0afa85cfef\")>,\n",
       " <selenium.webdriver.remote.webelement.WebElement (session=\"24ce25bbbfc8cb79628f254c29af3c84\", element=\"71f705ff-2cf7-4cdf-aba2-abf232c85a3b\")>,\n",
       " <selenium.webdriver.remote.webelement.WebElement (session=\"24ce25bbbfc8cb79628f254c29af3c84\", element=\"d18843a5-add4-4f3b-be06-4b74838218ad\")>,\n",
       " <selenium.webdriver.remote.webelement.WebElement (session=\"24ce25bbbfc8cb79628f254c29af3c84\", element=\"57af37bf-4b1e-46a7-8636-ffab571ff330\")>,\n",
       " <selenium.webdriver.remote.webelement.WebElement (session=\"24ce25bbbfc8cb79628f254c29af3c84\", element=\"ab31a1ec-0781-48a0-8c6d-9808728d23b7\")>,\n",
       " <selenium.webdriver.remote.webelement.WebElement (session=\"24ce25bbbfc8cb79628f254c29af3c84\", element=\"0c5db31d-b96c-4682-956b-7a020412d842\")>,\n",
       " <selenium.webdriver.remote.webelement.WebElement (session=\"24ce25bbbfc8cb79628f254c29af3c84\", element=\"b0e7cd88-ff69-4a74-bb9e-dc4e2c07677e\")>,\n",
       " <selenium.webdriver.remote.webelement.WebElement (session=\"24ce25bbbfc8cb79628f254c29af3c84\", element=\"10f6afdf-667d-412b-85b0-842d5d977bce\")>,\n",
       " <selenium.webdriver.remote.webelement.WebElement (session=\"24ce25bbbfc8cb79628f254c29af3c84\", element=\"cd96d758-b409-4a8a-9277-d33c18be53b7\")>,\n",
       " <selenium.webdriver.remote.webelement.WebElement (session=\"24ce25bbbfc8cb79628f254c29af3c84\", element=\"0057f512-4f7e-4140-bd3f-49bd72c51ab8\")>,\n",
       " <selenium.webdriver.remote.webelement.WebElement (session=\"24ce25bbbfc8cb79628f254c29af3c84\", element=\"0195d4f6-adb6-40ca-8081-c68f6eee024b\")>,\n",
       " <selenium.webdriver.remote.webelement.WebElement (session=\"24ce25bbbfc8cb79628f254c29af3c84\", element=\"4cd6f7f9-eb97-4120-bb53-1c015baf77ca\")>,\n",
       " <selenium.webdriver.remote.webelement.WebElement (session=\"24ce25bbbfc8cb79628f254c29af3c84\", element=\"434c9d9c-5463-4005-a628-59beeebac6a5\")>,\n",
       " <selenium.webdriver.remote.webelement.WebElement (session=\"24ce25bbbfc8cb79628f254c29af3c84\", element=\"5f61648c-692b-464f-bfd7-f2a3e7e01b80\")>,\n",
       " <selenium.webdriver.remote.webelement.WebElement (session=\"24ce25bbbfc8cb79628f254c29af3c84\", element=\"365acc9c-093c-4789-8934-0510a6e96a4f\")>,\n",
       " <selenium.webdriver.remote.webelement.WebElement (session=\"24ce25bbbfc8cb79628f254c29af3c84\", element=\"1a21904f-7919-4dde-8b0f-dacd7600c623\")>]"
      ]
     },
     "execution_count": 17,
     "metadata": {},
     "output_type": "execute_result"
    }
   ],
   "source": [
    "Price1=driver.find_elements_by_xpath(\"//div[@class='_30jeq3']\")\n",
    "Price1"
   ]
  },
  {
   "cell_type": "code",
   "execution_count": 18,
   "metadata": {},
   "outputs": [
    {
     "data": {
      "text/plain": [
       "['₹570',\n",
       " '₹499',\n",
       " '₹733',\n",
       " '₹349',\n",
       " '₹404',\n",
       " '₹399',\n",
       " '₹215',\n",
       " '₹758',\n",
       " '₹213',\n",
       " '₹250',\n",
       " '₹674',\n",
       " '₹499',\n",
       " '₹621',\n",
       " '₹399',\n",
       " '₹251',\n",
       " '₹281',\n",
       " '₹249',\n",
       " '₹638',\n",
       " '₹209',\n",
       " '₹1,123',\n",
       " '₹499',\n",
       " '₹339',\n",
       " '₹836',\n",
       " '₹209',\n",
       " '₹199',\n",
       " '₹474',\n",
       " '₹449',\n",
       " '₹759',\n",
       " '₹449',\n",
       " '₹259',\n",
       " '₹559',\n",
       " '₹219',\n",
       " '₹299',\n",
       " '₹449',\n",
       " '₹399',\n",
       " '₹260',\n",
       " '₹265',\n",
       " '₹399',\n",
       " '₹199',\n",
       " '₹499']"
      ]
     },
     "execution_count": 18,
     "metadata": {},
     "output_type": "execute_result"
    }
   ],
   "source": [
    "Price_1=[]\n",
    "for i in Price1:\n",
    "    Prices1=i.text\n",
    "    Price_1.append(Prices1)\n",
    "Price_1"
   ]
  },
  {
   "cell_type": "code",
   "execution_count": 19,
   "metadata": {},
   "outputs": [
    {
     "data": {
      "text/plain": [
       "[<selenium.webdriver.remote.webelement.WebElement (session=\"24ce25bbbfc8cb79628f254c29af3c84\", element=\"9f6e54e2-b2e0-476a-b740-f1b4d5f5ab4c\")>,\n",
       " <selenium.webdriver.remote.webelement.WebElement (session=\"24ce25bbbfc8cb79628f254c29af3c84\", element=\"04d79313-cd97-49fc-98ef-3e975f16b1ca\")>,\n",
       " <selenium.webdriver.remote.webelement.WebElement (session=\"24ce25bbbfc8cb79628f254c29af3c84\", element=\"b280291f-5a6f-4705-a838-66644aaa5923\")>,\n",
       " <selenium.webdriver.remote.webelement.WebElement (session=\"24ce25bbbfc8cb79628f254c29af3c84\", element=\"98b6d0f3-ce97-476a-b6b5-d29a31513b10\")>,\n",
       " <selenium.webdriver.remote.webelement.WebElement (session=\"24ce25bbbfc8cb79628f254c29af3c84\", element=\"b2fb4f94-18e0-4f42-8c68-ac2b6dbf544d\")>,\n",
       " <selenium.webdriver.remote.webelement.WebElement (session=\"24ce25bbbfc8cb79628f254c29af3c84\", element=\"1191c3db-7143-401d-8f85-20009fe09d51\")>,\n",
       " <selenium.webdriver.remote.webelement.WebElement (session=\"24ce25bbbfc8cb79628f254c29af3c84\", element=\"ae45b8bb-e8a5-4061-b4fa-82ac5461cfc5\")>,\n",
       " <selenium.webdriver.remote.webelement.WebElement (session=\"24ce25bbbfc8cb79628f254c29af3c84\", element=\"b38ee318-f861-4c92-8f82-746d7005f198\")>,\n",
       " <selenium.webdriver.remote.webelement.WebElement (session=\"24ce25bbbfc8cb79628f254c29af3c84\", element=\"897e4c8b-3597-42e4-b1f7-90dabc991dee\")>,\n",
       " <selenium.webdriver.remote.webelement.WebElement (session=\"24ce25bbbfc8cb79628f254c29af3c84\", element=\"96bc5d7d-8cb3-4108-b944-03c11bc8292b\")>,\n",
       " <selenium.webdriver.remote.webelement.WebElement (session=\"24ce25bbbfc8cb79628f254c29af3c84\", element=\"9fc633a9-50da-4522-8caa-0b184e2d9887\")>,\n",
       " <selenium.webdriver.remote.webelement.WebElement (session=\"24ce25bbbfc8cb79628f254c29af3c84\", element=\"f4fd31e3-3d10-4ca1-933a-9c574ce3040a\")>,\n",
       " <selenium.webdriver.remote.webelement.WebElement (session=\"24ce25bbbfc8cb79628f254c29af3c84\", element=\"9557af9f-d33a-48ed-aa3c-ca71315a9361\")>,\n",
       " <selenium.webdriver.remote.webelement.WebElement (session=\"24ce25bbbfc8cb79628f254c29af3c84\", element=\"211b4e46-6bdd-454d-bf65-0e02021d895b\")>,\n",
       " <selenium.webdriver.remote.webelement.WebElement (session=\"24ce25bbbfc8cb79628f254c29af3c84\", element=\"8e5aab46-23bc-42a4-a09b-d1e4e342d1a6\")>,\n",
       " <selenium.webdriver.remote.webelement.WebElement (session=\"24ce25bbbfc8cb79628f254c29af3c84\", element=\"ef4e46ff-a1b2-4acd-8155-920343286349\")>,\n",
       " <selenium.webdriver.remote.webelement.WebElement (session=\"24ce25bbbfc8cb79628f254c29af3c84\", element=\"ab853f79-9afa-4010-ac1e-e2f0400a8bf3\")>,\n",
       " <selenium.webdriver.remote.webelement.WebElement (session=\"24ce25bbbfc8cb79628f254c29af3c84\", element=\"b0bd8689-e3bc-4168-b606-0f26b9511b90\")>,\n",
       " <selenium.webdriver.remote.webelement.WebElement (session=\"24ce25bbbfc8cb79628f254c29af3c84\", element=\"64c4a406-e04d-495c-8dee-f699f1f41fe8\")>,\n",
       " <selenium.webdriver.remote.webelement.WebElement (session=\"24ce25bbbfc8cb79628f254c29af3c84\", element=\"0811bd70-38f3-43f1-9fb4-ac510298ddff\")>,\n",
       " <selenium.webdriver.remote.webelement.WebElement (session=\"24ce25bbbfc8cb79628f254c29af3c84\", element=\"a7c147a6-13c4-4cc0-a843-dd33d318d5e9\")>,\n",
       " <selenium.webdriver.remote.webelement.WebElement (session=\"24ce25bbbfc8cb79628f254c29af3c84\", element=\"eb1bd879-90c5-4795-bacd-49eb329ad04f\")>,\n",
       " <selenium.webdriver.remote.webelement.WebElement (session=\"24ce25bbbfc8cb79628f254c29af3c84\", element=\"9e9e5644-19f5-40c6-baf2-84d89f40d29f\")>,\n",
       " <selenium.webdriver.remote.webelement.WebElement (session=\"24ce25bbbfc8cb79628f254c29af3c84\", element=\"5d091c36-f0d2-470c-a42c-0fae12f15335\")>,\n",
       " <selenium.webdriver.remote.webelement.WebElement (session=\"24ce25bbbfc8cb79628f254c29af3c84\", element=\"4c53996a-9e64-4ee8-90d9-391635d4cc04\")>,\n",
       " <selenium.webdriver.remote.webelement.WebElement (session=\"24ce25bbbfc8cb79628f254c29af3c84\", element=\"c9ac8e15-8cd5-421a-b4ba-1bf243f419e1\")>,\n",
       " <selenium.webdriver.remote.webelement.WebElement (session=\"24ce25bbbfc8cb79628f254c29af3c84\", element=\"626d604f-2b15-48c3-884c-0bb9d92eb4b6\")>,\n",
       " <selenium.webdriver.remote.webelement.WebElement (session=\"24ce25bbbfc8cb79628f254c29af3c84\", element=\"2ccdb5ee-7bb4-4b38-8e93-31721ccfb8f9\")>,\n",
       " <selenium.webdriver.remote.webelement.WebElement (session=\"24ce25bbbfc8cb79628f254c29af3c84\", element=\"ba20c199-8190-4483-af3c-9a0475589905\")>,\n",
       " <selenium.webdriver.remote.webelement.WebElement (session=\"24ce25bbbfc8cb79628f254c29af3c84\", element=\"fd885f9a-f3cc-4979-9be4-006f98a6a0d3\")>,\n",
       " <selenium.webdriver.remote.webelement.WebElement (session=\"24ce25bbbfc8cb79628f254c29af3c84\", element=\"92ec4d77-986a-421a-aeee-034ab2f477fc\")>,\n",
       " <selenium.webdriver.remote.webelement.WebElement (session=\"24ce25bbbfc8cb79628f254c29af3c84\", element=\"2a585470-3811-46ba-8be6-86b68d7b51c8\")>,\n",
       " <selenium.webdriver.remote.webelement.WebElement (session=\"24ce25bbbfc8cb79628f254c29af3c84\", element=\"4cbdc9f2-47b5-4e1d-9610-615ca756ed92\")>,\n",
       " <selenium.webdriver.remote.webelement.WebElement (session=\"24ce25bbbfc8cb79628f254c29af3c84\", element=\"bd4be48f-2c85-4f86-89ca-9e75637f0833\")>,\n",
       " <selenium.webdriver.remote.webelement.WebElement (session=\"24ce25bbbfc8cb79628f254c29af3c84\", element=\"6208f7d4-d72b-41d8-b8d3-f525b728b892\")>,\n",
       " <selenium.webdriver.remote.webelement.WebElement (session=\"24ce25bbbfc8cb79628f254c29af3c84\", element=\"13b4b602-0085-4ffa-bb0f-508062edd7e7\")>,\n",
       " <selenium.webdriver.remote.webelement.WebElement (session=\"24ce25bbbfc8cb79628f254c29af3c84\", element=\"a0b1b4dd-31ad-4bc5-bdf1-d8e8a335284d\")>,\n",
       " <selenium.webdriver.remote.webelement.WebElement (session=\"24ce25bbbfc8cb79628f254c29af3c84\", element=\"2d8fd7e8-ba7c-4f0b-90f7-909f7104becf\")>,\n",
       " <selenium.webdriver.remote.webelement.WebElement (session=\"24ce25bbbfc8cb79628f254c29af3c84\", element=\"c5fc9ad2-46f8-49f8-a8d1-51a543f3e12b\")>,\n",
       " <selenium.webdriver.remote.webelement.WebElement (session=\"24ce25bbbfc8cb79628f254c29af3c84\", element=\"eec5d3f8-3bfa-4a79-bd10-4ca5aa196086\")>]"
      ]
     },
     "execution_count": 19,
     "metadata": {},
     "output_type": "execute_result"
    }
   ],
   "source": [
    "Dis1=driver.find_elements_by_xpath(\"//div[@class='_3Ay6Sb']\")\n",
    "Dis1"
   ]
  },
  {
   "cell_type": "code",
   "execution_count": 20,
   "metadata": {},
   "outputs": [
    {
     "data": {
      "text/plain": [
       "['28% off',\n",
       " '77% off',\n",
       " '18% off',\n",
       " '78% off',\n",
       " '79% off',\n",
       " '80% off',\n",
       " '72% off',\n",
       " '15% off',\n",
       " '82% off',\n",
       " '84% off',\n",
       " '25% off',\n",
       " '77% off',\n",
       " '22% off',\n",
       " '80% off',\n",
       " '79% off',\n",
       " '85% off',\n",
       " '83% off',\n",
       " '20% off',\n",
       " '70% off',\n",
       " '13% off',\n",
       " '80% off',\n",
       " '71% off',\n",
       " '7% off',\n",
       " '73% off',\n",
       " '80% off',\n",
       " '68% off',\n",
       " '77% off',\n",
       " '15% off',\n",
       " '79% off',\n",
       " '82% off',\n",
       " '30% off',\n",
       " '78% off',\n",
       " '75% off',\n",
       " '77% off',\n",
       " '80% off',\n",
       " '86% off',\n",
       " '79% off',\n",
       " '81% off',\n",
       " '80% off',\n",
       " '77% off']"
      ]
     },
     "execution_count": 20,
     "metadata": {},
     "output_type": "execute_result"
    }
   ],
   "source": [
    "Dis_1=[]\n",
    "for i in Dis1:\n",
    "    disc1=i.text\n",
    "    Dis_1.append(disc1)\n",
    "Dis_1"
   ]
  },
  {
   "cell_type": "code",
   "execution_count": 21,
   "metadata": {},
   "outputs": [],
   "source": [
    "#clicking on the next page\n",
    "Next_page2=driver.find_element_by_xpath(\"//a[@class='_1LKTO3']\")\n",
    "Next_page2.click()"
   ]
  },
  {
   "cell_type": "code",
   "execution_count": 23,
   "metadata": {},
   "outputs": [
    {
     "data": {
      "text/plain": [
       "[<selenium.webdriver.remote.webelement.WebElement (session=\"24ce25bbbfc8cb79628f254c29af3c84\", element=\"c063466d-7e0d-402a-9c8f-2ce3a345cbe8\")>,\n",
       " <selenium.webdriver.remote.webelement.WebElement (session=\"24ce25bbbfc8cb79628f254c29af3c84\", element=\"5da2becb-e349-41e7-b4c3-e70551c420e1\")>,\n",
       " <selenium.webdriver.remote.webelement.WebElement (session=\"24ce25bbbfc8cb79628f254c29af3c84\", element=\"d88551ab-4150-409d-bfc2-09a5b59160fc\")>,\n",
       " <selenium.webdriver.remote.webelement.WebElement (session=\"24ce25bbbfc8cb79628f254c29af3c84\", element=\"ee510e1e-4979-414e-b36e-31c700f64c31\")>,\n",
       " <selenium.webdriver.remote.webelement.WebElement (session=\"24ce25bbbfc8cb79628f254c29af3c84\", element=\"ecfcb8cf-4fc4-45bd-a5e4-4cd0b60ef02c\")>,\n",
       " <selenium.webdriver.remote.webelement.WebElement (session=\"24ce25bbbfc8cb79628f254c29af3c84\", element=\"aa88dee6-6d28-49fb-85ca-4a26d70c3d03\")>,\n",
       " <selenium.webdriver.remote.webelement.WebElement (session=\"24ce25bbbfc8cb79628f254c29af3c84\", element=\"678ed77c-b086-42f1-816f-cb5991539e07\")>,\n",
       " <selenium.webdriver.remote.webelement.WebElement (session=\"24ce25bbbfc8cb79628f254c29af3c84\", element=\"dece2912-9c40-4f9a-89a4-6f2dbb8ee4f6\")>,\n",
       " <selenium.webdriver.remote.webelement.WebElement (session=\"24ce25bbbfc8cb79628f254c29af3c84\", element=\"6a2b0af3-aab6-498c-bcf0-373530daf688\")>,\n",
       " <selenium.webdriver.remote.webelement.WebElement (session=\"24ce25bbbfc8cb79628f254c29af3c84\", element=\"2057d819-7b90-4b5e-bee2-779bc45dfa54\")>,\n",
       " <selenium.webdriver.remote.webelement.WebElement (session=\"24ce25bbbfc8cb79628f254c29af3c84\", element=\"a90328df-1fb6-490e-a333-4f4e411dc4b3\")>,\n",
       " <selenium.webdriver.remote.webelement.WebElement (session=\"24ce25bbbfc8cb79628f254c29af3c84\", element=\"e6dd2f26-1948-478d-84e2-fa2729d05601\")>,\n",
       " <selenium.webdriver.remote.webelement.WebElement (session=\"24ce25bbbfc8cb79628f254c29af3c84\", element=\"81966d36-9869-4e8e-90ff-0bc79d818bb8\")>,\n",
       " <selenium.webdriver.remote.webelement.WebElement (session=\"24ce25bbbfc8cb79628f254c29af3c84\", element=\"30327c88-e023-4e0b-81e8-61350d55ed7c\")>,\n",
       " <selenium.webdriver.remote.webelement.WebElement (session=\"24ce25bbbfc8cb79628f254c29af3c84\", element=\"d30fbb3f-0f3b-4e1c-aa48-1ce3fa050440\")>,\n",
       " <selenium.webdriver.remote.webelement.WebElement (session=\"24ce25bbbfc8cb79628f254c29af3c84\", element=\"2290ef56-d9c2-4c73-9216-29a788153122\")>,\n",
       " <selenium.webdriver.remote.webelement.WebElement (session=\"24ce25bbbfc8cb79628f254c29af3c84\", element=\"b9283710-3ba1-4498-835f-e69b6ba22740\")>,\n",
       " <selenium.webdriver.remote.webelement.WebElement (session=\"24ce25bbbfc8cb79628f254c29af3c84\", element=\"30e5aafd-bb15-4dd0-ba0e-a9adbee2a8fc\")>,\n",
       " <selenium.webdriver.remote.webelement.WebElement (session=\"24ce25bbbfc8cb79628f254c29af3c84\", element=\"4633f0c1-9614-4c65-abab-990f4bcea111\")>,\n",
       " <selenium.webdriver.remote.webelement.WebElement (session=\"24ce25bbbfc8cb79628f254c29af3c84\", element=\"9332f1b7-357b-4e74-85ec-2b532c0038bf\")>,\n",
       " <selenium.webdriver.remote.webelement.WebElement (session=\"24ce25bbbfc8cb79628f254c29af3c84\", element=\"8447d96b-0eaf-4cdd-b388-5305aee2fea7\")>,\n",
       " <selenium.webdriver.remote.webelement.WebElement (session=\"24ce25bbbfc8cb79628f254c29af3c84\", element=\"bdf2f148-a5f8-4e07-8b58-11bdf806081b\")>,\n",
       " <selenium.webdriver.remote.webelement.WebElement (session=\"24ce25bbbfc8cb79628f254c29af3c84\", element=\"fa3d6612-3cc1-4cc8-b363-bcf960c8347f\")>,\n",
       " <selenium.webdriver.remote.webelement.WebElement (session=\"24ce25bbbfc8cb79628f254c29af3c84\", element=\"68109e0f-9df3-4a51-9c86-926363b8995b\")>,\n",
       " <selenium.webdriver.remote.webelement.WebElement (session=\"24ce25bbbfc8cb79628f254c29af3c84\", element=\"a3f76af1-17e3-48b6-a8c3-77d590801617\")>,\n",
       " <selenium.webdriver.remote.webelement.WebElement (session=\"24ce25bbbfc8cb79628f254c29af3c84\", element=\"4917adf7-1b37-4a87-912b-078e7f90f04e\")>,\n",
       " <selenium.webdriver.remote.webelement.WebElement (session=\"24ce25bbbfc8cb79628f254c29af3c84\", element=\"4dab0b5c-2feb-4ce4-8354-f218cc0f1475\")>,\n",
       " <selenium.webdriver.remote.webelement.WebElement (session=\"24ce25bbbfc8cb79628f254c29af3c84\", element=\"f97ad81c-6ae9-4f6b-a0de-29a2c7f041f5\")>,\n",
       " <selenium.webdriver.remote.webelement.WebElement (session=\"24ce25bbbfc8cb79628f254c29af3c84\", element=\"ea13f973-f030-4635-a5d3-4aa6672e082b\")>,\n",
       " <selenium.webdriver.remote.webelement.WebElement (session=\"24ce25bbbfc8cb79628f254c29af3c84\", element=\"1ef2df3e-08c7-425f-a997-105c528a6c07\")>,\n",
       " <selenium.webdriver.remote.webelement.WebElement (session=\"24ce25bbbfc8cb79628f254c29af3c84\", element=\"446be271-5dfd-4477-be6c-a7877dbe07f9\")>,\n",
       " <selenium.webdriver.remote.webelement.WebElement (session=\"24ce25bbbfc8cb79628f254c29af3c84\", element=\"2ad6fb6a-1ac3-464b-a6d9-cfaf1980fe0f\")>,\n",
       " <selenium.webdriver.remote.webelement.WebElement (session=\"24ce25bbbfc8cb79628f254c29af3c84\", element=\"c39ef5fb-8283-44b4-bd83-836ba793bd4b\")>,\n",
       " <selenium.webdriver.remote.webelement.WebElement (session=\"24ce25bbbfc8cb79628f254c29af3c84\", element=\"b7b3eae2-ecca-442b-97b8-3e0e2952ea3d\")>,\n",
       " <selenium.webdriver.remote.webelement.WebElement (session=\"24ce25bbbfc8cb79628f254c29af3c84\", element=\"222e94ab-963f-4e6b-8cb5-cd13010dcba2\")>,\n",
       " <selenium.webdriver.remote.webelement.WebElement (session=\"24ce25bbbfc8cb79628f254c29af3c84\", element=\"a738d09a-29c3-4930-b7ac-e777f7f33942\")>,\n",
       " <selenium.webdriver.remote.webelement.WebElement (session=\"24ce25bbbfc8cb79628f254c29af3c84\", element=\"7db7f052-16e4-4113-aa4f-1f11d2601d1b\")>,\n",
       " <selenium.webdriver.remote.webelement.WebElement (session=\"24ce25bbbfc8cb79628f254c29af3c84\", element=\"3a1f8816-1f13-4e76-be22-a552d757d6ff\")>,\n",
       " <selenium.webdriver.remote.webelement.WebElement (session=\"24ce25bbbfc8cb79628f254c29af3c84\", element=\"24ee7951-d25a-4e0d-a314-30abd777c8fa\")>,\n",
       " <selenium.webdriver.remote.webelement.WebElement (session=\"24ce25bbbfc8cb79628f254c29af3c84\", element=\"03754720-154f-477b-a47d-fc9cdb5d41a0\")>]"
      ]
     },
     "execution_count": 23,
     "metadata": {},
     "output_type": "execute_result"
    }
   ],
   "source": [
    "Brand_tag2=driver.find_elements_by_xpath(\"//div[@class='_2WkVRV']\")\n",
    "Brand_tag2"
   ]
  },
  {
   "cell_type": "code",
   "execution_count": 24,
   "metadata": {},
   "outputs": [
    {
     "data": {
      "text/plain": [
       "['ROYAL SON',\n",
       " 'ROYAL SON',\n",
       " 'hipe',\n",
       " 'ROYAL SON',\n",
       " 'elegante',\n",
       " 'PIRASO',\n",
       " 'Singco India',\n",
       " 'ROYAL SON',\n",
       " 'Fastrack',\n",
       " 'NuVew',\n",
       " 'Fastrack',\n",
       " 'hipe',\n",
       " 'PHENOMENAL',\n",
       " 'bulgaria',\n",
       " 'Fastrack',\n",
       " 'Fastrack',\n",
       " 'Fravy',\n",
       " 'PHENOMENAL',\n",
       " 'GANSTA',\n",
       " 'AISLIN',\n",
       " 'Fastrack',\n",
       " 'ROZZETTA CRAFT',\n",
       " 'ROYAL SON',\n",
       " 'NuVew',\n",
       " 'Fastrack',\n",
       " 'Fastrack',\n",
       " 'DEIXELS',\n",
       " 'hipe',\n",
       " 'NuVew',\n",
       " 'AISLIN',\n",
       " 'Villain',\n",
       " 'ROZZETTA CRAFT',\n",
       " 'Fastrack',\n",
       " 'AISLIN',\n",
       " 'PHENOMENAL',\n",
       " 'AISLIN',\n",
       " 'Singco',\n",
       " 'GANSTA',\n",
       " 'SRPM',\n",
       " 'AISLIN']"
      ]
     },
     "execution_count": 24,
     "metadata": {},
     "output_type": "execute_result"
    }
   ],
   "source": [
    "Brand_2=[]\n",
    "for i in Brand_tag2:\n",
    "    brandtag2=i.text\n",
    "    Brand_2.append(brandtag2)\n",
    "Brand_2"
   ]
  },
  {
   "cell_type": "code",
   "execution_count": 25,
   "metadata": {},
   "outputs": [
    {
     "data": {
      "text/plain": [
       "[<selenium.webdriver.remote.webelement.WebElement (session=\"24ce25bbbfc8cb79628f254c29af3c84\", element=\"7f37063a-f0f7-42dd-95bf-d4b6e82f6bf2\")>,\n",
       " <selenium.webdriver.remote.webelement.WebElement (session=\"24ce25bbbfc8cb79628f254c29af3c84\", element=\"4f2cfdfa-5f3b-42ee-acaf-3a55017b86f3\")>,\n",
       " <selenium.webdriver.remote.webelement.WebElement (session=\"24ce25bbbfc8cb79628f254c29af3c84\", element=\"1206a8c5-19b9-43a6-8890-221fb6f08006\")>,\n",
       " <selenium.webdriver.remote.webelement.WebElement (session=\"24ce25bbbfc8cb79628f254c29af3c84\", element=\"6831a308-9f7b-4b2a-bf79-7d3928115b7f\")>,\n",
       " <selenium.webdriver.remote.webelement.WebElement (session=\"24ce25bbbfc8cb79628f254c29af3c84\", element=\"0aa0c41a-8d88-4c83-8c5a-5ab54c8bd128\")>,\n",
       " <selenium.webdriver.remote.webelement.WebElement (session=\"24ce25bbbfc8cb79628f254c29af3c84\", element=\"bf88d3b5-63cf-4831-b011-a4bb32f2d0dc\")>,\n",
       " <selenium.webdriver.remote.webelement.WebElement (session=\"24ce25bbbfc8cb79628f254c29af3c84\", element=\"1873a27c-2d96-4204-b5a8-e0ffa632425c\")>,\n",
       " <selenium.webdriver.remote.webelement.WebElement (session=\"24ce25bbbfc8cb79628f254c29af3c84\", element=\"0024a1d8-e0dc-4e8d-a1ef-7ab8716413e5\")>,\n",
       " <selenium.webdriver.remote.webelement.WebElement (session=\"24ce25bbbfc8cb79628f254c29af3c84\", element=\"2d45a61a-546a-4d50-bcda-ead904b3d8bc\")>,\n",
       " <selenium.webdriver.remote.webelement.WebElement (session=\"24ce25bbbfc8cb79628f254c29af3c84\", element=\"f86ce845-df73-495f-8c91-5a7897c05837\")>,\n",
       " <selenium.webdriver.remote.webelement.WebElement (session=\"24ce25bbbfc8cb79628f254c29af3c84\", element=\"281188c0-ebc4-42d1-ab10-735bf5402dfb\")>,\n",
       " <selenium.webdriver.remote.webelement.WebElement (session=\"24ce25bbbfc8cb79628f254c29af3c84\", element=\"abdbf552-a214-4371-b81a-9300c0836aa9\")>,\n",
       " <selenium.webdriver.remote.webelement.WebElement (session=\"24ce25bbbfc8cb79628f254c29af3c84\", element=\"7ae1c7df-98c1-4b0b-8c76-11a159f162bc\")>,\n",
       " <selenium.webdriver.remote.webelement.WebElement (session=\"24ce25bbbfc8cb79628f254c29af3c84\", element=\"4a7d6d70-5842-4dd1-b5ed-60abc779a2b9\")>,\n",
       " <selenium.webdriver.remote.webelement.WebElement (session=\"24ce25bbbfc8cb79628f254c29af3c84\", element=\"0f692829-8046-48b1-ba14-22b7fa984851\")>,\n",
       " <selenium.webdriver.remote.webelement.WebElement (session=\"24ce25bbbfc8cb79628f254c29af3c84\", element=\"2eb28a1d-2721-4e41-94db-02eac23f80d2\")>,\n",
       " <selenium.webdriver.remote.webelement.WebElement (session=\"24ce25bbbfc8cb79628f254c29af3c84\", element=\"c3ebfc1b-cc24-4c5e-a2fb-c4c34b86e444\")>,\n",
       " <selenium.webdriver.remote.webelement.WebElement (session=\"24ce25bbbfc8cb79628f254c29af3c84\", element=\"94eadba7-a9c9-4e8a-a372-f5056ce4f194\")>,\n",
       " <selenium.webdriver.remote.webelement.WebElement (session=\"24ce25bbbfc8cb79628f254c29af3c84\", element=\"95803265-ade7-459a-aeaf-fa0c1cf3d170\")>,\n",
       " <selenium.webdriver.remote.webelement.WebElement (session=\"24ce25bbbfc8cb79628f254c29af3c84\", element=\"1a80ffac-8f8d-4d39-ab2c-e96e313d9646\")>,\n",
       " <selenium.webdriver.remote.webelement.WebElement (session=\"24ce25bbbfc8cb79628f254c29af3c84\", element=\"132eb378-76f6-4380-8a9f-e146350e4bdc\")>,\n",
       " <selenium.webdriver.remote.webelement.WebElement (session=\"24ce25bbbfc8cb79628f254c29af3c84\", element=\"326ef1c3-4f5e-4169-91e2-7eef369c0ebd\")>,\n",
       " <selenium.webdriver.remote.webelement.WebElement (session=\"24ce25bbbfc8cb79628f254c29af3c84\", element=\"6855c789-ea3c-43d1-80d6-bca0f1879131\")>,\n",
       " <selenium.webdriver.remote.webelement.WebElement (session=\"24ce25bbbfc8cb79628f254c29af3c84\", element=\"fc451dd7-3499-493c-81cd-d43491b9ea68\")>,\n",
       " <selenium.webdriver.remote.webelement.WebElement (session=\"24ce25bbbfc8cb79628f254c29af3c84\", element=\"ba7d69d3-afe9-477f-98bd-7cb19e93ff5b\")>,\n",
       " <selenium.webdriver.remote.webelement.WebElement (session=\"24ce25bbbfc8cb79628f254c29af3c84\", element=\"b82ae58d-accb-4ca1-a60b-35fa4d761689\")>,\n",
       " <selenium.webdriver.remote.webelement.WebElement (session=\"24ce25bbbfc8cb79628f254c29af3c84\", element=\"f575067e-5b6b-4b79-8f52-0038cf34ad3b\")>,\n",
       " <selenium.webdriver.remote.webelement.WebElement (session=\"24ce25bbbfc8cb79628f254c29af3c84\", element=\"b508e94e-d21e-4f04-889f-df8d5770df7d\")>,\n",
       " <selenium.webdriver.remote.webelement.WebElement (session=\"24ce25bbbfc8cb79628f254c29af3c84\", element=\"c04783eb-4adc-444a-9411-b0c068147d11\")>,\n",
       " <selenium.webdriver.remote.webelement.WebElement (session=\"24ce25bbbfc8cb79628f254c29af3c84\", element=\"ffe310a8-7949-4613-a9f8-bd69daaeb741\")>,\n",
       " <selenium.webdriver.remote.webelement.WebElement (session=\"24ce25bbbfc8cb79628f254c29af3c84\", element=\"8cc401d4-560f-48d1-829d-9544f8ea60f4\")>,\n",
       " <selenium.webdriver.remote.webelement.WebElement (session=\"24ce25bbbfc8cb79628f254c29af3c84\", element=\"b2f5e341-6193-4b46-bdf2-a22d370c38f6\")>,\n",
       " <selenium.webdriver.remote.webelement.WebElement (session=\"24ce25bbbfc8cb79628f254c29af3c84\", element=\"298da38e-5c93-440a-96e7-8fc114ab0c78\")>,\n",
       " <selenium.webdriver.remote.webelement.WebElement (session=\"24ce25bbbfc8cb79628f254c29af3c84\", element=\"72a08cdd-d8ca-47f9-949b-1face8a9da23\")>,\n",
       " <selenium.webdriver.remote.webelement.WebElement (session=\"24ce25bbbfc8cb79628f254c29af3c84\", element=\"17b71a16-7564-485b-9c0f-69340df747b1\")>,\n",
       " <selenium.webdriver.remote.webelement.WebElement (session=\"24ce25bbbfc8cb79628f254c29af3c84\", element=\"e75e4edf-191d-46ae-9d3f-d152e764a630\")>,\n",
       " <selenium.webdriver.remote.webelement.WebElement (session=\"24ce25bbbfc8cb79628f254c29af3c84\", element=\"ee1581f1-b869-4ccd-9518-0cc2c9f6993c\")>,\n",
       " <selenium.webdriver.remote.webelement.WebElement (session=\"24ce25bbbfc8cb79628f254c29af3c84\", element=\"d35ca0ac-5895-4fdc-8f16-fc502a5dab87\")>,\n",
       " <selenium.webdriver.remote.webelement.WebElement (session=\"24ce25bbbfc8cb79628f254c29af3c84\", element=\"9019dac0-82a9-48c7-b74e-63b36dc1ecf8\")>]"
      ]
     },
     "execution_count": 25,
     "metadata": {},
     "output_type": "execute_result"
    }
   ],
   "source": [
    "Prod_dis2=driver.find_elements_by_xpath(\"//a[@class='IRpwTa']\")\n",
    "Prod_dis2"
   ]
  },
  {
   "cell_type": "code",
   "execution_count": 26,
   "metadata": {},
   "outputs": [
    {
     "data": {
      "text/plain": [
       "['Mirrored Aviator Sunglasses (58)',\n",
       " 'Mirrored Aviator Sunglasses (55)',\n",
       " 'UV Protection Sports Sunglasses (Free Size)',\n",
       " 'UV Protection Wrap-around Sunglasses (Free Size)',\n",
       " 'UV Protection Aviator Sunglasses (54)',\n",
       " 'Riding Glasses, UV Protection, Others Aviator Sunglasse...',\n",
       " 'UV Protection, Gradient Wayfarer Sunglasses (55)',\n",
       " 'UV Protection Aviator Sunglasses (58)',\n",
       " 'UV Protection Aviator Sunglasses (57)',\n",
       " 'UV Protection, Polarized Wayfarer Sunglasses (56)',\n",
       " 'UV Protection, Mirrored Round Sunglasses (Free Size)',\n",
       " 'UV Protection Clubmaster Sunglasses (Free Size)',\n",
       " 'Others Rectangular Sunglasses (Free Size)',\n",
       " 'UV Protection Aviator Sunglasses (Free Size)',\n",
       " 'UV Protection Aviator Sunglasses (58)',\n",
       " 'UV Protection Retro Square Sunglasses (Free Size)',\n",
       " 'UV Protection, Mirrored Retro Square Sunglasses (53)',\n",
       " 'UV Protection Aviator Sunglasses (57)',\n",
       " 'UV Protection, Gradient Round, Shield Sunglasses (50)',\n",
       " 'UV Protection Aviator Sunglasses (58)',\n",
       " 'UV Protection, Gradient Retro Square Sunglasses (Free S...',\n",
       " 'Polarized, UV Protection Aviator Sunglasses (58)',\n",
       " 'UV Protection, Gradient Cat-eye Sunglasses (63)',\n",
       " 'UV Protection Wayfarer Sunglasses (Free Size)',\n",
       " 'Mirrored, UV Protection Wayfarer Sunglasses (Free Size)',\n",
       " 'Polarized, UV Protection, Riding Glasses Wayfarer Sungl...',\n",
       " 'UV Protection, Night Vision, Gradient, Mirrored Round, ...',\n",
       " 'UV Protection Aviator Sunglasses (Free Size)',\n",
       " 'UV Protection, Gradient Wayfarer Sunglasses (61)',\n",
       " 'Others Retro Square Sunglasses (Free Size)',\n",
       " 'UV Protection, Gradient Round Sunglasses (Free Size)',\n",
       " 'UV Protection Shield Sunglasses (Free Size)',\n",
       " 'UV Protection Aviator, Wrap-around Sunglasses (60)',\n",
       " 'UV Protection, Mirrored, Gradient Retro Square Sunglass...',\n",
       " 'UV Protection, Gradient Oval Sunglasses (58)',\n",
       " 'UV Protection, Others Aviator Sunglasses (32)',\n",
       " 'Night Vision, Riding Glasses Wayfarer Sunglasses (53)',\n",
       " 'UV Protection Round Sunglasses (53)',\n",
       " 'UV Protection, Others Aviator, Wrap-around Sunglasses (...']"
      ]
     },
     "execution_count": 26,
     "metadata": {},
     "output_type": "execute_result"
    }
   ],
   "source": [
    "Prod_dis_2=[]\n",
    "for i in Prod_dis2:\n",
    "    Proddis2=i.text\n",
    "    Prod_dis_2.append(Proddis2)\n",
    "Prod_dis_2"
   ]
  },
  {
   "cell_type": "code",
   "execution_count": 27,
   "metadata": {},
   "outputs": [
    {
     "data": {
      "text/plain": [
       "[<selenium.webdriver.remote.webelement.WebElement (session=\"24ce25bbbfc8cb79628f254c29af3c84\", element=\"16cd715b-971f-40d9-b88b-55690165246b\")>,\n",
       " <selenium.webdriver.remote.webelement.WebElement (session=\"24ce25bbbfc8cb79628f254c29af3c84\", element=\"0e223605-c277-4762-9118-f93b328e4dc0\")>,\n",
       " <selenium.webdriver.remote.webelement.WebElement (session=\"24ce25bbbfc8cb79628f254c29af3c84\", element=\"0424911f-13c7-4591-8ad8-0e1f44accb61\")>,\n",
       " <selenium.webdriver.remote.webelement.WebElement (session=\"24ce25bbbfc8cb79628f254c29af3c84\", element=\"f976645c-2db2-4c3f-9e9c-62bcc67eb68b\")>,\n",
       " <selenium.webdriver.remote.webelement.WebElement (session=\"24ce25bbbfc8cb79628f254c29af3c84\", element=\"cf7aac57-4323-468f-83ae-5751b632e8f6\")>,\n",
       " <selenium.webdriver.remote.webelement.WebElement (session=\"24ce25bbbfc8cb79628f254c29af3c84\", element=\"bb015a3a-1111-4d76-8065-8f7112ec505b\")>,\n",
       " <selenium.webdriver.remote.webelement.WebElement (session=\"24ce25bbbfc8cb79628f254c29af3c84\", element=\"ac174a46-af44-48de-b3bb-8ed38cc227f2\")>,\n",
       " <selenium.webdriver.remote.webelement.WebElement (session=\"24ce25bbbfc8cb79628f254c29af3c84\", element=\"1b94a46c-14d6-4ac6-9e5c-b9b88fac921c\")>,\n",
       " <selenium.webdriver.remote.webelement.WebElement (session=\"24ce25bbbfc8cb79628f254c29af3c84\", element=\"e2360ba3-2bdc-4b11-8db6-6e3ff685bbe9\")>,\n",
       " <selenium.webdriver.remote.webelement.WebElement (session=\"24ce25bbbfc8cb79628f254c29af3c84\", element=\"37a3719b-a615-45df-9249-df7713ff6f02\")>,\n",
       " <selenium.webdriver.remote.webelement.WebElement (session=\"24ce25bbbfc8cb79628f254c29af3c84\", element=\"79838ac8-3c43-4e65-babd-0b020625f630\")>,\n",
       " <selenium.webdriver.remote.webelement.WebElement (session=\"24ce25bbbfc8cb79628f254c29af3c84\", element=\"7d2e5e9c-45bf-4ce9-aa49-c1b8c4f7a211\")>,\n",
       " <selenium.webdriver.remote.webelement.WebElement (session=\"24ce25bbbfc8cb79628f254c29af3c84\", element=\"223a80f5-3a20-4079-8d10-73774a4f9163\")>,\n",
       " <selenium.webdriver.remote.webelement.WebElement (session=\"24ce25bbbfc8cb79628f254c29af3c84\", element=\"53db181d-2832-4066-97d0-8f3ced3bdddb\")>,\n",
       " <selenium.webdriver.remote.webelement.WebElement (session=\"24ce25bbbfc8cb79628f254c29af3c84\", element=\"d4eeb2bc-94d2-4657-a191-7652ff0c0e04\")>,\n",
       " <selenium.webdriver.remote.webelement.WebElement (session=\"24ce25bbbfc8cb79628f254c29af3c84\", element=\"8b20a895-7a9a-4f41-86c8-528e0a67f87f\")>,\n",
       " <selenium.webdriver.remote.webelement.WebElement (session=\"24ce25bbbfc8cb79628f254c29af3c84\", element=\"a079488f-659b-4e80-b6c3-51d7b563a2b0\")>,\n",
       " <selenium.webdriver.remote.webelement.WebElement (session=\"24ce25bbbfc8cb79628f254c29af3c84\", element=\"84ad1de6-5fde-4e9d-bf07-99efdccac7a0\")>,\n",
       " <selenium.webdriver.remote.webelement.WebElement (session=\"24ce25bbbfc8cb79628f254c29af3c84\", element=\"286eb417-f570-4a7d-9e42-ae237b1feaa1\")>,\n",
       " <selenium.webdriver.remote.webelement.WebElement (session=\"24ce25bbbfc8cb79628f254c29af3c84\", element=\"1578ea28-30d8-42fd-a4e8-5a1109910640\")>,\n",
       " <selenium.webdriver.remote.webelement.WebElement (session=\"24ce25bbbfc8cb79628f254c29af3c84\", element=\"4f57c32d-be63-46f2-926f-49be89e656db\")>,\n",
       " <selenium.webdriver.remote.webelement.WebElement (session=\"24ce25bbbfc8cb79628f254c29af3c84\", element=\"88f3085a-ce54-49e2-b6f0-b7224e29699f\")>,\n",
       " <selenium.webdriver.remote.webelement.WebElement (session=\"24ce25bbbfc8cb79628f254c29af3c84\", element=\"05ff0e1f-af73-4570-abc1-1341eafee400\")>,\n",
       " <selenium.webdriver.remote.webelement.WebElement (session=\"24ce25bbbfc8cb79628f254c29af3c84\", element=\"74d65694-f8aa-4c7a-bfee-37838beee69b\")>,\n",
       " <selenium.webdriver.remote.webelement.WebElement (session=\"24ce25bbbfc8cb79628f254c29af3c84\", element=\"2a1a2251-8b88-4126-b9d9-7f83dd06b584\")>,\n",
       " <selenium.webdriver.remote.webelement.WebElement (session=\"24ce25bbbfc8cb79628f254c29af3c84\", element=\"62fe0eb5-63a6-4551-853d-57097100292f\")>,\n",
       " <selenium.webdriver.remote.webelement.WebElement (session=\"24ce25bbbfc8cb79628f254c29af3c84\", element=\"42f0cb0c-b6e6-459d-a0dc-6d47e23b61cd\")>,\n",
       " <selenium.webdriver.remote.webelement.WebElement (session=\"24ce25bbbfc8cb79628f254c29af3c84\", element=\"46bc1fd8-01bb-4e59-b4d8-bd3386e53f71\")>,\n",
       " <selenium.webdriver.remote.webelement.WebElement (session=\"24ce25bbbfc8cb79628f254c29af3c84\", element=\"c7573e53-f67e-4915-adbd-9d40286b740b\")>,\n",
       " <selenium.webdriver.remote.webelement.WebElement (session=\"24ce25bbbfc8cb79628f254c29af3c84\", element=\"4955cc5b-f425-4adf-baf8-f0eb4285dcb0\")>,\n",
       " <selenium.webdriver.remote.webelement.WebElement (session=\"24ce25bbbfc8cb79628f254c29af3c84\", element=\"9dfe8100-c61b-4f42-a5ca-f015a9832135\")>,\n",
       " <selenium.webdriver.remote.webelement.WebElement (session=\"24ce25bbbfc8cb79628f254c29af3c84\", element=\"c3d7080f-c1fa-48c4-880b-242af0af46a8\")>,\n",
       " <selenium.webdriver.remote.webelement.WebElement (session=\"24ce25bbbfc8cb79628f254c29af3c84\", element=\"386a7d2b-c6fc-4678-82c5-09ec1f2dbce1\")>,\n",
       " <selenium.webdriver.remote.webelement.WebElement (session=\"24ce25bbbfc8cb79628f254c29af3c84\", element=\"33dd0e8f-2d38-4d7f-8e5c-554e9db5f517\")>,\n",
       " <selenium.webdriver.remote.webelement.WebElement (session=\"24ce25bbbfc8cb79628f254c29af3c84\", element=\"dd7a2bd9-44d0-4998-a4bf-9c9c4d8d0904\")>,\n",
       " <selenium.webdriver.remote.webelement.WebElement (session=\"24ce25bbbfc8cb79628f254c29af3c84\", element=\"ad22c472-455d-4974-85e2-43ab6fa0c224\")>,\n",
       " <selenium.webdriver.remote.webelement.WebElement (session=\"24ce25bbbfc8cb79628f254c29af3c84\", element=\"ef639bfd-fc06-4fa0-93aa-52753e670e00\")>,\n",
       " <selenium.webdriver.remote.webelement.WebElement (session=\"24ce25bbbfc8cb79628f254c29af3c84\", element=\"891555b5-bc6e-4147-9e10-d8a1bf468361\")>,\n",
       " <selenium.webdriver.remote.webelement.WebElement (session=\"24ce25bbbfc8cb79628f254c29af3c84\", element=\"e9bd3866-5af6-4b41-bd61-d4ecb822eaaa\")>,\n",
       " <selenium.webdriver.remote.webelement.WebElement (session=\"24ce25bbbfc8cb79628f254c29af3c84\", element=\"c1722260-1540-4e76-a8bb-9fa54040b687\")>]"
      ]
     },
     "execution_count": 27,
     "metadata": {},
     "output_type": "execute_result"
    }
   ],
   "source": [
    "Price2=driver.find_elements_by_xpath(\"//div[@class='_30jeq3']\")\n",
    "Price2"
   ]
  },
  {
   "cell_type": "code",
   "execution_count": 28,
   "metadata": {},
   "outputs": [
    {
     "data": {
      "text/plain": [
       "['₹399',\n",
       " '₹379',\n",
       " '₹319',\n",
       " '₹664',\n",
       " '₹499',\n",
       " '₹250',\n",
       " '₹239',\n",
       " '₹217',\n",
       " '₹1,115',\n",
       " '₹195',\n",
       " '₹759',\n",
       " '₹219',\n",
       " '₹319',\n",
       " '₹449',\n",
       " '₹759',\n",
       " '₹1,085',\n",
       " '₹289',\n",
       " '₹399',\n",
       " '₹337',\n",
       " '₹395',\n",
       " '₹1,148',\n",
       " '₹449',\n",
       " '₹711',\n",
       " '₹395',\n",
       " '₹576',\n",
       " '₹777',\n",
       " '₹249',\n",
       " '₹210',\n",
       " '₹417',\n",
       " '₹735',\n",
       " '₹599',\n",
       " '₹449',\n",
       " '₹759',\n",
       " '₹1,290',\n",
       " '₹259',\n",
       " '₹500',\n",
       " '₹349',\n",
       " '₹207',\n",
       " '₹189',\n",
       " '₹995']"
      ]
     },
     "execution_count": 28,
     "metadata": {},
     "output_type": "execute_result"
    }
   ],
   "source": [
    "Price_2=[]\n",
    "for i in Price2:\n",
    "    Prices2=i.text\n",
    "    Price_2.append(Prices2)\n",
    "Price_2"
   ]
  },
  {
   "cell_type": "code",
   "execution_count": 29,
   "metadata": {},
   "outputs": [
    {
     "data": {
      "text/plain": [
       "[<selenium.webdriver.remote.webelement.WebElement (session=\"24ce25bbbfc8cb79628f254c29af3c84\", element=\"02051d05-d688-462e-a858-6e8fdfff0cd1\")>,\n",
       " <selenium.webdriver.remote.webelement.WebElement (session=\"24ce25bbbfc8cb79628f254c29af3c84\", element=\"3cd93359-684c-4e59-8a40-dda7e2031dc3\")>,\n",
       " <selenium.webdriver.remote.webelement.WebElement (session=\"24ce25bbbfc8cb79628f254c29af3c84\", element=\"9b68d0d7-7516-47f4-bc14-82dacdcd2be2\")>,\n",
       " <selenium.webdriver.remote.webelement.WebElement (session=\"24ce25bbbfc8cb79628f254c29af3c84\", element=\"64e3d1cc-5756-41b0-bfad-95bf077b893d\")>,\n",
       " <selenium.webdriver.remote.webelement.WebElement (session=\"24ce25bbbfc8cb79628f254c29af3c84\", element=\"14ddae8e-134e-48b7-9f07-500be6ca36eb\")>,\n",
       " <selenium.webdriver.remote.webelement.WebElement (session=\"24ce25bbbfc8cb79628f254c29af3c84\", element=\"764cff9f-f0a5-470d-83ba-c1ae883a9fe1\")>,\n",
       " <selenium.webdriver.remote.webelement.WebElement (session=\"24ce25bbbfc8cb79628f254c29af3c84\", element=\"d88699e1-b8d1-4ee5-9f7e-d065e8d4e928\")>,\n",
       " <selenium.webdriver.remote.webelement.WebElement (session=\"24ce25bbbfc8cb79628f254c29af3c84\", element=\"883dad13-a733-4fca-b6e9-8c83eba3fa11\")>,\n",
       " <selenium.webdriver.remote.webelement.WebElement (session=\"24ce25bbbfc8cb79628f254c29af3c84\", element=\"dec836c8-3e3d-4b73-a836-4e319b056b54\")>,\n",
       " <selenium.webdriver.remote.webelement.WebElement (session=\"24ce25bbbfc8cb79628f254c29af3c84\", element=\"1d489636-fa55-453a-99dd-75825d1f7aa8\")>,\n",
       " <selenium.webdriver.remote.webelement.WebElement (session=\"24ce25bbbfc8cb79628f254c29af3c84\", element=\"04b9041d-e50f-43cb-9b18-84465631f279\")>,\n",
       " <selenium.webdriver.remote.webelement.WebElement (session=\"24ce25bbbfc8cb79628f254c29af3c84\", element=\"7f4b7f55-667b-41ee-91b5-1a080b9a00a3\")>,\n",
       " <selenium.webdriver.remote.webelement.WebElement (session=\"24ce25bbbfc8cb79628f254c29af3c84\", element=\"16d90db7-3c21-4099-b0c4-ed93e21fc9dc\")>,\n",
       " <selenium.webdriver.remote.webelement.WebElement (session=\"24ce25bbbfc8cb79628f254c29af3c84\", element=\"2ff07e02-902d-413c-858c-306b8967b576\")>,\n",
       " <selenium.webdriver.remote.webelement.WebElement (session=\"24ce25bbbfc8cb79628f254c29af3c84\", element=\"f7d893e7-bfd3-43a5-a3b3-3fc81c056a90\")>,\n",
       " <selenium.webdriver.remote.webelement.WebElement (session=\"24ce25bbbfc8cb79628f254c29af3c84\", element=\"c2125ad4-b645-4b06-920f-58b60e091425\")>,\n",
       " <selenium.webdriver.remote.webelement.WebElement (session=\"24ce25bbbfc8cb79628f254c29af3c84\", element=\"b88584aa-9d07-46a1-992a-bb87a5c75ef8\")>,\n",
       " <selenium.webdriver.remote.webelement.WebElement (session=\"24ce25bbbfc8cb79628f254c29af3c84\", element=\"ce1fe9a7-9c71-435a-abb6-2a7325575d8b\")>,\n",
       " <selenium.webdriver.remote.webelement.WebElement (session=\"24ce25bbbfc8cb79628f254c29af3c84\", element=\"f99a4cf3-e37e-4451-a0a6-b0784b5c6085\")>,\n",
       " <selenium.webdriver.remote.webelement.WebElement (session=\"24ce25bbbfc8cb79628f254c29af3c84\", element=\"01b1dc07-830f-4a59-b5cd-701f9cb18e39\")>,\n",
       " <selenium.webdriver.remote.webelement.WebElement (session=\"24ce25bbbfc8cb79628f254c29af3c84\", element=\"22b1b2bc-2513-40ea-bc17-62441da13ac2\")>,\n",
       " <selenium.webdriver.remote.webelement.WebElement (session=\"24ce25bbbfc8cb79628f254c29af3c84\", element=\"7c4d177f-c52c-469b-9c50-1b79f998a8a8\")>,\n",
       " <selenium.webdriver.remote.webelement.WebElement (session=\"24ce25bbbfc8cb79628f254c29af3c84\", element=\"b1fbd097-4c6d-44ef-b38c-62bf06eb3d87\")>,\n",
       " <selenium.webdriver.remote.webelement.WebElement (session=\"24ce25bbbfc8cb79628f254c29af3c84\", element=\"c41e66da-4e55-4d4d-98fa-63d81f6442e2\")>,\n",
       " <selenium.webdriver.remote.webelement.WebElement (session=\"24ce25bbbfc8cb79628f254c29af3c84\", element=\"6870928a-7068-4a88-af37-24977983c1df\")>,\n",
       " <selenium.webdriver.remote.webelement.WebElement (session=\"24ce25bbbfc8cb79628f254c29af3c84\", element=\"f0bbf674-cb2d-47bf-b268-f266432a8fa7\")>,\n",
       " <selenium.webdriver.remote.webelement.WebElement (session=\"24ce25bbbfc8cb79628f254c29af3c84\", element=\"5ac9a136-1421-4c9e-acae-4019d70364f5\")>,\n",
       " <selenium.webdriver.remote.webelement.WebElement (session=\"24ce25bbbfc8cb79628f254c29af3c84\", element=\"cb595603-8449-4ac1-bf24-41e14754c610\")>,\n",
       " <selenium.webdriver.remote.webelement.WebElement (session=\"24ce25bbbfc8cb79628f254c29af3c84\", element=\"11d59d7d-bb08-4635-baa8-4ced7deab647\")>,\n",
       " <selenium.webdriver.remote.webelement.WebElement (session=\"24ce25bbbfc8cb79628f254c29af3c84\", element=\"102bfc82-e162-4d06-b0fa-68a1502c9258\")>,\n",
       " <selenium.webdriver.remote.webelement.WebElement (session=\"24ce25bbbfc8cb79628f254c29af3c84\", element=\"2950f2ff-2347-4f4d-a9d4-f99888508cd0\")>,\n",
       " <selenium.webdriver.remote.webelement.WebElement (session=\"24ce25bbbfc8cb79628f254c29af3c84\", element=\"d7126725-7274-4a31-8ee8-f9ce8f3a0dcc\")>,\n",
       " <selenium.webdriver.remote.webelement.WebElement (session=\"24ce25bbbfc8cb79628f254c29af3c84\", element=\"a293a234-2472-418a-be33-f68ca1a2da68\")>,\n",
       " <selenium.webdriver.remote.webelement.WebElement (session=\"24ce25bbbfc8cb79628f254c29af3c84\", element=\"eae47ad1-64fc-44cf-9816-b74e9ab89617\")>,\n",
       " <selenium.webdriver.remote.webelement.WebElement (session=\"24ce25bbbfc8cb79628f254c29af3c84\", element=\"ff23d691-66b1-4bd9-8458-ab0ac0c003db\")>,\n",
       " <selenium.webdriver.remote.webelement.WebElement (session=\"24ce25bbbfc8cb79628f254c29af3c84\", element=\"29a635a2-aeb5-4f3a-b439-87896c0d82c2\")>,\n",
       " <selenium.webdriver.remote.webelement.WebElement (session=\"24ce25bbbfc8cb79628f254c29af3c84\", element=\"dbca228c-b7f1-42bc-b982-7deb747a2255\")>,\n",
       " <selenium.webdriver.remote.webelement.WebElement (session=\"24ce25bbbfc8cb79628f254c29af3c84\", element=\"2ac4a481-a457-4d4b-bdc7-017326e2f42f\")>,\n",
       " <selenium.webdriver.remote.webelement.WebElement (session=\"24ce25bbbfc8cb79628f254c29af3c84\", element=\"d551d4fd-2654-4874-9faa-796241c585ee\")>,\n",
       " <selenium.webdriver.remote.webelement.WebElement (session=\"24ce25bbbfc8cb79628f254c29af3c84\", element=\"7e277f22-40ad-47f1-92af-f5fea4a66844\")>]"
      ]
     },
     "execution_count": 29,
     "metadata": {},
     "output_type": "execute_result"
    }
   ],
   "source": [
    "Dis2=driver.find_elements_by_xpath(\"//div[@class='_3Ay6Sb']\")\n",
    "Dis2"
   ]
  },
  {
   "cell_type": "code",
   "execution_count": 30,
   "metadata": {},
   "outputs": [
    {
     "data": {
      "text/plain": [
       "['73% off',\n",
       " '74% off',\n",
       " '83% off',\n",
       " '66% off',\n",
       " '66% off',\n",
       " '84% off',\n",
       " '84% off',\n",
       " '78% off',\n",
       " '14% off',\n",
       " '75% off',\n",
       " '15% off',\n",
       " '86% off',\n",
       " '84% off',\n",
       " '55% off',\n",
       " '15% off',\n",
       " '16% off',\n",
       " '80% off',\n",
       " '80% off',\n",
       " '83% off',\n",
       " '77% off',\n",
       " '11% off',\n",
       " '77% off',\n",
       " '64% off',\n",
       " '74% off',\n",
       " '27% off',\n",
       " '22% off',\n",
       " '58% off',\n",
       " '78% off',\n",
       " '66% off',\n",
       " '73% off',\n",
       " '20% off',\n",
       " '83% off',\n",
       " '15% off',\n",
       " '69% off',\n",
       " '87% off',\n",
       " '67% off',\n",
       " '82% off',\n",
       " '88% off',\n",
       " '62% off',\n",
       " '73% off']"
      ]
     },
     "execution_count": 30,
     "metadata": {},
     "output_type": "execute_result"
    }
   ],
   "source": [
    "Dis_2=[]\n",
    "for i in Dis2:\n",
    "    disc2=i.text\n",
    "    Dis_2.append(disc2)\n",
    "Dis_2"
   ]
  },
  {
   "cell_type": "code",
   "execution_count": 31,
   "metadata": {},
   "outputs": [],
   "source": [
    "#clicking on the next page\n",
    "Next_page3=driver.find_element_by_xpath(\"//a [@href='/search?q=sunglasses&otracker=search&otracker1=search&marketplace=FLIPKART&as-show=on&as=off&page=3']\")\n",
    "Next_page3.click()"
   ]
  },
  {
   "cell_type": "code",
   "execution_count": 32,
   "metadata": {},
   "outputs": [
    {
     "data": {
      "text/plain": [
       "[<selenium.webdriver.remote.webelement.WebElement (session=\"24ce25bbbfc8cb79628f254c29af3c84\", element=\"59353ee2-3cd5-404d-89ac-a5c0fe413583\")>,\n",
       " <selenium.webdriver.remote.webelement.WebElement (session=\"24ce25bbbfc8cb79628f254c29af3c84\", element=\"70549a0d-3234-449b-8675-af814e1774f6\")>,\n",
       " <selenium.webdriver.remote.webelement.WebElement (session=\"24ce25bbbfc8cb79628f254c29af3c84\", element=\"9cd78216-9bd2-4673-a725-e6e6c4e175c9\")>,\n",
       " <selenium.webdriver.remote.webelement.WebElement (session=\"24ce25bbbfc8cb79628f254c29af3c84\", element=\"c1648091-706d-4e98-8387-e7ff4e1a128b\")>,\n",
       " <selenium.webdriver.remote.webelement.WebElement (session=\"24ce25bbbfc8cb79628f254c29af3c84\", element=\"f90a13ad-3393-49e9-84d1-1c09a39ef618\")>,\n",
       " <selenium.webdriver.remote.webelement.WebElement (session=\"24ce25bbbfc8cb79628f254c29af3c84\", element=\"24c62b42-c95d-447f-b59d-f2a59037d64a\")>,\n",
       " <selenium.webdriver.remote.webelement.WebElement (session=\"24ce25bbbfc8cb79628f254c29af3c84\", element=\"ac36fd94-8c7a-4f1d-8d75-2390f4bd030d\")>,\n",
       " <selenium.webdriver.remote.webelement.WebElement (session=\"24ce25bbbfc8cb79628f254c29af3c84\", element=\"e112bce1-1c31-49cf-9beb-d79bfd111293\")>,\n",
       " <selenium.webdriver.remote.webelement.WebElement (session=\"24ce25bbbfc8cb79628f254c29af3c84\", element=\"f2db2f9b-f4cf-4f88-81d8-f6bd8f1c43cf\")>,\n",
       " <selenium.webdriver.remote.webelement.WebElement (session=\"24ce25bbbfc8cb79628f254c29af3c84\", element=\"1f999819-d7f4-49fc-bd69-3f9ca5de475f\")>,\n",
       " <selenium.webdriver.remote.webelement.WebElement (session=\"24ce25bbbfc8cb79628f254c29af3c84\", element=\"48f72df7-88d7-4219-9834-e8e5b3cdeced\")>,\n",
       " <selenium.webdriver.remote.webelement.WebElement (session=\"24ce25bbbfc8cb79628f254c29af3c84\", element=\"c0c7186c-0a65-4e07-80a1-ea89ef01ec53\")>,\n",
       " <selenium.webdriver.remote.webelement.WebElement (session=\"24ce25bbbfc8cb79628f254c29af3c84\", element=\"8ed818fb-9fdc-473a-be33-3c5f73a0426a\")>,\n",
       " <selenium.webdriver.remote.webelement.WebElement (session=\"24ce25bbbfc8cb79628f254c29af3c84\", element=\"f65be9ec-af16-4ee9-898c-109251e86b59\")>,\n",
       " <selenium.webdriver.remote.webelement.WebElement (session=\"24ce25bbbfc8cb79628f254c29af3c84\", element=\"33ff9a02-f141-4beb-ad31-ae0bfcded953\")>,\n",
       " <selenium.webdriver.remote.webelement.WebElement (session=\"24ce25bbbfc8cb79628f254c29af3c84\", element=\"c75a6e71-6b13-40f9-ac29-127c6c81e8da\")>,\n",
       " <selenium.webdriver.remote.webelement.WebElement (session=\"24ce25bbbfc8cb79628f254c29af3c84\", element=\"1f911bf2-09d4-40fd-b4a5-641cc52c7b1e\")>,\n",
       " <selenium.webdriver.remote.webelement.WebElement (session=\"24ce25bbbfc8cb79628f254c29af3c84\", element=\"cdf4397e-1019-4b99-a299-f0d9f17f7067\")>,\n",
       " <selenium.webdriver.remote.webelement.WebElement (session=\"24ce25bbbfc8cb79628f254c29af3c84\", element=\"46e7c1a1-bf7e-4bdb-91b7-e02f4c958eab\")>,\n",
       " <selenium.webdriver.remote.webelement.WebElement (session=\"24ce25bbbfc8cb79628f254c29af3c84\", element=\"c7029086-356f-448e-b029-b21f8b9302a5\")>,\n",
       " <selenium.webdriver.remote.webelement.WebElement (session=\"24ce25bbbfc8cb79628f254c29af3c84\", element=\"275a0b6a-b650-4817-be48-c3d5360f7b5b\")>,\n",
       " <selenium.webdriver.remote.webelement.WebElement (session=\"24ce25bbbfc8cb79628f254c29af3c84\", element=\"7e88299c-c2d6-4a98-a259-a012ede9b02d\")>,\n",
       " <selenium.webdriver.remote.webelement.WebElement (session=\"24ce25bbbfc8cb79628f254c29af3c84\", element=\"e5c76893-07a1-4b22-8f37-b34764e7de80\")>,\n",
       " <selenium.webdriver.remote.webelement.WebElement (session=\"24ce25bbbfc8cb79628f254c29af3c84\", element=\"3dae988e-5c15-4b38-984e-b9457f5c1989\")>,\n",
       " <selenium.webdriver.remote.webelement.WebElement (session=\"24ce25bbbfc8cb79628f254c29af3c84\", element=\"3618735d-d468-4c7b-a469-c0e608c28a03\")>,\n",
       " <selenium.webdriver.remote.webelement.WebElement (session=\"24ce25bbbfc8cb79628f254c29af3c84\", element=\"2bcde6ba-20c9-4263-9251-5c344c138fa5\")>,\n",
       " <selenium.webdriver.remote.webelement.WebElement (session=\"24ce25bbbfc8cb79628f254c29af3c84\", element=\"103aab36-5ff2-41f6-9ea0-896538ff8526\")>,\n",
       " <selenium.webdriver.remote.webelement.WebElement (session=\"24ce25bbbfc8cb79628f254c29af3c84\", element=\"90d70d8e-7c42-4ab7-b525-798621b4d303\")>,\n",
       " <selenium.webdriver.remote.webelement.WebElement (session=\"24ce25bbbfc8cb79628f254c29af3c84\", element=\"1ba21b80-0ec4-44ad-80cb-8f0f40935bc9\")>,\n",
       " <selenium.webdriver.remote.webelement.WebElement (session=\"24ce25bbbfc8cb79628f254c29af3c84\", element=\"672822be-6baf-4fae-b3bf-139ea4162fd3\")>,\n",
       " <selenium.webdriver.remote.webelement.WebElement (session=\"24ce25bbbfc8cb79628f254c29af3c84\", element=\"797f6126-b4d9-4fd1-a53a-9db8e73c3a02\")>,\n",
       " <selenium.webdriver.remote.webelement.WebElement (session=\"24ce25bbbfc8cb79628f254c29af3c84\", element=\"a9d2c763-8e83-43ea-9203-693a085a1b9e\")>,\n",
       " <selenium.webdriver.remote.webelement.WebElement (session=\"24ce25bbbfc8cb79628f254c29af3c84\", element=\"2e419561-3127-42a5-acee-d10083f1f9e8\")>,\n",
       " <selenium.webdriver.remote.webelement.WebElement (session=\"24ce25bbbfc8cb79628f254c29af3c84\", element=\"137f36cc-9e97-4a94-978f-a5b95d2cbd93\")>,\n",
       " <selenium.webdriver.remote.webelement.WebElement (session=\"24ce25bbbfc8cb79628f254c29af3c84\", element=\"bebb7ea0-42cb-44d1-88d5-53d1d8c8dab2\")>,\n",
       " <selenium.webdriver.remote.webelement.WebElement (session=\"24ce25bbbfc8cb79628f254c29af3c84\", element=\"9ee34171-f2e3-48b3-93b7-b6b61572bbb7\")>,\n",
       " <selenium.webdriver.remote.webelement.WebElement (session=\"24ce25bbbfc8cb79628f254c29af3c84\", element=\"ae6b8f3d-3b05-49c1-bfdf-752e0fe9d13e\")>,\n",
       " <selenium.webdriver.remote.webelement.WebElement (session=\"24ce25bbbfc8cb79628f254c29af3c84\", element=\"35b590d1-0c21-45f2-9b4b-b10f320fbb61\")>,\n",
       " <selenium.webdriver.remote.webelement.WebElement (session=\"24ce25bbbfc8cb79628f254c29af3c84\", element=\"3af5ab96-3296-421d-bf15-b0f5cefc81da\")>,\n",
       " <selenium.webdriver.remote.webelement.WebElement (session=\"24ce25bbbfc8cb79628f254c29af3c84\", element=\"b61d0b06-182b-4ceb-9fb1-82ec488ab174\")>]"
      ]
     },
     "execution_count": 32,
     "metadata": {},
     "output_type": "execute_result"
    }
   ],
   "source": [
    "Brand_tag3=driver.find_elements_by_xpath(\"//div[@class='_2WkVRV']\")\n",
    "Brand_tag3"
   ]
  },
  {
   "cell_type": "code",
   "execution_count": 33,
   "metadata": {},
   "outputs": [
    {
     "data": {
      "text/plain": [
       "['ROZZETTA CRAFT',\n",
       " 'ROYAL SON',\n",
       " 'DEIXELS',\n",
       " 'AISLIN',\n",
       " 'ROZZETTA CRAFT',\n",
       " 'GANSTA',\n",
       " 'SRPM',\n",
       " 'GANSTA',\n",
       " 'AISLIN',\n",
       " 'NuVew',\n",
       " 'Fastrack',\n",
       " 'PHENOMENAL',\n",
       " 'PETER JONES',\n",
       " 'IZAAN MART',\n",
       " 'GANSTA',\n",
       " 'ROZZETTA CRAFT',\n",
       " 'PIRASO',\n",
       " 'ROYAL SON',\n",
       " 'hipe',\n",
       " 'IZAAN MART',\n",
       " 'ROYAL SON',\n",
       " 'Flizz',\n",
       " 'elegante',\n",
       " 'AISLIN',\n",
       " 'Fravy',\n",
       " 'NuVew',\n",
       " 'hipe',\n",
       " 'GANSTA',\n",
       " 'Fastrack',\n",
       " 'AISLIN',\n",
       " 'Singco India',\n",
       " 'AISLIN',\n",
       " 'PETER JONES',\n",
       " 'FOSSIL',\n",
       " 'PHENOMENAL',\n",
       " 'NuVew',\n",
       " 'hipe',\n",
       " 'IDEE',\n",
       " 'Silver Kartz',\n",
       " 'NuVew']"
      ]
     },
     "execution_count": 33,
     "metadata": {},
     "output_type": "execute_result"
    }
   ],
   "source": [
    "Brand_3=[]\n",
    "for i in Brand_tag3:\n",
    "    brandtag3=i.text\n",
    "    Brand_3.append(brandtag3)\n",
    "Brand_3"
   ]
  },
  {
   "cell_type": "code",
   "execution_count": 34,
   "metadata": {},
   "outputs": [
    {
     "data": {
      "text/plain": [
       "[<selenium.webdriver.remote.webelement.WebElement (session=\"24ce25bbbfc8cb79628f254c29af3c84\", element=\"fb2a9744-4827-417b-9459-f27b42ffa3b0\")>,\n",
       " <selenium.webdriver.remote.webelement.WebElement (session=\"24ce25bbbfc8cb79628f254c29af3c84\", element=\"7a101919-9756-4d72-81d2-31c0fa0f2d3e\")>,\n",
       " <selenium.webdriver.remote.webelement.WebElement (session=\"24ce25bbbfc8cb79628f254c29af3c84\", element=\"e3d7e705-9571-4d8c-887b-6ac6679df358\")>,\n",
       " <selenium.webdriver.remote.webelement.WebElement (session=\"24ce25bbbfc8cb79628f254c29af3c84\", element=\"31ee6590-ecbf-42eb-af86-a94cc9dda210\")>,\n",
       " <selenium.webdriver.remote.webelement.WebElement (session=\"24ce25bbbfc8cb79628f254c29af3c84\", element=\"bfb9ee53-fd1b-4ba1-b63d-f9a6e4e725df\")>,\n",
       " <selenium.webdriver.remote.webelement.WebElement (session=\"24ce25bbbfc8cb79628f254c29af3c84\", element=\"a3d41755-a99d-476d-95e7-a605364fc3bf\")>,\n",
       " <selenium.webdriver.remote.webelement.WebElement (session=\"24ce25bbbfc8cb79628f254c29af3c84\", element=\"dc440414-5d93-45a1-9416-11a1f85cb97b\")>,\n",
       " <selenium.webdriver.remote.webelement.WebElement (session=\"24ce25bbbfc8cb79628f254c29af3c84\", element=\"81936270-0fdb-4e86-981a-a8dec9dffc06\")>,\n",
       " <selenium.webdriver.remote.webelement.WebElement (session=\"24ce25bbbfc8cb79628f254c29af3c84\", element=\"a24ad9ea-3194-4d4e-8209-448d629e27ba\")>,\n",
       " <selenium.webdriver.remote.webelement.WebElement (session=\"24ce25bbbfc8cb79628f254c29af3c84\", element=\"936397d9-585a-4144-9673-d6da0ca4c61c\")>,\n",
       " <selenium.webdriver.remote.webelement.WebElement (session=\"24ce25bbbfc8cb79628f254c29af3c84\", element=\"c9952052-19ce-49c8-ac93-0f75355379a6\")>,\n",
       " <selenium.webdriver.remote.webelement.WebElement (session=\"24ce25bbbfc8cb79628f254c29af3c84\", element=\"9ce7bff5-c63d-4adb-9453-3399c18288ea\")>,\n",
       " <selenium.webdriver.remote.webelement.WebElement (session=\"24ce25bbbfc8cb79628f254c29af3c84\", element=\"9fade3ac-9df7-4b39-9404-899e0b2c7d35\")>,\n",
       " <selenium.webdriver.remote.webelement.WebElement (session=\"24ce25bbbfc8cb79628f254c29af3c84\", element=\"249078db-daf3-42ff-91f5-d1aa7888006d\")>,\n",
       " <selenium.webdriver.remote.webelement.WebElement (session=\"24ce25bbbfc8cb79628f254c29af3c84\", element=\"48173d50-deb3-4348-a8c9-a061d4882ab1\")>,\n",
       " <selenium.webdriver.remote.webelement.WebElement (session=\"24ce25bbbfc8cb79628f254c29af3c84\", element=\"454041ee-8e3e-445e-9961-25980d27c808\")>,\n",
       " <selenium.webdriver.remote.webelement.WebElement (session=\"24ce25bbbfc8cb79628f254c29af3c84\", element=\"440200f2-7db4-4ebe-be6f-74e9631c388d\")>,\n",
       " <selenium.webdriver.remote.webelement.WebElement (session=\"24ce25bbbfc8cb79628f254c29af3c84\", element=\"06714b95-943e-416d-a7ee-768bc29a4051\")>,\n",
       " <selenium.webdriver.remote.webelement.WebElement (session=\"24ce25bbbfc8cb79628f254c29af3c84\", element=\"ec1b048b-6350-467b-995c-65799c79bf96\")>,\n",
       " <selenium.webdriver.remote.webelement.WebElement (session=\"24ce25bbbfc8cb79628f254c29af3c84\", element=\"dc62f950-0ef0-41a6-8a60-be9c3dd3ab75\")>,\n",
       " <selenium.webdriver.remote.webelement.WebElement (session=\"24ce25bbbfc8cb79628f254c29af3c84\", element=\"d37cc323-d841-4070-8780-98a4c310fc58\")>,\n",
       " <selenium.webdriver.remote.webelement.WebElement (session=\"24ce25bbbfc8cb79628f254c29af3c84\", element=\"fd5da099-5e96-4bdd-bd0e-d5e17a9ec162\")>,\n",
       " <selenium.webdriver.remote.webelement.WebElement (session=\"24ce25bbbfc8cb79628f254c29af3c84\", element=\"8ac34284-061a-47e1-a0c5-42ce722fe428\")>,\n",
       " <selenium.webdriver.remote.webelement.WebElement (session=\"24ce25bbbfc8cb79628f254c29af3c84\", element=\"8f64035d-03e7-4250-b070-06c212317f48\")>,\n",
       " <selenium.webdriver.remote.webelement.WebElement (session=\"24ce25bbbfc8cb79628f254c29af3c84\", element=\"f299ccac-c6e4-4261-b1f2-fcd87d86b68b\")>,\n",
       " <selenium.webdriver.remote.webelement.WebElement (session=\"24ce25bbbfc8cb79628f254c29af3c84\", element=\"1dc8a39e-294e-490a-8555-9964adaa8673\")>,\n",
       " <selenium.webdriver.remote.webelement.WebElement (session=\"24ce25bbbfc8cb79628f254c29af3c84\", element=\"439b15b5-f0a1-41fe-b4b2-1ba20d3237e0\")>,\n",
       " <selenium.webdriver.remote.webelement.WebElement (session=\"24ce25bbbfc8cb79628f254c29af3c84\", element=\"718a79fd-df28-41a1-a517-202599ce099e\")>,\n",
       " <selenium.webdriver.remote.webelement.WebElement (session=\"24ce25bbbfc8cb79628f254c29af3c84\", element=\"c7d918e5-af88-47a9-be30-7bfe70aabc32\")>,\n",
       " <selenium.webdriver.remote.webelement.WebElement (session=\"24ce25bbbfc8cb79628f254c29af3c84\", element=\"d400c026-11aa-4401-84e6-aabca1d4d780\")>,\n",
       " <selenium.webdriver.remote.webelement.WebElement (session=\"24ce25bbbfc8cb79628f254c29af3c84\", element=\"c41a289f-2772-42c6-a9c3-c20e2ae758be\")>,\n",
       " <selenium.webdriver.remote.webelement.WebElement (session=\"24ce25bbbfc8cb79628f254c29af3c84\", element=\"039e969b-87f3-463c-9221-40e01689f377\")>,\n",
       " <selenium.webdriver.remote.webelement.WebElement (session=\"24ce25bbbfc8cb79628f254c29af3c84\", element=\"751e448b-74fb-4b3a-b280-5fa52a963e60\")>,\n",
       " <selenium.webdriver.remote.webelement.WebElement (session=\"24ce25bbbfc8cb79628f254c29af3c84\", element=\"764dd457-3197-40b8-b55c-010ddc44ed74\")>,\n",
       " <selenium.webdriver.remote.webelement.WebElement (session=\"24ce25bbbfc8cb79628f254c29af3c84\", element=\"64e05d28-71fd-42c6-b549-0dc1ff8eb003\")>,\n",
       " <selenium.webdriver.remote.webelement.WebElement (session=\"24ce25bbbfc8cb79628f254c29af3c84\", element=\"7b0b5cb9-2699-4ea5-bfbe-e47270ccddc4\")>,\n",
       " <selenium.webdriver.remote.webelement.WebElement (session=\"24ce25bbbfc8cb79628f254c29af3c84\", element=\"4353a3ef-6c2d-49ca-b6b9-66272c5a5c77\")>,\n",
       " <selenium.webdriver.remote.webelement.WebElement (session=\"24ce25bbbfc8cb79628f254c29af3c84\", element=\"49360c5a-835e-4891-9f01-2a6770f130dc\")>]"
      ]
     },
     "execution_count": 34,
     "metadata": {},
     "output_type": "execute_result"
    }
   ],
   "source": [
    "Prod_dis3=driver.find_elements_by_xpath(\"//a[@class='IRpwTa']\")\n",
    "Prod_dis3"
   ]
  },
  {
   "cell_type": "code",
   "execution_count": 35,
   "metadata": {},
   "outputs": [
    {
     "data": {
      "text/plain": [
       "['UV Protection, Gradient Round Sunglasses (Free Size)',\n",
       " 'Polarized Sports Sunglasses (68)',\n",
       " 'UV Protection Wayfarer Sunglasses (Free Size)',\n",
       " 'Polarized, UV Protection Wayfarer Sunglasses (52)',\n",
       " 'Polarized, UV Protection Aviator Sunglasses (Free Size)',\n",
       " 'UV Protection, Gradient Wayfarer Sunglasses (53)',\n",
       " 'UV Protection Round Sunglasses (53)',\n",
       " 'UV Protection, Night Vision, Riding Glasses Aviator Sun...',\n",
       " 'UV Protection, Gradient Oval Sunglasses (58)',\n",
       " 'UV Protection Retro Square, Wayfarer Sunglasses (58)',\n",
       " 'UV Protection Rectangular Sunglasses (59)',\n",
       " 'UV Protection, Mirrored Clubmaster Sunglasses (Free Siz...',\n",
       " 'Night Vision, Riding Glasses, UV Protection Wrap-around...',\n",
       " 'UV Protection, Mirrored, Gradient Wayfarer Sunglasses (...',\n",
       " 'Mirrored, UV Protection Round Sunglasses (Free Size)',\n",
       " 'UV Protection Wayfarer Sunglasses (32)',\n",
       " 'Polarized, UV Protection Round Sunglasses (49)',\n",
       " 'Gradient, UV Protection Round Sunglasses (Free Size)',\n",
       " 'UV Protection Retro Square Sunglasses (58)',\n",
       " 'UV Protection, Polarized Rectangular Sunglasses (Free S...',\n",
       " 'UV Protection Oval Sunglasses (Free Size)',\n",
       " 'UV Protection, Gradient Wayfarer, Shield Sunglasses (60...',\n",
       " 'UV Protection, Gradient, Night Vision Retro Square Sung...',\n",
       " 'UV Protection, Mirrored Clubmaster Sunglasses (53)',\n",
       " 'UV Protection, Night Vision, Riding Glasses, Gradient, ...',\n",
       " 'UV Protection Aviator Sunglasses (57)',\n",
       " 'UV Protection Wayfarer Sunglasses (Free Size)',\n",
       " 'Polarized, UV Protection Round, Aviator Sunglasses (55)',\n",
       " 'UV Protection Round Sunglasses (Free Size)',\n",
       " 'UV Protection, Gradient Oval Sunglasses (58)',\n",
       " 'UV Protection, Gradient Retro Square Sunglasses (58)',\n",
       " 'Mirrored Round Sunglasses (51)',\n",
       " 'UV Protection Retro Square Sunglasses (Free Size)',\n",
       " 'UV Protection Cat-eye Sunglasses (60)',\n",
       " 'UV Protection Wayfarer Sunglasses (Free Size)',\n",
       " 'Gradient Aviator Sunglasses (58)',\n",
       " 'UV Protection Aviator Sunglasses (62)',\n",
       " 'UV Protection, Riding Glasses Wayfarer Sunglasses (56)']"
      ]
     },
     "execution_count": 35,
     "metadata": {},
     "output_type": "execute_result"
    }
   ],
   "source": [
    "Prod_dis_3=[]\n",
    "for i in Prod_dis3:\n",
    "    Proddis3=i.text\n",
    "    Prod_dis_3.append(Proddis3)\n",
    "Prod_dis_3"
   ]
  },
  {
   "cell_type": "code",
   "execution_count": 36,
   "metadata": {},
   "outputs": [
    {
     "data": {
      "text/plain": [
       "[<selenium.webdriver.remote.webelement.WebElement (session=\"24ce25bbbfc8cb79628f254c29af3c84\", element=\"5f3529da-f7e3-40f3-9e83-8a9d895085a0\")>,\n",
       " <selenium.webdriver.remote.webelement.WebElement (session=\"24ce25bbbfc8cb79628f254c29af3c84\", element=\"df258d5d-a025-4005-8066-a791d2ca087d\")>,\n",
       " <selenium.webdriver.remote.webelement.WebElement (session=\"24ce25bbbfc8cb79628f254c29af3c84\", element=\"bcac178c-1a74-470b-b8a0-3b6ca8aad969\")>,\n",
       " <selenium.webdriver.remote.webelement.WebElement (session=\"24ce25bbbfc8cb79628f254c29af3c84\", element=\"c6da2451-2fe0-447b-99ac-e4898045d935\")>,\n",
       " <selenium.webdriver.remote.webelement.WebElement (session=\"24ce25bbbfc8cb79628f254c29af3c84\", element=\"e06ed0ae-fe6b-47f0-ba9f-7cf0673bb930\")>,\n",
       " <selenium.webdriver.remote.webelement.WebElement (session=\"24ce25bbbfc8cb79628f254c29af3c84\", element=\"60db680d-a316-426a-926d-ccda3d98dbb5\")>,\n",
       " <selenium.webdriver.remote.webelement.WebElement (session=\"24ce25bbbfc8cb79628f254c29af3c84\", element=\"fa0958a8-94b1-4283-bbf5-8f2a26ad78d6\")>,\n",
       " <selenium.webdriver.remote.webelement.WebElement (session=\"24ce25bbbfc8cb79628f254c29af3c84\", element=\"75f59219-57b5-4e5e-8c93-3faf09bfefc1\")>,\n",
       " <selenium.webdriver.remote.webelement.WebElement (session=\"24ce25bbbfc8cb79628f254c29af3c84\", element=\"a2193933-7354-4ff2-8794-0bf0105d0d41\")>,\n",
       " <selenium.webdriver.remote.webelement.WebElement (session=\"24ce25bbbfc8cb79628f254c29af3c84\", element=\"d7a96e97-9423-49cd-a155-15ad1f65a1f5\")>,\n",
       " <selenium.webdriver.remote.webelement.WebElement (session=\"24ce25bbbfc8cb79628f254c29af3c84\", element=\"607b526e-8f65-4111-b5de-705e9323170a\")>,\n",
       " <selenium.webdriver.remote.webelement.WebElement (session=\"24ce25bbbfc8cb79628f254c29af3c84\", element=\"32047fff-1e56-4932-a1d1-8224341894e0\")>,\n",
       " <selenium.webdriver.remote.webelement.WebElement (session=\"24ce25bbbfc8cb79628f254c29af3c84\", element=\"87d691eb-c15a-4170-bbf9-2ea343ae1f30\")>,\n",
       " <selenium.webdriver.remote.webelement.WebElement (session=\"24ce25bbbfc8cb79628f254c29af3c84\", element=\"978e4818-b50e-447b-a3a9-9338c3bb1348\")>,\n",
       " <selenium.webdriver.remote.webelement.WebElement (session=\"24ce25bbbfc8cb79628f254c29af3c84\", element=\"1bd866f4-d1e4-469d-91d3-22bff89d4a74\")>,\n",
       " <selenium.webdriver.remote.webelement.WebElement (session=\"24ce25bbbfc8cb79628f254c29af3c84\", element=\"d501a183-e144-45d4-9c1a-2dd687b3a912\")>,\n",
       " <selenium.webdriver.remote.webelement.WebElement (session=\"24ce25bbbfc8cb79628f254c29af3c84\", element=\"53427801-aff7-40e8-95b8-4bdcb0e0dc58\")>,\n",
       " <selenium.webdriver.remote.webelement.WebElement (session=\"24ce25bbbfc8cb79628f254c29af3c84\", element=\"e6a1e825-e170-4c0f-8241-e4565a3c830a\")>,\n",
       " <selenium.webdriver.remote.webelement.WebElement (session=\"24ce25bbbfc8cb79628f254c29af3c84\", element=\"42444cd5-9cc8-4592-938a-b0351e3a8c36\")>,\n",
       " <selenium.webdriver.remote.webelement.WebElement (session=\"24ce25bbbfc8cb79628f254c29af3c84\", element=\"4b999511-bee8-4713-a506-aa8b8131681d\")>,\n",
       " <selenium.webdriver.remote.webelement.WebElement (session=\"24ce25bbbfc8cb79628f254c29af3c84\", element=\"bbf86c1c-b45e-4663-b6a9-502e11902a43\")>,\n",
       " <selenium.webdriver.remote.webelement.WebElement (session=\"24ce25bbbfc8cb79628f254c29af3c84\", element=\"c6249829-d6b0-4bcd-82c5-ed55dc66d463\")>,\n",
       " <selenium.webdriver.remote.webelement.WebElement (session=\"24ce25bbbfc8cb79628f254c29af3c84\", element=\"5ba4e31b-887f-48be-8aad-29380adc6687\")>,\n",
       " <selenium.webdriver.remote.webelement.WebElement (session=\"24ce25bbbfc8cb79628f254c29af3c84\", element=\"a10d1c82-4a19-4f2f-aef6-194adbf2858b\")>,\n",
       " <selenium.webdriver.remote.webelement.WebElement (session=\"24ce25bbbfc8cb79628f254c29af3c84\", element=\"33c2b936-a8d0-4033-86a4-7b0ca5adee35\")>,\n",
       " <selenium.webdriver.remote.webelement.WebElement (session=\"24ce25bbbfc8cb79628f254c29af3c84\", element=\"d1dea40f-c2ad-43d1-a908-14312ccf011e\")>,\n",
       " <selenium.webdriver.remote.webelement.WebElement (session=\"24ce25bbbfc8cb79628f254c29af3c84\", element=\"29f74a2f-33d1-4f6b-b255-cb3311c8f8c9\")>,\n",
       " <selenium.webdriver.remote.webelement.WebElement (session=\"24ce25bbbfc8cb79628f254c29af3c84\", element=\"ed97d2af-4182-4cec-9df2-53966b194602\")>,\n",
       " <selenium.webdriver.remote.webelement.WebElement (session=\"24ce25bbbfc8cb79628f254c29af3c84\", element=\"874bc447-626f-4ae0-a610-50c3cd10ae10\")>,\n",
       " <selenium.webdriver.remote.webelement.WebElement (session=\"24ce25bbbfc8cb79628f254c29af3c84\", element=\"f1c19b52-e478-4752-8009-f1311217494b\")>,\n",
       " <selenium.webdriver.remote.webelement.WebElement (session=\"24ce25bbbfc8cb79628f254c29af3c84\", element=\"b521d9ad-d3f9-4a01-9cd3-f63000389502\")>,\n",
       " <selenium.webdriver.remote.webelement.WebElement (session=\"24ce25bbbfc8cb79628f254c29af3c84\", element=\"16e5f851-30d5-4b75-abae-9a499d6d3fa4\")>,\n",
       " <selenium.webdriver.remote.webelement.WebElement (session=\"24ce25bbbfc8cb79628f254c29af3c84\", element=\"5eafc3e0-09b1-4d57-a339-87198f924dbd\")>,\n",
       " <selenium.webdriver.remote.webelement.WebElement (session=\"24ce25bbbfc8cb79628f254c29af3c84\", element=\"624ac3b4-0531-4c4a-8d08-b3e0f8761cb5\")>,\n",
       " <selenium.webdriver.remote.webelement.WebElement (session=\"24ce25bbbfc8cb79628f254c29af3c84\", element=\"235baa79-2a67-42ee-bb36-23af72b0c074\")>,\n",
       " <selenium.webdriver.remote.webelement.WebElement (session=\"24ce25bbbfc8cb79628f254c29af3c84\", element=\"4772c902-54c5-451a-ab2e-4c81e593a8a8\")>,\n",
       " <selenium.webdriver.remote.webelement.WebElement (session=\"24ce25bbbfc8cb79628f254c29af3c84\", element=\"911989f6-5efa-4af3-894c-609ede9866fc\")>,\n",
       " <selenium.webdriver.remote.webelement.WebElement (session=\"24ce25bbbfc8cb79628f254c29af3c84\", element=\"790161f6-b3ae-46e6-8b82-b3512c87eaf0\")>,\n",
       " <selenium.webdriver.remote.webelement.WebElement (session=\"24ce25bbbfc8cb79628f254c29af3c84\", element=\"d920ef4d-1c81-4d83-80a1-0447be522a0f\")>,\n",
       " <selenium.webdriver.remote.webelement.WebElement (session=\"24ce25bbbfc8cb79628f254c29af3c84\", element=\"30b1e8fd-998d-44c6-b06c-e0711fbc0bc4\")>]"
      ]
     },
     "execution_count": 36,
     "metadata": {},
     "output_type": "execute_result"
    }
   ],
   "source": [
    "Price3=driver.find_elements_by_xpath(\"//div[@class='_30jeq3']\")\n",
    "Price3"
   ]
  },
  {
   "cell_type": "code",
   "execution_count": 37,
   "metadata": {},
   "outputs": [
    {
     "data": {
      "text/plain": [
       "['₹399',\n",
       " '₹1,234',\n",
       " '₹211',\n",
       " '₹1,185',\n",
       " '₹449',\n",
       " '₹328',\n",
       " '₹189',\n",
       " '₹292',\n",
       " '₹525',\n",
       " '₹314',\n",
       " '₹1,097',\n",
       " '₹319',\n",
       " '₹549',\n",
       " '₹553',\n",
       " '₹281',\n",
       " '₹399',\n",
       " '₹250',\n",
       " '₹664',\n",
       " '₹219',\n",
       " '₹149',\n",
       " '₹499',\n",
       " '₹279',\n",
       " '₹449',\n",
       " '₹469',\n",
       " '₹329',\n",
       " '₹185',\n",
       " '₹210',\n",
       " '₹337',\n",
       " '₹758',\n",
       " '₹1,185',\n",
       " '₹205',\n",
       " '₹522',\n",
       " '₹629',\n",
       " '₹2,739',\n",
       " '₹399',\n",
       " '₹419',\n",
       " '₹199',\n",
       " '₹1,181',\n",
       " '₹269',\n",
       " '₹396']"
      ]
     },
     "execution_count": 37,
     "metadata": {},
     "output_type": "execute_result"
    }
   ],
   "source": [
    "Price_3=[]\n",
    "for i in Price3:\n",
    "    Prices3=i.text\n",
    "    Price_3.append(Prices3)\n",
    "Price_3"
   ]
  },
  {
   "cell_type": "code",
   "execution_count": 38,
   "metadata": {},
   "outputs": [
    {
     "data": {
      "text/plain": [
       "[<selenium.webdriver.remote.webelement.WebElement (session=\"24ce25bbbfc8cb79628f254c29af3c84\", element=\"a4117d4e-bba4-49dd-9bca-1dfbbfa64eb2\")>,\n",
       " <selenium.webdriver.remote.webelement.WebElement (session=\"24ce25bbbfc8cb79628f254c29af3c84\", element=\"08c6f216-8d99-4e4e-9cc6-a8d7efa00284\")>,\n",
       " <selenium.webdriver.remote.webelement.WebElement (session=\"24ce25bbbfc8cb79628f254c29af3c84\", element=\"f896188f-1a6d-43de-9df8-c61e92497191\")>,\n",
       " <selenium.webdriver.remote.webelement.WebElement (session=\"24ce25bbbfc8cb79628f254c29af3c84\", element=\"faf0e420-a3a1-4e40-b23c-214b014a7604\")>,\n",
       " <selenium.webdriver.remote.webelement.WebElement (session=\"24ce25bbbfc8cb79628f254c29af3c84\", element=\"deb0d248-3eea-4bf6-80a9-a0e3e75eb50b\")>,\n",
       " <selenium.webdriver.remote.webelement.WebElement (session=\"24ce25bbbfc8cb79628f254c29af3c84\", element=\"e190d779-85e9-4548-802d-af6e7776154b\")>,\n",
       " <selenium.webdriver.remote.webelement.WebElement (session=\"24ce25bbbfc8cb79628f254c29af3c84\", element=\"a6cbc8d2-2026-4373-884f-08a9e323e692\")>,\n",
       " <selenium.webdriver.remote.webelement.WebElement (session=\"24ce25bbbfc8cb79628f254c29af3c84\", element=\"4a5eaccf-eb80-4f34-ad20-be3e69e10ce3\")>,\n",
       " <selenium.webdriver.remote.webelement.WebElement (session=\"24ce25bbbfc8cb79628f254c29af3c84\", element=\"637175c8-26de-4e4c-a728-437ba7558558\")>,\n",
       " <selenium.webdriver.remote.webelement.WebElement (session=\"24ce25bbbfc8cb79628f254c29af3c84\", element=\"581fc759-d085-425e-93d1-25addb54bc11\")>,\n",
       " <selenium.webdriver.remote.webelement.WebElement (session=\"24ce25bbbfc8cb79628f254c29af3c84\", element=\"cb0be092-c9dc-43bd-9d0c-34fc9a122e2e\")>,\n",
       " <selenium.webdriver.remote.webelement.WebElement (session=\"24ce25bbbfc8cb79628f254c29af3c84\", element=\"e124f143-e6ad-4c56-a685-717dcf667326\")>,\n",
       " <selenium.webdriver.remote.webelement.WebElement (session=\"24ce25bbbfc8cb79628f254c29af3c84\", element=\"59c097b5-f16f-4e19-85e0-39b1fef14562\")>,\n",
       " <selenium.webdriver.remote.webelement.WebElement (session=\"24ce25bbbfc8cb79628f254c29af3c84\", element=\"ce880719-49b1-4281-a27e-f970c1d20692\")>,\n",
       " <selenium.webdriver.remote.webelement.WebElement (session=\"24ce25bbbfc8cb79628f254c29af3c84\", element=\"d22a7fed-baf7-4947-b8da-fa2baf63f26b\")>,\n",
       " <selenium.webdriver.remote.webelement.WebElement (session=\"24ce25bbbfc8cb79628f254c29af3c84\", element=\"93e96826-43a5-4305-8898-ae5ff1f01a53\")>,\n",
       " <selenium.webdriver.remote.webelement.WebElement (session=\"24ce25bbbfc8cb79628f254c29af3c84\", element=\"78b53535-c394-4a91-8881-766dab7113c3\")>,\n",
       " <selenium.webdriver.remote.webelement.WebElement (session=\"24ce25bbbfc8cb79628f254c29af3c84\", element=\"4d873594-b690-4790-8289-11ad1e68cdb5\")>,\n",
       " <selenium.webdriver.remote.webelement.WebElement (session=\"24ce25bbbfc8cb79628f254c29af3c84\", element=\"cec1f913-8d98-4836-ac74-20c62bfc2f1f\")>,\n",
       " <selenium.webdriver.remote.webelement.WebElement (session=\"24ce25bbbfc8cb79628f254c29af3c84\", element=\"b4163688-26ca-44a0-9c65-1c71d0268bf3\")>,\n",
       " <selenium.webdriver.remote.webelement.WebElement (session=\"24ce25bbbfc8cb79628f254c29af3c84\", element=\"86628c64-35a7-4d03-b060-8d9c89b94dea\")>,\n",
       " <selenium.webdriver.remote.webelement.WebElement (session=\"24ce25bbbfc8cb79628f254c29af3c84\", element=\"060c3bc9-7ccb-45f1-97af-9a5c8aef7c00\")>,\n",
       " <selenium.webdriver.remote.webelement.WebElement (session=\"24ce25bbbfc8cb79628f254c29af3c84\", element=\"4f522581-8a12-42a5-8999-0434edddab46\")>,\n",
       " <selenium.webdriver.remote.webelement.WebElement (session=\"24ce25bbbfc8cb79628f254c29af3c84\", element=\"cb58708f-19a5-485b-80bc-99a60d99cc81\")>,\n",
       " <selenium.webdriver.remote.webelement.WebElement (session=\"24ce25bbbfc8cb79628f254c29af3c84\", element=\"4077dc40-1150-4707-beda-6dee83966d96\")>,\n",
       " <selenium.webdriver.remote.webelement.WebElement (session=\"24ce25bbbfc8cb79628f254c29af3c84\", element=\"3f49fb46-d6a6-466b-b32c-28d32e048fb6\")>,\n",
       " <selenium.webdriver.remote.webelement.WebElement (session=\"24ce25bbbfc8cb79628f254c29af3c84\", element=\"3cc8be34-98c5-488d-bf48-9756571e0107\")>,\n",
       " <selenium.webdriver.remote.webelement.WebElement (session=\"24ce25bbbfc8cb79628f254c29af3c84\", element=\"9a05792d-8e5c-4796-bfc7-3ef178dd1100\")>,\n",
       " <selenium.webdriver.remote.webelement.WebElement (session=\"24ce25bbbfc8cb79628f254c29af3c84\", element=\"60543997-fc98-43b6-b26f-04c648430dbb\")>,\n",
       " <selenium.webdriver.remote.webelement.WebElement (session=\"24ce25bbbfc8cb79628f254c29af3c84\", element=\"52452fff-339c-42be-81c5-e403573fcdf5\")>,\n",
       " <selenium.webdriver.remote.webelement.WebElement (session=\"24ce25bbbfc8cb79628f254c29af3c84\", element=\"c2e468f3-d35e-481c-b13f-54355fb9e6e8\")>,\n",
       " <selenium.webdriver.remote.webelement.WebElement (session=\"24ce25bbbfc8cb79628f254c29af3c84\", element=\"d5412dd4-73cc-4fc6-bfda-15344f0d08aa\")>,\n",
       " <selenium.webdriver.remote.webelement.WebElement (session=\"24ce25bbbfc8cb79628f254c29af3c84\", element=\"18917767-d42c-4baa-a5ff-4902a1b3836b\")>,\n",
       " <selenium.webdriver.remote.webelement.WebElement (session=\"24ce25bbbfc8cb79628f254c29af3c84\", element=\"72f586f7-92f6-4563-9971-3b94085c77e5\")>,\n",
       " <selenium.webdriver.remote.webelement.WebElement (session=\"24ce25bbbfc8cb79628f254c29af3c84\", element=\"acd4b765-3bbe-41a4-9523-252aa474db24\")>,\n",
       " <selenium.webdriver.remote.webelement.WebElement (session=\"24ce25bbbfc8cb79628f254c29af3c84\", element=\"9f38e37d-0e71-466e-ab76-4f34af9f5f2c\")>,\n",
       " <selenium.webdriver.remote.webelement.WebElement (session=\"24ce25bbbfc8cb79628f254c29af3c84\", element=\"a2d59387-3ffe-4480-b70c-ee851e6f56f0\")>,\n",
       " <selenium.webdriver.remote.webelement.WebElement (session=\"24ce25bbbfc8cb79628f254c29af3c84\", element=\"0de9ea9a-9fd7-443e-9e7c-f8abba73b600\")>,\n",
       " <selenium.webdriver.remote.webelement.WebElement (session=\"24ce25bbbfc8cb79628f254c29af3c84\", element=\"fd3575aa-5d29-405c-a5c6-7e86d7d52e68\")>,\n",
       " <selenium.webdriver.remote.webelement.WebElement (session=\"24ce25bbbfc8cb79628f254c29af3c84\", element=\"4b392365-2c70-4a6e-9652-f0ee7e324259\")>]"
      ]
     },
     "execution_count": 38,
     "metadata": {},
     "output_type": "execute_result"
    }
   ],
   "source": [
    "Dis3=driver.find_elements_by_xpath(\"//div[@class='_3Ay6Sb']\")\n",
    "Dis3"
   ]
  },
  {
   "cell_type": "code",
   "execution_count": 39,
   "metadata": {},
   "outputs": [
    {
     "data": {
      "text/plain": [
       "['80% off',\n",
       " '50% off',\n",
       " '57% off',\n",
       " '72% off',\n",
       " '77% off',\n",
       " '83% off',\n",
       " '62% off',\n",
       " '85% off',\n",
       " '65% off',\n",
       " '70% off',\n",
       " '15% off',\n",
       " '84% off',\n",
       " '63% off',\n",
       " '73% off',\n",
       " '85% off',\n",
       " '72% off',\n",
       " '84% off',\n",
       " '66% off',\n",
       " '83% off',\n",
       " '85% off',\n",
       " '66% off',\n",
       " '81% off',\n",
       " '70% off',\n",
       " '71% off',\n",
       " '83% off',\n",
       " '78% off',\n",
       " '83% off',\n",
       " '83% off',\n",
       " '15% off',\n",
       " '72% off',\n",
       " '79% off',\n",
       " '65% off',\n",
       " '68% off',\n",
       " '37% off',\n",
       " '80% off',\n",
       " '71% off',\n",
       " '80% off',\n",
       " '58% off',\n",
       " '77% off',\n",
       " '74% off']"
      ]
     },
     "execution_count": 39,
     "metadata": {},
     "output_type": "execute_result"
    }
   ],
   "source": [
    "Dis_3=[]\n",
    "for i in Dis3:\n",
    "    disc3=i.text\n",
    "    Dis_3.append(disc3)\n",
    "Dis_3"
   ]
  },
  {
   "cell_type": "code",
   "execution_count": 40,
   "metadata": {},
   "outputs": [],
   "source": [
    "Brand=Brand_1+Brand_2+Brand_3\n",
    "Product_Discription=Prod_dis_1+Prod_dis_2+Prod_dis_3\n",
    "Price=Price_1+Price_2+Price_3\n",
    "Discount=Dis_1+Dis_2+Dis_3"
   ]
  },
  {
   "cell_type": "code",
   "execution_count": 41,
   "metadata": {},
   "outputs": [],
   "source": [
    "#creating a data frame.\n",
    "sunglasses_listings=pd.DataFrame({})\n",
    "sunglasses_listings['Brand'] = Brand[0:100]\n",
    "sunglasses_listings['Product_Discription'] = Product_Discription[0:100]\n",
    "sunglasses_listings['Price'] = Price[0:100]\n",
    "sunglasses_listings['Discount'] = Discount[0:100]"
   ]
  },
  {
   "cell_type": "code",
   "execution_count": 42,
   "metadata": {},
   "outputs": [
    {
     "data": {
      "text/html": [
       "<div>\n",
       "<style scoped>\n",
       "    .dataframe tbody tr th:only-of-type {\n",
       "        vertical-align: middle;\n",
       "    }\n",
       "\n",
       "    .dataframe tbody tr th {\n",
       "        vertical-align: top;\n",
       "    }\n",
       "\n",
       "    .dataframe thead th {\n",
       "        text-align: right;\n",
       "    }\n",
       "</style>\n",
       "<table border=\"1\" class=\"dataframe\">\n",
       "  <thead>\n",
       "    <tr style=\"text-align: right;\">\n",
       "      <th></th>\n",
       "      <th>Brand</th>\n",
       "      <th>Product_Discription</th>\n",
       "      <th>Price</th>\n",
       "      <th>Discount</th>\n",
       "    </tr>\n",
       "  </thead>\n",
       "  <tbody>\n",
       "    <tr>\n",
       "      <th>0</th>\n",
       "      <td>Fastrack</td>\n",
       "      <td>UV Protection Rectangular Sunglasses (Free Size)</td>\n",
       "      <td>₹570</td>\n",
       "      <td>28% off</td>\n",
       "    </tr>\n",
       "    <tr>\n",
       "      <th>1</th>\n",
       "      <td>ROZZETTA CRAFT</td>\n",
       "      <td>UV Protection Retro Square Sunglasses (Free Size)</td>\n",
       "      <td>₹499</td>\n",
       "      <td>77% off</td>\n",
       "    </tr>\n",
       "    <tr>\n",
       "      <th>2</th>\n",
       "      <td>Fastrack</td>\n",
       "      <td>UV Protection Wayfarer Sunglasses (Free Size)</td>\n",
       "      <td>₹733</td>\n",
       "      <td>18% off</td>\n",
       "    </tr>\n",
       "    <tr>\n",
       "      <th>3</th>\n",
       "      <td>PIRASO</td>\n",
       "      <td>UV Protection Aviator Sunglasses (Free Size)</td>\n",
       "      <td>₹349</td>\n",
       "      <td>78% off</td>\n",
       "    </tr>\n",
       "    <tr>\n",
       "      <th>4</th>\n",
       "      <td>ROZZETTA CRAFT</td>\n",
       "      <td>UV Protection, Gradient Rectangular Sunglasses...</td>\n",
       "      <td>₹404</td>\n",
       "      <td>79% off</td>\n",
       "    </tr>\n",
       "    <tr>\n",
       "      <th>...</th>\n",
       "      <td>...</td>\n",
       "      <td>...</td>\n",
       "      <td>...</td>\n",
       "      <td>...</td>\n",
       "    </tr>\n",
       "    <tr>\n",
       "      <th>95</th>\n",
       "      <td>ROZZETTA CRAFT</td>\n",
       "      <td>Polarized, UV Protection Round Sunglasses (49)</td>\n",
       "      <td>₹399</td>\n",
       "      <td>72% off</td>\n",
       "    </tr>\n",
       "    <tr>\n",
       "      <th>96</th>\n",
       "      <td>PIRASO</td>\n",
       "      <td>Gradient, UV Protection Round Sunglasses (Free...</td>\n",
       "      <td>₹250</td>\n",
       "      <td>84% off</td>\n",
       "    </tr>\n",
       "    <tr>\n",
       "      <th>97</th>\n",
       "      <td>ROYAL SON</td>\n",
       "      <td>UV Protection Retro Square Sunglasses (58)</td>\n",
       "      <td>₹664</td>\n",
       "      <td>66% off</td>\n",
       "    </tr>\n",
       "    <tr>\n",
       "      <th>98</th>\n",
       "      <td>hipe</td>\n",
       "      <td>UV Protection, Polarized Rectangular Sunglasse...</td>\n",
       "      <td>₹219</td>\n",
       "      <td>83% off</td>\n",
       "    </tr>\n",
       "    <tr>\n",
       "      <th>99</th>\n",
       "      <td>IZAAN MART</td>\n",
       "      <td>UV Protection Oval Sunglasses (Free Size)</td>\n",
       "      <td>₹149</td>\n",
       "      <td>85% off</td>\n",
       "    </tr>\n",
       "  </tbody>\n",
       "</table>\n",
       "<p>100 rows × 4 columns</p>\n",
       "</div>"
      ],
      "text/plain": [
       "             Brand                                Product_Discription Price  \\\n",
       "0         Fastrack   UV Protection Rectangular Sunglasses (Free Size)  ₹570   \n",
       "1   ROZZETTA CRAFT  UV Protection Retro Square Sunglasses (Free Size)  ₹499   \n",
       "2         Fastrack      UV Protection Wayfarer Sunglasses (Free Size)  ₹733   \n",
       "3           PIRASO       UV Protection Aviator Sunglasses (Free Size)  ₹349   \n",
       "4   ROZZETTA CRAFT  UV Protection, Gradient Rectangular Sunglasses...  ₹404   \n",
       "..             ...                                                ...   ...   \n",
       "95  ROZZETTA CRAFT     Polarized, UV Protection Round Sunglasses (49)  ₹399   \n",
       "96          PIRASO  Gradient, UV Protection Round Sunglasses (Free...  ₹250   \n",
       "97       ROYAL SON         UV Protection Retro Square Sunglasses (58)  ₹664   \n",
       "98            hipe  UV Protection, Polarized Rectangular Sunglasse...  ₹219   \n",
       "99      IZAAN MART          UV Protection Oval Sunglasses (Free Size)  ₹149   \n",
       "\n",
       "   Discount  \n",
       "0   28% off  \n",
       "1   77% off  \n",
       "2   18% off  \n",
       "3   78% off  \n",
       "4   79% off  \n",
       "..      ...  \n",
       "95  72% off  \n",
       "96  84% off  \n",
       "97  66% off  \n",
       "98  83% off  \n",
       "99  85% off  \n",
       "\n",
       "[100 rows x 4 columns]"
      ]
     },
     "execution_count": 42,
     "metadata": {},
     "output_type": "execute_result"
    }
   ],
   "source": [
    "sunglasses_listings"
   ]
  },
  {
   "cell_type": "code",
   "execution_count": 43,
   "metadata": {},
   "outputs": [],
   "source": [
    "driver.close()"
   ]
  },
  {
   "cell_type": "code",
   "execution_count": null,
   "metadata": {},
   "outputs": [],
   "source": []
  },
  {
   "cell_type": "markdown",
   "metadata": {},
   "source": [
    "# Q7: Scrape 100 reviews data from flipkart.com for iphone11 phone. \n",
    "You have to\n",
    "go the link: https://www.flipkart.com/apple-iphone-11-black-64-gb-includesearpods-poweradapter/p/itm0f37c2240b217?pid=MOBFKCTSVZAXUHGR&lid=LSTMOBFKC\n",
    "TSVZAXUHGREPBFGI&marketplace.\n",
    "When you will open the above link you will reach to the below shown webpage.\n",
    "As shown in the above page you have to scrape the tick marked attributes.\n",
    "These are\n",
    "1. Rating\n",
    "2. Review_summary\n",
    "3. Full review\n",
    "You have to scrape this data for first 100 reviews."
   ]
  },
  {
   "cell_type": "code",
   "execution_count": 44,
   "metadata": {},
   "outputs": [],
   "source": [
    "# importing required libraries.\n",
    "import pandas as pd\n",
    "import selenium\n",
    "from selenium import webdriver"
   ]
  },
  {
   "cell_type": "code",
   "execution_count": 45,
   "metadata": {},
   "outputs": [],
   "source": [
    "driver = webdriver.Edge(r\"C:\\Users\\laxmi\\FlipRobo\\edgedriver_win64\\msedgedriver.exe\")"
   ]
  },
  {
   "cell_type": "code",
   "execution_count": 46,
   "metadata": {},
   "outputs": [],
   "source": [
    "driver.get('https://www.flipkart.com/apple-iphone-11-black-64-gb-includes-earpods-power-adapter/p/itm0f37c2240b217?pid=MOBFKCTSVZAXUHGR&lid=LSTMOBFKCTSVZAXUHGREPBFGI&marketplace')"
   ]
  },
  {
   "cell_type": "code",
   "execution_count": 47,
   "metadata": {},
   "outputs": [],
   "source": [
    "#clicking the all-review\n",
    "all_review=driver.find_element_by_xpath(\"//div[@class='_3UAT2v _16PBlm']\")\n",
    "all_review.click()"
   ]
  },
  {
   "cell_type": "code",
   "execution_count": 48,
   "metadata": {},
   "outputs": [],
   "source": [
    "#fetching the rating,review summary and full review from page 1 and checking the output\n",
    "Rating_tag1=driver.find_elements_by_xpath(\"//div[@class='_3LWZlK _1BLPMq']\")"
   ]
  },
  {
   "cell_type": "code",
   "execution_count": 49,
   "metadata": {},
   "outputs": [
    {
     "data": {
      "text/plain": [
       "['5', '5', '5', '5', '4', '5', '5', '5', '5', '5']"
      ]
     },
     "execution_count": 49,
     "metadata": {},
     "output_type": "execute_result"
    }
   ],
   "source": [
    "#fetching the rating,review summary and full review from page 1 and checking the output\n",
    "Rating_tag1=driver.find_elements_by_xpath(\"//div[@class='_3LWZlK _1BLPMq']\")\n",
    "\n",
    "Rating_1=[]\n",
    "for i in Rating_tag1:\n",
    "    Ratingtag1=i.text\n",
    "    Rating_1.append(Ratingtag1)\n",
    "Rating_1"
   ]
  },
  {
   "cell_type": "code",
   "execution_count": 50,
   "metadata": {},
   "outputs": [
    {
     "data": {
      "text/plain": [
       "['Brilliant',\n",
       " 'Perfect product!',\n",
       " 'Great product',\n",
       " 'Worth every penny',\n",
       " 'Good choice',\n",
       " 'Highly recommended',\n",
       " 'Perfect product!',\n",
       " 'Fabulous!',\n",
       " 'Perfect product!',\n",
       " 'Worth every penny']"
      ]
     },
     "execution_count": 50,
     "metadata": {},
     "output_type": "execute_result"
    }
   ],
   "source": [
    "Review_summary_tag1=driver.find_elements_by_xpath(\"//p[@class='_2-N8zT']\")\n",
    "Review_summary_1=[]\n",
    "for i in Review_summary_tag1:\n",
    "    Reviewsummary1=i.text\n",
    "    Review_summary_1.append(Reviewsummary1)\n",
    "Review_summary_1"
   ]
  },
  {
   "cell_type": "code",
   "execution_count": 51,
   "metadata": {},
   "outputs": [
    {
     "data": {
      "text/plain": [
       "['The Best Phone for the Money\\n\\nThe iPhone 11 offers superb cameras, a more durable design and excellent battery life for an affordable price.\\n\\nCompelling ultra-wide camera\\nNew Night mode is excellent\\nLong battery life',\n",
       " 'Amazing phone with great cameras and better battery which gives you the best performance. I just love the camera .',\n",
       " 'Amazing Powerful and Durable Gadget.\\n\\nI’m am very happy with the camera picture quality, Amazing face id unlocked in dark room, Strong battery with perfect screen size as you can carry easily in pocket. This is my third iPhone.\\n\\nI shifted from android Samsung Note series to iPhone because of the strong build quality and peace of mind for next 3-4 years.\\n\\nDon’t think to much just go for it and I suggest you to go for minimum 128gb variant or more 256gb.\\n\\nI’ve attached my puppy pics and no fi...\\nREAD MORE',\n",
       " 'Previously I was using one plus 3t it was a great phone\\nAnd then I decided to upgrade I am stuck between Samsung s10 plus or iPhone 11\\nI have seen the specs and everything were good except the display it’s somewhere between 720-1080 and it’s not even an amoled it’s an LCD display\\nBut I decided to go with iPhone because I have never used an IOS device I have Been an android user from the past 9 years I ordered IPhone 11 (128gb) product red\\nMy experience after using 3 weeks\\n1. The delivery ...\\nREAD MORE',\n",
       " 'So far it’s been an AMAZING experience coming back to iOS after nearly a decade but it’s not as versatile as android though phone is sturdy dropped it accidentally a couple of times and nothing happened fortunately camera is awesome',\n",
       " 'iphone 11 is a very good phone to buy only if you can compromise for the display. The display on this is device is pretty good but you can get other options with better displays in this price segment.\\nIf you can survive with an HD+ LCD panel with thicker bezels and a notch up top then this is a very good phone for you.\\nCameras are awesome, battery backup excellent, great performance and a decent premium look. Good job Apple !',\n",
       " 'It’s a must buy who is looking for an upgrade from previous generation of iPhones. If you are using XR then still you can hold on for sometime and upgrade to 2020 model else this phone is a must buy . Camera quality is amazing and wide angle is something to count upon. Performance wise it’s amazing and feels premium while holding in hand. So a big YES for this device. Go for 128 GB variant as the 4K videos will occupy lots of space and the storage can get over very quickly. Try to buy it with...\\nREAD MORE',\n",
       " 'This is my first iOS phone. I am very happy with this product. Very much satisfied with this. I love this phone.',\n",
       " 'Value for money❤️❤️\\nIts awesome mobile phone in the world ...\\nDisplay was very good and bright ..\\nTrust me freinds you r never regret after Buying..\\nJust go for it....\\nI love this phone and i switch to iphone x to 11',\n",
       " 'Best budget Iphone till date ❤️ go for it guys without second thought. Let me explain you guys about Camera, Display, battery, and performance.\\n\\nCamera: at this price range there is no comparison of camera, you’ll love the picture quality as well as video quality. I am a Vlogger I wanted an iPhone with 4k video by front camera and I got this phone and I am more than happy 😃\\n\\nBattery: I use this phone roughly as I am active social media person and I have a youtube channel. so the battery ba...\\nREAD MORE']"
      ]
     },
     "execution_count": 51,
     "metadata": {},
     "output_type": "execute_result"
    }
   ],
   "source": [
    "Full_review_tag1=driver.find_elements_by_xpath(\"//div[@class='t-ZTKy']\")\n",
    "Full_review_1=[]\n",
    "for i in Full_review_tag1:\n",
    "    Fullreview1=i.text\n",
    "    Full_review_1.append(Fullreview1)\n",
    "Full_review_1"
   ]
  },
  {
   "cell_type": "code",
   "execution_count": 52,
   "metadata": {},
   "outputs": [],
   "source": [
    "#clicking on the next page no.2\n",
    "Next_page2=driver.find_element_by_xpath(\"//a [@href='/apple-iphone-11-black-64-gb-includes-earpods-power-adapter/product-reviews/itm0f37c2240b217?pid=MOBFKCTSVZAXUHGR&lid=LSTMOBFKCTSVZAXUHGREPBFGI&marketplace=FLIPKART&page=2']\")\n",
    "Next_page2.click()"
   ]
  },
  {
   "cell_type": "code",
   "execution_count": 53,
   "metadata": {},
   "outputs": [],
   "source": [
    "#fetching the rating,review summary and full review from page 2\n",
    "Rating_tag2=driver.find_elements_by_xpath(\"//div[@class='_3LWZlK _1BLPMq']\")\n",
    "Rating_2=[]\n",
    "for i in Rating_tag2:\n",
    "    Ratingtag2=i.text\n",
    "    Rating_2.append(Ratingtag2)"
   ]
  },
  {
   "cell_type": "code",
   "execution_count": 54,
   "metadata": {},
   "outputs": [],
   "source": [
    "Review_summary_tag2=driver.find_elements_by_xpath(\"//p[@class='_2-N8zT']\")\n",
    "Review_summary_2=[]\n",
    "for i in Review_summary_tag2:\n",
    "    Reviewsummary2=i.text\n",
    "    Review_summary_2.append(Reviewsummary2)"
   ]
  },
  {
   "cell_type": "code",
   "execution_count": 55,
   "metadata": {},
   "outputs": [],
   "source": [
    "Full_review_tag2=driver.find_elements_by_xpath(\"//div[@class='t-ZTKy']\")\n",
    "Full_review_2=[]\n",
    "for i in Full_review_tag2:\n",
    "    Fullreview2=i.text\n",
    "    Full_review_2.append(Fullreview2)"
   ]
  },
  {
   "cell_type": "code",
   "execution_count": 56,
   "metadata": {},
   "outputs": [],
   "source": [
    "#clicking on the next page no.3\n",
    "Next_page2=driver.find_element_by_xpath(\"//a [@href='/apple-iphone-11-black-64-gb-includes-earpods-power-adapter/product-reviews/itm0f37c2240b217?pid=MOBFKCTSVZAXUHGR&lid=LSTMOBFKCTSVZAXUHGREPBFGI&marketplace=FLIPKART&page=3']\")\n",
    "Next_page2.click()"
   ]
  },
  {
   "cell_type": "code",
   "execution_count": 57,
   "metadata": {},
   "outputs": [],
   "source": [
    "#fetching the rating,review summary and full review from page 3\n",
    "Rating_tag3a=driver.find_elements_by_xpath(\"//div[@class='_3LWZlK _1BLPMq']\")\n",
    "Rating_3a=[]\n",
    "for i in Rating_tag3a:\n",
    "    Ratingtag3a=i.text\n",
    "    Rating_3a.append(Ratingtag3a)\n",
    "\n",
    "Review_summary_tag3=driver.find_elements_by_xpath(\"//p[@class='_2-N8zT']\")\n",
    "Review_summary_3=[]\n",
    "for i in Review_summary_tag3:\n",
    "    Reviewsummary3=i.text\n",
    "    Review_summary_3.append(Reviewsummary3)\n",
    "\n",
    "Full_review_tag3=driver.find_elements_by_xpath(\"//div[@class='t-ZTKy']\")\n",
    "Full_review_3=[]\n",
    "for i in Full_review_tag3:\n",
    "    Fullreview3=i.text\n",
    "    Full_review_3.append(Fullreview3)"
   ]
  },
  {
   "cell_type": "code",
   "execution_count": 58,
   "metadata": {},
   "outputs": [
    {
     "name": "stdout",
     "output_type": "stream",
     "text": [
      "9\n"
     ]
    }
   ],
   "source": [
    "print(len(Rating_3a))"
   ]
  },
  {
   "cell_type": "code",
   "execution_count": 59,
   "metadata": {},
   "outputs": [
    {
     "data": {
      "text/plain": [
       "['5', '5', '5', '5', '5']"
      ]
     },
     "execution_count": 59,
     "metadata": {},
     "output_type": "execute_result"
    }
   ],
   "source": [
    "Rating_3a1=Rating_3a[0:5]\n",
    "Rating_3a1"
   ]
  },
  {
   "cell_type": "code",
   "execution_count": 60,
   "metadata": {},
   "outputs": [
    {
     "data": {
      "text/plain": [
       "['5', '5', '4', '5']"
      ]
     },
     "execution_count": 60,
     "metadata": {},
     "output_type": "execute_result"
    }
   ],
   "source": [
    "Rating_3a2=Rating_3a[5:9]\n",
    "Rating_3a2"
   ]
  },
  {
   "cell_type": "code",
   "execution_count": 61,
   "metadata": {},
   "outputs": [],
   "source": [
    "Rating_tag3b=driver.find_elements_by_xpath(\"//div[@class='_3LWZlK _1rdVr6 _1BLPMq']\")\n",
    "Rating_3b=[]\n",
    "for i in Rating_tag3b:\n",
    "    Ratingtag3b=i.text\n",
    "    Rating_3b.append(Ratingtag3b)"
   ]
  },
  {
   "cell_type": "code",
   "execution_count": 62,
   "metadata": {},
   "outputs": [
    {
     "name": "stdout",
     "output_type": "stream",
     "text": [
      "1\n"
     ]
    }
   ],
   "source": [
    "print(len(Rating_3b))"
   ]
  },
  {
   "cell_type": "code",
   "execution_count": 63,
   "metadata": {},
   "outputs": [
    {
     "data": {
      "text/plain": [
       "['5', '5', '5', '5', '5', '1', '5', '5', '4', '5']"
      ]
     },
     "execution_count": 63,
     "metadata": {},
     "output_type": "execute_result"
    }
   ],
   "source": [
    "Rating_3=Rating_3a1+Rating_3b+Rating_3a2\n",
    "Rating_3"
   ]
  },
  {
   "cell_type": "code",
   "execution_count": 64,
   "metadata": {},
   "outputs": [
    {
     "name": "stdout",
     "output_type": "stream",
     "text": [
      "10\n"
     ]
    }
   ],
   "source": [
    "print(len(Rating_3))"
   ]
  },
  {
   "cell_type": "code",
   "execution_count": 65,
   "metadata": {},
   "outputs": [],
   "source": [
    "#clicking on the next page no.4\n",
    "Next_page2=driver.find_element_by_xpath(\"//a [@href='/apple-iphone-11-black-64-gb-includes-earpods-power-adapter/product-reviews/itm0f37c2240b217?pid=MOBFKCTSVZAXUHGR&lid=LSTMOBFKCTSVZAXUHGREPBFGI&marketplace=FLIPKART&page=4']\")\n",
    "Next_page2.click()"
   ]
  },
  {
   "cell_type": "code",
   "execution_count": 66,
   "metadata": {},
   "outputs": [],
   "source": [
    "#fetching the rating,review summary and full review from page 4\n",
    "Rating_tag4=driver.find_elements_by_xpath(\"//div[@class='_3LWZlK _1BLPMq']\")\n",
    "Rating_4=[]\n",
    "for i in Rating_tag4:\n",
    "    Ratingtag4=i.text\n",
    "    Rating_4.append(Ratingtag4)\n",
    "\n",
    "Review_summary_tag4=driver.find_elements_by_xpath(\"//p[@class='_2-N8zT']\")\n",
    "Review_summary_4=[]\n",
    "for i in Review_summary_tag4:\n",
    "    Reviewsummary4=i.text\n",
    "    Review_summary_4.append(Reviewsummary4)\n",
    "\n",
    "Full_review_tag4=driver.find_elements_by_xpath(\"//div[@class='t-ZTKy']\")\n",
    "Full_review_4=[]\n",
    "for i in Full_review_tag4:\n",
    "    Fullreview4=i.text\n",
    "    Full_review_4.append(Fullreview4)"
   ]
  },
  {
   "cell_type": "code",
   "execution_count": 67,
   "metadata": {},
   "outputs": [],
   "source": [
    "#clicking on the next page no.5\n",
    "Next_page2=driver.find_element_by_xpath(\"//a [@href='/apple-iphone-11-black-64-gb-includes-earpods-power-adapter/product-reviews/itm0f37c2240b217?pid=MOBFKCTSVZAXUHGR&lid=LSTMOBFKCTSVZAXUHGREPBFGI&marketplace=FLIPKART&page=5']\")\n",
    "Next_page2.click()"
   ]
  },
  {
   "cell_type": "code",
   "execution_count": 68,
   "metadata": {},
   "outputs": [],
   "source": [
    "#fetching the rating,review summary and full review from page 5\n",
    "Rating_tag5=driver.find_elements_by_xpath(\"//div[@class='_3LWZlK _1BLPMq']\")\n",
    "Rating_5=[]\n",
    "for i in Rating_tag5:\n",
    "    Ratingtag5=i.text\n",
    "    Rating_5.append(Ratingtag5)\n",
    "\n",
    "Review_summary_tag5=driver.find_elements_by_xpath(\"//p[@class='_2-N8zT']\")\n",
    "Review_summary_5=[]\n",
    "for i in Review_summary_tag5:\n",
    "    Reviewsummary5=i.text\n",
    "    Review_summary_5.append(Reviewsummary5)\n",
    "\n",
    "Full_review_tag5=driver.find_elements_by_xpath(\"//div[@class='t-ZTKy']\")\n",
    "Full_review_5=[]\n",
    "for i in Full_review_tag5:\n",
    "    Fullreview5=i.text\n",
    "    Full_review_5.append(Fullreview5)"
   ]
  },
  {
   "cell_type": "code",
   "execution_count": 69,
   "metadata": {},
   "outputs": [],
   "source": [
    "#clicking on the next page no.6\n",
    "Next_page2=driver.find_element_by_xpath(\"//a [@href='/apple-iphone-11-black-64-gb-includes-earpods-power-adapter/product-reviews/itm0f37c2240b217?pid=MOBFKCTSVZAXUHGR&lid=LSTMOBFKCTSVZAXUHGREPBFGI&marketplace=FLIPKART&page=6']\")\n",
    "Next_page2.click()"
   ]
  },
  {
   "cell_type": "code",
   "execution_count": 70,
   "metadata": {},
   "outputs": [],
   "source": [
    "#fetching the rating,review summary and full review from page 6\n",
    "Rating_tag6=driver.find_elements_by_xpath(\"//div[@class='_3LWZlK _1BLPMq']\")\n",
    "Rating_6=[]\n",
    "for i in Rating_tag6:\n",
    "    Ratingtag6=i.text\n",
    "    Rating_6.append(Ratingtag6)\n",
    "\n",
    "Review_summary_tag6=driver.find_elements_by_xpath(\"//p[@class='_2-N8zT']\")\n",
    "Review_summary_6=[]\n",
    "for i in Review_summary_tag6:\n",
    "    Reviewsummary6=i.text\n",
    "    Review_summary_6.append(Reviewsummary6)\n",
    "\n",
    "Full_review_tag6=driver.find_elements_by_xpath(\"//div[@class='t-ZTKy']\")\n",
    "Full_review_6=[]\n",
    "for i in Full_review_tag6:\n",
    "    Fullreview6=i.text\n",
    "    Full_review_6.append(Fullreview6)"
   ]
  },
  {
   "cell_type": "code",
   "execution_count": 71,
   "metadata": {},
   "outputs": [],
   "source": [
    "#clicking on the next page no.7\n",
    "Next_page2=driver.find_element_by_xpath(\"//a [@href='/apple-iphone-11-black-64-gb-includes-earpods-power-adapter/product-reviews/itm0f37c2240b217?pid=MOBFKCTSVZAXUHGR&lid=LSTMOBFKCTSVZAXUHGREPBFGI&marketplace=FLIPKART&page=7']\")\n",
    "Next_page2.click()"
   ]
  },
  {
   "cell_type": "code",
   "execution_count": 72,
   "metadata": {},
   "outputs": [],
   "source": [
    "#fetching the rating,review summary and full review from page 7\n",
    "Rating_tag7=driver.find_elements_by_xpath(\"//div[@class='_3LWZlK _1BLPMq']\")\n",
    "Rating_7=[]\n",
    "for i in Rating_tag7:\n",
    "    Ratingtag7=i.text\n",
    "    Rating_7.append(Ratingtag7)\n",
    "\n",
    "Review_summary_tag7=driver.find_elements_by_xpath(\"//p[@class='_2-N8zT']\")\n",
    "Review_summary_7=[]\n",
    "for i in Review_summary_tag7:\n",
    "    Reviewsummary7=i.text\n",
    "    Review_summary_7.append(Reviewsummary7)\n",
    "\n",
    "Full_review_tag7=driver.find_elements_by_xpath(\"//div[@class='t-ZTKy']\")\n",
    "Full_review_7=[]\n",
    "for i in Full_review_tag7:\n",
    "    Fullreview7=i.text\n",
    "    Full_review_7.append(Fullreview7)"
   ]
  },
  {
   "cell_type": "code",
   "execution_count": 73,
   "metadata": {},
   "outputs": [],
   "source": [
    "#clicking on the next page no.8\n",
    "Next_page2=driver.find_element_by_xpath(\"//a [@href='/apple-iphone-11-black-64-gb-includes-earpods-power-adapter/product-reviews/itm0f37c2240b217?pid=MOBFKCTSVZAXUHGR&lid=LSTMOBFKCTSVZAXUHGREPBFGI&marketplace=FLIPKART&page=8']\")\n",
    "Next_page2.click()"
   ]
  },
  {
   "cell_type": "code",
   "execution_count": 74,
   "metadata": {},
   "outputs": [],
   "source": [
    "#fetching the rating,review summary and full review from page 8\n",
    "Rating_tag8=driver.find_elements_by_xpath(\"//div[@class='_3LWZlK _1BLPMq']\")\n",
    "Rating_8=[]\n",
    "for i in Rating_tag8:\n",
    "    Ratingtag8=i.text\n",
    "    Rating_8.append(Ratingtag8)\n",
    "\n",
    "Review_summary_tag8=driver.find_elements_by_xpath(\"//p[@class='_2-N8zT']\")\n",
    "Review_summary_8=[]\n",
    "for i in Review_summary_tag8:\n",
    "    Reviewsummary8=i.text\n",
    "    Review_summary_8.append(Reviewsummary8)\n",
    "\n",
    "Full_review_tag8=driver.find_elements_by_xpath(\"//div[@class='t-ZTKy']\")\n",
    "Full_review_8=[]\n",
    "for i in Full_review_tag8:\n",
    "    Fullreview8=i.text\n",
    "    Full_review_8.append(Fullreview8)"
   ]
  },
  {
   "cell_type": "code",
   "execution_count": 75,
   "metadata": {},
   "outputs": [],
   "source": [
    "#clicking on the next page no.9\n",
    "Next_page2=driver.find_element_by_xpath(\"//a [@href='/apple-iphone-11-black-64-gb-includes-earpods-power-adapter/product-reviews/itm0f37c2240b217?pid=MOBFKCTSVZAXUHGR&lid=LSTMOBFKCTSVZAXUHGREPBFGI&marketplace=FLIPKART&page=9']\")\n",
    "Next_page2.click()"
   ]
  },
  {
   "cell_type": "code",
   "execution_count": 76,
   "metadata": {},
   "outputs": [],
   "source": [
    "#fetching the rating,review summary and full review from page 9\n",
    "Rating_tag9=driver.find_elements_by_xpath(\"//div[@class='_3LWZlK _1BLPMq']\")\n",
    "Rating_9=[]\n",
    "for i in Rating_tag9:\n",
    "    Ratingtag9=i.text\n",
    "    Rating_9.append(Ratingtag9)\n",
    "\n",
    "Review_summary_tag9=driver.find_elements_by_xpath(\"//p[@class='_2-N8zT']\")\n",
    "Review_summary_9=[]\n",
    "for i in Review_summary_tag9:\n",
    "    Reviewsummary9=i.text\n",
    "    Review_summary_9.append(Reviewsummary9)\n",
    "\n",
    "Full_review_tag9=driver.find_elements_by_xpath(\"//div[@class='t-ZTKy']\")\n",
    "Full_review_9=[]\n",
    "for i in Full_review_tag9:\n",
    "    Fullreview9=i.text\n",
    "    Full_review_9.append(Fullreview9)\n"
   ]
  },
  {
   "cell_type": "code",
   "execution_count": 77,
   "metadata": {},
   "outputs": [],
   "source": [
    "#clicking on the next page no.10\n",
    "Next_page2=driver.find_element_by_xpath(\"//a [@href='/apple-iphone-11-black-64-gb-includes-earpods-power-adapter/product-reviews/itm0f37c2240b217?pid=MOBFKCTSVZAXUHGR&lid=LSTMOBFKCTSVZAXUHGREPBFGI&marketplace=FLIPKART&page=10']\")\n",
    "Next_page2.click()"
   ]
  },
  {
   "cell_type": "code",
   "execution_count": 78,
   "metadata": {},
   "outputs": [],
   "source": [
    "#fetching the rating,review summary and full review from page 10\n",
    "Rating_tag10=driver.find_elements_by_xpath(\"//div[@class='_3LWZlK _1BLPMq']\")\n",
    "Rating_10=[]\n",
    "for i in Rating_tag10:\n",
    "    Ratingtag10=i.text\n",
    "    Rating_10.append(Ratingtag10)\n",
    "\n",
    "Review_summary_tag10=driver.find_elements_by_xpath(\"//p[@class='_2-N8zT']\")\n",
    "Review_summary_10=[]\n",
    "for i in Review_summary_tag10:\n",
    "    Reviewsummary10=i.text\n",
    "    Review_summary_10.append(Reviewsummary10)\n",
    "\n",
    "Full_review_tag10=driver.find_elements_by_xpath(\"//div[@class='t-ZTKy']\")\n",
    "Full_review_10=[]\n",
    "for i in Full_review_tag10:\n",
    "    Fullreview10=i.text\n",
    "    Full_review_10.append(Fullreview10)"
   ]
  },
  {
   "cell_type": "code",
   "execution_count": 79,
   "metadata": {},
   "outputs": [],
   "source": [
    "Rating0=Rating_1+Rating_2+Rating_3+Rating_4+Rating_5+Rating_6+Rating_7+Rating_8+Rating_9+Rating_10\n",
    "Review_summary0=Review_summary_1+Review_summary_2+Review_summary_3+Review_summary_4+Review_summary_5+Review_summary_6+Review_summary_7+Review_summary_8+Review_summary_9+Review_summary_10\n",
    "Full_review0=Full_review_1+Full_review_2+Full_review_3+Full_review_4+Full_review_5+Full_review_6+Full_review_7+Full_review_8+Full_review_9+Full_review_10"
   ]
  },
  {
   "cell_type": "code",
   "execution_count": 80,
   "metadata": {},
   "outputs": [
    {
     "name": "stdout",
     "output_type": "stream",
     "text": [
      "100 100 100\n"
     ]
    }
   ],
   "source": [
    "print(len(Rating0),len(Review_summary0),len(Full_review0))"
   ]
  },
  {
   "cell_type": "code",
   "execution_count": 81,
   "metadata": {},
   "outputs": [],
   "source": [
    "#creating a data frame.\n",
    "Reviews_for_iphone11=pd.DataFrame({})\n",
    "Reviews_for_iphone11['Rating'] = Rating0[0:100]\n",
    "Reviews_for_iphone11['Review_summary'] = Review_summary0[0:100]\n",
    "Reviews_for_iphone11['Full_review'] = Full_review0[0:100]"
   ]
  },
  {
   "cell_type": "code",
   "execution_count": 82,
   "metadata": {},
   "outputs": [
    {
     "data": {
      "text/html": [
       "<div>\n",
       "<style scoped>\n",
       "    .dataframe tbody tr th:only-of-type {\n",
       "        vertical-align: middle;\n",
       "    }\n",
       "\n",
       "    .dataframe tbody tr th {\n",
       "        vertical-align: top;\n",
       "    }\n",
       "\n",
       "    .dataframe thead th {\n",
       "        text-align: right;\n",
       "    }\n",
       "</style>\n",
       "<table border=\"1\" class=\"dataframe\">\n",
       "  <thead>\n",
       "    <tr style=\"text-align: right;\">\n",
       "      <th></th>\n",
       "      <th>Rating</th>\n",
       "      <th>Review_summary</th>\n",
       "      <th>Full_review</th>\n",
       "    </tr>\n",
       "  </thead>\n",
       "  <tbody>\n",
       "    <tr>\n",
       "      <th>0</th>\n",
       "      <td>5</td>\n",
       "      <td>Brilliant</td>\n",
       "      <td>The Best Phone for the Money\\n\\nThe iPhone 11 ...</td>\n",
       "    </tr>\n",
       "    <tr>\n",
       "      <th>1</th>\n",
       "      <td>5</td>\n",
       "      <td>Perfect product!</td>\n",
       "      <td>Amazing phone with great cameras and better ba...</td>\n",
       "    </tr>\n",
       "    <tr>\n",
       "      <th>2</th>\n",
       "      <td>5</td>\n",
       "      <td>Great product</td>\n",
       "      <td>Amazing Powerful and Durable Gadget.\\n\\nI’m am...</td>\n",
       "    </tr>\n",
       "    <tr>\n",
       "      <th>3</th>\n",
       "      <td>5</td>\n",
       "      <td>Worth every penny</td>\n",
       "      <td>Previously I was using one plus 3t it was a gr...</td>\n",
       "    </tr>\n",
       "    <tr>\n",
       "      <th>4</th>\n",
       "      <td>4</td>\n",
       "      <td>Good choice</td>\n",
       "      <td>So far it’s been an AMAZING experience coming ...</td>\n",
       "    </tr>\n",
       "    <tr>\n",
       "      <th>...</th>\n",
       "      <td>...</td>\n",
       "      <td>...</td>\n",
       "      <td>...</td>\n",
       "    </tr>\n",
       "    <tr>\n",
       "      <th>95</th>\n",
       "      <td>5</td>\n",
       "      <td>Excellent</td>\n",
       "      <td>Seller - SuperComNet ( my trust in you has gro...</td>\n",
       "    </tr>\n",
       "    <tr>\n",
       "      <th>96</th>\n",
       "      <td>5</td>\n",
       "      <td>Terrific purchase</td>\n",
       "      <td>Well , as we all know if its not an Iphone , i...</td>\n",
       "    </tr>\n",
       "    <tr>\n",
       "      <th>97</th>\n",
       "      <td>5</td>\n",
       "      <td>Wonderful</td>\n",
       "      <td>Nice value for money good and best price I pho...</td>\n",
       "    </tr>\n",
       "    <tr>\n",
       "      <th>98</th>\n",
       "      <td>5</td>\n",
       "      <td>Fabulous!</td>\n",
       "      <td>Just an awesome phone...upgraded from 6s to 11...</td>\n",
       "    </tr>\n",
       "    <tr>\n",
       "      <th>99</th>\n",
       "      <td>4</td>\n",
       "      <td>Value-for-money</td>\n",
       "      <td>As usual a great product from Apple. but the l...</td>\n",
       "    </tr>\n",
       "  </tbody>\n",
       "</table>\n",
       "<p>100 rows × 3 columns</p>\n",
       "</div>"
      ],
      "text/plain": [
       "   Rating     Review_summary  \\\n",
       "0       5          Brilliant   \n",
       "1       5   Perfect product!   \n",
       "2       5      Great product   \n",
       "3       5  Worth every penny   \n",
       "4       4        Good choice   \n",
       "..    ...                ...   \n",
       "95      5          Excellent   \n",
       "96      5  Terrific purchase   \n",
       "97      5          Wonderful   \n",
       "98      5          Fabulous!   \n",
       "99      4    Value-for-money   \n",
       "\n",
       "                                          Full_review  \n",
       "0   The Best Phone for the Money\\n\\nThe iPhone 11 ...  \n",
       "1   Amazing phone with great cameras and better ba...  \n",
       "2   Amazing Powerful and Durable Gadget.\\n\\nI’m am...  \n",
       "3   Previously I was using one plus 3t it was a gr...  \n",
       "4   So far it’s been an AMAZING experience coming ...  \n",
       "..                                                ...  \n",
       "95  Seller - SuperComNet ( my trust in you has gro...  \n",
       "96  Well , as we all know if its not an Iphone , i...  \n",
       "97  Nice value for money good and best price I pho...  \n",
       "98  Just an awesome phone...upgraded from 6s to 11...  \n",
       "99  As usual a great product from Apple. but the l...  \n",
       "\n",
       "[100 rows x 3 columns]"
      ]
     },
     "execution_count": 82,
     "metadata": {},
     "output_type": "execute_result"
    }
   ],
   "source": [
    "Reviews_for_iphone11"
   ]
  },
  {
   "cell_type": "code",
   "execution_count": 83,
   "metadata": {},
   "outputs": [],
   "source": [
    "driver.close()"
   ]
  },
  {
   "cell_type": "markdown",
   "metadata": {},
   "source": [
    "# Q8: Scrape data for first 100 sneakers you find when you visit flipkart.com and\n",
    "search for “sneakers” in the search field.\n",
    "You have to scrape 4 attributes of each sneaker :\n",
    "1. Brand\n",
    "2. Product Description\n",
    "3. Price\n",
    "4. discount %\n",
    "As shown in the below image, you have to scrape the tick marked attributes.\n",
    "\n",
    "Also note that all the steps required during scraping should be done through code\n",
    "only and not manually.\n"
   ]
  },
  {
   "cell_type": "code",
   "execution_count": 128,
   "metadata": {},
   "outputs": [],
   "source": [
    "# importing required libraries.\n",
    "import pandas as pd\n",
    "import selenium\n",
    "from selenium import webdriver"
   ]
  },
  {
   "cell_type": "code",
   "execution_count": 129,
   "metadata": {},
   "outputs": [],
   "source": [
    "driver = webdriver.Edge(r\"C:\\Users\\laxmi\\FlipRobo\\edgedriver_win64\\msedgedriver.exe\")"
   ]
  },
  {
   "cell_type": "code",
   "execution_count": 130,
   "metadata": {},
   "outputs": [],
   "source": [
    "driver.get('https://www.flipkart.com')"
   ]
  },
  {
   "cell_type": "code",
   "execution_count": 131,
   "metadata": {},
   "outputs": [],
   "source": [
    "#Closing the popup \n",
    "popup_close=driver.find_element_by_xpath(\"//button[@class='_2KpZ6l _2doB4z']\")\n",
    "popup_close.click()"
   ]
  },
  {
   "cell_type": "code",
   "execution_count": 132,
   "metadata": {},
   "outputs": [],
   "source": [
    "#finding and filling the product and searching using automation.\n",
    "search_product = driver.find_element_by_xpath(\"//input[@class='_3704LK']\")\n",
    "search_product.send_keys('sneakers')"
   ]
  },
  {
   "cell_type": "code",
   "execution_count": 133,
   "metadata": {},
   "outputs": [],
   "source": [
    "search_button=driver.find_element_by_xpath(\"//button[@class='L0Z3Pu']\")\n",
    "search_button.click()"
   ]
  },
  {
   "cell_type": "code",
   "execution_count": 134,
   "metadata": {},
   "outputs": [],
   "source": [
    "#creating the list\n",
    "Brand=[]\n",
    "Product_Discription=[]\n",
    "Price=[]\n",
    "Discount=[]"
   ]
  },
  {
   "cell_type": "code",
   "execution_count": 135,
   "metadata": {},
   "outputs": [],
   "source": [
    "#fetching the BRAND,Product_Discription,Price and Discount from page 1 and checking the output\n",
    "Brand_tag1=driver.find_elements_by_xpath(\"//div[@class='_2WkVRV']\")\n",
    "Brand_1=[]\n",
    "for i in Brand_tag1:\n",
    "    brandtag1=i.text\n",
    "    Brand_1.append(brandtag1)\n",
    "\n",
    "Prod_dis1=driver.find_elements_by_xpath(\"//a[@class='IRpwTa']\")\n",
    "Prod_dis_1=[]\n",
    "for i in Prod_dis1:\n",
    "    Proddis=i.text\n",
    "    Prod_dis_1.append(Proddis)\n",
    "\n",
    "Price1=driver.find_elements_by_xpath(\"//div[@class='_30jeq3']\")\n",
    "Price_1=[]\n",
    "for i in Price1:\n",
    "    Prices1=i.text\n",
    "    Price_1.append(Prices1)\n",
    "\n",
    "Dis1=driver.find_elements_by_xpath(\"//div[@class='_3Ay6Sb']\")\n",
    "Dis_1=[]\n",
    "for i in Dis1:\n",
    "    disc1=i.text\n",
    "    Dis_1.append(disc1)"
   ]
  },
  {
   "cell_type": "code",
   "execution_count": 136,
   "metadata": {},
   "outputs": [],
   "source": [
    "#clicking on the next page no.2\n",
    "Next_page2=driver.find_element_by_xpath(\"//a [@href='/search?q=sneakers&otracker=search&otracker1=search&marketplace=FLIPKART&as-show=on&as=off&page=2']\")\n",
    "Next_page2.click()"
   ]
  },
  {
   "cell_type": "code",
   "execution_count": 137,
   "metadata": {},
   "outputs": [],
   "source": [
    "#fetching the BRAND,Product_Discription,Price and Discount from page 2 \n",
    "Brand_tag2=driver.find_elements_by_xpath(\"//div[@class='_2WkVRV']\")\n",
    "Brand_2=[]\n",
    "for i in Brand_tag2:\n",
    "    brandtag2=i.text\n",
    "    Brand_2.append(brandtag2)\n",
    "\n",
    "Prod_dis2=driver.find_elements_by_xpath(\"//a[@class='IRpwTa']\")\n",
    "Prod_dis_2=[]\n",
    "for i in Prod_dis2:\n",
    "    Proddis2=i.text\n",
    "    Prod_dis_2.append(Proddis2)\n",
    "\n",
    "Price2=driver.find_elements_by_xpath(\"//div[@class='_30jeq3']\")\n",
    "Price_2=[]\n",
    "for i in Price2:\n",
    "    Prices2=i.text\n",
    "    Price_2.append(Prices2)\n",
    "\n",
    "Dis2=driver.find_elements_by_xpath(\"//div[@class='_3Ay6Sb']\")\n",
    "Dis_2=[]\n",
    "for i in Dis2:\n",
    "    disc2=i.text\n",
    "    Dis_2.append(disc2)"
   ]
  },
  {
   "cell_type": "code",
   "execution_count": 138,
   "metadata": {},
   "outputs": [],
   "source": [
    "#clicking on the next page no.3\n",
    "Next_page3=driver.find_element_by_xpath(\"//a [@href='/search?q=sneakers&otracker=search&otracker1=search&marketplace=FLIPKART&as-show=on&as=off&page=3']\")\n",
    "Next_page3.click()"
   ]
  },
  {
   "cell_type": "code",
   "execution_count": 139,
   "metadata": {},
   "outputs": [],
   "source": [
    "#fetching the BRAND,Product_Discription,Price and Discount from page 3 \n",
    "Brand_tag3=driver.find_elements_by_xpath(\"//div[@class='_2WkVRV']\")\n",
    "Brand_3=[]\n",
    "for i in Brand_tag3:\n",
    "    brandtag3=i.text\n",
    "    Brand_3.append(brandtag3)\n",
    "\n",
    "Prod_dis3=driver.find_elements_by_xpath(\"//a[@class='IRpwTa']\")\n",
    "Prod_dis_3=[]\n",
    "for i in Prod_dis3:\n",
    "    Proddis3=i.text\n",
    "    Prod_dis_3.append(Proddis3)\n",
    "\n",
    "Price3=driver.find_elements_by_xpath(\"//div[@class='_30jeq3']\")\n",
    "Price_3=[]\n",
    "for i in Price3:\n",
    "    Prices3=i.text\n",
    "    Price_3.append(Prices3)\n",
    "\n",
    "Dis3=driver.find_elements_by_xpath(\"//div[@class='_3Ay6Sb']\")\n",
    "Dis_3=[]\n",
    "for i in Dis3:\n",
    "    disc3=i.text\n",
    "    Dis_3.append(disc3)"
   ]
  },
  {
   "cell_type": "code",
   "execution_count": 140,
   "metadata": {},
   "outputs": [],
   "source": [
    "#clicking on the next page no.4\n",
    "Next_page4=driver.find_element_by_xpath(\"//a [@href='/search?q=sneakers&otracker=search&otracker1=search&marketplace=FLIPKART&as-show=on&as=off&page=4']\")\n",
    "Next_page4.click()"
   ]
  },
  {
   "cell_type": "code",
   "execution_count": 141,
   "metadata": {},
   "outputs": [],
   "source": [
    "#fetching the BRAND,Product_Discription,Price and Discount from page 4 \n",
    "Brand_tag4=driver.find_elements_by_xpath(\"//div[@class='_2WkVRV']\")\n",
    "Brand_4=[]\n",
    "for i in Brand_tag4:\n",
    "    brandtag4=i.text\n",
    "    Brand_4.append(brandtag4)\n",
    "\n",
    "Prod_dis4=driver.find_elements_by_xpath(\"//a[@class='IRpwTa']\")\n",
    "Prod_dis_4=[]\n",
    "for i in Prod_dis4:\n",
    "    Proddis4=i.text\n",
    "    Prod_dis_4.append(Proddis4)\n",
    "\n",
    "Price4=driver.find_elements_by_xpath(\"//div[@class='_30jeq3']\")\n",
    "Price_4=[]\n",
    "for i in Price4:\n",
    "    Prices4=i.text\n",
    "    Price_4.append(Prices4)\n",
    "\n",
    "Dis4=driver.find_elements_by_xpath(\"//div[@class='_3Ay6Sb']\")\n",
    "Dis_4=[]\n",
    "for i in Dis4:\n",
    "    disc4=i.text\n",
    "    Dis_4.append(disc4)"
   ]
  },
  {
   "cell_type": "code",
   "execution_count": 142,
   "metadata": {},
   "outputs": [],
   "source": [
    "Brand=Brand_1+Brand_2+Brand_3+Brand_4\n",
    "Product_Discription=Prod_dis_1+Prod_dis_2+Prod_dis_3+Prod_dis_4\n",
    "Price=Price_1+Price_2+Price_3+Price_4\n",
    "Discount=Dis_1+Dis_2+Dis_3+Dis_4"
   ]
  },
  {
   "cell_type": "code",
   "execution_count": 143,
   "metadata": {},
   "outputs": [],
   "source": [
    "#creating a data frame.\n",
    "Data_sneakers=pd.DataFrame({})\n",
    "Data_sneakers['Brand'] = Brand[0:100]\n",
    "Data_sneakers['Product_Discription'] = Product_Discription[0:100]\n",
    "Data_sneakers['Price'] = Price[0:100]\n",
    "Data_sneakers['Discount'] = Discount[0:100]"
   ]
  },
  {
   "cell_type": "code",
   "execution_count": 144,
   "metadata": {},
   "outputs": [
    {
     "data": {
      "text/html": [
       "<div>\n",
       "<style scoped>\n",
       "    .dataframe tbody tr th:only-of-type {\n",
       "        vertical-align: middle;\n",
       "    }\n",
       "\n",
       "    .dataframe tbody tr th {\n",
       "        vertical-align: top;\n",
       "    }\n",
       "\n",
       "    .dataframe thead th {\n",
       "        text-align: right;\n",
       "    }\n",
       "</style>\n",
       "<table border=\"1\" class=\"dataframe\">\n",
       "  <thead>\n",
       "    <tr style=\"text-align: right;\">\n",
       "      <th></th>\n",
       "      <th>Brand</th>\n",
       "      <th>Product_Discription</th>\n",
       "      <th>Price</th>\n",
       "      <th>Discount</th>\n",
       "    </tr>\n",
       "  </thead>\n",
       "  <tbody>\n",
       "    <tr>\n",
       "      <th>0</th>\n",
       "      <td>BRUTON</td>\n",
       "      <td>Men Sports Sneakers For Men</td>\n",
       "      <td>₹299</td>\n",
       "      <td>76% off</td>\n",
       "    </tr>\n",
       "    <tr>\n",
       "      <th>1</th>\n",
       "      <td>bluemaker</td>\n",
       "      <td>Sneakers For Men</td>\n",
       "      <td>₹474</td>\n",
       "      <td>52% off</td>\n",
       "    </tr>\n",
       "    <tr>\n",
       "      <th>2</th>\n",
       "      <td>Wika</td>\n",
       "      <td>Sneakers For Men</td>\n",
       "      <td>₹449</td>\n",
       "      <td>55% off</td>\n",
       "    </tr>\n",
       "    <tr>\n",
       "      <th>3</th>\n",
       "      <td>Robbie jones</td>\n",
       "      <td>Casual Sneakers Shoes For Men Sneakers For Men</td>\n",
       "      <td>₹379</td>\n",
       "      <td>62% off</td>\n",
       "    </tr>\n",
       "    <tr>\n",
       "      <th>4</th>\n",
       "      <td>Numenzo</td>\n",
       "      <td>Sneakers For Men</td>\n",
       "      <td>₹399</td>\n",
       "      <td>60% off</td>\n",
       "    </tr>\n",
       "    <tr>\n",
       "      <th>...</th>\n",
       "      <td>...</td>\n",
       "      <td>...</td>\n",
       "      <td>...</td>\n",
       "      <td>...</td>\n",
       "    </tr>\n",
       "    <tr>\n",
       "      <th>95</th>\n",
       "      <td>VISTAARA</td>\n",
       "      <td>Sneakers For Men</td>\n",
       "      <td>₹279</td>\n",
       "      <td>62% off</td>\n",
       "    </tr>\n",
       "    <tr>\n",
       "      <th>96</th>\n",
       "      <td>Wen Hawk</td>\n",
       "      <td>Ferrari Race X-Ray 2 Sneakers For Men</td>\n",
       "      <td>₹379</td>\n",
       "      <td>53% off</td>\n",
       "    </tr>\n",
       "    <tr>\n",
       "      <th>97</th>\n",
       "      <td>Imcolus</td>\n",
       "      <td>Sneakers For Men</td>\n",
       "      <td>₹464</td>\n",
       "      <td>17% off</td>\n",
       "    </tr>\n",
       "    <tr>\n",
       "      <th>98</th>\n",
       "      <td>KANEGGYE</td>\n",
       "      <td>Sneakers For Men</td>\n",
       "      <td>₹410</td>\n",
       "      <td>57% off</td>\n",
       "    </tr>\n",
       "    <tr>\n",
       "      <th>99</th>\n",
       "      <td>Magnolia</td>\n",
       "      <td>Icon star V2 IDP Sneakers For Men</td>\n",
       "      <td>₹424</td>\n",
       "      <td>51% off</td>\n",
       "    </tr>\n",
       "  </tbody>\n",
       "</table>\n",
       "<p>100 rows × 4 columns</p>\n",
       "</div>"
      ],
      "text/plain": [
       "           Brand                             Product_Discription Price  \\\n",
       "0         BRUTON                     Men Sports Sneakers For Men  ₹299   \n",
       "1      bluemaker                                Sneakers For Men  ₹474   \n",
       "2           Wika                                Sneakers For Men  ₹449   \n",
       "3   Robbie jones  Casual Sneakers Shoes For Men Sneakers For Men  ₹379   \n",
       "4        Numenzo                                Sneakers For Men  ₹399   \n",
       "..           ...                                             ...   ...   \n",
       "95      VISTAARA                                Sneakers For Men  ₹279   \n",
       "96      Wen Hawk           Ferrari Race X-Ray 2 Sneakers For Men  ₹379   \n",
       "97       Imcolus                                Sneakers For Men  ₹464   \n",
       "98      KANEGGYE                                Sneakers For Men  ₹410   \n",
       "99      Magnolia               Icon star V2 IDP Sneakers For Men  ₹424   \n",
       "\n",
       "   Discount  \n",
       "0   76% off  \n",
       "1   52% off  \n",
       "2   55% off  \n",
       "3   62% off  \n",
       "4   60% off  \n",
       "..      ...  \n",
       "95  62% off  \n",
       "96  53% off  \n",
       "97  17% off  \n",
       "98  57% off  \n",
       "99  51% off  \n",
       "\n",
       "[100 rows x 4 columns]"
      ]
     },
     "execution_count": 144,
     "metadata": {},
     "output_type": "execute_result"
    }
   ],
   "source": [
    "Data_sneakers"
   ]
  },
  {
   "cell_type": "code",
   "execution_count": null,
   "metadata": {},
   "outputs": [],
   "source": []
  },
  {
   "cell_type": "code",
   "execution_count": 145,
   "metadata": {},
   "outputs": [],
   "source": [
    "driver.close()"
   ]
  },
  {
   "cell_type": "code",
   "execution_count": null,
   "metadata": {},
   "outputs": [],
   "source": []
  },
  {
   "cell_type": "markdown",
   "metadata": {},
   "source": [
    "# Q9: Go to the link - https://www.myntra.com/shoes\n",
    "Set Price filter to “Rs. 6649 to Rs. 13099” , Color filter to “Black”, as shown in\n",
    "the below image.\n",
    "And then scrape First 100 shoes data you get. The data should include “Brand” of\n",
    "the shoes , Short Shoe description, price of the shoe as shown in the below image.\n",
    "Please note that applying the filter and scraping the data , everything should be\n",
    "done through code only and there should not be any manual step."
   ]
  },
  {
   "cell_type": "code",
   "execution_count": 128,
   "metadata": {},
   "outputs": [],
   "source": [
    "# importing required libraries.\n",
    "import pandas as pd\n",
    "import selenium\n",
    "from selenium import webdriver"
   ]
  },
  {
   "cell_type": "code",
   "execution_count": 129,
   "metadata": {},
   "outputs": [],
   "source": [
    "driver = webdriver.Edge(r\"C:\\Users\\laxmi\\FlipRobo\\edgedriver_win64\\msedgedriver.exe\")"
   ]
  },
  {
   "cell_type": "code",
   "execution_count": 3,
   "metadata": {},
   "outputs": [],
   "source": [
    "driver.get('https://www.myntra.com/shoes')"
   ]
  },
  {
   "cell_type": "code",
   "execution_count": 11,
   "metadata": {},
   "outputs": [],
   "source": [
    "#applying the required filters\n",
    "price_filter=driver.find_element_by_xpath(\"//*[@id='mountRoot']/div/div[1]/main/div[3]/div[1]/section/div/div[5]/ul/li[2]/label\")\n",
    "price_filter.click()"
   ]
  },
  {
   "cell_type": "code",
   "execution_count": 12,
   "metadata": {},
   "outputs": [],
   "source": [
    "color_filter=driver.find_element_by_xpath(\"//*[@id='mountRoot']/div/div[1]/main/div[3]/div[1]/section/div/div[6]/ul/li[1]/label\")\n",
    "color_filter.click()"
   ]
  },
  {
   "cell_type": "code",
   "execution_count": 18,
   "metadata": {},
   "outputs": [],
   "source": [
    "#fetching the BRAND,Product_Discription,Price from page 1 and checking the output\n",
    "Brand_tag1=driver.find_elements_by_xpath(\"//h3[@class='product-brand']\")\n",
    "Brand_1=[]\n",
    "for i in Brand_tag1:\n",
    "    brandtag1=i.text\n",
    "    Brand_1.append(brandtag1)"
   ]
  },
  {
   "cell_type": "code",
   "execution_count": 27,
   "metadata": {},
   "outputs": [],
   "source": [
    "Prod_dis1=driver.find_elements_by_xpath(\"//h4[@class='product-product']\")\n",
    "Prod_dis_1=[]\n",
    "for i in Prod_dis1:\n",
    "    Proddis1=i.text\n",
    "    Prod_dis_1.append(Proddis1)"
   ]
  },
  {
   "cell_type": "code",
   "execution_count": 28,
   "metadata": {},
   "outputs": [],
   "source": [
    "Price1=driver.find_elements_by_xpath(\"//div[@class='product-price']\")\n",
    "Price_1=[]\n",
    "for i in Price1:\n",
    "    Prices1=i.text\n",
    "    Price_1.append(Prices1)"
   ]
  },
  {
   "cell_type": "code",
   "execution_count": 25,
   "metadata": {},
   "outputs": [],
   "source": [
    "page_button=driver.find_element_by_xpath(\"//a[@href='https://www.myntra.com/shoes?f=Color%3ABlack_36454f&plaEnabled=false&rf=Price%3A6612.0_13075.0_6612.0%20TO%2013075.0&p=2']\")\n",
    "page_button.click()"
   ]
  },
  {
   "cell_type": "code",
   "execution_count": 26,
   "metadata": {},
   "outputs": [],
   "source": [
    "Brand_tag2=driver.find_elements_by_xpath(\"//h3[@class='product-brand']\")\n",
    "Brand_2=[]\n",
    "for i in Brand_tag2:\n",
    "    brandtag2=i.text\n",
    "    Brand_2.append(brandtag2)\n",
    "    \n",
    "Prod_dis2=driver.find_elements_by_xpath(\"//h4[@class='product-product']\")\n",
    "Prod_dis_2=[]\n",
    "for i in Prod_dis2:\n",
    "    Proddis2=i.text\n",
    "    Prod_dis_2.append(Proddis2)\n",
    "\n",
    "Price2=driver.find_elements_by_xpath(\"//div[@class='product-price']\")\n",
    "Price_2=[]\n",
    "for i in Price2:\n",
    "    Prices2=i.text\n",
    "    Price_2.append(Prices2)"
   ]
  },
  {
   "cell_type": "code",
   "execution_count": 29,
   "metadata": {},
   "outputs": [],
   "source": [
    "page_button=driver.find_element_by_xpath(\"//a[@href='https://www.myntra.com/shoes?f=Color%3ABlack_36454f&plaEnabled=false&rf=Price%3A6612.0_13075.0_6612.0%20TO%2013075.0&p=3']\")\n",
    "page_button.click()"
   ]
  },
  {
   "cell_type": "code",
   "execution_count": 30,
   "metadata": {},
   "outputs": [],
   "source": [
    "Brand_tag3=driver.find_elements_by_xpath(\"//h3[@class='product-brand']\")\n",
    "Brand_3=[]\n",
    "for i in Brand_tag3:\n",
    "    brandtag3=i.text\n",
    "    Brand_3.append(brandtag3)\n",
    "    \n",
    "Prod_dis3=driver.find_elements_by_xpath(\"//h4[@class='product-product']\")\n",
    "Prod_dis_3=[]\n",
    "for i in Prod_dis3:\n",
    "    Proddis3=i.text\n",
    "    Prod_dis_3.append(Proddis3)\n",
    "\n",
    "Price3=driver.find_elements_by_xpath(\"//div[@class='product-price']\")\n",
    "Price_3=[]\n",
    "for i in Price3:\n",
    "    Prices3=i.text\n",
    "    Price_3.append(Prices3)"
   ]
  },
  {
   "cell_type": "code",
   "execution_count": 31,
   "metadata": {},
   "outputs": [],
   "source": [
    "Brand=Brand_1+Brand_2+Brand_3\n",
    "Product_Discription=Prod_dis_1+Prod_dis_2+Prod_dis_3\n",
    "Price=Price_1+Price_2+Price_3"
   ]
  },
  {
   "cell_type": "code",
   "execution_count": 32,
   "metadata": {},
   "outputs": [],
   "source": [
    "#creating a data frame.\n",
    "shoes_data=pd.DataFrame({})\n",
    "shoes_data['Brand'] = Brand[0:100]\n",
    "shoes_data['Product_Discription'] = Product_Discription[0:100]\n",
    "shoes_data['Price'] = Price[0:100]"
   ]
  },
  {
   "cell_type": "code",
   "execution_count": 33,
   "metadata": {},
   "outputs": [
    {
     "data": {
      "text/html": [
       "<div>\n",
       "<style scoped>\n",
       "    .dataframe tbody tr th:only-of-type {\n",
       "        vertical-align: middle;\n",
       "    }\n",
       "\n",
       "    .dataframe tbody tr th {\n",
       "        vertical-align: top;\n",
       "    }\n",
       "\n",
       "    .dataframe thead th {\n",
       "        text-align: right;\n",
       "    }\n",
       "</style>\n",
       "<table border=\"1\" class=\"dataframe\">\n",
       "  <thead>\n",
       "    <tr style=\"text-align: right;\">\n",
       "      <th></th>\n",
       "      <th>Brand</th>\n",
       "      <th>Product_Discription</th>\n",
       "      <th>Price</th>\n",
       "    </tr>\n",
       "  </thead>\n",
       "  <tbody>\n",
       "    <tr>\n",
       "      <th>0</th>\n",
       "      <td>ALDO</td>\n",
       "      <td>Women Liquify Rebel Running</td>\n",
       "      <td>Rs. 8999</td>\n",
       "    </tr>\n",
       "    <tr>\n",
       "      <th>1</th>\n",
       "      <td>PUMA Motorsport</td>\n",
       "      <td>Women Solid Sneakers</td>\n",
       "      <td>Rs. 6999</td>\n",
       "    </tr>\n",
       "    <tr>\n",
       "      <th>2</th>\n",
       "      <td>Nike</td>\n",
       "      <td>Men Solid Leather Formal Derbys</td>\n",
       "      <td>Rs. 9999</td>\n",
       "    </tr>\n",
       "    <tr>\n",
       "      <th>3</th>\n",
       "      <td>Nike</td>\n",
       "      <td>Men Running Shoes</td>\n",
       "      <td>Rs. 8499</td>\n",
       "    </tr>\n",
       "    <tr>\n",
       "      <th>4</th>\n",
       "      <td>Nike</td>\n",
       "      <td>Men Leather Driving Shoes</td>\n",
       "      <td>Rs. 7499Rs. 9999(25% OFF)</td>\n",
       "    </tr>\n",
       "    <tr>\n",
       "      <th>...</th>\n",
       "      <td>...</td>\n",
       "      <td>...</td>\n",
       "      <td>...</td>\n",
       "    </tr>\n",
       "    <tr>\n",
       "      <th>95</th>\n",
       "      <td>Ruosh</td>\n",
       "      <td>Men Formal Leather Brogues</td>\n",
       "      <td>Rs. 7490</td>\n",
       "    </tr>\n",
       "    <tr>\n",
       "      <th>96</th>\n",
       "      <td>Geox</td>\n",
       "      <td>Men Leather Formal Oxfords</td>\n",
       "      <td>Rs. 7867Rs. 10490(25% OFF)</td>\n",
       "    </tr>\n",
       "    <tr>\n",
       "      <th>97</th>\n",
       "      <td>Nike</td>\n",
       "      <td>Men PG 5 EP Basketball Shoes</td>\n",
       "      <td>Rs. 7436Rs. 9295(20% OFF)</td>\n",
       "    </tr>\n",
       "    <tr>\n",
       "      <th>98</th>\n",
       "      <td>Geox</td>\n",
       "      <td>Men Leather Formal Oxfords</td>\n",
       "      <td>Rs. 9367Rs. 12490(25% OFF)</td>\n",
       "    </tr>\n",
       "    <tr>\n",
       "      <th>99</th>\n",
       "      <td>Ruosh</td>\n",
       "      <td>Men Solid Leather Formal Monks</td>\n",
       "      <td>Rs. 8990</td>\n",
       "    </tr>\n",
       "  </tbody>\n",
       "</table>\n",
       "<p>100 rows × 3 columns</p>\n",
       "</div>"
      ],
      "text/plain": [
       "              Brand              Product_Discription  \\\n",
       "0              ALDO      Women Liquify Rebel Running   \n",
       "1   PUMA Motorsport             Women Solid Sneakers   \n",
       "2              Nike  Men Solid Leather Formal Derbys   \n",
       "3              Nike                Men Running Shoes   \n",
       "4              Nike        Men Leather Driving Shoes   \n",
       "..              ...                              ...   \n",
       "95            Ruosh       Men Formal Leather Brogues   \n",
       "96             Geox       Men Leather Formal Oxfords   \n",
       "97             Nike     Men PG 5 EP Basketball Shoes   \n",
       "98             Geox       Men Leather Formal Oxfords   \n",
       "99            Ruosh   Men Solid Leather Formal Monks   \n",
       "\n",
       "                         Price  \n",
       "0                     Rs. 8999  \n",
       "1                     Rs. 6999  \n",
       "2                     Rs. 9999  \n",
       "3                     Rs. 8499  \n",
       "4    Rs. 7499Rs. 9999(25% OFF)  \n",
       "..                         ...  \n",
       "95                    Rs. 7490  \n",
       "96  Rs. 7867Rs. 10490(25% OFF)  \n",
       "97   Rs. 7436Rs. 9295(20% OFF)  \n",
       "98  Rs. 9367Rs. 12490(25% OFF)  \n",
       "99                    Rs. 8990  \n",
       "\n",
       "[100 rows x 3 columns]"
      ]
     },
     "execution_count": 33,
     "metadata": {},
     "output_type": "execute_result"
    }
   ],
   "source": [
    "shoes_data"
   ]
  },
  {
   "cell_type": "code",
   "execution_count": null,
   "metadata": {},
   "outputs": [],
   "source": []
  },
  {
   "cell_type": "code",
   "execution_count": null,
   "metadata": {},
   "outputs": [],
   "source": [
    "driver.close()"
   ]
  },
  {
   "cell_type": "code",
   "execution_count": null,
   "metadata": {},
   "outputs": [],
   "source": []
  },
  {
   "cell_type": "markdown",
   "metadata": {},
   "source": [
    "# Q10: Go to webpage https://www.amazon.in/\n",
    " Enter “Laptop” in the search field and then click the search icon.\n",
    " Then set CPU Type filter to “Intel Core i7” and “Intel Core i9” as shown in the\n",
    "below image:\n",
    ".\n",
    "After setting the filters scrape first 10 laptops data. You have to scrape 3 attributes\n",
    "for each laptop:\n",
    "1. title\n",
    "2. Ratings\n",
    "3. Price\n",
    "As shown in the below image as the tick marked attributes."
   ]
  },
  {
   "cell_type": "code",
   "execution_count": 128,
   "metadata": {},
   "outputs": [],
   "source": [
    "# importing required libraries.\n",
    "import pandas as pd\n",
    "import selenium\n",
    "from selenium import webdriver"
   ]
  },
  {
   "cell_type": "code",
   "execution_count": 129,
   "metadata": {},
   "outputs": [],
   "source": [
    "driver = webdriver.Edge(r\"C:\\Users\\laxmi\\FlipRobo\\edgedriver_win64\\msedgedriver.exe\")"
   ]
  },
  {
   "cell_type": "code",
   "execution_count": 3,
   "metadata": {},
   "outputs": [],
   "source": [
    "#connecting the website.\n",
    "driver.get('https://www.amazon.in/')"
   ]
  },
  {
   "cell_type": "code",
   "execution_count": 4,
   "metadata": {},
   "outputs": [],
   "source": [
    "#entering \"Laptop\" in the search bar\n",
    "lap=driver.find_element_by_xpath(\"//*[@id='twotabsearchtextbox']\")\n",
    "lap.send_keys(\"laptop\")\n",
    "lap.send_keys(Keys.ENTER)\n",
    "time.sleep(2)"
   ]
  },
  {
   "cell_type": "code",
   "execution_count": 5,
   "metadata": {},
   "outputs": [],
   "source": [
    "#clicking the i7 radio button\n",
    "filter_button=driver.find_elements_by_xpath(\"//a[@class='a-link-normal s-navigation-item']/span\")\n",
    "for i in filter_button:\n",
    "    if i.text=='Intel Core i7':\n",
    "        i.click()\n",
    "        break\n",
    "\n",
    "time.sleep(2)"
   ]
  },
  {
   "cell_type": "code",
   "execution_count": 6,
   "metadata": {},
   "outputs": [],
   "source": [
    "#clicking the i9 radio button\n",
    "filter_button=driver.find_elements_by_xpath(\"//a[@class='a-link-normal s-navigation-item']/span\")\n",
    "for i in filter_button:\n",
    "    if i.text=='Intel Core i9':\n",
    "        i.click()\n",
    "        break"
   ]
  },
  {
   "cell_type": "code",
   "execution_count": 7,
   "metadata": {},
   "outputs": [],
   "source": [
    "#creating empty list\n",
    "Title=[]\n",
    "Ratings=[]\n",
    "Price=[]"
   ]
  },
  {
   "cell_type": "code",
   "execution_count": 8,
   "metadata": {},
   "outputs": [],
   "source": [
    "#scraping title details\n",
    "title=driver.find_elements_by_xpath(\"//*[@id='search']/div[1]/div/div[1]/div/span[3]/div[2]/div/div/span/div/div/div[2]/div[2]/div/div[1]/h2/a/span\")\n",
    "for i in title:\n",
    "    try:\n",
    "        Title.append(i.text)\n",
    "    except:\n",
    "        Title.append(\"-\")"
   ]
  },
  {
   "cell_type": "code",
   "execution_count": 9,
   "metadata": {},
   "outputs": [],
   "source": [
    "#scraping rating details\n",
    "rating=driver.find_element_by_xpath(\"//*[@id='search']/div[1]/div/div[1]/div/span[3]/div[2]/div[2]/div/span/div/div/div/div/div[2]/div[2]/div/div[2]/div/span[1]/span/a/i[1]\")\n",
    "rating.click()\n",
    "time.sleep(1)\n",
    "ratings=driver.find_elements_by_xpath('//*[@id=\"a-popover-content-6\"]/div/div/div/div[1]/span')\n",
    "for i in ratings:\n",
    "    try:\n",
    "        Ratings.append(i.text)\n",
    "    except:\n",
    "        Ratings.append(\"-\")"
   ]
  },
  {
   "cell_type": "code",
   "execution_count": 10,
   "metadata": {},
   "outputs": [],
   "source": [
    "#scraping price details\n",
    "price=driver.find_elements_by_xpath(\"//span[@class='a-price-whole']\")\n",
    "for i in price:\n",
    "    try:\n",
    "        Price.append(i.text)\n",
    "    except:\n",
    "        Price.append(\"-\")"
   ]
  },
  {
   "cell_type": "code",
   "execution_count": 11,
   "metadata": {},
   "outputs": [
    {
     "name": "stdout",
     "output_type": "stream",
     "text": [
      "22 0 26\n"
     ]
    }
   ],
   "source": [
    "print(len(Title),len(Ratings),len(Price))"
   ]
  },
  {
   "cell_type": "code",
   "execution_count": 12,
   "metadata": {},
   "outputs": [],
   "source": [
    "Title=Title[0:10]\n",
    "Ratings=Ratings[0:10]\n",
    "Price=Price[0:10]"
   ]
  },
  {
   "cell_type": "code",
   "execution_count": 14,
   "metadata": {},
   "outputs": [],
   "source": [
    "#creating the data frame\n",
    "Laptop=pd.DataFrame({})\n",
    "Laptop[\"Title\"]=Title\n",
    "Laptop[\"Price\"]=Price"
   ]
  },
  {
   "cell_type": "code",
   "execution_count": 15,
   "metadata": {},
   "outputs": [
    {
     "data": {
      "text/html": [
       "<div>\n",
       "<style scoped>\n",
       "    .dataframe tbody tr th:only-of-type {\n",
       "        vertical-align: middle;\n",
       "    }\n",
       "\n",
       "    .dataframe tbody tr th {\n",
       "        vertical-align: top;\n",
       "    }\n",
       "\n",
       "    .dataframe thead th {\n",
       "        text-align: right;\n",
       "    }\n",
       "</style>\n",
       "<table border=\"1\" class=\"dataframe\">\n",
       "  <thead>\n",
       "    <tr style=\"text-align: right;\">\n",
       "      <th></th>\n",
       "      <th>Title</th>\n",
       "      <th>Price</th>\n",
       "    </tr>\n",
       "  </thead>\n",
       "  <tbody>\n",
       "    <tr>\n",
       "      <th>0</th>\n",
       "      <td>Dell Alienware m15(R3) 15.6-inch FHD Gaming La...</td>\n",
       "      <td>77,990</td>\n",
       "    </tr>\n",
       "    <tr>\n",
       "      <th>1</th>\n",
       "      <td>HP 14 Thin &amp; Light 14\" (35.56cms) FHD Laptop (...</td>\n",
       "      <td>1,74,990</td>\n",
       "    </tr>\n",
       "    <tr>\n",
       "      <th>2</th>\n",
       "      <td>Lenovo Legion 5Pi 10th Gen Intel Core i7 15.6\"...</td>\n",
       "      <td>87,000</td>\n",
       "    </tr>\n",
       "    <tr>\n",
       "      <th>3</th>\n",
       "      <td>Asus ROG Zephyrus S Ultra Slim Gaming Laptop, ...</td>\n",
       "      <td>1,35,490</td>\n",
       "    </tr>\n",
       "    <tr>\n",
       "      <th>4</th>\n",
       "      <td>Lenovo Yoga S740 Intel Core i7 10th Gen 14 inc...</td>\n",
       "      <td>3,43,099</td>\n",
       "    </tr>\n",
       "    <tr>\n",
       "      <th>5</th>\n",
       "      <td>Mi Notebook Horizon Edition 14 Intel Core i5-1...</td>\n",
       "      <td>49,999</td>\n",
       "    </tr>\n",
       "    <tr>\n",
       "      <th>6</th>\n",
       "      <td>HP Pavilion Gaming 10th Gen Intel Core i7 Proc...</td>\n",
       "      <td>77,990</td>\n",
       "    </tr>\n",
       "    <tr>\n",
       "      <th>7</th>\n",
       "      <td>Life Digital Laptop 15.6-inch (39.62 cms) (Int...</td>\n",
       "      <td>99,000</td>\n",
       "    </tr>\n",
       "    <tr>\n",
       "      <th>8</th>\n",
       "      <td>HP Pavilion x360 (2021) 14\" (35.56cms) FHD Tou...</td>\n",
       "      <td>36,990</td>\n",
       "    </tr>\n",
       "    <tr>\n",
       "      <th>9</th>\n",
       "      <td>2019 HP 17.3\" HD+ Touchscreen Laptop Computer</td>\n",
       "      <td>77,988</td>\n",
       "    </tr>\n",
       "  </tbody>\n",
       "</table>\n",
       "</div>"
      ],
      "text/plain": [
       "                                               Title     Price\n",
       "0  Dell Alienware m15(R3) 15.6-inch FHD Gaming La...    77,990\n",
       "1  HP 14 Thin & Light 14\" (35.56cms) FHD Laptop (...  1,74,990\n",
       "2  Lenovo Legion 5Pi 10th Gen Intel Core i7 15.6\"...    87,000\n",
       "3  Asus ROG Zephyrus S Ultra Slim Gaming Laptop, ...  1,35,490\n",
       "4  Lenovo Yoga S740 Intel Core i7 10th Gen 14 inc...  3,43,099\n",
       "5  Mi Notebook Horizon Edition 14 Intel Core i5-1...    49,999\n",
       "6  HP Pavilion Gaming 10th Gen Intel Core i7 Proc...    77,990\n",
       "7  Life Digital Laptop 15.6-inch (39.62 cms) (Int...    99,000\n",
       "8  HP Pavilion x360 (2021) 14\" (35.56cms) FHD Tou...    36,990\n",
       "9      2019 HP 17.3\" HD+ Touchscreen Laptop Computer    77,988"
      ]
     },
     "execution_count": 15,
     "metadata": {},
     "output_type": "execute_result"
    }
   ],
   "source": [
    "#Data Frame\n",
    "Laptop"
   ]
  },
  {
   "cell_type": "code",
   "execution_count": null,
   "metadata": {},
   "outputs": [],
   "source": []
  },
  {
   "cell_type": "code",
   "execution_count": null,
   "metadata": {},
   "outputs": [],
   "source": [
    "driver.close()"
   ]
  },
  {
   "cell_type": "code",
   "execution_count": null,
   "metadata": {},
   "outputs": [],
   "source": []
  },
  {
   "cell_type": "code",
   "execution_count": null,
   "metadata": {},
   "outputs": [],
   "source": []
  }
 ],
 "metadata": {
  "kernelspec": {
   "display_name": "Python 3",
   "language": "python",
   "name": "python3"
  },
  "language_info": {
   "codemirror_mode": {
    "name": "ipython",
    "version": 3
   },
   "file_extension": ".py",
   "mimetype": "text/x-python",
   "name": "python",
   "nbconvert_exporter": "python",
   "pygments_lexer": "ipython3",
   "version": "3.8.10"
  }
 },
 "nbformat": 4,
 "nbformat_minor": 4
}
